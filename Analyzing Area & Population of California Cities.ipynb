{
 "cells": [
  {
   "cell_type": "markdown",
   "id": "1a7cc8b9",
   "metadata": {},
   "source": [
    "# Area & Population of California Cities"
   ]
  },
  {
   "cell_type": "code",
   "execution_count": 1,
   "id": "10a1d138",
   "metadata": {},
   "outputs": [],
   "source": [
    "import warnings\n",
    "warnings.filterwarnings('ignore')\n",
    "import pandas as pd\n",
    "import plotly.graph_objects as go\n",
    "import plotly.express as px"
   ]
  },
  {
   "cell_type": "code",
   "execution_count": 2,
   "id": "67bdff9c",
   "metadata": {},
   "outputs": [
    {
     "data": {
      "text/html": [
       "<div>\n",
       "<style scoped>\n",
       "    .dataframe tbody tr th:only-of-type {\n",
       "        vertical-align: middle;\n",
       "    }\n",
       "\n",
       "    .dataframe tbody tr th {\n",
       "        vertical-align: top;\n",
       "    }\n",
       "\n",
       "    .dataframe thead th {\n",
       "        text-align: right;\n",
       "    }\n",
       "</style>\n",
       "<table border=\"1\" class=\"dataframe\">\n",
       "  <thead>\n",
       "    <tr style=\"text-align: right;\">\n",
       "      <th></th>\n",
       "      <th>Unnamed: 0</th>\n",
       "      <th>city</th>\n",
       "      <th>latd</th>\n",
       "      <th>longd</th>\n",
       "      <th>elevation_m</th>\n",
       "      <th>elevation_ft</th>\n",
       "      <th>population_total</th>\n",
       "      <th>area_total_sq_mi</th>\n",
       "      <th>area_land_sq_mi</th>\n",
       "      <th>area_water_sq_mi</th>\n",
       "      <th>area_total_km2</th>\n",
       "      <th>area_land_km2</th>\n",
       "      <th>area_water_km2</th>\n",
       "      <th>area_water_percent</th>\n",
       "    </tr>\n",
       "  </thead>\n",
       "  <tbody>\n",
       "    <tr>\n",
       "      <th>0</th>\n",
       "      <td>0</td>\n",
       "      <td>Adelanto</td>\n",
       "      <td>34.576111</td>\n",
       "      <td>-117.432778</td>\n",
       "      <td>875.0</td>\n",
       "      <td>2871.0</td>\n",
       "      <td>31765</td>\n",
       "      <td>56.027</td>\n",
       "      <td>56.009</td>\n",
       "      <td>0.018</td>\n",
       "      <td>145.107</td>\n",
       "      <td>145.062</td>\n",
       "      <td>0.046</td>\n",
       "      <td>0.03</td>\n",
       "    </tr>\n",
       "    <tr>\n",
       "      <th>1</th>\n",
       "      <td>1</td>\n",
       "      <td>AgouraHills</td>\n",
       "      <td>34.153333</td>\n",
       "      <td>-118.761667</td>\n",
       "      <td>281.0</td>\n",
       "      <td>922.0</td>\n",
       "      <td>20330</td>\n",
       "      <td>7.822</td>\n",
       "      <td>7.793</td>\n",
       "      <td>0.029</td>\n",
       "      <td>20.260</td>\n",
       "      <td>20.184</td>\n",
       "      <td>0.076</td>\n",
       "      <td>0.37</td>\n",
       "    </tr>\n",
       "    <tr>\n",
       "      <th>2</th>\n",
       "      <td>2</td>\n",
       "      <td>Alameda</td>\n",
       "      <td>37.756111</td>\n",
       "      <td>-122.274444</td>\n",
       "      <td>NaN</td>\n",
       "      <td>33.0</td>\n",
       "      <td>75467</td>\n",
       "      <td>22.960</td>\n",
       "      <td>10.611</td>\n",
       "      <td>12.349</td>\n",
       "      <td>59.465</td>\n",
       "      <td>27.482</td>\n",
       "      <td>31.983</td>\n",
       "      <td>53.79</td>\n",
       "    </tr>\n",
       "    <tr>\n",
       "      <th>3</th>\n",
       "      <td>3</td>\n",
       "      <td>Albany</td>\n",
       "      <td>37.886944</td>\n",
       "      <td>-122.297778</td>\n",
       "      <td>NaN</td>\n",
       "      <td>43.0</td>\n",
       "      <td>18969</td>\n",
       "      <td>5.465</td>\n",
       "      <td>1.788</td>\n",
       "      <td>3.677</td>\n",
       "      <td>14.155</td>\n",
       "      <td>4.632</td>\n",
       "      <td>9.524</td>\n",
       "      <td>67.28</td>\n",
       "    </tr>\n",
       "    <tr>\n",
       "      <th>4</th>\n",
       "      <td>4</td>\n",
       "      <td>Alhambra</td>\n",
       "      <td>34.081944</td>\n",
       "      <td>-118.135000</td>\n",
       "      <td>150.0</td>\n",
       "      <td>492.0</td>\n",
       "      <td>83089</td>\n",
       "      <td>7.632</td>\n",
       "      <td>7.631</td>\n",
       "      <td>0.001</td>\n",
       "      <td>19.766</td>\n",
       "      <td>19.763</td>\n",
       "      <td>0.003</td>\n",
       "      <td>0.01</td>\n",
       "    </tr>\n",
       "  </tbody>\n",
       "</table>\n",
       "</div>"
      ],
      "text/plain": [
       "   Unnamed: 0         city       latd       longd  elevation_m  elevation_ft  \\\n",
       "0           0     Adelanto  34.576111 -117.432778        875.0        2871.0   \n",
       "1           1  AgouraHills  34.153333 -118.761667        281.0         922.0   \n",
       "2           2      Alameda  37.756111 -122.274444          NaN          33.0   \n",
       "3           3       Albany  37.886944 -122.297778          NaN          43.0   \n",
       "4           4     Alhambra  34.081944 -118.135000        150.0         492.0   \n",
       "\n",
       "   population_total  area_total_sq_mi  area_land_sq_mi  area_water_sq_mi  \\\n",
       "0             31765            56.027           56.009             0.018   \n",
       "1             20330             7.822            7.793             0.029   \n",
       "2             75467            22.960           10.611            12.349   \n",
       "3             18969             5.465            1.788             3.677   \n",
       "4             83089             7.632            7.631             0.001   \n",
       "\n",
       "   area_total_km2  area_land_km2  area_water_km2  area_water_percent  \n",
       "0         145.107        145.062           0.046                0.03  \n",
       "1          20.260         20.184           0.076                0.37  \n",
       "2          59.465         27.482          31.983               53.79  \n",
       "3          14.155          4.632           9.524               67.28  \n",
       "4          19.766         19.763           0.003                0.01  "
      ]
     },
     "execution_count": 2,
     "metadata": {},
     "output_type": "execute_result"
    }
   ],
   "source": [
    "df=pd.read_csv('D:\\PGP IN DATA SCIENCE with Careerera\\Data Sets\\\\california_cities.csv')\n",
    "df.head()"
   ]
  },
  {
   "cell_type": "code",
   "execution_count": 4,
   "id": "f1edf26c",
   "metadata": {},
   "outputs": [
    {
     "data": {
      "text/plain": [
       "(482, 14)"
      ]
     },
     "execution_count": 4,
     "metadata": {},
     "output_type": "execute_result"
    }
   ],
   "source": [
    "df.shape"
   ]
  },
  {
   "cell_type": "code",
   "execution_count": 5,
   "id": "2b95cc50",
   "metadata": {},
   "outputs": [
    {
     "data": {
      "text/plain": [
       "6748"
      ]
     },
     "execution_count": 5,
     "metadata": {},
     "output_type": "execute_result"
    }
   ],
   "source": [
    "df.size"
   ]
  },
  {
   "cell_type": "code",
   "execution_count": 6,
   "id": "8af581eb",
   "metadata": {},
   "outputs": [
    {
     "data": {
      "text/plain": [
       "Index(['Unnamed: 0', 'city', 'latd', 'longd', 'elevation_m', 'elevation_ft',\n",
       "       'population_total', 'area_total_sq_mi', 'area_land_sq_mi',\n",
       "       'area_water_sq_mi', 'area_total_km2', 'area_land_km2', 'area_water_km2',\n",
       "       'area_water_percent'],\n",
       "      dtype='object')"
      ]
     },
     "execution_count": 6,
     "metadata": {},
     "output_type": "execute_result"
    }
   ],
   "source": [
    "df.columns"
   ]
  },
  {
   "cell_type": "code",
   "execution_count": 7,
   "id": "7b573af1",
   "metadata": {},
   "outputs": [
    {
     "data": {
      "text/plain": [
       "Unnamed: 0              int64\n",
       "city                   object\n",
       "latd                  float64\n",
       "longd                 float64\n",
       "elevation_m           float64\n",
       "elevation_ft          float64\n",
       "population_total        int64\n",
       "area_total_sq_mi      float64\n",
       "area_land_sq_mi       float64\n",
       "area_water_sq_mi      float64\n",
       "area_total_km2        float64\n",
       "area_land_km2         float64\n",
       "area_water_km2        float64\n",
       "area_water_percent    float64\n",
       "dtype: object"
      ]
     },
     "execution_count": 7,
     "metadata": {},
     "output_type": "execute_result"
    }
   ],
   "source": [
    "df.dtypes"
   ]
  },
  {
   "cell_type": "code",
   "execution_count": 8,
   "id": "db04082b",
   "metadata": {},
   "outputs": [
    {
     "name": "stdout",
     "output_type": "stream",
     "text": [
      "<class 'pandas.core.frame.DataFrame'>\n",
      "RangeIndex: 482 entries, 0 to 481\n",
      "Data columns (total 14 columns):\n",
      " #   Column              Non-Null Count  Dtype  \n",
      "---  ------              --------------  -----  \n",
      " 0   Unnamed: 0          482 non-null    int64  \n",
      " 1   city                482 non-null    object \n",
      " 2   latd                482 non-null    float64\n",
      " 3   longd               482 non-null    float64\n",
      " 4   elevation_m         434 non-null    float64\n",
      " 5   elevation_ft        470 non-null    float64\n",
      " 6   population_total    482 non-null    int64  \n",
      " 7   area_total_sq_mi    480 non-null    float64\n",
      " 8   area_land_sq_mi     482 non-null    float64\n",
      " 9   area_water_sq_mi    481 non-null    float64\n",
      " 10  area_total_km2      477 non-null    float64\n",
      " 11  area_land_km2       478 non-null    float64\n",
      " 12  area_water_km2      478 non-null    float64\n",
      " 13  area_water_percent  477 non-null    float64\n",
      "dtypes: float64(11), int64(2), object(1)\n",
      "memory usage: 52.8+ KB\n"
     ]
    }
   ],
   "source": [
    "df.info()"
   ]
  },
  {
   "cell_type": "code",
   "execution_count": 23,
   "id": "259012a1",
   "metadata": {},
   "outputs": [
    {
     "data": {
      "text/plain": [
       "city                  0\n",
       "latd                  0\n",
       "longd                 0\n",
       "elevation_ft          0\n",
       "population_total      0\n",
       "area_land_sq_mi       0\n",
       "area_water_sq_mi      0\n",
       "area_total_km2        5\n",
       "area_land_km2         4\n",
       "area_water_km2        4\n",
       "area_water_percent    5\n",
       "elevation_m           0\n",
       "area_total_sq_mi      0\n",
       "dtype: int64"
      ]
     },
     "execution_count": 23,
     "metadata": {},
     "output_type": "execute_result"
    }
   ],
   "source": [
    "df.isna().sum()"
   ]
  },
  {
   "cell_type": "markdown",
   "id": "a7b8be07",
   "metadata": {},
   "source": [
    "### Drop unnanemd column"
   ]
  },
  {
   "cell_type": "code",
   "execution_count": 3,
   "id": "c932624a",
   "metadata": {},
   "outputs": [],
   "source": [
    "df.drop('Unnamed: 0', axis=1, inplace=True)"
   ]
  },
  {
   "cell_type": "markdown",
   "id": "5c6d41ad",
   "metadata": {},
   "source": [
    "### Impute missing values"
   ]
  },
  {
   "cell_type": "markdown",
   "id": "058802c2",
   "metadata": {},
   "source": [
    "#### Missing value in elevation_m & elevation_ft"
   ]
  },
  {
   "cell_type": "code",
   "execution_count": 4,
   "id": "3e6ba884",
   "metadata": {},
   "outputs": [],
   "source": [
    "df.drop('elevation_m', axis=1, inplace=True)\n",
    "df.elevation_ft.fillna(0, inplace=True)\n",
    "df['elevation_m']=df['elevation_ft']/3.2808399"
   ]
  },
  {
   "cell_type": "markdown",
   "id": "6bbb0207",
   "metadata": {},
   "source": [
    "#### Missing value in area_water_sq_mi, area_land_sq_mi, area_total_sq_mi"
   ]
  },
  {
   "cell_type": "code",
   "execution_count": 5,
   "id": "92a4f276",
   "metadata": {},
   "outputs": [],
   "source": [
    "df['area_water_sq_mi'].fillna(0, inplace=True)\n",
    "df.drop('area_total_sq_mi', axis=1, inplace=True)\n",
    "df['area_total_sq_mi']=df['area_water_sq_mi']+df['area_land_sq_mi']"
   ]
  },
  {
   "cell_type": "code",
   "execution_count": 6,
   "id": "24f87b1a",
   "metadata": {},
   "outputs": [
    {
     "data": {
      "text/plain": [
       "city                  0\n",
       "latd                  0\n",
       "longd                 0\n",
       "elevation_ft          0\n",
       "population_total      0\n",
       "area_land_sq_mi       0\n",
       "area_water_sq_mi      0\n",
       "area_total_km2        0\n",
       "area_land_km2         0\n",
       "area_water_km2        0\n",
       "area_water_percent    0\n",
       "elevation_m           0\n",
       "area_total_sq_mi      0\n",
       "dtype: int64"
      ]
     },
     "execution_count": 6,
     "metadata": {},
     "output_type": "execute_result"
    }
   ],
   "source": [
    "df.dropna(axis=0, inplace=True)\n",
    "df.isna().sum()"
   ]
  },
  {
   "cell_type": "code",
   "execution_count": 7,
   "id": "7401ddea",
   "metadata": {},
   "outputs": [
    {
     "data": {
      "text/html": [
       "<div>\n",
       "<style scoped>\n",
       "    .dataframe tbody tr th:only-of-type {\n",
       "        vertical-align: middle;\n",
       "    }\n",
       "\n",
       "    .dataframe tbody tr th {\n",
       "        vertical-align: top;\n",
       "    }\n",
       "\n",
       "    .dataframe thead th {\n",
       "        text-align: right;\n",
       "    }\n",
       "</style>\n",
       "<table border=\"1\" class=\"dataframe\">\n",
       "  <thead>\n",
       "    <tr style=\"text-align: right;\">\n",
       "      <th></th>\n",
       "      <th>city</th>\n",
       "      <th>latd</th>\n",
       "      <th>longd</th>\n",
       "      <th>population_total</th>\n",
       "      <th>elevation_ft</th>\n",
       "      <th>elevation_m</th>\n",
       "      <th>area_land_sq_mi</th>\n",
       "      <th>area_water_sq_mi</th>\n",
       "      <th>area_total_sq_mi</th>\n",
       "      <th>area_land_km2</th>\n",
       "      <th>area_water_km2</th>\n",
       "      <th>area_total_km2</th>\n",
       "      <th>area_water_percent</th>\n",
       "    </tr>\n",
       "  </thead>\n",
       "  <tbody>\n",
       "    <tr>\n",
       "      <th>0</th>\n",
       "      <td>Adelanto</td>\n",
       "      <td>34.576111</td>\n",
       "      <td>-117.432778</td>\n",
       "      <td>31765</td>\n",
       "      <td>2871.0</td>\n",
       "      <td>875.080799</td>\n",
       "      <td>56.009</td>\n",
       "      <td>0.018</td>\n",
       "      <td>56.027</td>\n",
       "      <td>145.062</td>\n",
       "      <td>0.046</td>\n",
       "      <td>145.107</td>\n",
       "      <td>0.03</td>\n",
       "    </tr>\n",
       "    <tr>\n",
       "      <th>1</th>\n",
       "      <td>AgouraHills</td>\n",
       "      <td>34.153333</td>\n",
       "      <td>-118.761667</td>\n",
       "      <td>20330</td>\n",
       "      <td>922.0</td>\n",
       "      <td>281.025600</td>\n",
       "      <td>7.793</td>\n",
       "      <td>0.029</td>\n",
       "      <td>7.822</td>\n",
       "      <td>20.184</td>\n",
       "      <td>0.076</td>\n",
       "      <td>20.260</td>\n",
       "      <td>0.37</td>\n",
       "    </tr>\n",
       "    <tr>\n",
       "      <th>2</th>\n",
       "      <td>Alameda</td>\n",
       "      <td>37.756111</td>\n",
       "      <td>-122.274444</td>\n",
       "      <td>75467</td>\n",
       "      <td>33.0</td>\n",
       "      <td>10.058400</td>\n",
       "      <td>10.611</td>\n",
       "      <td>12.349</td>\n",
       "      <td>22.960</td>\n",
       "      <td>27.482</td>\n",
       "      <td>31.983</td>\n",
       "      <td>59.465</td>\n",
       "      <td>53.79</td>\n",
       "    </tr>\n",
       "    <tr>\n",
       "      <th>3</th>\n",
       "      <td>Albany</td>\n",
       "      <td>37.886944</td>\n",
       "      <td>-122.297778</td>\n",
       "      <td>18969</td>\n",
       "      <td>43.0</td>\n",
       "      <td>13.106400</td>\n",
       "      <td>1.788</td>\n",
       "      <td>3.677</td>\n",
       "      <td>5.465</td>\n",
       "      <td>4.632</td>\n",
       "      <td>9.524</td>\n",
       "      <td>14.155</td>\n",
       "      <td>67.28</td>\n",
       "    </tr>\n",
       "    <tr>\n",
       "      <th>4</th>\n",
       "      <td>Alhambra</td>\n",
       "      <td>34.081944</td>\n",
       "      <td>-118.135000</td>\n",
       "      <td>83089</td>\n",
       "      <td>492.0</td>\n",
       "      <td>149.961600</td>\n",
       "      <td>7.631</td>\n",
       "      <td>0.001</td>\n",
       "      <td>7.632</td>\n",
       "      <td>19.763</td>\n",
       "      <td>0.003</td>\n",
       "      <td>19.766</td>\n",
       "      <td>0.01</td>\n",
       "    </tr>\n",
       "  </tbody>\n",
       "</table>\n",
       "</div>"
      ],
      "text/plain": [
       "          city       latd       longd  population_total  elevation_ft  \\\n",
       "0     Adelanto  34.576111 -117.432778             31765        2871.0   \n",
       "1  AgouraHills  34.153333 -118.761667             20330         922.0   \n",
       "2      Alameda  37.756111 -122.274444             75467          33.0   \n",
       "3       Albany  37.886944 -122.297778             18969          43.0   \n",
       "4     Alhambra  34.081944 -118.135000             83089         492.0   \n",
       "\n",
       "   elevation_m  area_land_sq_mi  area_water_sq_mi  area_total_sq_mi  \\\n",
       "0   875.080799           56.009             0.018            56.027   \n",
       "1   281.025600            7.793             0.029             7.822   \n",
       "2    10.058400           10.611            12.349            22.960   \n",
       "3    13.106400            1.788             3.677             5.465   \n",
       "4   149.961600            7.631             0.001             7.632   \n",
       "\n",
       "   area_land_km2  area_water_km2  area_total_km2  area_water_percent  \n",
       "0        145.062           0.046         145.107                0.03  \n",
       "1         20.184           0.076          20.260                0.37  \n",
       "2         27.482          31.983          59.465               53.79  \n",
       "3          4.632           9.524          14.155               67.28  \n",
       "4         19.763           0.003          19.766                0.01  "
      ]
     },
     "execution_count": 7,
     "metadata": {},
     "output_type": "execute_result"
    }
   ],
   "source": [
    "df=df[['city','latd','longd','population_total','elevation_ft','elevation_m','area_land_sq_mi',\n",
    "      'area_water_sq_mi','area_total_sq_mi','area_land_km2','area_water_km2','area_total_km2','area_water_percent']]\n",
    "df.head()"
   ]
  },
  {
   "cell_type": "code",
   "execution_count": null,
   "id": "f05ed3ea",
   "metadata": {},
   "outputs": [],
   "source": []
  },
  {
   "cell_type": "markdown",
   "id": "9ac14182",
   "metadata": {},
   "source": [
    "### Top 10 Cities by Population"
   ]
  },
  {
   "cell_type": "code",
   "execution_count": 28,
   "id": "26092bba",
   "metadata": {},
   "outputs": [
    {
     "data": {
      "text/html": [
       "<div>\n",
       "<style scoped>\n",
       "    .dataframe tbody tr th:only-of-type {\n",
       "        vertical-align: middle;\n",
       "    }\n",
       "\n",
       "    .dataframe tbody tr th {\n",
       "        vertical-align: top;\n",
       "    }\n",
       "\n",
       "    .dataframe thead th {\n",
       "        text-align: right;\n",
       "    }\n",
       "</style>\n",
       "<table border=\"1\" class=\"dataframe\">\n",
       "  <thead>\n",
       "    <tr style=\"text-align: right;\">\n",
       "      <th></th>\n",
       "      <th>population_total</th>\n",
       "    </tr>\n",
       "    <tr>\n",
       "      <th>city</th>\n",
       "      <th></th>\n",
       "    </tr>\n",
       "  </thead>\n",
       "  <tbody>\n",
       "    <tr>\n",
       "      <th>LosAngeles</th>\n",
       "      <td>3884307</td>\n",
       "    </tr>\n",
       "    <tr>\n",
       "      <th>SanDiego</th>\n",
       "      <td>1345895</td>\n",
       "    </tr>\n",
       "    <tr>\n",
       "      <th>SanJose</th>\n",
       "      <td>1000536</td>\n",
       "    </tr>\n",
       "    <tr>\n",
       "      <th>Fresno</th>\n",
       "      <td>509039</td>\n",
       "    </tr>\n",
       "    <tr>\n",
       "      <th>Sacramento</th>\n",
       "      <td>466488</td>\n",
       "    </tr>\n",
       "    <tr>\n",
       "      <th>LongBeach</th>\n",
       "      <td>462257</td>\n",
       "    </tr>\n",
       "    <tr>\n",
       "      <th>Oakland</th>\n",
       "      <td>406253</td>\n",
       "    </tr>\n",
       "    <tr>\n",
       "      <th>Bakersfield</th>\n",
       "      <td>347483</td>\n",
       "    </tr>\n",
       "    <tr>\n",
       "      <th>Anaheim</th>\n",
       "      <td>336000</td>\n",
       "    </tr>\n",
       "    <tr>\n",
       "      <th>SantaAna</th>\n",
       "      <td>324528</td>\n",
       "    </tr>\n",
       "  </tbody>\n",
       "</table>\n",
       "</div>"
      ],
      "text/plain": [
       "             population_total\n",
       "city                         \n",
       "LosAngeles            3884307\n",
       "SanDiego              1345895\n",
       "SanJose               1000536\n",
       "Fresno                 509039\n",
       "Sacramento             466488\n",
       "LongBeach              462257\n",
       "Oakland                406253\n",
       "Bakersfield            347483\n",
       "Anaheim                336000\n",
       "SantaAna               324528"
      ]
     },
     "execution_count": 28,
     "metadata": {},
     "output_type": "execute_result"
    }
   ],
   "source": [
    "pop_top=pd.pivot_table(df, index='city', values='population_total',\n",
    "                   aggfunc=sum).sort_values(by='population_total', ascending=False)[:10]\n",
    "pop_top"
   ]
  },
  {
   "cell_type": "markdown",
   "id": "6bb517e6",
   "metadata": {},
   "source": [
    "### Bottom 10 cities by population"
   ]
  },
  {
   "cell_type": "code",
   "execution_count": 29,
   "id": "89bb65a4",
   "metadata": {},
   "outputs": [
    {
     "data": {
      "text/html": [
       "<div>\n",
       "<style scoped>\n",
       "    .dataframe tbody tr th:only-of-type {\n",
       "        vertical-align: middle;\n",
       "    }\n",
       "\n",
       "    .dataframe tbody tr th {\n",
       "        vertical-align: top;\n",
       "    }\n",
       "\n",
       "    .dataframe thead th {\n",
       "        text-align: right;\n",
       "    }\n",
       "</style>\n",
       "<table border=\"1\" class=\"dataframe\">\n",
       "  <thead>\n",
       "    <tr style=\"text-align: right;\">\n",
       "      <th></th>\n",
       "      <th>population_total</th>\n",
       "    </tr>\n",
       "    <tr>\n",
       "      <th>city</th>\n",
       "      <th></th>\n",
       "    </tr>\n",
       "  </thead>\n",
       "  <tbody>\n",
       "    <tr>\n",
       "      <th>Pomona</th>\n",
       "      <td>1</td>\n",
       "    </tr>\n",
       "    <tr>\n",
       "      <th>Vernon</th>\n",
       "      <td>112</td>\n",
       "    </tr>\n",
       "    <tr>\n",
       "      <th>AmadorCity</th>\n",
       "      <td>185</td>\n",
       "    </tr>\n",
       "    <tr>\n",
       "      <th>Industry</th>\n",
       "      <td>219</td>\n",
       "    </tr>\n",
       "    <tr>\n",
       "      <th>SandCity</th>\n",
       "      <td>334</td>\n",
       "    </tr>\n",
       "    <tr>\n",
       "      <th>Trinidad</th>\n",
       "      <td>367</td>\n",
       "    </tr>\n",
       "    <tr>\n",
       "      <th>Tehama</th>\n",
       "      <td>418</td>\n",
       "    </tr>\n",
       "    <tr>\n",
       "      <th>PointArena</th>\n",
       "      <td>449</td>\n",
       "    </tr>\n",
       "    <tr>\n",
       "      <th>Etna</th>\n",
       "      <td>737</td>\n",
       "    </tr>\n",
       "    <tr>\n",
       "      <th>Loyalton</th>\n",
       "      <td>769</td>\n",
       "    </tr>\n",
       "  </tbody>\n",
       "</table>\n",
       "</div>"
      ],
      "text/plain": [
       "            population_total\n",
       "city                        \n",
       "Pomona                     1\n",
       "Vernon                   112\n",
       "AmadorCity               185\n",
       "Industry                 219\n",
       "SandCity                 334\n",
       "Trinidad                 367\n",
       "Tehama                   418\n",
       "PointArena               449\n",
       "Etna                     737\n",
       "Loyalton                 769"
      ]
     },
     "execution_count": 29,
     "metadata": {},
     "output_type": "execute_result"
    }
   ],
   "source": [
    "pop_bottom=pd.pivot_table(df, index='city', values='population_total',\n",
    "                   aggfunc=sum).sort_values(by='population_total')[:10]\n",
    "pop_bottom"
   ]
  },
  {
   "cell_type": "markdown",
   "id": "81e7077d",
   "metadata": {},
   "source": [
    "**Pomona city has lowest population i.e 1, and LosAngeles city has highest population 3884307**."
   ]
  },
  {
   "cell_type": "code",
   "execution_count": null,
   "id": "27507fc0",
   "metadata": {},
   "outputs": [],
   "source": []
  },
  {
   "cell_type": "markdown",
   "id": "7dfc6c2c",
   "metadata": {},
   "source": [
    "### Top 10 cities by Elevation"
   ]
  },
  {
   "cell_type": "code",
   "execution_count": 31,
   "id": "c5ab8908",
   "metadata": {},
   "outputs": [
    {
     "data": {
      "text/html": [
       "<div>\n",
       "<style scoped>\n",
       "    .dataframe tbody tr th:only-of-type {\n",
       "        vertical-align: middle;\n",
       "    }\n",
       "\n",
       "    .dataframe tbody tr th {\n",
       "        vertical-align: top;\n",
       "    }\n",
       "\n",
       "    .dataframe thead th {\n",
       "        text-align: right;\n",
       "    }\n",
       "</style>\n",
       "<table border=\"1\" class=\"dataframe\">\n",
       "  <thead>\n",
       "    <tr style=\"text-align: right;\">\n",
       "      <th></th>\n",
       "      <th>elevation_m</th>\n",
       "    </tr>\n",
       "    <tr>\n",
       "      <th>city</th>\n",
       "      <th></th>\n",
       "    </tr>\n",
       "  </thead>\n",
       "  <tbody>\n",
       "    <tr>\n",
       "      <th>MammothLakes</th>\n",
       "      <td>2401.823996</td>\n",
       "    </tr>\n",
       "    <tr>\n",
       "      <th>BigBearLake</th>\n",
       "      <td>2058.009597</td>\n",
       "    </tr>\n",
       "    <tr>\n",
       "      <th>SouthLakeTahoe</th>\n",
       "      <td>1901.037597</td>\n",
       "    </tr>\n",
       "    <tr>\n",
       "      <th>Truckee</th>\n",
       "      <td>1773.021597</td>\n",
       "    </tr>\n",
       "    <tr>\n",
       "      <th>Loyalton</th>\n",
       "      <td>1509.064798</td>\n",
       "    </tr>\n",
       "    <tr>\n",
       "      <th>Portola</th>\n",
       "      <td>1480.108798</td>\n",
       "    </tr>\n",
       "    <tr>\n",
       "      <th>Alturas</th>\n",
       "      <td>1331.975998</td>\n",
       "    </tr>\n",
       "    <tr>\n",
       "      <th>Dorris</th>\n",
       "      <td>1293.875998</td>\n",
       "    </tr>\n",
       "    <tr>\n",
       "      <th>Susanville</th>\n",
       "      <td>1275.892798</td>\n",
       "    </tr>\n",
       "    <tr>\n",
       "      <th>Bishop</th>\n",
       "      <td>1264.919998</td>\n",
       "    </tr>\n",
       "  </tbody>\n",
       "</table>\n",
       "</div>"
      ],
      "text/plain": [
       "                elevation_m\n",
       "city                       \n",
       "MammothLakes    2401.823996\n",
       "BigBearLake     2058.009597\n",
       "SouthLakeTahoe  1901.037597\n",
       "Truckee         1773.021597\n",
       "Loyalton        1509.064798\n",
       "Portola         1480.108798\n",
       "Alturas         1331.975998\n",
       "Dorris          1293.875998\n",
       "Susanville      1275.892798\n",
       "Bishop          1264.919998"
      ]
     },
     "execution_count": 31,
     "metadata": {},
     "output_type": "execute_result"
    }
   ],
   "source": [
    "ele_top=pd.pivot_table(df, index='city', values='elevation_m',\n",
    "                   aggfunc=sum).sort_values(by='elevation_m', ascending=False)[:10]\n",
    "ele_top"
   ]
  },
  {
   "cell_type": "markdown",
   "id": "701dd945",
   "metadata": {},
   "source": [
    "### Bottom 10 cities by elevation"
   ]
  },
  {
   "cell_type": "code",
   "execution_count": 30,
   "id": "a0869ff6",
   "metadata": {},
   "outputs": [
    {
     "data": {
      "text/html": [
       "<div>\n",
       "<style scoped>\n",
       "    .dataframe tbody tr th:only-of-type {\n",
       "        vertical-align: middle;\n",
       "    }\n",
       "\n",
       "    .dataframe tbody tr th {\n",
       "        vertical-align: top;\n",
       "    }\n",
       "\n",
       "    .dataframe thead th {\n",
       "        text-align: right;\n",
       "    }\n",
       "</style>\n",
       "<table border=\"1\" class=\"dataframe\">\n",
       "  <thead>\n",
       "    <tr style=\"text-align: right;\">\n",
       "      <th></th>\n",
       "      <th>elevation_m</th>\n",
       "    </tr>\n",
       "    <tr>\n",
       "      <th>city</th>\n",
       "      <th></th>\n",
       "    </tr>\n",
       "  </thead>\n",
       "  <tbody>\n",
       "    <tr>\n",
       "      <th>Calipatria</th>\n",
       "      <td>-54.8640</td>\n",
       "    </tr>\n",
       "    <tr>\n",
       "      <th>Westmorland</th>\n",
       "      <td>-49.9872</td>\n",
       "    </tr>\n",
       "    <tr>\n",
       "      <th>Brawley</th>\n",
       "      <td>-34.1376</td>\n",
       "    </tr>\n",
       "    <tr>\n",
       "      <th>Coachella</th>\n",
       "      <td>-20.1168</td>\n",
       "    </tr>\n",
       "    <tr>\n",
       "      <th>Imperial</th>\n",
       "      <td>-17.9832</td>\n",
       "    </tr>\n",
       "    <tr>\n",
       "      <th>ElCentro</th>\n",
       "      <td>-11.8872</td>\n",
       "    </tr>\n",
       "    <tr>\n",
       "      <th>Indio</th>\n",
       "      <td>-3.9624</td>\n",
       "    </tr>\n",
       "    <tr>\n",
       "      <th>Holtville</th>\n",
       "      <td>-3.0480</td>\n",
       "    </tr>\n",
       "    <tr>\n",
       "      <th>Ventura</th>\n",
       "      <td>0.0000</td>\n",
       "    </tr>\n",
       "    <tr>\n",
       "      <th>NewportBeach</th>\n",
       "      <td>0.0000</td>\n",
       "    </tr>\n",
       "  </tbody>\n",
       "</table>\n",
       "</div>"
      ],
      "text/plain": [
       "              elevation_m\n",
       "city                     \n",
       "Calipatria       -54.8640\n",
       "Westmorland      -49.9872\n",
       "Brawley          -34.1376\n",
       "Coachella        -20.1168\n",
       "Imperial         -17.9832\n",
       "ElCentro         -11.8872\n",
       "Indio             -3.9624\n",
       "Holtville         -3.0480\n",
       "Ventura            0.0000\n",
       "NewportBeach       0.0000"
      ]
     },
     "execution_count": 30,
     "metadata": {},
     "output_type": "execute_result"
    }
   ],
   "source": [
    "ele_bottom=pd.pivot_table(df, index='city', values='elevation_m',\n",
    "                   aggfunc=sum).sort_values(by='elevation_m')[:10]\n",
    "ele_bottom"
   ]
  },
  {
   "cell_type": "markdown",
   "id": "8a520652",
   "metadata": {},
   "source": [
    "**Calipatria city has lowest elevation & MammothLakes city has highest Elevation.**"
   ]
  },
  {
   "cell_type": "code",
   "execution_count": null,
   "id": "9c7bec25",
   "metadata": {},
   "outputs": [],
   "source": []
  },
  {
   "cell_type": "markdown",
   "id": "c582e80f",
   "metadata": {},
   "source": [
    "### Top 10 Cities by land area"
   ]
  },
  {
   "cell_type": "code",
   "execution_count": 9,
   "id": "282a1ac6",
   "metadata": {},
   "outputs": [
    {
     "data": {
      "text/html": [
       "<div>\n",
       "<style scoped>\n",
       "    .dataframe tbody tr th:only-of-type {\n",
       "        vertical-align: middle;\n",
       "    }\n",
       "\n",
       "    .dataframe tbody tr th {\n",
       "        vertical-align: top;\n",
       "    }\n",
       "\n",
       "    .dataframe thead th {\n",
       "        text-align: right;\n",
       "    }\n",
       "</style>\n",
       "<table border=\"1\" class=\"dataframe\">\n",
       "  <thead>\n",
       "    <tr style=\"text-align: right;\">\n",
       "      <th></th>\n",
       "      <th>area_land_sq_mi</th>\n",
       "    </tr>\n",
       "    <tr>\n",
       "      <th>city</th>\n",
       "      <th></th>\n",
       "    </tr>\n",
       "  </thead>\n",
       "  <tbody>\n",
       "    <tr>\n",
       "      <th>LosAngeles</th>\n",
       "      <td>469.000</td>\n",
       "    </tr>\n",
       "    <tr>\n",
       "      <th>SanDiego</th>\n",
       "      <td>325.190</td>\n",
       "    </tr>\n",
       "    <tr>\n",
       "      <th>CaliforniaCity</th>\n",
       "      <td>203.523</td>\n",
       "    </tr>\n",
       "    <tr>\n",
       "      <th>SanJose</th>\n",
       "      <td>176.526</td>\n",
       "    </tr>\n",
       "    <tr>\n",
       "      <th>Bakersfield</th>\n",
       "      <td>142.164</td>\n",
       "    </tr>\n",
       "    <tr>\n",
       "      <th>Fresno</th>\n",
       "      <td>111.957</td>\n",
       "    </tr>\n",
       "    <tr>\n",
       "      <th>Palmdale</th>\n",
       "      <td>105.961</td>\n",
       "    </tr>\n",
       "    <tr>\n",
       "      <th>Sacramento</th>\n",
       "      <td>97.915</td>\n",
       "    </tr>\n",
       "    <tr>\n",
       "      <th>Lancaster</th>\n",
       "      <td>94.276</td>\n",
       "    </tr>\n",
       "    <tr>\n",
       "      <th>PalmSprings</th>\n",
       "      <td>94.116</td>\n",
       "    </tr>\n",
       "  </tbody>\n",
       "</table>\n",
       "</div>"
      ],
      "text/plain": [
       "                area_land_sq_mi\n",
       "city                           \n",
       "LosAngeles              469.000\n",
       "SanDiego                325.190\n",
       "CaliforniaCity          203.523\n",
       "SanJose                 176.526\n",
       "Bakersfield             142.164\n",
       "Fresno                  111.957\n",
       "Palmdale                105.961\n",
       "Sacramento               97.915\n",
       "Lancaster                94.276\n",
       "PalmSprings              94.116"
      ]
     },
     "execution_count": 9,
     "metadata": {},
     "output_type": "execute_result"
    }
   ],
   "source": [
    "land_top=pd.pivot_table(df, index='city', values='area_land_sq_mi',\n",
    "                   aggfunc=sum).sort_values(by='area_land_sq_mi', ascending=False)[:10]\n",
    "land_top"
   ]
  },
  {
   "cell_type": "markdown",
   "id": "98b10afe",
   "metadata": {},
   "source": [
    "### Bottom 10 cities by land area"
   ]
  },
  {
   "cell_type": "code",
   "execution_count": 10,
   "id": "1c0e8443",
   "metadata": {},
   "outputs": [
    {
     "data": {
      "text/html": [
       "<div>\n",
       "<style scoped>\n",
       "    .dataframe tbody tr th:only-of-type {\n",
       "        vertical-align: middle;\n",
       "    }\n",
       "\n",
       "    .dataframe tbody tr th {\n",
       "        vertical-align: top;\n",
       "    }\n",
       "\n",
       "    .dataframe thead th {\n",
       "        text-align: right;\n",
       "    }\n",
       "</style>\n",
       "<table border=\"1\" class=\"dataframe\">\n",
       "  <thead>\n",
       "    <tr style=\"text-align: right;\">\n",
       "      <th></th>\n",
       "      <th>area_land_sq_mi</th>\n",
       "    </tr>\n",
       "    <tr>\n",
       "      <th>city</th>\n",
       "      <th></th>\n",
       "    </tr>\n",
       "  </thead>\n",
       "  <tbody>\n",
       "    <tr>\n",
       "      <th>AmadorCity</th>\n",
       "      <td>0.314</td>\n",
       "    </tr>\n",
       "    <tr>\n",
       "      <th>Loyalton</th>\n",
       "      <td>0.355</td>\n",
       "    </tr>\n",
       "    <tr>\n",
       "      <th>Tulelake</th>\n",
       "      <td>0.410</td>\n",
       "    </tr>\n",
       "    <tr>\n",
       "      <th>Isleton</th>\n",
       "      <td>0.440</td>\n",
       "    </tr>\n",
       "    <tr>\n",
       "      <th>DelReyOaks</th>\n",
       "      <td>0.481</td>\n",
       "    </tr>\n",
       "    <tr>\n",
       "      <th>Trinidad</th>\n",
       "      <td>0.485</td>\n",
       "    </tr>\n",
       "    <tr>\n",
       "      <th>Belvedere</th>\n",
       "      <td>0.519</td>\n",
       "    </tr>\n",
       "    <tr>\n",
       "      <th>SandCity</th>\n",
       "      <td>0.562</td>\n",
       "    </tr>\n",
       "    <tr>\n",
       "      <th>Westmorland</th>\n",
       "      <td>0.590</td>\n",
       "    </tr>\n",
       "    <tr>\n",
       "      <th>BlueLake</th>\n",
       "      <td>0.592</td>\n",
       "    </tr>\n",
       "  </tbody>\n",
       "</table>\n",
       "</div>"
      ],
      "text/plain": [
       "             area_land_sq_mi\n",
       "city                        \n",
       "AmadorCity             0.314\n",
       "Loyalton               0.355\n",
       "Tulelake               0.410\n",
       "Isleton                0.440\n",
       "DelReyOaks             0.481\n",
       "Trinidad               0.485\n",
       "Belvedere              0.519\n",
       "SandCity               0.562\n",
       "Westmorland            0.590\n",
       "BlueLake               0.592"
      ]
     },
     "execution_count": 10,
     "metadata": {},
     "output_type": "execute_result"
    }
   ],
   "source": [
    "land_bottom=pd.pivot_table(df, index='city', values='area_land_sq_mi',\n",
    "                   aggfunc=sum).sort_values(by='area_land_sq_mi',ascending=True)[:10]\n",
    "land_bottom"
   ]
  },
  {
   "cell_type": "markdown",
   "id": "640fe6a8",
   "metadata": {},
   "source": [
    "**Amador City has lowest land area & Loss Angeles has highest land area.**"
   ]
  },
  {
   "cell_type": "code",
   "execution_count": null,
   "id": "d6a87057",
   "metadata": {},
   "outputs": [],
   "source": []
  },
  {
   "cell_type": "markdown",
   "id": "00b744f9",
   "metadata": {},
   "source": [
    "### Top 10 cities by water area"
   ]
  },
  {
   "cell_type": "code",
   "execution_count": 11,
   "id": "a9a04b5a",
   "metadata": {},
   "outputs": [
    {
     "data": {
      "text/html": [
       "<div>\n",
       "<style scoped>\n",
       "    .dataframe tbody tr th:only-of-type {\n",
       "        vertical-align: middle;\n",
       "    }\n",
       "\n",
       "    .dataframe tbody tr th {\n",
       "        vertical-align: top;\n",
       "    }\n",
       "\n",
       "    .dataframe thead th {\n",
       "        text-align: right;\n",
       "    }\n",
       "</style>\n",
       "<table border=\"1\" class=\"dataframe\">\n",
       "  <thead>\n",
       "    <tr style=\"text-align: right;\">\n",
       "      <th></th>\n",
       "      <th>area_water_sq_mi</th>\n",
       "    </tr>\n",
       "    <tr>\n",
       "      <th>city</th>\n",
       "      <th></th>\n",
       "    </tr>\n",
       "  </thead>\n",
       "  <tbody>\n",
       "    <tr>\n",
       "      <th>SanDiego</th>\n",
       "      <td>47.210</td>\n",
       "    </tr>\n",
       "    <tr>\n",
       "      <th>LosAngeles</th>\n",
       "      <td>34.000</td>\n",
       "    </tr>\n",
       "    <tr>\n",
       "      <th>NewportBeach</th>\n",
       "      <td>29.173</td>\n",
       "    </tr>\n",
       "    <tr>\n",
       "      <th>Coronado</th>\n",
       "      <td>24.735</td>\n",
       "    </tr>\n",
       "    <tr>\n",
       "      <th>DanaPoint</th>\n",
       "      <td>22.987</td>\n",
       "    </tr>\n",
       "    <tr>\n",
       "      <th>SantaBarbara</th>\n",
       "      <td>22.500</td>\n",
       "    </tr>\n",
       "    <tr>\n",
       "      <th>Richmond</th>\n",
       "      <td>22.412</td>\n",
       "    </tr>\n",
       "    <tr>\n",
       "      <th>Oakland</th>\n",
       "      <td>22.216</td>\n",
       "    </tr>\n",
       "    <tr>\n",
       "      <th>SouthSanFrancisco</th>\n",
       "      <td>21.017</td>\n",
       "    </tr>\n",
       "    <tr>\n",
       "      <th>Vallejo</th>\n",
       "      <td>18.800</td>\n",
       "    </tr>\n",
       "  </tbody>\n",
       "</table>\n",
       "</div>"
      ],
      "text/plain": [
       "                   area_water_sq_mi\n",
       "city                               \n",
       "SanDiego                     47.210\n",
       "LosAngeles                   34.000\n",
       "NewportBeach                 29.173\n",
       "Coronado                     24.735\n",
       "DanaPoint                    22.987\n",
       "SantaBarbara                 22.500\n",
       "Richmond                     22.412\n",
       "Oakland                      22.216\n",
       "SouthSanFrancisco            21.017\n",
       "Vallejo                      18.800"
      ]
     },
     "execution_count": 11,
     "metadata": {},
     "output_type": "execute_result"
    }
   ],
   "source": [
    "water_top=pd.pivot_table(df, index='city', values='area_water_sq_mi',\n",
    "                   aggfunc=sum).sort_values(by='area_water_sq_mi', ascending=False)[:10]\n",
    "water_top"
   ]
  },
  {
   "cell_type": "markdown",
   "id": "7f009106",
   "metadata": {},
   "source": [
    "### Bottom 10 cities by water area"
   ]
  },
  {
   "cell_type": "code",
   "execution_count": 12,
   "id": "8f646095",
   "metadata": {},
   "outputs": [
    {
     "data": {
      "text/html": [
       "<div>\n",
       "<style scoped>\n",
       "    .dataframe tbody tr th:only-of-type {\n",
       "        vertical-align: middle;\n",
       "    }\n",
       "\n",
       "    .dataframe tbody tr th {\n",
       "        vertical-align: top;\n",
       "    }\n",
       "\n",
       "    .dataframe thead th {\n",
       "        text-align: right;\n",
       "    }\n",
       "</style>\n",
       "<table border=\"1\" class=\"dataframe\">\n",
       "  <thead>\n",
       "    <tr style=\"text-align: right;\">\n",
       "      <th></th>\n",
       "      <th>area_water_sq_mi</th>\n",
       "    </tr>\n",
       "    <tr>\n",
       "      <th>city</th>\n",
       "      <th></th>\n",
       "    </tr>\n",
       "  </thead>\n",
       "  <tbody>\n",
       "    <tr>\n",
       "      <th>YuccaValley</th>\n",
       "      <td>0.0</td>\n",
       "    </tr>\n",
       "    <tr>\n",
       "      <th>Portola</th>\n",
       "      <td>0.0</td>\n",
       "    </tr>\n",
       "    <tr>\n",
       "      <th>Duarte</th>\n",
       "      <td>0.0</td>\n",
       "    </tr>\n",
       "    <tr>\n",
       "      <th>PointArena</th>\n",
       "      <td>0.0</td>\n",
       "    </tr>\n",
       "    <tr>\n",
       "      <th>ElCajon</th>\n",
       "      <td>0.0</td>\n",
       "    </tr>\n",
       "    <tr>\n",
       "      <th>PleasantHill</th>\n",
       "      <td>0.0</td>\n",
       "    </tr>\n",
       "    <tr>\n",
       "      <th>ElCerrito</th>\n",
       "      <td>0.0</td>\n",
       "    </tr>\n",
       "    <tr>\n",
       "      <th>Piedmont</th>\n",
       "      <td>0.0</td>\n",
       "    </tr>\n",
       "    <tr>\n",
       "      <th>Patterson</th>\n",
       "      <td>0.0</td>\n",
       "    </tr>\n",
       "    <tr>\n",
       "      <th>Parlier</th>\n",
       "      <td>0.0</td>\n",
       "    </tr>\n",
       "  </tbody>\n",
       "</table>\n",
       "</div>"
      ],
      "text/plain": [
       "              area_water_sq_mi\n",
       "city                          \n",
       "YuccaValley                0.0\n",
       "Portola                    0.0\n",
       "Duarte                     0.0\n",
       "PointArena                 0.0\n",
       "ElCajon                    0.0\n",
       "PleasantHill               0.0\n",
       "ElCerrito                  0.0\n",
       "Piedmont                   0.0\n",
       "Patterson                  0.0\n",
       "Parlier                    0.0"
      ]
     },
     "execution_count": 12,
     "metadata": {},
     "output_type": "execute_result"
    }
   ],
   "source": [
    "water_bottom=pd.pivot_table(df, index='city', values='area_water_sq_mi',\n",
    "                   aggfunc=sum).sort_values(by='area_water_sq_mi',ascending=True)[:10]\n",
    "water_bottom"
   ]
  },
  {
   "cell_type": "markdown",
   "id": "44df6e6a",
   "metadata": {},
   "source": [
    "**SanDiego has highest water area.**"
   ]
  },
  {
   "cell_type": "code",
   "execution_count": null,
   "id": "5aac1133",
   "metadata": {},
   "outputs": [],
   "source": []
  },
  {
   "cell_type": "markdown",
   "id": "fa8a08ca",
   "metadata": {},
   "source": [
    "### Top 10 cities by total area"
   ]
  },
  {
   "cell_type": "code",
   "execution_count": 14,
   "id": "5846e9e9",
   "metadata": {
    "scrolled": true
   },
   "outputs": [
    {
     "data": {
      "text/html": [
       "<div>\n",
       "<style scoped>\n",
       "    .dataframe tbody tr th:only-of-type {\n",
       "        vertical-align: middle;\n",
       "    }\n",
       "\n",
       "    .dataframe tbody tr th {\n",
       "        vertical-align: top;\n",
       "    }\n",
       "\n",
       "    .dataframe thead th {\n",
       "        text-align: right;\n",
       "    }\n",
       "</style>\n",
       "<table border=\"1\" class=\"dataframe\">\n",
       "  <thead>\n",
       "    <tr style=\"text-align: right;\">\n",
       "      <th></th>\n",
       "      <th>area_total_sq_mi</th>\n",
       "    </tr>\n",
       "    <tr>\n",
       "      <th>city</th>\n",
       "      <th></th>\n",
       "    </tr>\n",
       "  </thead>\n",
       "  <tbody>\n",
       "    <tr>\n",
       "      <th>LosAngeles</th>\n",
       "      <td>503.000</td>\n",
       "    </tr>\n",
       "    <tr>\n",
       "      <th>SanDiego</th>\n",
       "      <td>372.400</td>\n",
       "    </tr>\n",
       "    <tr>\n",
       "      <th>CaliforniaCity</th>\n",
       "      <td>203.631</td>\n",
       "    </tr>\n",
       "    <tr>\n",
       "      <th>SanJose</th>\n",
       "      <td>179.965</td>\n",
       "    </tr>\n",
       "    <tr>\n",
       "      <th>Bakersfield</th>\n",
       "      <td>143.609</td>\n",
       "    </tr>\n",
       "    <tr>\n",
       "      <th>Fresno</th>\n",
       "      <td>112.308</td>\n",
       "    </tr>\n",
       "    <tr>\n",
       "      <th>Palmdale</th>\n",
       "      <td>106.216</td>\n",
       "    </tr>\n",
       "    <tr>\n",
       "      <th>Sacramento</th>\n",
       "      <td>100.105</td>\n",
       "    </tr>\n",
       "    <tr>\n",
       "      <th>PalmSprings</th>\n",
       "      <td>94.975</td>\n",
       "    </tr>\n",
       "    <tr>\n",
       "      <th>Lancaster</th>\n",
       "      <td>94.547</td>\n",
       "    </tr>\n",
       "  </tbody>\n",
       "</table>\n",
       "</div>"
      ],
      "text/plain": [
       "                area_total_sq_mi\n",
       "city                            \n",
       "LosAngeles               503.000\n",
       "SanDiego                 372.400\n",
       "CaliforniaCity           203.631\n",
       "SanJose                  179.965\n",
       "Bakersfield              143.609\n",
       "Fresno                   112.308\n",
       "Palmdale                 106.216\n",
       "Sacramento               100.105\n",
       "PalmSprings               94.975\n",
       "Lancaster                 94.547"
      ]
     },
     "execution_count": 14,
     "metadata": {},
     "output_type": "execute_result"
    }
   ],
   "source": [
    "total_top=pd.pivot_table(df, index='city', values='area_total_sq_mi',\n",
    "                   aggfunc=sum).sort_values(by='area_total_sq_mi', ascending=False)[:10]\n",
    "total_top"
   ]
  },
  {
   "cell_type": "markdown",
   "id": "ca5d9500",
   "metadata": {},
   "source": [
    "### Bottom 10 cities by total area"
   ]
  },
  {
   "cell_type": "code",
   "execution_count": 15,
   "id": "dcf6429b",
   "metadata": {},
   "outputs": [
    {
     "data": {
      "text/html": [
       "<div>\n",
       "<style scoped>\n",
       "    .dataframe tbody tr th:only-of-type {\n",
       "        vertical-align: middle;\n",
       "    }\n",
       "\n",
       "    .dataframe tbody tr th {\n",
       "        vertical-align: top;\n",
       "    }\n",
       "\n",
       "    .dataframe thead th {\n",
       "        text-align: right;\n",
       "    }\n",
       "</style>\n",
       "<table border=\"1\" class=\"dataframe\">\n",
       "  <thead>\n",
       "    <tr style=\"text-align: right;\">\n",
       "      <th></th>\n",
       "      <th>area_total_sq_mi</th>\n",
       "    </tr>\n",
       "    <tr>\n",
       "      <th>city</th>\n",
       "      <th></th>\n",
       "    </tr>\n",
       "  </thead>\n",
       "  <tbody>\n",
       "    <tr>\n",
       "      <th>AmadorCity</th>\n",
       "      <td>0.314</td>\n",
       "    </tr>\n",
       "    <tr>\n",
       "      <th>Loyalton</th>\n",
       "      <td>0.355</td>\n",
       "    </tr>\n",
       "    <tr>\n",
       "      <th>Tulelake</th>\n",
       "      <td>0.412</td>\n",
       "    </tr>\n",
       "    <tr>\n",
       "      <th>DelReyOaks</th>\n",
       "      <td>0.483</td>\n",
       "    </tr>\n",
       "    <tr>\n",
       "      <th>Isleton</th>\n",
       "      <td>0.492</td>\n",
       "    </tr>\n",
       "    <tr>\n",
       "      <th>Westmorland</th>\n",
       "      <td>0.590</td>\n",
       "    </tr>\n",
       "    <tr>\n",
       "      <th>FortJones</th>\n",
       "      <td>0.602</td>\n",
       "    </tr>\n",
       "    <tr>\n",
       "      <th>BlueLake</th>\n",
       "      <td>0.622</td>\n",
       "    </tr>\n",
       "    <tr>\n",
       "      <th>Biggs</th>\n",
       "      <td>0.636</td>\n",
       "    </tr>\n",
       "    <tr>\n",
       "      <th>Trinidad</th>\n",
       "      <td>0.671</td>\n",
       "    </tr>\n",
       "  </tbody>\n",
       "</table>\n",
       "</div>"
      ],
      "text/plain": [
       "             area_total_sq_mi\n",
       "city                         \n",
       "AmadorCity              0.314\n",
       "Loyalton                0.355\n",
       "Tulelake                0.412\n",
       "DelReyOaks              0.483\n",
       "Isleton                 0.492\n",
       "Westmorland             0.590\n",
       "FortJones               0.602\n",
       "BlueLake                0.622\n",
       "Biggs                   0.636\n",
       "Trinidad                0.671"
      ]
     },
     "execution_count": 15,
     "metadata": {},
     "output_type": "execute_result"
    }
   ],
   "source": [
    "total_bottom=pd.pivot_table(df, index='city', values='area_total_sq_mi',\n",
    "                   aggfunc=sum).sort_values(by='area_total_sq_mi',ascending=True)[:10]\n",
    "total_bottom"
   ]
  },
  {
   "cell_type": "markdown",
   "id": "2e37f207",
   "metadata": {},
   "source": [
    "**Amador City has least total area & LosAngeles has highest total area.**"
   ]
  },
  {
   "cell_type": "code",
   "execution_count": null,
   "id": "12bd3895",
   "metadata": {},
   "outputs": [],
   "source": []
  },
  {
   "cell_type": "markdown",
   "id": "25d45add",
   "metadata": {},
   "source": [
    "### Top 10 cities by water area percentage"
   ]
  },
  {
   "cell_type": "code",
   "execution_count": 17,
   "id": "23d5ac31",
   "metadata": {},
   "outputs": [
    {
     "data": {
      "text/html": [
       "<div>\n",
       "<style scoped>\n",
       "    .dataframe tbody tr th:only-of-type {\n",
       "        vertical-align: middle;\n",
       "    }\n",
       "\n",
       "    .dataframe tbody tr th {\n",
       "        vertical-align: top;\n",
       "    }\n",
       "\n",
       "    .dataframe thead th {\n",
       "        text-align: right;\n",
       "    }\n",
       "</style>\n",
       "<table border=\"1\" class=\"dataframe\">\n",
       "  <thead>\n",
       "    <tr style=\"text-align: right;\">\n",
       "      <th></th>\n",
       "      <th>area_water_percent</th>\n",
       "    </tr>\n",
       "    <tr>\n",
       "      <th>city</th>\n",
       "      <th></th>\n",
       "    </tr>\n",
       "  </thead>\n",
       "  <tbody>\n",
       "    <tr>\n",
       "      <th>Brisbane</th>\n",
       "      <td>84.58</td>\n",
       "    </tr>\n",
       "    <tr>\n",
       "      <th>FosterCity</th>\n",
       "      <td>81.07</td>\n",
       "    </tr>\n",
       "    <tr>\n",
       "      <th>SandCity</th>\n",
       "      <td>80.77</td>\n",
       "    </tr>\n",
       "    <tr>\n",
       "      <th>Belvedere</th>\n",
       "      <td>78.42</td>\n",
       "    </tr>\n",
       "    <tr>\n",
       "      <th>DanaPoint</th>\n",
       "      <td>77.96</td>\n",
       "    </tr>\n",
       "    <tr>\n",
       "      <th>Coronado</th>\n",
       "      <td>75.72</td>\n",
       "    </tr>\n",
       "    <tr>\n",
       "      <th>PismoBeach</th>\n",
       "      <td>73.29</td>\n",
       "    </tr>\n",
       "    <tr>\n",
       "      <th>Carpinteria</th>\n",
       "      <td>72.11</td>\n",
       "    </tr>\n",
       "    <tr>\n",
       "      <th>SouthSanFrancisco</th>\n",
       "      <td>69.69</td>\n",
       "    </tr>\n",
       "    <tr>\n",
       "      <th>Albany</th>\n",
       "      <td>67.28</td>\n",
       "    </tr>\n",
       "  </tbody>\n",
       "</table>\n",
       "</div>"
      ],
      "text/plain": [
       "                   area_water_percent\n",
       "city                                 \n",
       "Brisbane                        84.58\n",
       "FosterCity                      81.07\n",
       "SandCity                        80.77\n",
       "Belvedere                       78.42\n",
       "DanaPoint                       77.96\n",
       "Coronado                        75.72\n",
       "PismoBeach                      73.29\n",
       "Carpinteria                     72.11\n",
       "SouthSanFrancisco               69.69\n",
       "Albany                          67.28"
      ]
     },
     "execution_count": 17,
     "metadata": {},
     "output_type": "execute_result"
    }
   ],
   "source": [
    "water_perc_top=pd.pivot_table(df, index='city', values='area_water_percent',\n",
    "                   aggfunc=sum).sort_values(by='area_water_percent', ascending=False)[:10]\n",
    "water_perc_top"
   ]
  },
  {
   "cell_type": "markdown",
   "id": "a41dd7c1",
   "metadata": {},
   "source": [
    "### Bottom 10 cities by water area percentage"
   ]
  },
  {
   "cell_type": "code",
   "execution_count": 16,
   "id": "ecf1552e",
   "metadata": {},
   "outputs": [
    {
     "data": {
      "text/html": [
       "<div>\n",
       "<style scoped>\n",
       "    .dataframe tbody tr th:only-of-type {\n",
       "        vertical-align: middle;\n",
       "    }\n",
       "\n",
       "    .dataframe tbody tr th {\n",
       "        vertical-align: top;\n",
       "    }\n",
       "\n",
       "    .dataframe thead th {\n",
       "        text-align: right;\n",
       "    }\n",
       "</style>\n",
       "<table border=\"1\" class=\"dataframe\">\n",
       "  <thead>\n",
       "    <tr style=\"text-align: right;\">\n",
       "      <th></th>\n",
       "      <th>area_water_percent</th>\n",
       "    </tr>\n",
       "    <tr>\n",
       "      <th>city</th>\n",
       "      <th></th>\n",
       "    </tr>\n",
       "  </thead>\n",
       "  <tbody>\n",
       "    <tr>\n",
       "      <th>YuccaValley</th>\n",
       "      <td>0.0</td>\n",
       "    </tr>\n",
       "    <tr>\n",
       "      <th>LiveOakSutterCounty</th>\n",
       "      <td>0.0</td>\n",
       "    </tr>\n",
       "    <tr>\n",
       "      <th>Livingston</th>\n",
       "      <td>0.0</td>\n",
       "    </tr>\n",
       "    <tr>\n",
       "      <th>Lomita</th>\n",
       "      <td>0.0</td>\n",
       "    </tr>\n",
       "    <tr>\n",
       "      <th>Corning</th>\n",
       "      <td>0.0</td>\n",
       "    </tr>\n",
       "    <tr>\n",
       "      <th>Corcoran</th>\n",
       "      <td>0.0</td>\n",
       "    </tr>\n",
       "    <tr>\n",
       "      <th>Concord</th>\n",
       "      <td>0.0</td>\n",
       "    </tr>\n",
       "    <tr>\n",
       "      <th>Loomis</th>\n",
       "      <td>0.0</td>\n",
       "    </tr>\n",
       "    <tr>\n",
       "      <th>Colusa</th>\n",
       "      <td>0.0</td>\n",
       "    </tr>\n",
       "    <tr>\n",
       "      <th>LosAltosHills</th>\n",
       "      <td>0.0</td>\n",
       "    </tr>\n",
       "  </tbody>\n",
       "</table>\n",
       "</div>"
      ],
      "text/plain": [
       "                     area_water_percent\n",
       "city                                   \n",
       "YuccaValley                         0.0\n",
       "LiveOakSutterCounty                 0.0\n",
       "Livingston                          0.0\n",
       "Lomita                              0.0\n",
       "Corning                             0.0\n",
       "Corcoran                            0.0\n",
       "Concord                             0.0\n",
       "Loomis                              0.0\n",
       "Colusa                              0.0\n",
       "LosAltosHills                       0.0"
      ]
     },
     "execution_count": 16,
     "metadata": {},
     "output_type": "execute_result"
    }
   ],
   "source": [
    "water_perc_bottom=pd.pivot_table(df, index='city', values='area_water_percent',\n",
    "                   aggfunc=sum).sort_values(by='area_water_percent',ascending=True)[:10]\n",
    "water_perc_bottom"
   ]
  },
  {
   "cell_type": "markdown",
   "id": "53172f27",
   "metadata": {},
   "source": [
    "**Out of total area Brisbane city has 84% water area.**"
   ]
  },
  {
   "cell_type": "code",
   "execution_count": null,
   "id": "8a1cf92b",
   "metadata": {},
   "outputs": [],
   "source": []
  },
  {
   "cell_type": "markdown",
   "id": "10198dfc",
   "metadata": {},
   "source": [
    "### Relationship between area and population"
   ]
  },
  {
   "cell_type": "code",
   "execution_count": 25,
   "id": "9ec75596",
   "metadata": {},
   "outputs": [
    {
     "data": {
      "application/vnd.plotly.v1+json": {
       "config": {
        "plotlyServerURL": "https://plot.ly"
       },
       "data": [
        {
         "hovertemplate": "city=Adelanto<br>area_total_sq_mi=%{x}<br>population_total=%{marker.size}<extra></extra>",
         "legendgroup": "Adelanto",
         "marker": {
          "color": "#636efa",
          "size": [
           31765
          ],
          "sizemode": "area",
          "sizeref": 9710.7675,
          "symbol": "circle"
         },
         "mode": "markers",
         "name": "Adelanto",
         "orientation": "v",
         "showlegend": true,
         "type": "scatter",
         "x": [
          56.026999999999994
         ],
         "xaxis": "x",
         "y": [
          31765
         ],
         "yaxis": "y"
        },
        {
         "hovertemplate": "city=AgouraHills<br>area_total_sq_mi=%{x}<br>population_total=%{marker.size}<extra></extra>",
         "legendgroup": "AgouraHills",
         "marker": {
          "color": "#EF553B",
          "size": [
           20330
          ],
          "sizemode": "area",
          "sizeref": 9710.7675,
          "symbol": "circle"
         },
         "mode": "markers",
         "name": "AgouraHills",
         "orientation": "v",
         "showlegend": true,
         "type": "scatter",
         "x": [
          7.821999999999999
         ],
         "xaxis": "x",
         "y": [
          20330
         ],
         "yaxis": "y"
        },
        {
         "hovertemplate": "city=Alameda<br>area_total_sq_mi=%{x}<br>population_total=%{marker.size}<extra></extra>",
         "legendgroup": "Alameda",
         "marker": {
          "color": "#00cc96",
          "size": [
           75467
          ],
          "sizemode": "area",
          "sizeref": 9710.7675,
          "symbol": "circle"
         },
         "mode": "markers",
         "name": "Alameda",
         "orientation": "v",
         "showlegend": true,
         "type": "scatter",
         "x": [
          22.96
         ],
         "xaxis": "x",
         "y": [
          75467
         ],
         "yaxis": "y"
        },
        {
         "hovertemplate": "city=Albany<br>area_total_sq_mi=%{x}<br>population_total=%{marker.size}<extra></extra>",
         "legendgroup": "Albany",
         "marker": {
          "color": "#ab63fa",
          "size": [
           18969
          ],
          "sizemode": "area",
          "sizeref": 9710.7675,
          "symbol": "circle"
         },
         "mode": "markers",
         "name": "Albany",
         "orientation": "v",
         "showlegend": true,
         "type": "scatter",
         "x": [
          5.465
         ],
         "xaxis": "x",
         "y": [
          18969
         ],
         "yaxis": "y"
        },
        {
         "hovertemplate": "city=Alhambra<br>area_total_sq_mi=%{x}<br>population_total=%{marker.size}<extra></extra>",
         "legendgroup": "Alhambra",
         "marker": {
          "color": "#FFA15A",
          "size": [
           83089
          ],
          "sizemode": "area",
          "sizeref": 9710.7675,
          "symbol": "circle"
         },
         "mode": "markers",
         "name": "Alhambra",
         "orientation": "v",
         "showlegend": true,
         "type": "scatter",
         "x": [
          7.632000000000001
         ],
         "xaxis": "x",
         "y": [
          83089
         ],
         "yaxis": "y"
        },
        {
         "hovertemplate": "city=AlisoViejo<br>area_total_sq_mi=%{x}<br>population_total=%{marker.size}<extra></extra>",
         "legendgroup": "AlisoViejo",
         "marker": {
          "color": "#19d3f3",
          "size": [
           47823
          ],
          "sizemode": "area",
          "sizeref": 9710.7675,
          "symbol": "circle"
         },
         "mode": "markers",
         "name": "AlisoViejo",
         "orientation": "v",
         "showlegend": true,
         "type": "scatter",
         "x": [
          7.472
         ],
         "xaxis": "x",
         "y": [
          47823
         ],
         "yaxis": "y"
        },
        {
         "hovertemplate": "city=Alturas<br>area_total_sq_mi=%{x}<br>population_total=%{marker.size}<extra></extra>",
         "legendgroup": "Alturas",
         "marker": {
          "color": "#FF6692",
          "size": [
           2827
          ],
          "sizemode": "area",
          "sizeref": 9710.7675,
          "symbol": "circle"
         },
         "mode": "markers",
         "name": "Alturas",
         "orientation": "v",
         "showlegend": true,
         "type": "scatter",
         "x": [
          2.449
         ],
         "xaxis": "x",
         "y": [
          2827
         ],
         "yaxis": "y"
        },
        {
         "hovertemplate": "city=AmadorCity<br>area_total_sq_mi=%{x}<br>population_total=%{marker.size}<extra></extra>",
         "legendgroup": "AmadorCity",
         "marker": {
          "color": "#B6E880",
          "size": [
           185
          ],
          "sizemode": "area",
          "sizeref": 9710.7675,
          "symbol": "circle"
         },
         "mode": "markers",
         "name": "AmadorCity",
         "orientation": "v",
         "showlegend": true,
         "type": "scatter",
         "x": [
          0.314
         ],
         "xaxis": "x",
         "y": [
          185
         ],
         "yaxis": "y"
        },
        {
         "hovertemplate": "city=AmericanCanyon<br>area_total_sq_mi=%{x}<br>population_total=%{marker.size}<extra></extra>",
         "legendgroup": "AmericanCanyon",
         "marker": {
          "color": "#FF97FF",
          "size": [
           19454
          ],
          "sizemode": "area",
          "sizeref": 9710.7675,
          "symbol": "circle"
         },
         "mode": "markers",
         "name": "AmericanCanyon",
         "orientation": "v",
         "showlegend": true,
         "type": "scatter",
         "x": [
          4.845
         ],
         "xaxis": "x",
         "y": [
          19454
         ],
         "yaxis": "y"
        },
        {
         "hovertemplate": "city=Anaheim<br>area_total_sq_mi=%{x}<br>population_total=%{marker.size}<extra></extra>",
         "legendgroup": "Anaheim",
         "marker": {
          "color": "#FECB52",
          "size": [
           336000
          ],
          "sizemode": "area",
          "sizeref": 9710.7675,
          "symbol": "circle"
         },
         "mode": "markers",
         "name": "Anaheim",
         "orientation": "v",
         "showlegend": true,
         "type": "scatter",
         "x": [
          50.811
         ],
         "xaxis": "x",
         "y": [
          336000
         ],
         "yaxis": "y"
        },
        {
         "hovertemplate": "city=Anderson<br>area_total_sq_mi=%{x}<br>population_total=%{marker.size}<extra></extra>",
         "legendgroup": "Anderson",
         "marker": {
          "color": "#636efa",
          "size": [
           9932
          ],
          "sizemode": "area",
          "sizeref": 9710.7675,
          "symbol": "circle"
         },
         "mode": "markers",
         "name": "Anderson",
         "orientation": "v",
         "showlegend": true,
         "type": "scatter",
         "x": [
          6.620000000000001
         ],
         "xaxis": "x",
         "y": [
          9932
         ],
         "yaxis": "y"
        },
        {
         "hovertemplate": "city=AngelsCamp<br>area_total_sq_mi=%{x}<br>population_total=%{marker.size}<extra></extra>",
         "legendgroup": "AngelsCamp",
         "marker": {
          "color": "#EF553B",
          "size": [
           3836
          ],
          "sizemode": "area",
          "sizeref": 9710.7675,
          "symbol": "circle"
         },
         "mode": "markers",
         "name": "AngelsCamp",
         "orientation": "v",
         "showlegend": true,
         "type": "scatter",
         "x": [
          3.637
         ],
         "xaxis": "x",
         "y": [
          3836
         ],
         "yaxis": "y"
        },
        {
         "hovertemplate": "city=Antioch<br>area_total_sq_mi=%{x}<br>population_total=%{marker.size}<extra></extra>",
         "legendgroup": "Antioch",
         "marker": {
          "color": "#00cc96",
          "size": [
           107100
          ],
          "sizemode": "area",
          "sizeref": 9710.7675,
          "symbol": "circle"
         },
         "mode": "markers",
         "name": "Antioch",
         "orientation": "v",
         "showlegend": true,
         "type": "scatter",
         "x": [
          29.083000000000002
         ],
         "xaxis": "x",
         "y": [
          107100
         ],
         "yaxis": "y"
        },
        {
         "hovertemplate": "city=AppleValley<br>area_total_sq_mi=%{x}<br>population_total=%{marker.size}<extra></extra>",
         "legendgroup": "AppleValley",
         "marker": {
          "color": "#ab63fa",
          "size": [
           69135
          ],
          "sizemode": "area",
          "sizeref": 9710.7675,
          "symbol": "circle"
         },
         "mode": "markers",
         "name": "AppleValley",
         "orientation": "v",
         "showlegend": true,
         "type": "scatter",
         "x": [
          73.523
         ],
         "xaxis": "x",
         "y": [
          69135
         ],
         "yaxis": "y"
        },
        {
         "hovertemplate": "city=Arcadia<br>area_total_sq_mi=%{x}<br>population_total=%{marker.size}<extra></extra>",
         "legendgroup": "Arcadia",
         "marker": {
          "color": "#FFA15A",
          "size": [
           56364
          ],
          "sizemode": "area",
          "sizeref": 9710.7675,
          "symbol": "circle"
         },
         "mode": "markers",
         "name": "Arcadia",
         "orientation": "v",
         "showlegend": true,
         "type": "scatter",
         "x": [
          11.133000000000001
         ],
         "xaxis": "x",
         "y": [
          56364
         ],
         "yaxis": "y"
        },
        {
         "hovertemplate": "city=Arcata<br>area_total_sq_mi=%{x}<br>population_total=%{marker.size}<extra></extra>",
         "legendgroup": "Arcata",
         "marker": {
          "color": "#19d3f3",
          "size": [
           17231
          ],
          "sizemode": "area",
          "sizeref": 9710.7675,
          "symbol": "circle"
         },
         "mode": "markers",
         "name": "Arcata",
         "orientation": "v",
         "showlegend": true,
         "type": "scatter",
         "x": [
          10.994
         ],
         "xaxis": "x",
         "y": [
          17231
         ],
         "yaxis": "y"
        },
        {
         "hovertemplate": "city=ArroyoGrande<br>area_total_sq_mi=%{x}<br>population_total=%{marker.size}<extra></extra>",
         "legendgroup": "ArroyoGrande",
         "marker": {
          "color": "#FF6692",
          "size": [
           17716
          ],
          "sizemode": "area",
          "sizeref": 9710.7675,
          "symbol": "circle"
         },
         "mode": "markers",
         "name": "ArroyoGrande",
         "orientation": "v",
         "showlegend": true,
         "type": "scatter",
         "x": [
          5.835
         ],
         "xaxis": "x",
         "y": [
          17716
         ],
         "yaxis": "y"
        },
        {
         "hovertemplate": "city=Artesia<br>area_total_sq_mi=%{x}<br>population_total=%{marker.size}<extra></extra>",
         "legendgroup": "Artesia",
         "marker": {
          "color": "#B6E880",
          "size": [
           16522
          ],
          "sizemode": "area",
          "sizeref": 9710.7675,
          "symbol": "circle"
         },
         "mode": "markers",
         "name": "Artesia",
         "orientation": "v",
         "showlegend": true,
         "type": "scatter",
         "x": [
          1.621
         ],
         "xaxis": "x",
         "y": [
          16522
         ],
         "yaxis": "y"
        },
        {
         "hovertemplate": "city=Arvin<br>area_total_sq_mi=%{x}<br>population_total=%{marker.size}<extra></extra>",
         "legendgroup": "Arvin",
         "marker": {
          "color": "#FF97FF",
          "size": [
           19304
          ],
          "sizemode": "area",
          "sizeref": 9710.7675,
          "symbol": "circle"
         },
         "mode": "markers",
         "name": "Arvin",
         "orientation": "v",
         "showlegend": true,
         "type": "scatter",
         "x": [
          4.819
         ],
         "xaxis": "x",
         "y": [
          19304
         ],
         "yaxis": "y"
        },
        {
         "hovertemplate": "city=Atascadero<br>area_total_sq_mi=%{x}<br>population_total=%{marker.size}<extra></extra>",
         "legendgroup": "Atascadero",
         "marker": {
          "color": "#FECB52",
          "size": [
           28310
          ],
          "sizemode": "area",
          "sizeref": 9710.7675,
          "symbol": "circle"
         },
         "mode": "markers",
         "name": "Atascadero",
         "orientation": "v",
         "showlegend": true,
         "type": "scatter",
         "x": [
          26.13
         ],
         "xaxis": "x",
         "y": [
          28310
         ],
         "yaxis": "y"
        },
        {
         "hovertemplate": "city=Atherton<br>area_total_sq_mi=%{x}<br>population_total=%{marker.size}<extra></extra>",
         "legendgroup": "Atherton",
         "marker": {
          "color": "#636efa",
          "size": [
           6914
          ],
          "sizemode": "area",
          "sizeref": 9710.7675,
          "symbol": "circle"
         },
         "mode": "markers",
         "name": "Atherton",
         "orientation": "v",
         "showlegend": true,
         "type": "scatter",
         "x": [
          5.049
         ],
         "xaxis": "x",
         "y": [
          6914
         ],
         "yaxis": "y"
        },
        {
         "hovertemplate": "city=Atwater<br>area_total_sq_mi=%{x}<br>population_total=%{marker.size}<extra></extra>",
         "legendgroup": "Atwater",
         "marker": {
          "color": "#EF553B",
          "size": [
           28168
          ],
          "sizemode": "area",
          "sizeref": 9710.7675,
          "symbol": "circle"
         },
         "mode": "markers",
         "name": "Atwater",
         "orientation": "v",
         "showlegend": true,
         "type": "scatter",
         "x": [
          6.096000000000001
         ],
         "xaxis": "x",
         "y": [
          28168
         ],
         "yaxis": "y"
        },
        {
         "hovertemplate": "city=Auburn<br>area_total_sq_mi=%{x}<br>population_total=%{marker.size}<extra></extra>",
         "legendgroup": "Auburn",
         "marker": {
          "color": "#00cc96",
          "size": [
           13330
          ],
          "sizemode": "area",
          "sizeref": 9710.7675,
          "symbol": "circle"
         },
         "mode": "markers",
         "name": "Auburn",
         "orientation": "v",
         "showlegend": true,
         "type": "scatter",
         "x": [
          7.1659999999999995
         ],
         "xaxis": "x",
         "y": [
          13330
         ],
         "yaxis": "y"
        },
        {
         "hovertemplate": "city=Avalon<br>area_total_sq_mi=%{x}<br>population_total=%{marker.size}<extra></extra>",
         "legendgroup": "Avalon",
         "marker": {
          "color": "#ab63fa",
          "size": [
           3728
          ],
          "sizemode": "area",
          "sizeref": 9710.7675,
          "symbol": "circle"
         },
         "mode": "markers",
         "name": "Avalon",
         "orientation": "v",
         "showlegend": true,
         "type": "scatter",
         "x": [
          2.937
         ],
         "xaxis": "x",
         "y": [
          3728
         ],
         "yaxis": "y"
        },
        {
         "hovertemplate": "city=Avenal<br>area_total_sq_mi=%{x}<br>population_total=%{marker.size}<extra></extra>",
         "legendgroup": "Avenal",
         "marker": {
          "color": "#FFA15A",
          "size": [
           13239
          ],
          "sizemode": "area",
          "sizeref": 9710.7675,
          "symbol": "circle"
         },
         "mode": "markers",
         "name": "Avenal",
         "orientation": "v",
         "showlegend": true,
         "type": "scatter",
         "x": [
          19.422
         ],
         "xaxis": "x",
         "y": [
          13239
         ],
         "yaxis": "y"
        },
        {
         "hovertemplate": "city=Azusa<br>area_total_sq_mi=%{x}<br>population_total=%{marker.size}<extra></extra>",
         "legendgroup": "Azusa",
         "marker": {
          "color": "#19d3f3",
          "size": [
           46361
          ],
          "sizemode": "area",
          "sizeref": 9710.7675,
          "symbol": "circle"
         },
         "mode": "markers",
         "name": "Azusa",
         "orientation": "v",
         "showlegend": true,
         "type": "scatter",
         "x": [
          9.669
         ],
         "xaxis": "x",
         "y": [
          46361
         ],
         "yaxis": "y"
        },
        {
         "hovertemplate": "city=Bakersfield<br>area_total_sq_mi=%{x}<br>population_total=%{marker.size}<extra></extra>",
         "legendgroup": "Bakersfield",
         "marker": {
          "color": "#FF6692",
          "size": [
           347483
          ],
          "sizemode": "area",
          "sizeref": 9710.7675,
          "symbol": "circle"
         },
         "mode": "markers",
         "name": "Bakersfield",
         "orientation": "v",
         "showlegend": true,
         "type": "scatter",
         "x": [
          143.60899999999998
         ],
         "xaxis": "x",
         "y": [
          347483
         ],
         "yaxis": "y"
        },
        {
         "hovertemplate": "city=BaldwinPark<br>area_total_sq_mi=%{x}<br>population_total=%{marker.size}<extra></extra>",
         "legendgroup": "BaldwinPark",
         "marker": {
          "color": "#B6E880",
          "size": [
           75390
          ],
          "sizemode": "area",
          "sizeref": 9710.7675,
          "symbol": "circle"
         },
         "mode": "markers",
         "name": "BaldwinPark",
         "orientation": "v",
         "showlegend": true,
         "type": "scatter",
         "x": [
          6.7860000000000005
         ],
         "xaxis": "x",
         "y": [
          75390
         ],
         "yaxis": "y"
        },
        {
         "hovertemplate": "city=Banning<br>area_total_sq_mi=%{x}<br>population_total=%{marker.size}<extra></extra>",
         "legendgroup": "Banning",
         "marker": {
          "color": "#FF97FF",
          "size": [
           29603
          ],
          "sizemode": "area",
          "sizeref": 9710.7675,
          "symbol": "circle"
         },
         "mode": "markers",
         "name": "Banning",
         "orientation": "v",
         "showlegend": true,
         "type": "scatter",
         "x": [
          23.099
         ],
         "xaxis": "x",
         "y": [
          29603
         ],
         "yaxis": "y"
        },
        {
         "hovertemplate": "city=Barstow<br>area_total_sq_mi=%{x}<br>population_total=%{marker.size}<extra></extra>",
         "legendgroup": "Barstow",
         "marker": {
          "color": "#FECB52",
          "size": [
           22639
          ],
          "sizemode": "area",
          "sizeref": 9710.7675,
          "symbol": "circle"
         },
         "mode": "markers",
         "name": "Barstow",
         "orientation": "v",
         "showlegend": true,
         "type": "scatter",
         "x": [
          41.394
         ],
         "xaxis": "x",
         "y": [
          22639
         ],
         "yaxis": "y"
        },
        {
         "hovertemplate": "city=Beaumont<br>area_total_sq_mi=%{x}<br>population_total=%{marker.size}<extra></extra>",
         "legendgroup": "Beaumont",
         "marker": {
          "color": "#636efa",
          "size": [
           36877
          ],
          "sizemode": "area",
          "sizeref": 9710.7675,
          "symbol": "circle"
         },
         "mode": "markers",
         "name": "Beaumont",
         "orientation": "v",
         "showlegend": true,
         "type": "scatter",
         "x": [
          30.926
         ],
         "xaxis": "x",
         "y": [
          36877
         ],
         "yaxis": "y"
        },
        {
         "hovertemplate": "city=Bell<br>area_total_sq_mi=%{x}<br>population_total=%{marker.size}<extra></extra>",
         "legendgroup": "Bell",
         "marker": {
          "color": "#EF553B",
          "size": [
           35477
          ],
          "sizemode": "area",
          "sizeref": 9710.7675,
          "symbol": "circle"
         },
         "mode": "markers",
         "name": "Bell",
         "orientation": "v",
         "showlegend": true,
         "type": "scatter",
         "x": [
          2.62
         ],
         "xaxis": "x",
         "y": [
          35477
         ],
         "yaxis": "y"
        },
        {
         "hovertemplate": "city=Bellflower<br>area_total_sq_mi=%{x}<br>population_total=%{marker.size}<extra></extra>",
         "legendgroup": "Bellflower",
         "marker": {
          "color": "#00cc96",
          "size": [
           76616
          ],
          "sizemode": "area",
          "sizeref": 9710.7675,
          "symbol": "circle"
         },
         "mode": "markers",
         "name": "Bellflower",
         "orientation": "v",
         "showlegend": true,
         "type": "scatter",
         "x": [
          6.170000000000001
         ],
         "xaxis": "x",
         "y": [
          76616
         ],
         "yaxis": "y"
        },
        {
         "hovertemplate": "city=BellGardens<br>area_total_sq_mi=%{x}<br>population_total=%{marker.size}<extra></extra>",
         "legendgroup": "BellGardens",
         "marker": {
          "color": "#ab63fa",
          "size": [
           42072
          ],
          "sizemode": "area",
          "sizeref": 9710.7675,
          "symbol": "circle"
         },
         "mode": "markers",
         "name": "BellGardens",
         "orientation": "v",
         "showlegend": true,
         "type": "scatter",
         "x": [
          2.463
         ],
         "xaxis": "x",
         "y": [
          42072
         ],
         "yaxis": "y"
        },
        {
         "hovertemplate": "city=Belmont<br>area_total_sq_mi=%{x}<br>population_total=%{marker.size}<extra></extra>",
         "legendgroup": "Belmont",
         "marker": {
          "color": "#FFA15A",
          "size": [
           25835
          ],
          "sizemode": "area",
          "sizeref": 9710.7675,
          "symbol": "circle"
         },
         "mode": "markers",
         "name": "Belmont",
         "orientation": "v",
         "showlegend": true,
         "type": "scatter",
         "x": [
          4.630000000000001
         ],
         "xaxis": "x",
         "y": [
          25835
         ],
         "yaxis": "y"
        },
        {
         "hovertemplate": "city=Belvedere<br>area_total_sq_mi=%{x}<br>population_total=%{marker.size}<extra></extra>",
         "legendgroup": "Belvedere",
         "marker": {
          "color": "#19d3f3",
          "size": [
           2068
          ],
          "sizemode": "area",
          "sizeref": 9710.7675,
          "symbol": "circle"
         },
         "mode": "markers",
         "name": "Belvedere",
         "orientation": "v",
         "showlegend": true,
         "type": "scatter",
         "x": [
          2.406
         ],
         "xaxis": "x",
         "y": [
          2068
         ],
         "yaxis": "y"
        },
        {
         "hovertemplate": "city=Benicia<br>area_total_sq_mi=%{x}<br>population_total=%{marker.size}<extra></extra>",
         "legendgroup": "Benicia",
         "marker": {
          "color": "#FF6692",
          "size": [
           26997
          ],
          "sizemode": "area",
          "sizeref": 9710.7675,
          "symbol": "circle"
         },
         "mode": "markers",
         "name": "Benicia",
         "orientation": "v",
         "showlegend": true,
         "type": "scatter",
         "x": [
          15.72
         ],
         "xaxis": "x",
         "y": [
          26997
         ],
         "yaxis": "y"
        },
        {
         "hovertemplate": "city=Berkeley<br>area_total_sq_mi=%{x}<br>population_total=%{marker.size}<extra></extra>",
         "legendgroup": "Berkeley",
         "marker": {
          "color": "#B6E880",
          "size": [
           112580
          ],
          "sizemode": "area",
          "sizeref": 9710.7675,
          "symbol": "circle"
         },
         "mode": "markers",
         "name": "Berkeley",
         "orientation": "v",
         "showlegend": true,
         "type": "scatter",
         "x": [
          17.696
         ],
         "xaxis": "x",
         "y": [
          112580
         ],
         "yaxis": "y"
        },
        {
         "hovertemplate": "city=BeverlyHills<br>area_total_sq_mi=%{x}<br>population_total=%{marker.size}<extra></extra>",
         "legendgroup": "BeverlyHills",
         "marker": {
          "color": "#FF97FF",
          "size": [
           34290
          ],
          "sizemode": "area",
          "sizeref": 9710.7675,
          "symbol": "circle"
         },
         "mode": "markers",
         "name": "BeverlyHills",
         "orientation": "v",
         "showlegend": true,
         "type": "scatter",
         "x": [
          5.709999999999999
         ],
         "xaxis": "x",
         "y": [
          34290
         ],
         "yaxis": "y"
        },
        {
         "hovertemplate": "city=BigBearLake<br>area_total_sq_mi=%{x}<br>population_total=%{marker.size}<extra></extra>",
         "legendgroup": "BigBearLake",
         "marker": {
          "color": "#FECB52",
          "size": [
           5019
          ],
          "sizemode": "area",
          "sizeref": 9710.7675,
          "symbol": "circle"
         },
         "mode": "markers",
         "name": "BigBearLake",
         "orientation": "v",
         "showlegend": true,
         "type": "scatter",
         "x": [
          6.534
         ],
         "xaxis": "x",
         "y": [
          5019
         ],
         "yaxis": "y"
        },
        {
         "hovertemplate": "city=Biggs<br>area_total_sq_mi=%{x}<br>population_total=%{marker.size}<extra></extra>",
         "legendgroup": "Biggs",
         "marker": {
          "color": "#636efa",
          "size": [
           1707
          ],
          "sizemode": "area",
          "sizeref": 9710.7675,
          "symbol": "circle"
         },
         "mode": "markers",
         "name": "Biggs",
         "orientation": "v",
         "showlegend": true,
         "type": "scatter",
         "x": [
          0.636
         ],
         "xaxis": "x",
         "y": [
          1707
         ],
         "yaxis": "y"
        },
        {
         "hovertemplate": "city=Bishop<br>area_total_sq_mi=%{x}<br>population_total=%{marker.size}<extra></extra>",
         "legendgroup": "Bishop",
         "marker": {
          "color": "#EF553B",
          "size": [
           3879
          ],
          "sizemode": "area",
          "sizeref": 9710.7675,
          "symbol": "circle"
         },
         "mode": "markers",
         "name": "Bishop",
         "orientation": "v",
         "showlegend": true,
         "type": "scatter",
         "x": [
          1.911
         ],
         "xaxis": "x",
         "y": [
          3879
         ],
         "yaxis": "y"
        },
        {
         "hovertemplate": "city=BlueLake<br>area_total_sq_mi=%{x}<br>population_total=%{marker.size}<extra></extra>",
         "legendgroup": "BlueLake",
         "marker": {
          "color": "#00cc96",
          "size": [
           1253
          ],
          "sizemode": "area",
          "sizeref": 9710.7675,
          "symbol": "circle"
         },
         "mode": "markers",
         "name": "BlueLake",
         "orientation": "v",
         "showlegend": true,
         "type": "scatter",
         "x": [
          0.6220000000000001
         ],
         "xaxis": "x",
         "y": [
          1253
         ],
         "yaxis": "y"
        },
        {
         "hovertemplate": "city=Blythe<br>area_total_sq_mi=%{x}<br>population_total=%{marker.size}<extra></extra>",
         "legendgroup": "Blythe",
         "marker": {
          "color": "#ab63fa",
          "size": [
           20817
          ],
          "sizemode": "area",
          "sizeref": 9710.7675,
          "symbol": "circle"
         },
         "mode": "markers",
         "name": "Blythe",
         "orientation": "v",
         "showlegend": true,
         "type": "scatter",
         "x": [
          26.972
         ],
         "xaxis": "x",
         "y": [
          20817
         ],
         "yaxis": "y"
        },
        {
         "hovertemplate": "city=Bradbury<br>area_total_sq_mi=%{x}<br>population_total=%{marker.size}<extra></extra>",
         "legendgroup": "Bradbury",
         "marker": {
          "color": "#FFA15A",
          "size": [
           1048
          ],
          "sizemode": "area",
          "sizeref": 9710.7675,
          "symbol": "circle"
         },
         "mode": "markers",
         "name": "Bradbury",
         "orientation": "v",
         "showlegend": true,
         "type": "scatter",
         "x": [
          1.958
         ],
         "xaxis": "x",
         "y": [
          1048
         ],
         "yaxis": "y"
        },
        {
         "hovertemplate": "city=Brawley<br>area_total_sq_mi=%{x}<br>population_total=%{marker.size}<extra></extra>",
         "legendgroup": "Brawley",
         "marker": {
          "color": "#19d3f3",
          "size": [
           24953
          ],
          "sizemode": "area",
          "sizeref": 9710.7675,
          "symbol": "circle"
         },
         "mode": "markers",
         "name": "Brawley",
         "orientation": "v",
         "showlegend": true,
         "type": "scatter",
         "x": [
          7.682
         ],
         "xaxis": "x",
         "y": [
          24953
         ],
         "yaxis": "y"
        },
        {
         "hovertemplate": "city=Brea<br>area_total_sq_mi=%{x}<br>population_total=%{marker.size}<extra></extra>",
         "legendgroup": "Brea",
         "marker": {
          "color": "#FF6692",
          "size": [
           39282
          ],
          "sizemode": "area",
          "sizeref": 9710.7675,
          "symbol": "circle"
         },
         "mode": "markers",
         "name": "Brea",
         "orientation": "v",
         "showlegend": true,
         "type": "scatter",
         "x": [
          12.109
         ],
         "xaxis": "x",
         "y": [
          39282
         ],
         "yaxis": "y"
        },
        {
         "hovertemplate": "city=Brentwood<br>area_total_sq_mi=%{x}<br>population_total=%{marker.size}<extra></extra>",
         "legendgroup": "Brentwood",
         "marker": {
          "color": "#B6E880",
          "size": [
           51481
          ],
          "sizemode": "area",
          "sizeref": 9710.7675,
          "symbol": "circle"
         },
         "mode": "markers",
         "name": "Brentwood",
         "orientation": "v",
         "showlegend": true,
         "type": "scatter",
         "x": [
          14.805
         ],
         "xaxis": "x",
         "y": [
          51481
         ],
         "yaxis": "y"
        },
        {
         "hovertemplate": "city=Brisbane<br>area_total_sq_mi=%{x}<br>population_total=%{marker.size}<extra></extra>",
         "legendgroup": "Brisbane",
         "marker": {
          "color": "#FF97FF",
          "size": [
           4282
          ],
          "sizemode": "area",
          "sizeref": 9710.7675,
          "symbol": "circle"
         },
         "mode": "markers",
         "name": "Brisbane",
         "orientation": "v",
         "showlegend": true,
         "type": "scatter",
         "x": [
          20.076999999999998
         ],
         "xaxis": "x",
         "y": [
          4282
         ],
         "yaxis": "y"
        },
        {
         "hovertemplate": "city=Buellton<br>area_total_sq_mi=%{x}<br>population_total=%{marker.size}<extra></extra>",
         "legendgroup": "Buellton",
         "marker": {
          "color": "#FECB52",
          "size": [
           4828
          ],
          "sizemode": "area",
          "sizeref": 9710.7675,
          "symbol": "circle"
         },
         "mode": "markers",
         "name": "Buellton",
         "orientation": "v",
         "showlegend": true,
         "type": "scatter",
         "x": [
          1.583
         ],
         "xaxis": "x",
         "y": [
          4828
         ],
         "yaxis": "y"
        },
        {
         "hovertemplate": "city=BuenaPark<br>area_total_sq_mi=%{x}<br>population_total=%{marker.size}<extra></extra>",
         "legendgroup": "BuenaPark",
         "marker": {
          "color": "#636efa",
          "size": [
           80530
          ],
          "sizemode": "area",
          "sizeref": 9710.7675,
          "symbol": "circle"
         },
         "mode": "markers",
         "name": "BuenaPark",
         "orientation": "v",
         "showlegend": true,
         "type": "scatter",
         "x": [
          10.552999999999999
         ],
         "xaxis": "x",
         "y": [
          80530
         ],
         "yaxis": "y"
        },
        {
         "hovertemplate": "city=Burbank<br>area_total_sq_mi=%{x}<br>population_total=%{marker.size}<extra></extra>",
         "legendgroup": "Burbank",
         "marker": {
          "color": "#EF553B",
          "size": [
           103340
          ],
          "sizemode": "area",
          "sizeref": 9710.7675,
          "symbol": "circle"
         },
         "mode": "markers",
         "name": "Burbank",
         "orientation": "v",
         "showlegend": true,
         "type": "scatter",
         "x": [
          17.378999999999998
         ],
         "xaxis": "x",
         "y": [
          103340
         ],
         "yaxis": "y"
        },
        {
         "hovertemplate": "city=Burlingame<br>area_total_sq_mi=%{x}<br>population_total=%{marker.size}<extra></extra>",
         "legendgroup": "Burlingame",
         "marker": {
          "color": "#00cc96",
          "size": [
           28806
          ],
          "sizemode": "area",
          "sizeref": 9710.7675,
          "symbol": "circle"
         },
         "mode": "markers",
         "name": "Burlingame",
         "orientation": "v",
         "showlegend": true,
         "type": "scatter",
         "x": [
          6.057
         ],
         "xaxis": "x",
         "y": [
          28806
         ],
         "yaxis": "y"
        },
        {
         "hovertemplate": "city=Calabasas<br>area_total_sq_mi=%{x}<br>population_total=%{marker.size}<extra></extra>",
         "legendgroup": "Calabasas",
         "marker": {
          "color": "#ab63fa",
          "size": [
           23058
          ],
          "sizemode": "area",
          "sizeref": 9710.7675,
          "symbol": "circle"
         },
         "mode": "markers",
         "name": "Calabasas",
         "orientation": "v",
         "showlegend": true,
         "type": "scatter",
         "x": [
          13.3
         ],
         "xaxis": "x",
         "y": [
          23058
         ],
         "yaxis": "y"
        },
        {
         "hovertemplate": "city=Calexico<br>area_total_sq_mi=%{x}<br>population_total=%{marker.size}<extra></extra>",
         "legendgroup": "Calexico",
         "marker": {
          "color": "#FFA15A",
          "size": [
           38572
          ],
          "sizemode": "area",
          "sizeref": 9710.7675,
          "symbol": "circle"
         },
         "mode": "markers",
         "name": "Calexico",
         "orientation": "v",
         "showlegend": true,
         "type": "scatter",
         "x": [
          8.391
         ],
         "xaxis": "x",
         "y": [
          38572
         ],
         "yaxis": "y"
        },
        {
         "hovertemplate": "city=CaliforniaCity<br>area_total_sq_mi=%{x}<br>population_total=%{marker.size}<extra></extra>",
         "legendgroup": "CaliforniaCity",
         "marker": {
          "color": "#19d3f3",
          "size": [
           14120
          ],
          "sizemode": "area",
          "sizeref": 9710.7675,
          "symbol": "circle"
         },
         "mode": "markers",
         "name": "CaliforniaCity",
         "orientation": "v",
         "showlegend": true,
         "type": "scatter",
         "x": [
          203.631
         ],
         "xaxis": "x",
         "y": [
          14120
         ],
         "yaxis": "y"
        },
        {
         "hovertemplate": "city=Calimesa<br>area_total_sq_mi=%{x}<br>population_total=%{marker.size}<extra></extra>",
         "legendgroup": "Calimesa",
         "marker": {
          "color": "#FF6692",
          "size": [
           7879
          ],
          "sizemode": "area",
          "sizeref": 9710.7675,
          "symbol": "circle"
         },
         "mode": "markers",
         "name": "Calimesa",
         "orientation": "v",
         "showlegend": true,
         "type": "scatter",
         "x": [
          14.847
         ],
         "xaxis": "x",
         "y": [
          7879
         ],
         "yaxis": "y"
        },
        {
         "hovertemplate": "city=Calipatria<br>area_total_sq_mi=%{x}<br>population_total=%{marker.size}<extra></extra>",
         "legendgroup": "Calipatria",
         "marker": {
          "color": "#B6E880",
          "size": [
           7705
          ],
          "sizemode": "area",
          "sizeref": 9710.7675,
          "symbol": "circle"
         },
         "mode": "markers",
         "name": "Calipatria",
         "orientation": "v",
         "showlegend": true,
         "type": "scatter",
         "x": [
          3.716
         ],
         "xaxis": "x",
         "y": [
          7705
         ],
         "yaxis": "y"
        },
        {
         "hovertemplate": "city=Calistoga<br>area_total_sq_mi=%{x}<br>population_total=%{marker.size}<extra></extra>",
         "legendgroup": "Calistoga",
         "marker": {
          "color": "#FF97FF",
          "size": [
           5155
          ],
          "sizemode": "area",
          "sizeref": 9710.7675,
          "symbol": "circle"
         },
         "mode": "markers",
         "name": "Calistoga",
         "orientation": "v",
         "showlegend": true,
         "type": "scatter",
         "x": [
          2.613
         ],
         "xaxis": "x",
         "y": [
          5155
         ],
         "yaxis": "y"
        },
        {
         "hovertemplate": "city=Camarillo<br>area_total_sq_mi=%{x}<br>population_total=%{marker.size}<extra></extra>",
         "legendgroup": "Camarillo",
         "marker": {
          "color": "#FECB52",
          "size": [
           65201
          ],
          "sizemode": "area",
          "sizeref": 9710.7675,
          "symbol": "circle"
         },
         "mode": "markers",
         "name": "Camarillo",
         "orientation": "v",
         "showlegend": true,
         "type": "scatter",
         "x": [
          19.543
         ],
         "xaxis": "x",
         "y": [
          65201
         ],
         "yaxis": "y"
        },
        {
         "hovertemplate": "city=Campbell<br>area_total_sq_mi=%{x}<br>population_total=%{marker.size}<extra></extra>",
         "legendgroup": "Campbell",
         "marker": {
          "color": "#636efa",
          "size": [
           39349
          ],
          "sizemode": "area",
          "sizeref": 9710.7675,
          "symbol": "circle"
         },
         "mode": "markers",
         "name": "Campbell",
         "orientation": "v",
         "showlegend": true,
         "type": "scatter",
         "x": [
          5.885999999999999
         ],
         "xaxis": "x",
         "y": [
          39349
         ],
         "yaxis": "y"
        },
        {
         "hovertemplate": "city=CanyonLake<br>area_total_sq_mi=%{x}<br>population_total=%{marker.size}<extra></extra>",
         "legendgroup": "CanyonLake",
         "marker": {
          "color": "#EF553B",
          "size": [
           10561
          ],
          "sizemode": "area",
          "sizeref": 9710.7675,
          "symbol": "circle"
         },
         "mode": "markers",
         "name": "CanyonLake",
         "orientation": "v",
         "showlegend": true,
         "type": "scatter",
         "x": [
          4.671
         ],
         "xaxis": "x",
         "y": [
          10561
         ],
         "yaxis": "y"
        },
        {
         "hovertemplate": "city=Capitola<br>area_total_sq_mi=%{x}<br>population_total=%{marker.size}<extra></extra>",
         "legendgroup": "Capitola",
         "marker": {
          "color": "#00cc96",
          "size": [
           9918
          ],
          "sizemode": "area",
          "sizeref": 9710.7675,
          "symbol": "circle"
         },
         "mode": "markers",
         "name": "Capitola",
         "orientation": "v",
         "showlegend": true,
         "type": "scatter",
         "x": [
          1.6760000000000002
         ],
         "xaxis": "x",
         "y": [
          9918
         ],
         "yaxis": "y"
        },
        {
         "hovertemplate": "city=Carlsbad<br>area_total_sq_mi=%{x}<br>population_total=%{marker.size}<extra></extra>",
         "legendgroup": "Carlsbad",
         "marker": {
          "color": "#ab63fa",
          "size": [
           105328
          ],
          "sizemode": "area",
          "sizeref": 9710.7675,
          "symbol": "circle"
         },
         "mode": "markers",
         "name": "Carlsbad",
         "orientation": "v",
         "showlegend": true,
         "type": "scatter",
         "x": [
          39.11
         ],
         "xaxis": "x",
         "y": [
          105328
         ],
         "yaxis": "y"
        },
        {
         "hovertemplate": "city=CarmelbytheSea<br>area_total_sq_mi=%{x}<br>population_total=%{marker.size}<extra></extra>",
         "legendgroup": "CarmelbytheSea",
         "marker": {
          "color": "#FFA15A",
          "size": [
           3722
          ],
          "sizemode": "area",
          "sizeref": 9710.7675,
          "symbol": "circle"
         },
         "mode": "markers",
         "name": "CarmelbytheSea",
         "orientation": "v",
         "showlegend": true,
         "type": "scatter",
         "x": [
          1.08
         ],
         "xaxis": "x",
         "y": [
          3722
         ],
         "yaxis": "y"
        },
        {
         "hovertemplate": "city=Carpinteria<br>area_total_sq_mi=%{x}<br>population_total=%{marker.size}<extra></extra>",
         "legendgroup": "Carpinteria",
         "marker": {
          "color": "#19d3f3",
          "size": [
           13040
          ],
          "sizemode": "area",
          "sizeref": 9710.7675,
          "symbol": "circle"
         },
         "mode": "markers",
         "name": "Carpinteria",
         "orientation": "v",
         "showlegend": true,
         "type": "scatter",
         "x": [
          9.272
         ],
         "xaxis": "x",
         "y": [
          13040
         ],
         "yaxis": "y"
        },
        {
         "hovertemplate": "city=Carson<br>area_total_sq_mi=%{x}<br>population_total=%{marker.size}<extra></extra>",
         "legendgroup": "Carson",
         "marker": {
          "color": "#FF6692",
          "size": [
           91714
          ],
          "sizemode": "area",
          "sizeref": 9710.7675,
          "symbol": "circle"
         },
         "mode": "markers",
         "name": "Carson",
         "orientation": "v",
         "showlegend": true,
         "type": "scatter",
         "x": [
          18.968
         ],
         "xaxis": "x",
         "y": [
          91714
         ],
         "yaxis": "y"
        },
        {
         "hovertemplate": "city=CathedralCity<br>area_total_sq_mi=%{x}<br>population_total=%{marker.size}<extra></extra>",
         "legendgroup": "CathedralCity",
         "marker": {
          "color": "#B6E880",
          "size": [
           51200
          ],
          "sizemode": "area",
          "sizeref": 9710.7675,
          "symbol": "circle"
         },
         "mode": "markers",
         "name": "CathedralCity",
         "orientation": "v",
         "showlegend": true,
         "type": "scatter",
         "x": [
          21.756
         ],
         "xaxis": "x",
         "y": [
          51200
         ],
         "yaxis": "y"
        },
        {
         "hovertemplate": "city=Ceres<br>area_total_sq_mi=%{x}<br>population_total=%{marker.size}<extra></extra>",
         "legendgroup": "Ceres",
         "marker": {
          "color": "#FF97FF",
          "size": [
           45417
          ],
          "sizemode": "area",
          "sizeref": 9710.7675,
          "symbol": "circle"
         },
         "mode": "markers",
         "name": "Ceres",
         "orientation": "v",
         "showlegend": true,
         "type": "scatter",
         "x": [
          8.019
         ],
         "xaxis": "x",
         "y": [
          45417
         ],
         "yaxis": "y"
        },
        {
         "hovertemplate": "city=Cerritos<br>area_total_sq_mi=%{x}<br>population_total=%{marker.size}<extra></extra>",
         "legendgroup": "Cerritos",
         "marker": {
          "color": "#FECB52",
          "size": [
           49041
          ],
          "sizemode": "area",
          "sizeref": 9710.7675,
          "symbol": "circle"
         },
         "mode": "markers",
         "name": "Cerritos",
         "orientation": "v",
         "showlegend": true,
         "type": "scatter",
         "x": [
          8.856
         ],
         "xaxis": "x",
         "y": [
          49041
         ],
         "yaxis": "y"
        },
        {
         "hovertemplate": "city=Chico<br>area_total_sq_mi=%{x}<br>population_total=%{marker.size}<extra></extra>",
         "legendgroup": "Chico",
         "marker": {
          "color": "#636efa",
          "size": [
           86187
          ],
          "sizemode": "area",
          "sizeref": 9710.7675,
          "symbol": "circle"
         },
         "mode": "markers",
         "name": "Chico",
         "orientation": "v",
         "showlegend": true,
         "type": "scatter",
         "x": [
          33.095
         ],
         "xaxis": "x",
         "y": [
          86187
         ],
         "yaxis": "y"
        },
        {
         "hovertemplate": "city=Chino<br>area_total_sq_mi=%{x}<br>population_total=%{marker.size}<extra></extra>",
         "legendgroup": "Chino",
         "marker": {
          "color": "#EF553B",
          "size": [
           77983
          ],
          "sizemode": "area",
          "sizeref": 9710.7675,
          "symbol": "circle"
         },
         "mode": "markers",
         "name": "Chino",
         "orientation": "v",
         "showlegend": true,
         "type": "scatter",
         "x": [
          29.652
         ],
         "xaxis": "x",
         "y": [
          77983
         ],
         "yaxis": "y"
        },
        {
         "hovertemplate": "city=ChinoHills<br>area_total_sq_mi=%{x}<br>population_total=%{marker.size}<extra></extra>",
         "legendgroup": "ChinoHills",
         "marker": {
          "color": "#00cc96",
          "size": [
           75655
          ],
          "sizemode": "area",
          "sizeref": 9710.7675,
          "symbol": "circle"
         },
         "mode": "markers",
         "name": "ChinoHills",
         "orientation": "v",
         "showlegend": true,
         "type": "scatter",
         "x": [
          44.748999999999995
         ],
         "xaxis": "x",
         "y": [
          75655
         ],
         "yaxis": "y"
        },
        {
         "hovertemplate": "city=Chowchilla<br>area_total_sq_mi=%{x}<br>population_total=%{marker.size}<extra></extra>",
         "legendgroup": "Chowchilla",
         "marker": {
          "color": "#ab63fa",
          "size": [
           18720
          ],
          "sizemode": "area",
          "sizeref": 9710.7675,
          "symbol": "circle"
         },
         "mode": "markers",
         "name": "Chowchilla",
         "orientation": "v",
         "showlegend": true,
         "type": "scatter",
         "x": [
          7.661
         ],
         "xaxis": "x",
         "y": [
          18720
         ],
         "yaxis": "y"
        },
        {
         "hovertemplate": "city=ChulaVista<br>area_total_sq_mi=%{x}<br>population_total=%{marker.size}<extra></extra>",
         "legendgroup": "ChulaVista",
         "marker": {
          "color": "#FFA15A",
          "size": [
           243916
          ],
          "sizemode": "area",
          "sizeref": 9710.7675,
          "symbol": "circle"
         },
         "mode": "markers",
         "name": "ChulaVista",
         "orientation": "v",
         "showlegend": true,
         "type": "scatter",
         "x": [
          52.094
         ],
         "xaxis": "x",
         "y": [
          243916
         ],
         "yaxis": "y"
        },
        {
         "hovertemplate": "city=CitrusHeights<br>area_total_sq_mi=%{x}<br>population_total=%{marker.size}<extra></extra>",
         "legendgroup": "CitrusHeights",
         "marker": {
          "color": "#19d3f3",
          "size": [
           83301
          ],
          "sizemode": "area",
          "sizeref": 9710.7675,
          "symbol": "circle"
         },
         "mode": "markers",
         "name": "CitrusHeights",
         "orientation": "v",
         "showlegend": true,
         "type": "scatter",
         "x": [
          14.228
         ],
         "xaxis": "x",
         "y": [
          83301
         ],
         "yaxis": "y"
        },
        {
         "hovertemplate": "city=Claremont<br>area_total_sq_mi=%{x}<br>population_total=%{marker.size}<extra></extra>",
         "legendgroup": "Claremont",
         "marker": {
          "color": "#FF6692",
          "size": [
           34926
          ],
          "sizemode": "area",
          "sizeref": 9710.7675,
          "symbol": "circle"
         },
         "mode": "markers",
         "name": "Claremont",
         "orientation": "v",
         "showlegend": true,
         "type": "scatter",
         "x": [
          13.486
         ],
         "xaxis": "x",
         "y": [
          34926
         ],
         "yaxis": "y"
        },
        {
         "hovertemplate": "city=Clayton<br>area_total_sq_mi=%{x}<br>population_total=%{marker.size}<extra></extra>",
         "legendgroup": "Clayton",
         "marker": {
          "color": "#B6E880",
          "size": [
           10897
          ],
          "sizemode": "area",
          "sizeref": 9710.7675,
          "symbol": "circle"
         },
         "mode": "markers",
         "name": "Clayton",
         "orientation": "v",
         "showlegend": true,
         "type": "scatter",
         "x": [
          3.836
         ],
         "xaxis": "x",
         "y": [
          10897
         ],
         "yaxis": "y"
        },
        {
         "hovertemplate": "city=Clearlake<br>area_total_sq_mi=%{x}<br>population_total=%{marker.size}<extra></extra>",
         "legendgroup": "Clearlake",
         "marker": {
          "color": "#FF97FF",
          "size": [
           15250
          ],
          "sizemode": "area",
          "sizeref": 9710.7675,
          "symbol": "circle"
         },
         "mode": "markers",
         "name": "Clearlake",
         "orientation": "v",
         "showlegend": true,
         "type": "scatter",
         "x": [
          10.581
         ],
         "xaxis": "x",
         "y": [
          15250
         ],
         "yaxis": "y"
        },
        {
         "hovertemplate": "city=Cloverdale<br>area_total_sq_mi=%{x}<br>population_total=%{marker.size}<extra></extra>",
         "legendgroup": "Cloverdale",
         "marker": {
          "color": "#FECB52",
          "size": [
           8618
          ],
          "sizemode": "area",
          "sizeref": 9710.7675,
          "symbol": "circle"
         },
         "mode": "markers",
         "name": "Cloverdale",
         "orientation": "v",
         "showlegend": true,
         "type": "scatter",
         "x": [
          2.648
         ],
         "xaxis": "x",
         "y": [
          8618
         ],
         "yaxis": "y"
        },
        {
         "hovertemplate": "city=Clovis<br>area_total_sq_mi=%{x}<br>population_total=%{marker.size}<extra></extra>",
         "legendgroup": "Clovis",
         "marker": {
          "color": "#636efa",
          "size": [
           101314
          ],
          "sizemode": "area",
          "sizeref": 9710.7675,
          "symbol": "circle"
         },
         "mode": "markers",
         "name": "Clovis",
         "orientation": "v",
         "showlegend": true,
         "type": "scatter",
         "x": [
          23.278
         ],
         "xaxis": "x",
         "y": [
          101314
         ],
         "yaxis": "y"
        },
        {
         "hovertemplate": "city=Coachella<br>area_total_sq_mi=%{x}<br>population_total=%{marker.size}<extra></extra>",
         "legendgroup": "Coachella",
         "marker": {
          "color": "#EF553B",
          "size": [
           40704
          ],
          "sizemode": "area",
          "sizeref": 9710.7675,
          "symbol": "circle"
         },
         "mode": "markers",
         "name": "Coachella",
         "orientation": "v",
         "showlegend": true,
         "type": "scatter",
         "x": [
          28.95
         ],
         "xaxis": "x",
         "y": [
          40704
         ],
         "yaxis": "y"
        },
        {
         "hovertemplate": "city=Coalinga<br>area_total_sq_mi=%{x}<br>population_total=%{marker.size}<extra></extra>",
         "legendgroup": "Coalinga",
         "marker": {
          "color": "#00cc96",
          "size": [
           13380
          ],
          "sizemode": "area",
          "sizeref": 9710.7675,
          "symbol": "circle"
         },
         "mode": "markers",
         "name": "Coalinga",
         "orientation": "v",
         "showlegend": true,
         "type": "scatter",
         "x": [
          6.1499999999999995
         ],
         "xaxis": "x",
         "y": [
          13380
         ],
         "yaxis": "y"
        },
        {
         "hovertemplate": "city=Colfax<br>area_total_sq_mi=%{x}<br>population_total=%{marker.size}<extra></extra>",
         "legendgroup": "Colfax",
         "marker": {
          "color": "#ab63fa",
          "size": [
           1963
          ],
          "sizemode": "area",
          "sizeref": 9710.7675,
          "symbol": "circle"
         },
         "mode": "markers",
         "name": "Colfax",
         "orientation": "v",
         "showlegend": true,
         "type": "scatter",
         "x": [
          1.4069999999999998
         ],
         "xaxis": "x",
         "y": [
          1963
         ],
         "yaxis": "y"
        },
        {
         "hovertemplate": "city=Colma<br>area_total_sq_mi=%{x}<br>population_total=%{marker.size}<extra></extra>",
         "legendgroup": "Colma",
         "marker": {
          "color": "#FFA15A",
          "size": [
           1792
          ],
          "sizemode": "area",
          "sizeref": 9710.7675,
          "symbol": "circle"
         },
         "mode": "markers",
         "name": "Colma",
         "orientation": "v",
         "showlegend": true,
         "type": "scatter",
         "x": [
          1.909
         ],
         "xaxis": "x",
         "y": [
          1792
         ],
         "yaxis": "y"
        },
        {
         "hovertemplate": "city=Colton<br>area_total_sq_mi=%{x}<br>population_total=%{marker.size}<extra></extra>",
         "legendgroup": "Colton",
         "marker": {
          "color": "#19d3f3",
          "size": [
           52154
          ],
          "sizemode": "area",
          "sizeref": 9710.7675,
          "symbol": "circle"
         },
         "mode": "markers",
         "name": "Colton",
         "orientation": "v",
         "showlegend": true,
         "type": "scatter",
         "x": [
          16.039
         ],
         "xaxis": "x",
         "y": [
          52154
         ],
         "yaxis": "y"
        },
        {
         "hovertemplate": "city=Colusa<br>area_total_sq_mi=%{x}<br>population_total=%{marker.size}<extra></extra>",
         "legendgroup": "Colusa",
         "marker": {
          "color": "#FF6692",
          "size": [
           5971
          ],
          "sizemode": "area",
          "sizeref": 9710.7675,
          "symbol": "circle"
         },
         "mode": "markers",
         "name": "Colusa",
         "orientation": "v",
         "showlegend": true,
         "type": "scatter",
         "x": [
          1.834
         ],
         "xaxis": "x",
         "y": [
          5971
         ],
         "yaxis": "y"
        },
        {
         "hovertemplate": "city=Commerce<br>area_total_sq_mi=%{x}<br>population_total=%{marker.size}<extra></extra>",
         "legendgroup": "Commerce",
         "marker": {
          "color": "#B6E880",
          "size": [
           12823
          ],
          "sizemode": "area",
          "sizeref": 9710.7675,
          "symbol": "circle"
         },
         "mode": "markers",
         "name": "Commerce",
         "orientation": "v",
         "showlegend": true,
         "type": "scatter",
         "x": [
          6.538000000000001
         ],
         "xaxis": "x",
         "y": [
          12823
         ],
         "yaxis": "y"
        },
        {
         "hovertemplate": "city=Compton<br>area_total_sq_mi=%{x}<br>population_total=%{marker.size}<extra></extra>",
         "legendgroup": "Compton",
         "marker": {
          "color": "#FF97FF",
          "size": [
           96455
          ],
          "sizemode": "area",
          "sizeref": 9710.7675,
          "symbol": "circle"
         },
         "mode": "markers",
         "name": "Compton",
         "orientation": "v",
         "showlegend": true,
         "type": "scatter",
         "x": [
          10.116
         ],
         "xaxis": "x",
         "y": [
          96455
         ],
         "yaxis": "y"
        },
        {
         "hovertemplate": "city=Concord<br>area_total_sq_mi=%{x}<br>population_total=%{marker.size}<extra></extra>",
         "legendgroup": "Concord",
         "marker": {
          "color": "#FECB52",
          "size": [
           122067
          ],
          "sizemode": "area",
          "sizeref": 9710.7675,
          "symbol": "circle"
         },
         "mode": "markers",
         "name": "Concord",
         "orientation": "v",
         "showlegend": true,
         "type": "scatter",
         "x": [
          30.546
         ],
         "xaxis": "x",
         "y": [
          122067
         ],
         "yaxis": "y"
        },
        {
         "hovertemplate": "city=Corcoran<br>area_total_sq_mi=%{x}<br>population_total=%{marker.size}<extra></extra>",
         "legendgroup": "Corcoran",
         "marker": {
          "color": "#636efa",
          "size": [
           25515
          ],
          "sizemode": "area",
          "sizeref": 9710.7675,
          "symbol": "circle"
         },
         "mode": "markers",
         "name": "Corcoran",
         "orientation": "v",
         "showlegend": true,
         "type": "scatter",
         "x": [
          7.467
         ],
         "xaxis": "x",
         "y": [
          25515
         ],
         "yaxis": "y"
        },
        {
         "hovertemplate": "city=Corning<br>area_total_sq_mi=%{x}<br>population_total=%{marker.size}<extra></extra>",
         "legendgroup": "Corning",
         "marker": {
          "color": "#EF553B",
          "size": [
           17382
          ],
          "sizemode": "area",
          "sizeref": 9710.7675,
          "symbol": "circle"
         },
         "mode": "markers",
         "name": "Corning",
         "orientation": "v",
         "showlegend": true,
         "type": "scatter",
         "x": [
          3.55
         ],
         "xaxis": "x",
         "y": [
          17382
         ],
         "yaxis": "y"
        },
        {
         "hovertemplate": "city=Corona<br>area_total_sq_mi=%{x}<br>population_total=%{marker.size}<extra></extra>",
         "legendgroup": "Corona",
         "marker": {
          "color": "#00cc96",
          "size": [
           158391
          ],
          "sizemode": "area",
          "sizeref": 9710.7675,
          "symbol": "circle"
         },
         "mode": "markers",
         "name": "Corona",
         "orientation": "v",
         "showlegend": true,
         "type": "scatter",
         "x": [
          38.93
         ],
         "xaxis": "x",
         "y": [
          158391
         ],
         "yaxis": "y"
        },
        {
         "hovertemplate": "city=Coronado<br>area_total_sq_mi=%{x}<br>population_total=%{marker.size}<extra></extra>",
         "legendgroup": "Coronado",
         "marker": {
          "color": "#ab63fa",
          "size": [
           24697
          ],
          "sizemode": "area",
          "sizeref": 9710.7675,
          "symbol": "circle"
         },
         "mode": "markers",
         "name": "Coronado",
         "orientation": "v",
         "showlegend": true,
         "type": "scatter",
         "x": [
          32.666
         ],
         "xaxis": "x",
         "y": [
          24697
         ],
         "yaxis": "y"
        },
        {
         "hovertemplate": "city=CorteMadera<br>area_total_sq_mi=%{x}<br>population_total=%{marker.size}<extra></extra>",
         "legendgroup": "CorteMadera",
         "marker": {
          "color": "#FFA15A",
          "size": [
           9253
          ],
          "sizemode": "area",
          "sizeref": 9710.7675,
          "symbol": "circle"
         },
         "mode": "markers",
         "name": "CorteMadera",
         "orientation": "v",
         "showlegend": true,
         "type": "scatter",
         "x": [
          4.406000000000001
         ],
         "xaxis": "x",
         "y": [
          9253
         ],
         "yaxis": "y"
        },
        {
         "hovertemplate": "city=CostaMesa<br>area_total_sq_mi=%{x}<br>population_total=%{marker.size}<extra></extra>",
         "legendgroup": "CostaMesa",
         "marker": {
          "color": "#19d3f3",
          "size": [
           109960
          ],
          "sizemode": "area",
          "sizeref": 9710.7675,
          "symbol": "circle"
         },
         "mode": "markers",
         "name": "CostaMesa",
         "orientation": "v",
         "showlegend": true,
         "type": "scatter",
         "x": [
          15.700000000000001
         ],
         "xaxis": "x",
         "y": [
          109960
         ],
         "yaxis": "y"
        },
        {
         "hovertemplate": "city=Cotati<br>area_total_sq_mi=%{x}<br>population_total=%{marker.size}<extra></extra>",
         "legendgroup": "Cotati",
         "marker": {
          "color": "#FF6692",
          "size": [
           7310
          ],
          "sizemode": "area",
          "sizeref": 9710.7675,
          "symbol": "circle"
         },
         "mode": "markers",
         "name": "Cotati",
         "orientation": "v",
         "showlegend": true,
         "type": "scatter",
         "x": [
          1.8829999999999998
         ],
         "xaxis": "x",
         "y": [
          7310
         ],
         "yaxis": "y"
        },
        {
         "hovertemplate": "city=Covina<br>area_total_sq_mi=%{x}<br>population_total=%{marker.size}<extra></extra>",
         "legendgroup": "Covina",
         "marker": {
          "color": "#B6E880",
          "size": [
           47796
          ],
          "sizemode": "area",
          "sizeref": 9710.7675,
          "symbol": "circle"
         },
         "mode": "markers",
         "name": "Covina",
         "orientation": "v",
         "showlegend": true,
         "type": "scatter",
         "x": [
          7.0409999999999995
         ],
         "xaxis": "x",
         "y": [
          47796
         ],
         "yaxis": "y"
        },
        {
         "hovertemplate": "city=CrescentCity<br>area_total_sq_mi=%{x}<br>population_total=%{marker.size}<extra></extra>",
         "legendgroup": "CrescentCity",
         "marker": {
          "color": "#FF97FF",
          "size": [
           7643
          ],
          "sizemode": "area",
          "sizeref": 9710.7675,
          "symbol": "circle"
         },
         "mode": "markers",
         "name": "CrescentCity",
         "orientation": "v",
         "showlegend": true,
         "type": "scatter",
         "x": [
          2.415
         ],
         "xaxis": "x",
         "y": [
          7643
         ],
         "yaxis": "y"
        },
        {
         "hovertemplate": "city=Cudahy<br>area_total_sq_mi=%{x}<br>population_total=%{marker.size}<extra></extra>",
         "legendgroup": "Cudahy",
         "marker": {
          "color": "#FECB52",
          "size": [
           23805
          ],
          "sizemode": "area",
          "sizeref": 9710.7675,
          "symbol": "circle"
         },
         "mode": "markers",
         "name": "Cudahy",
         "orientation": "v",
         "showlegend": true,
         "type": "scatter",
         "x": [
          1.226
         ],
         "xaxis": "x",
         "y": [
          23805
         ],
         "yaxis": "y"
        },
        {
         "hovertemplate": "city=CulverCity<br>area_total_sq_mi=%{x}<br>population_total=%{marker.size}<extra></extra>",
         "legendgroup": "CulverCity",
         "marker": {
          "color": "#636efa",
          "size": [
           38883
          ],
          "sizemode": "area",
          "sizeref": 9710.7675,
          "symbol": "circle"
         },
         "mode": "markers",
         "name": "CulverCity",
         "orientation": "v",
         "showlegend": true,
         "type": "scatter",
         "x": [
          5.139
         ],
         "xaxis": "x",
         "y": [
          38883
         ],
         "yaxis": "y"
        },
        {
         "hovertemplate": "city=Cupertino<br>area_total_sq_mi=%{x}<br>population_total=%{marker.size}<extra></extra>",
         "legendgroup": "Cupertino",
         "marker": {
          "color": "#EF553B",
          "size": [
           58302
          ],
          "sizemode": "area",
          "sizeref": 9710.7675,
          "symbol": "circle"
         },
         "mode": "markers",
         "name": "Cupertino",
         "orientation": "v",
         "showlegend": true,
         "type": "scatter",
         "x": [
          11.256999999999998
         ],
         "xaxis": "x",
         "y": [
          58302
         ],
         "yaxis": "y"
        },
        {
         "hovertemplate": "city=Cypress<br>area_total_sq_mi=%{x}<br>population_total=%{marker.size}<extra></extra>",
         "legendgroup": "Cypress",
         "marker": {
          "color": "#00cc96",
          "size": [
           47802
          ],
          "sizemode": "area",
          "sizeref": 9710.7675,
          "symbol": "circle"
         },
         "mode": "markers",
         "name": "Cypress",
         "orientation": "v",
         "showlegend": true,
         "type": "scatter",
         "x": [
          6.590000000000001
         ],
         "xaxis": "x",
         "y": [
          47802
         ],
         "yaxis": "y"
        },
        {
         "hovertemplate": "city=DalyCity<br>area_total_sq_mi=%{x}<br>population_total=%{marker.size}<extra></extra>",
         "legendgroup": "DalyCity",
         "marker": {
          "color": "#ab63fa",
          "size": [
           101123
          ],
          "sizemode": "area",
          "sizeref": 9710.7675,
          "symbol": "circle"
         },
         "mode": "markers",
         "name": "DalyCity",
         "orientation": "v",
         "showlegend": true,
         "type": "scatter",
         "x": [
          7.664
         ],
         "xaxis": "x",
         "y": [
          101123
         ],
         "yaxis": "y"
        },
        {
         "hovertemplate": "city=DanaPoint<br>area_total_sq_mi=%{x}<br>population_total=%{marker.size}<extra></extra>",
         "legendgroup": "DanaPoint",
         "marker": {
          "color": "#FFA15A",
          "size": [
           33351
          ],
          "sizemode": "area",
          "sizeref": 9710.7675,
          "symbol": "circle"
         },
         "mode": "markers",
         "name": "DanaPoint",
         "orientation": "v",
         "showlegend": true,
         "type": "scatter",
         "x": [
          29.483999999999998
         ],
         "xaxis": "x",
         "y": [
          33351
         ],
         "yaxis": "y"
        },
        {
         "hovertemplate": "city=Danville<br>area_total_sq_mi=%{x}<br>population_total=%{marker.size}<extra></extra>",
         "legendgroup": "Danville",
         "marker": {
          "color": "#19d3f3",
          "size": [
           42039
          ],
          "sizemode": "area",
          "sizeref": 9710.7675,
          "symbol": "circle"
         },
         "mode": "markers",
         "name": "Danville",
         "orientation": "v",
         "showlegend": true,
         "type": "scatter",
         "x": [
          18.028
         ],
         "xaxis": "x",
         "y": [
          42039
         ],
         "yaxis": "y"
        },
        {
         "hovertemplate": "city=Davis<br>area_total_sq_mi=%{x}<br>population_total=%{marker.size}<extra></extra>",
         "legendgroup": "Davis",
         "marker": {
          "color": "#FF6692",
          "size": [
           65622
          ],
          "sizemode": "area",
          "sizeref": 9710.7675,
          "symbol": "circle"
         },
         "mode": "markers",
         "name": "Davis",
         "orientation": "v",
         "showlegend": true,
         "type": "scatter",
         "x": [
          9.919
         ],
         "xaxis": "x",
         "y": [
          65622
         ],
         "yaxis": "y"
        },
        {
         "hovertemplate": "city=Delano<br>area_total_sq_mi=%{x}<br>population_total=%{marker.size}<extra></extra>",
         "legendgroup": "Delano",
         "marker": {
          "color": "#B6E880",
          "size": [
           53819
          ],
          "sizemode": "area",
          "sizeref": 9710.7675,
          "symbol": "circle"
         },
         "mode": "markers",
         "name": "Delano",
         "orientation": "v",
         "showlegend": true,
         "type": "scatter",
         "x": [
          14.355
         ],
         "xaxis": "x",
         "y": [
          53819
         ],
         "yaxis": "y"
        },
        {
         "hovertemplate": "city=DelMar<br>area_total_sq_mi=%{x}<br>population_total=%{marker.size}<extra></extra>",
         "legendgroup": "DelMar",
         "marker": {
          "color": "#FF97FF",
          "size": [
           4161
          ],
          "sizemode": "area",
          "sizeref": 9710.7675,
          "symbol": "circle"
         },
         "mode": "markers",
         "name": "DelMar",
         "orientation": "v",
         "showlegend": true,
         "type": "scatter",
         "x": [
          1.7770000000000001
         ],
         "xaxis": "x",
         "y": [
          4161
         ],
         "yaxis": "y"
        },
        {
         "hovertemplate": "city=DelReyOaks<br>area_total_sq_mi=%{x}<br>population_total=%{marker.size}<extra></extra>",
         "legendgroup": "DelReyOaks",
         "marker": {
          "color": "#FECB52",
          "size": [
           1624
          ],
          "sizemode": "area",
          "sizeref": 9710.7675,
          "symbol": "circle"
         },
         "mode": "markers",
         "name": "DelReyOaks",
         "orientation": "v",
         "showlegend": true,
         "type": "scatter",
         "x": [
          0.483
         ],
         "xaxis": "x",
         "y": [
          1624
         ],
         "yaxis": "y"
        },
        {
         "hovertemplate": "city=DesertHotSprings<br>area_total_sq_mi=%{x}<br>population_total=%{marker.size}<extra></extra>",
         "legendgroup": "DesertHotSprings",
         "marker": {
          "color": "#636efa",
          "size": [
           25938
          ],
          "sizemode": "area",
          "sizeref": 9710.7675,
          "symbol": "circle"
         },
         "mode": "markers",
         "name": "DesertHotSprings",
         "orientation": "v",
         "showlegend": true,
         "type": "scatter",
         "x": [
          23.642
         ],
         "xaxis": "x",
         "y": [
          25938
         ],
         "yaxis": "y"
        },
        {
         "hovertemplate": "city=DiamondBar<br>area_total_sq_mi=%{x}<br>population_total=%{marker.size}<extra></extra>",
         "legendgroup": "DiamondBar",
         "marker": {
          "color": "#EF553B",
          "size": [
           55544
          ],
          "sizemode": "area",
          "sizeref": 9710.7675,
          "symbol": "circle"
         },
         "mode": "markers",
         "name": "DiamondBar",
         "orientation": "v",
         "showlegend": true,
         "type": "scatter",
         "x": [
          14.885000000000002
         ],
         "xaxis": "x",
         "y": [
          55544
         ],
         "yaxis": "y"
        },
        {
         "hovertemplate": "city=Dinuba<br>area_total_sq_mi=%{x}<br>population_total=%{marker.size}<extra></extra>",
         "legendgroup": "Dinuba",
         "marker": {
          "color": "#00cc96",
          "size": [
           21453
          ],
          "sizemode": "area",
          "sizeref": 9710.7675,
          "symbol": "circle"
         },
         "mode": "markers",
         "name": "Dinuba",
         "orientation": "v",
         "showlegend": true,
         "type": "scatter",
         "x": [
          6.47
         ],
         "xaxis": "x",
         "y": [
          21453
         ],
         "yaxis": "y"
        },
        {
         "hovertemplate": "city=Dixon<br>area_total_sq_mi=%{x}<br>population_total=%{marker.size}<extra></extra>",
         "legendgroup": "Dixon",
         "marker": {
          "color": "#ab63fa",
          "size": [
           18351
          ],
          "sizemode": "area",
          "sizeref": 9710.7675,
          "symbol": "circle"
         },
         "mode": "markers",
         "name": "Dixon",
         "orientation": "v",
         "showlegend": true,
         "type": "scatter",
         "x": [
          7.0920000000000005
         ],
         "xaxis": "x",
         "y": [
          18351
         ],
         "yaxis": "y"
        },
        {
         "hovertemplate": "city=Dorris<br>area_total_sq_mi=%{x}<br>population_total=%{marker.size}<extra></extra>",
         "legendgroup": "Dorris",
         "marker": {
          "color": "#FFA15A",
          "size": [
           939
          ],
          "sizemode": "area",
          "sizeref": 9710.7675,
          "symbol": "circle"
         },
         "mode": "markers",
         "name": "Dorris",
         "orientation": "v",
         "showlegend": true,
         "type": "scatter",
         "x": [
          0.7180000000000001
         ],
         "xaxis": "x",
         "y": [
          939
         ],
         "yaxis": "y"
        },
        {
         "hovertemplate": "city=DosPalos<br>area_total_sq_mi=%{x}<br>population_total=%{marker.size}<extra></extra>",
         "legendgroup": "DosPalos",
         "marker": {
          "color": "#19d3f3",
          "size": [
           4950
          ],
          "sizemode": "area",
          "sizeref": 9710.7675,
          "symbol": "circle"
         },
         "mode": "markers",
         "name": "DosPalos",
         "orientation": "v",
         "showlegend": true,
         "type": "scatter",
         "x": [
          1.35
         ],
         "xaxis": "x",
         "y": [
          4950
         ],
         "yaxis": "y"
        },
        {
         "hovertemplate": "city=Downey<br>area_total_sq_mi=%{x}<br>population_total=%{marker.size}<extra></extra>",
         "legendgroup": "Downey",
         "marker": {
          "color": "#FF6692",
          "size": [
           111772
          ],
          "sizemode": "area",
          "sizeref": 9710.7675,
          "symbol": "circle"
         },
         "mode": "markers",
         "name": "Downey",
         "orientation": "v",
         "showlegend": true,
         "type": "scatter",
         "x": [
          12.568
         ],
         "xaxis": "x",
         "y": [
          111772
         ],
         "yaxis": "y"
        },
        {
         "hovertemplate": "city=Duarte<br>area_total_sq_mi=%{x}<br>population_total=%{marker.size}<extra></extra>",
         "legendgroup": "Duarte",
         "marker": {
          "color": "#B6E880",
          "size": [
           21321
          ],
          "sizemode": "area",
          "sizeref": 9710.7675,
          "symbol": "circle"
         },
         "mode": "markers",
         "name": "Duarte",
         "orientation": "v",
         "showlegend": true,
         "type": "scatter",
         "x": [
          6.69
         ],
         "xaxis": "x",
         "y": [
          21321
         ],
         "yaxis": "y"
        },
        {
         "hovertemplate": "city=Dublin<br>area_total_sq_mi=%{x}<br>population_total=%{marker.size}<extra></extra>",
         "legendgroup": "Dublin",
         "marker": {
          "color": "#FF97FF",
          "size": [
           49890
          ],
          "sizemode": "area",
          "sizeref": 9710.7675,
          "symbol": "circle"
         },
         "mode": "markers",
         "name": "Dublin",
         "orientation": "v",
         "showlegend": true,
         "type": "scatter",
         "x": [
          14.911999999999999
         ],
         "xaxis": "x",
         "y": [
          49890
         ],
         "yaxis": "y"
        },
        {
         "hovertemplate": "city=Dunsmuir<br>area_total_sq_mi=%{x}<br>population_total=%{marker.size}<extra></extra>",
         "legendgroup": "Dunsmuir",
         "marker": {
          "color": "#FECB52",
          "size": [
           1650
          ],
          "sizemode": "area",
          "sizeref": 9710.7675,
          "symbol": "circle"
         },
         "mode": "markers",
         "name": "Dunsmuir",
         "orientation": "v",
         "showlegend": true,
         "type": "scatter",
         "x": [
          1.735
         ],
         "xaxis": "x",
         "y": [
          1650
         ],
         "yaxis": "y"
        },
        {
         "hovertemplate": "city=EastPaloAlto<br>area_total_sq_mi=%{x}<br>population_total=%{marker.size}<extra></extra>",
         "legendgroup": "EastPaloAlto",
         "marker": {
          "color": "#636efa",
          "size": [
           28155
          ],
          "sizemode": "area",
          "sizeref": 9710.7675,
          "symbol": "circle"
         },
         "mode": "markers",
         "name": "EastPaloAlto",
         "orientation": "v",
         "showlegend": true,
         "type": "scatter",
         "x": [
          2.612
         ],
         "xaxis": "x",
         "y": [
          28155
         ],
         "yaxis": "y"
        },
        {
         "hovertemplate": "city=Eastvale<br>area_total_sq_mi=%{x}<br>population_total=%{marker.size}<extra></extra>",
         "legendgroup": "Eastvale",
         "marker": {
          "color": "#EF553B",
          "size": [
           53668
          ],
          "sizemode": "area",
          "sizeref": 9710.7675,
          "symbol": "circle"
         },
         "mode": "markers",
         "name": "Eastvale",
         "orientation": "v",
         "showlegend": true,
         "type": "scatter",
         "x": [
          11.444999999999999
         ],
         "xaxis": "x",
         "y": [
          53668
         ],
         "yaxis": "y"
        },
        {
         "hovertemplate": "city=ElCajon<br>area_total_sq_mi=%{x}<br>population_total=%{marker.size}<extra></extra>",
         "legendgroup": "ElCajon",
         "marker": {
          "color": "#00cc96",
          "size": [
           99478
          ],
          "sizemode": "area",
          "sizeref": 9710.7675,
          "symbol": "circle"
         },
         "mode": "markers",
         "name": "ElCajon",
         "orientation": "v",
         "showlegend": true,
         "type": "scatter",
         "x": [
          14.433
         ],
         "xaxis": "x",
         "y": [
          99478
         ],
         "yaxis": "y"
        },
        {
         "hovertemplate": "city=ElCentro<br>area_total_sq_mi=%{x}<br>population_total=%{marker.size}<extra></extra>",
         "legendgroup": "ElCentro",
         "marker": {
          "color": "#ab63fa",
          "size": [
           42598
          ],
          "sizemode": "area",
          "sizeref": 9710.7675,
          "symbol": "circle"
         },
         "mode": "markers",
         "name": "ElCentro",
         "orientation": "v",
         "showlegend": true,
         "type": "scatter",
         "x": [
          11.099
         ],
         "xaxis": "x",
         "y": [
          42598
         ],
         "yaxis": "y"
        },
        {
         "hovertemplate": "city=ElCerrito<br>area_total_sq_mi=%{x}<br>population_total=%{marker.size}<extra></extra>",
         "legendgroup": "ElCerrito",
         "marker": {
          "color": "#FFA15A",
          "size": [
           23549
          ],
          "sizemode": "area",
          "sizeref": 9710.7675,
          "symbol": "circle"
         },
         "mode": "markers",
         "name": "ElCerrito",
         "orientation": "v",
         "showlegend": true,
         "type": "scatter",
         "x": [
          3.688
         ],
         "xaxis": "x",
         "y": [
          23549
         ],
         "yaxis": "y"
        },
        {
         "hovertemplate": "city=ElkGrove<br>area_total_sq_mi=%{x}<br>population_total=%{marker.size}<extra></extra>",
         "legendgroup": "ElkGrove",
         "marker": {
          "color": "#19d3f3",
          "size": [
           153015
          ],
          "sizemode": "area",
          "sizeref": 9710.7675,
          "symbol": "circle"
         },
         "mode": "markers",
         "name": "ElkGrove",
         "orientation": "v",
         "showlegend": true,
         "type": "scatter",
         "x": [
          42.239
         ],
         "xaxis": "x",
         "y": [
          153015
         ],
         "yaxis": "y"
        },
        {
         "hovertemplate": "city=ElMonte<br>area_total_sq_mi=%{x}<br>population_total=%{marker.size}<extra></extra>",
         "legendgroup": "ElMonte",
         "marker": {
          "color": "#FF6692",
          "size": [
           113475
          ],
          "sizemode": "area",
          "sizeref": 9710.7675,
          "symbol": "circle"
         },
         "mode": "markers",
         "name": "ElMonte",
         "orientation": "v",
         "showlegend": true,
         "type": "scatter",
         "x": [
          9.648
         ],
         "xaxis": "x",
         "y": [
          113475
         ],
         "yaxis": "y"
        },
        {
         "hovertemplate": "city=ElSegundo<br>area_total_sq_mi=%{x}<br>population_total=%{marker.size}<extra></extra>",
         "legendgroup": "ElSegundo",
         "marker": {
          "color": "#B6E880",
          "size": [
           16654
          ],
          "sizemode": "area",
          "sizeref": 9710.7675,
          "symbol": "circle"
         },
         "mode": "markers",
         "name": "ElSegundo",
         "orientation": "v",
         "showlegend": true,
         "type": "scatter",
         "x": [
          5.464999999999999
         ],
         "xaxis": "x",
         "y": [
          16654
         ],
         "yaxis": "y"
        },
        {
         "hovertemplate": "city=Emeryville<br>area_total_sq_mi=%{x}<br>population_total=%{marker.size}<extra></extra>",
         "legendgroup": "Emeryville",
         "marker": {
          "color": "#FF97FF",
          "size": [
           10080
          ],
          "sizemode": "area",
          "sizeref": 9710.7675,
          "symbol": "circle"
         },
         "mode": "markers",
         "name": "Emeryville",
         "orientation": "v",
         "showlegend": true,
         "type": "scatter",
         "x": [
          2.01
         ],
         "xaxis": "x",
         "y": [
          10080
         ],
         "yaxis": "y"
        },
        {
         "hovertemplate": "city=Encinitas<br>area_total_sq_mi=%{x}<br>population_total=%{marker.size}<extra></extra>",
         "legendgroup": "Encinitas",
         "marker": {
          "color": "#FECB52",
          "size": [
           59518
          ],
          "sizemode": "area",
          "sizeref": 9710.7675,
          "symbol": "circle"
         },
         "mode": "markers",
         "name": "Encinitas",
         "orientation": "v",
         "showlegend": true,
         "type": "scatter",
         "x": [
          19.990000000000002
         ],
         "xaxis": "x",
         "y": [
          59518
         ],
         "yaxis": "y"
        },
        {
         "hovertemplate": "city=Escalon<br>area_total_sq_mi=%{x}<br>population_total=%{marker.size}<extra></extra>",
         "legendgroup": "Escalon",
         "marker": {
          "color": "#636efa",
          "size": [
           7266
          ],
          "sizemode": "area",
          "sizeref": 9710.7675,
          "symbol": "circle"
         },
         "mode": "markers",
         "name": "Escalon",
         "orientation": "v",
         "showlegend": true,
         "type": "scatter",
         "x": [
          2.3680000000000003
         ],
         "xaxis": "x",
         "y": [
          7266
         ],
         "yaxis": "y"
        },
        {
         "hovertemplate": "city=Escondido<br>area_total_sq_mi=%{x}<br>population_total=%{marker.size}<extra></extra>",
         "legendgroup": "Escondido",
         "marker": {
          "color": "#EF553B",
          "size": [
           143911
          ],
          "sizemode": "area",
          "sizeref": 9710.7675,
          "symbol": "circle"
         },
         "mode": "markers",
         "name": "Escondido",
         "orientation": "v",
         "showlegend": true,
         "type": "scatter",
         "x": [
          36.989000000000004
         ],
         "xaxis": "x",
         "y": [
          143911
         ],
         "yaxis": "y"
        },
        {
         "hovertemplate": "city=Etna<br>area_total_sq_mi=%{x}<br>population_total=%{marker.size}<extra></extra>",
         "legendgroup": "Etna",
         "marker": {
          "color": "#00cc96",
          "size": [
           737
          ],
          "sizemode": "area",
          "sizeref": 9710.7675,
          "symbol": "circle"
         },
         "mode": "markers",
         "name": "Etna",
         "orientation": "v",
         "showlegend": true,
         "type": "scatter",
         "x": [
          0.759
         ],
         "xaxis": "x",
         "y": [
          737
         ],
         "yaxis": "y"
        },
        {
         "hovertemplate": "city=Eureka<br>area_total_sq_mi=%{x}<br>population_total=%{marker.size}<extra></extra>",
         "legendgroup": "Eureka",
         "marker": {
          "color": "#ab63fa",
          "size": [
           27191
          ],
          "sizemode": "area",
          "sizeref": 9710.7675,
          "symbol": "circle"
         },
         "mode": "markers",
         "name": "Eureka",
         "orientation": "v",
         "showlegend": true,
         "type": "scatter",
         "x": [
          14.454
         ],
         "xaxis": "x",
         "y": [
          27191
         ],
         "yaxis": "y"
        },
        {
         "hovertemplate": "city=Exeter<br>area_total_sq_mi=%{x}<br>population_total=%{marker.size}<extra></extra>",
         "legendgroup": "Exeter",
         "marker": {
          "color": "#FFA15A",
          "size": [
           10334
          ],
          "sizemode": "area",
          "sizeref": 9710.7675,
          "symbol": "circle"
         },
         "mode": "markers",
         "name": "Exeter",
         "orientation": "v",
         "showlegend": true,
         "type": "scatter",
         "x": [
          2.463
         ],
         "xaxis": "x",
         "y": [
          10334
         ],
         "yaxis": "y"
        },
        {
         "hovertemplate": "city=Fairfax<br>area_total_sq_mi=%{x}<br>population_total=%{marker.size}<extra></extra>",
         "legendgroup": "Fairfax",
         "marker": {
          "color": "#19d3f3",
          "size": [
           7441
          ],
          "sizemode": "area",
          "sizeref": 9710.7675,
          "symbol": "circle"
         },
         "mode": "markers",
         "name": "Fairfax",
         "orientation": "v",
         "showlegend": true,
         "type": "scatter",
         "x": [
          2.204
         ],
         "xaxis": "x",
         "y": [
          7441
         ],
         "yaxis": "y"
        },
        {
         "hovertemplate": "city=Fairfield<br>area_total_sq_mi=%{x}<br>population_total=%{marker.size}<extra></extra>",
         "legendgroup": "Fairfield",
         "marker": {
          "color": "#FF6692",
          "size": [
           108321
          ],
          "sizemode": "area",
          "sizeref": 9710.7675,
          "symbol": "circle"
         },
         "mode": "markers",
         "name": "Fairfield",
         "orientation": "v",
         "showlegend": true,
         "type": "scatter",
         "x": [
          37.635
         ],
         "xaxis": "x",
         "y": [
          108321
         ],
         "yaxis": "y"
        },
        {
         "hovertemplate": "city=Farmersville<br>area_total_sq_mi=%{x}<br>population_total=%{marker.size}<extra></extra>",
         "legendgroup": "Farmersville",
         "marker": {
          "color": "#B6E880",
          "size": [
           10588
          ],
          "sizemode": "area",
          "sizeref": 9710.7675,
          "symbol": "circle"
         },
         "mode": "markers",
         "name": "Farmersville",
         "orientation": "v",
         "showlegend": true,
         "type": "scatter",
         "x": [
          2.258
         ],
         "xaxis": "x",
         "y": [
          10588
         ],
         "yaxis": "y"
        },
        {
         "hovertemplate": "city=Ferndale<br>area_total_sq_mi=%{x}<br>population_total=%{marker.size}<extra></extra>",
         "legendgroup": "Ferndale",
         "marker": {
          "color": "#FF97FF",
          "size": [
           1371
          ],
          "sizemode": "area",
          "sizeref": 9710.7675,
          "symbol": "circle"
         },
         "mode": "markers",
         "name": "Ferndale",
         "orientation": "v",
         "showlegend": true,
         "type": "scatter",
         "x": [
          1.027
         ],
         "xaxis": "x",
         "y": [
          1371
         ],
         "yaxis": "y"
        },
        {
         "hovertemplate": "city=Fillmore<br>area_total_sq_mi=%{x}<br>population_total=%{marker.size}<extra></extra>",
         "legendgroup": "Fillmore",
         "marker": {
          "color": "#FECB52",
          "size": [
           15002
          ],
          "sizemode": "area",
          "sizeref": 9710.7675,
          "symbol": "circle"
         },
         "mode": "markers",
         "name": "Fillmore",
         "orientation": "v",
         "showlegend": true,
         "type": "scatter",
         "x": [
          3.3649999999999998
         ],
         "xaxis": "x",
         "y": [
          15002
         ],
         "yaxis": "y"
        },
        {
         "hovertemplate": "city=Firebaugh<br>area_total_sq_mi=%{x}<br>population_total=%{marker.size}<extra></extra>",
         "legendgroup": "Firebaugh",
         "marker": {
          "color": "#636efa",
          "size": [
           7549
          ],
          "sizemode": "area",
          "sizeref": 9710.7675,
          "symbol": "circle"
         },
         "mode": "markers",
         "name": "Firebaugh",
         "orientation": "v",
         "showlegend": true,
         "type": "scatter",
         "x": [
          3.519
         ],
         "xaxis": "x",
         "y": [
          7549
         ],
         "yaxis": "y"
        },
        {
         "hovertemplate": "city=Folsom<br>area_total_sq_mi=%{x}<br>population_total=%{marker.size}<extra></extra>",
         "legendgroup": "Folsom",
         "marker": {
          "color": "#EF553B",
          "size": [
           72203
          ],
          "sizemode": "area",
          "sizeref": 9710.7675,
          "symbol": "circle"
         },
         "mode": "markers",
         "name": "Folsom",
         "orientation": "v",
         "showlegend": true,
         "type": "scatter",
         "x": [
          24.301000000000002
         ],
         "xaxis": "x",
         "y": [
          72203
         ],
         "yaxis": "y"
        },
        {
         "hovertemplate": "city=Fontana<br>area_total_sq_mi=%{x}<br>population_total=%{marker.size}<extra></extra>",
         "legendgroup": "Fontana",
         "marker": {
          "color": "#00cc96",
          "size": [
           201812
          ],
          "sizemode": "area",
          "sizeref": 9710.7675,
          "symbol": "circle"
         },
         "mode": "markers",
         "name": "Fontana",
         "orientation": "v",
         "showlegend": true,
         "type": "scatter",
         "x": [
          45.432
         ],
         "xaxis": "x",
         "y": [
          201812
         ],
         "yaxis": "y"
        },
        {
         "hovertemplate": "city=FortJones<br>area_total_sq_mi=%{x}<br>population_total=%{marker.size}<extra></extra>",
         "legendgroup": "FortJones",
         "marker": {
          "color": "#ab63fa",
          "size": [
           839
          ],
          "sizemode": "area",
          "sizeref": 9710.7675,
          "symbol": "circle"
         },
         "mode": "markers",
         "name": "FortJones",
         "orientation": "v",
         "showlegend": true,
         "type": "scatter",
         "x": [
          0.602
         ],
         "xaxis": "x",
         "y": [
          839
         ],
         "yaxis": "y"
        },
        {
         "hovertemplate": "city=Fortuna<br>area_total_sq_mi=%{x}<br>population_total=%{marker.size}<extra></extra>",
         "legendgroup": "Fortuna",
         "marker": {
          "color": "#FFA15A",
          "size": [
           11926
          ],
          "sizemode": "area",
          "sizeref": 9710.7675,
          "symbol": "circle"
         },
         "mode": "markers",
         "name": "Fortuna",
         "orientation": "v",
         "showlegend": true,
         "type": "scatter",
         "x": [
          4.845
         ],
         "xaxis": "x",
         "y": [
          11926
         ],
         "yaxis": "y"
        },
        {
         "hovertemplate": "city=FosterCity<br>area_total_sq_mi=%{x}<br>population_total=%{marker.size}<extra></extra>",
         "legendgroup": "FosterCity",
         "marker": {
          "color": "#19d3f3",
          "size": [
           30567
          ],
          "sizemode": "area",
          "sizeref": 9710.7675,
          "symbol": "circle"
         },
         "mode": "markers",
         "name": "FosterCity",
         "orientation": "v",
         "showlegend": true,
         "type": "scatter",
         "x": [
          19.841
         ],
         "xaxis": "x",
         "y": [
          30567
         ],
         "yaxis": "y"
        },
        {
         "hovertemplate": "city=FountainValley<br>area_total_sq_mi=%{x}<br>population_total=%{marker.size}<extra></extra>",
         "legendgroup": "FountainValley",
         "marker": {
          "color": "#FF6692",
          "size": [
           55313
          ],
          "sizemode": "area",
          "sizeref": 9710.7675,
          "symbol": "circle"
         },
         "mode": "markers",
         "name": "FountainValley",
         "orientation": "v",
         "showlegend": true,
         "type": "scatter",
         "x": [
          9.031
         ],
         "xaxis": "x",
         "y": [
          55313
         ],
         "yaxis": "y"
        },
        {
         "hovertemplate": "city=Fowler<br>area_total_sq_mi=%{x}<br>population_total=%{marker.size}<extra></extra>",
         "legendgroup": "Fowler",
         "marker": {
          "color": "#B6E880",
          "size": [
           5570
          ],
          "sizemode": "area",
          "sizeref": 9710.7675,
          "symbol": "circle"
         },
         "mode": "markers",
         "name": "Fowler",
         "orientation": "v",
         "showlegend": true,
         "type": "scatter",
         "x": [
          2.531
         ],
         "xaxis": "x",
         "y": [
          5570
         ],
         "yaxis": "y"
        },
        {
         "hovertemplate": "city=Fremont<br>area_total_sq_mi=%{x}<br>population_total=%{marker.size}<extra></extra>",
         "legendgroup": "Fremont",
         "marker": {
          "color": "#FF97FF",
          "size": [
           220000
          ],
          "sizemode": "area",
          "sizeref": 9710.7675,
          "symbol": "circle"
         },
         "mode": "markers",
         "name": "Fremont",
         "orientation": "v",
         "showlegend": true,
         "type": "scatter",
         "x": [
          87.61
         ],
         "xaxis": "x",
         "y": [
          220000
         ],
         "yaxis": "y"
        },
        {
         "hovertemplate": "city=Fresno<br>area_total_sq_mi=%{x}<br>population_total=%{marker.size}<extra></extra>",
         "legendgroup": "Fresno",
         "marker": {
          "color": "#FECB52",
          "size": [
           509039
          ],
          "sizemode": "area",
          "sizeref": 9710.7675,
          "symbol": "circle"
         },
         "mode": "markers",
         "name": "Fresno",
         "orientation": "v",
         "showlegend": true,
         "type": "scatter",
         "x": [
          112.30799999999999
         ],
         "xaxis": "x",
         "y": [
          509039
         ],
         "yaxis": "y"
        },
        {
         "hovertemplate": "city=Fullerton<br>area_total_sq_mi=%{x}<br>population_total=%{marker.size}<extra></extra>",
         "legendgroup": "Fullerton",
         "marker": {
          "color": "#636efa",
          "size": [
           135161
          ],
          "sizemode": "area",
          "sizeref": 9710.7675,
          "symbol": "circle"
         },
         "mode": "markers",
         "name": "Fullerton",
         "orientation": "v",
         "showlegend": true,
         "type": "scatter",
         "x": [
          22.364
         ],
         "xaxis": "x",
         "y": [
          135161
         ],
         "yaxis": "y"
        },
        {
         "hovertemplate": "city=Galt<br>area_total_sq_mi=%{x}<br>population_total=%{marker.size}<extra></extra>",
         "legendgroup": "Galt",
         "marker": {
          "color": "#EF553B",
          "size": [
           23647
          ],
          "sizemode": "area",
          "sizeref": 9710.7675,
          "symbol": "circle"
         },
         "mode": "markers",
         "name": "Galt",
         "orientation": "v",
         "showlegend": true,
         "type": "scatter",
         "x": [
          5.944
         ],
         "xaxis": "x",
         "y": [
          23647
         ],
         "yaxis": "y"
        },
        {
         "hovertemplate": "city=Gardena<br>area_total_sq_mi=%{x}<br>population_total=%{marker.size}<extra></extra>",
         "legendgroup": "Gardena",
         "marker": {
          "color": "#00cc96",
          "size": [
           58829
          ],
          "sizemode": "area",
          "sizeref": 9710.7675,
          "symbol": "circle"
         },
         "mode": "markers",
         "name": "Gardena",
         "orientation": "v",
         "showlegend": true,
         "type": "scatter",
         "x": [
          5.864999999999999
         ],
         "xaxis": "x",
         "y": [
          58829
         ],
         "yaxis": "y"
        },
        {
         "hovertemplate": "city=GardenGrove<br>area_total_sq_mi=%{x}<br>population_total=%{marker.size}<extra></extra>",
         "legendgroup": "GardenGrove",
         "marker": {
          "color": "#ab63fa",
          "size": [
           170883
          ],
          "sizemode": "area",
          "sizeref": 9710.7675,
          "symbol": "circle"
         },
         "mode": "markers",
         "name": "GardenGrove",
         "orientation": "v",
         "showlegend": true,
         "type": "scatter",
         "x": [
          17.959
         ],
         "xaxis": "x",
         "y": [
          170883
         ],
         "yaxis": "y"
        },
        {
         "hovertemplate": "city=Gilroy<br>area_total_sq_mi=%{x}<br>population_total=%{marker.size}<extra></extra>",
         "legendgroup": "Gilroy",
         "marker": {
          "color": "#FFA15A",
          "size": [
           48821
          ],
          "sizemode": "area",
          "sizeref": 9710.7675,
          "symbol": "circle"
         },
         "mode": "markers",
         "name": "Gilroy",
         "orientation": "v",
         "showlegend": true,
         "type": "scatter",
         "x": [
          16.156000000000002
         ],
         "xaxis": "x",
         "y": [
          48821
         ],
         "yaxis": "y"
        },
        {
         "hovertemplate": "city=Glendale<br>area_total_sq_mi=%{x}<br>population_total=%{marker.size}<extra></extra>",
         "legendgroup": "Glendale",
         "marker": {
          "color": "#19d3f3",
          "size": [
           196021
          ],
          "sizemode": "area",
          "sizeref": 9710.7675,
          "symbol": "circle"
         },
         "mode": "markers",
         "name": "Glendale",
         "orientation": "v",
         "showlegend": true,
         "type": "scatter",
         "x": [
          30.583000000000002
         ],
         "xaxis": "x",
         "y": [
          196021
         ],
         "yaxis": "y"
        },
        {
         "hovertemplate": "city=Glendora<br>area_total_sq_mi=%{x}<br>population_total=%{marker.size}<extra></extra>",
         "legendgroup": "Glendora",
         "marker": {
          "color": "#FF6692",
          "size": [
           50073
          ],
          "sizemode": "area",
          "sizeref": 9710.7675,
          "symbol": "circle"
         },
         "mode": "markers",
         "name": "Glendora",
         "orientation": "v",
         "showlegend": true,
         "type": "scatter",
         "x": [
          19.558
         ],
         "xaxis": "x",
         "y": [
          50073
         ],
         "yaxis": "y"
        },
        {
         "hovertemplate": "city=Goleta<br>area_total_sq_mi=%{x}<br>population_total=%{marker.size}<extra></extra>",
         "legendgroup": "Goleta",
         "marker": {
          "color": "#B6E880",
          "size": [
           29888
          ],
          "sizemode": "area",
          "sizeref": 9710.7675,
          "symbol": "circle"
         },
         "mode": "markers",
         "name": "Goleta",
         "orientation": "v",
         "showlegend": true,
         "type": "scatter",
         "x": [
          7.975
         ],
         "xaxis": "x",
         "y": [
          29888
         ],
         "yaxis": "y"
        },
        {
         "hovertemplate": "city=Gonzales<br>area_total_sq_mi=%{x}<br>population_total=%{marker.size}<extra></extra>",
         "legendgroup": "Gonzales",
         "marker": {
          "color": "#FF97FF",
          "size": [
           8187
          ],
          "sizemode": "area",
          "sizeref": 9710.7675,
          "symbol": "circle"
         },
         "mode": "markers",
         "name": "Gonzales",
         "orientation": "v",
         "showlegend": true,
         "type": "scatter",
         "x": [
          1.959
         ],
         "xaxis": "x",
         "y": [
          8187
         ],
         "yaxis": "y"
        },
        {
         "hovertemplate": "city=GrandTerrace<br>area_total_sq_mi=%{x}<br>population_total=%{marker.size}<extra></extra>",
         "legendgroup": "GrandTerrace",
         "marker": {
          "color": "#FECB52",
          "size": [
           12040
          ],
          "sizemode": "area",
          "sizeref": 9710.7675,
          "symbol": "circle"
         },
         "mode": "markers",
         "name": "GrandTerrace",
         "orientation": "v",
         "showlegend": true,
         "type": "scatter",
         "x": [
          3.502
         ],
         "xaxis": "x",
         "y": [
          12040
         ],
         "yaxis": "y"
        },
        {
         "hovertemplate": "city=GrassValley<br>area_total_sq_mi=%{x}<br>population_total=%{marker.size}<extra></extra>",
         "legendgroup": "GrassValley",
         "marker": {
          "color": "#636efa",
          "size": [
           12860
          ],
          "sizemode": "area",
          "sizeref": 9710.7675,
          "symbol": "circle"
         },
         "mode": "markers",
         "name": "GrassValley",
         "orientation": "v",
         "showlegend": true,
         "type": "scatter",
         "x": [
          4.743
         ],
         "xaxis": "x",
         "y": [
          12860
         ],
         "yaxis": "y"
        },
        {
         "hovertemplate": "city=Greenfield<br>area_total_sq_mi=%{x}<br>population_total=%{marker.size}<extra></extra>",
         "legendgroup": "Greenfield",
         "marker": {
          "color": "#EF553B",
          "size": [
           16330
          ],
          "sizemode": "area",
          "sizeref": 9710.7675,
          "symbol": "circle"
         },
         "mode": "markers",
         "name": "Greenfield",
         "orientation": "v",
         "showlegend": true,
         "type": "scatter",
         "x": [
          2.135
         ],
         "xaxis": "x",
         "y": [
          16330
         ],
         "yaxis": "y"
        },
        {
         "hovertemplate": "city=GroverBeach<br>area_total_sq_mi=%{x}<br>population_total=%{marker.size}<extra></extra>",
         "legendgroup": "GroverBeach",
         "marker": {
          "color": "#00cc96",
          "size": [
           13156
          ],
          "sizemode": "area",
          "sizeref": 9710.7675,
          "symbol": "circle"
         },
         "mode": "markers",
         "name": "GroverBeach",
         "orientation": "v",
         "showlegend": true,
         "type": "scatter",
         "x": [
          2.314
         ],
         "xaxis": "x",
         "y": [
          13156
         ],
         "yaxis": "y"
        },
        {
         "hovertemplate": "city=Guadalupe<br>area_total_sq_mi=%{x}<br>population_total=%{marker.size}<extra></extra>",
         "legendgroup": "Guadalupe",
         "marker": {
          "color": "#ab63fa",
          "size": [
           7080
          ],
          "sizemode": "area",
          "sizeref": 9710.7675,
          "symbol": "circle"
         },
         "mode": "markers",
         "name": "Guadalupe",
         "orientation": "v",
         "showlegend": true,
         "type": "scatter",
         "x": [
          1.314
         ],
         "xaxis": "x",
         "y": [
          7080
         ],
         "yaxis": "y"
        },
        {
         "hovertemplate": "city=Gustine<br>area_total_sq_mi=%{x}<br>population_total=%{marker.size}<extra></extra>",
         "legendgroup": "Gustine",
         "marker": {
          "color": "#FFA15A",
          "size": [
           5520
          ],
          "sizemode": "area",
          "sizeref": 9710.7675,
          "symbol": "circle"
         },
         "mode": "markers",
         "name": "Gustine",
         "orientation": "v",
         "showlegend": true,
         "type": "scatter",
         "x": [
          1.551
         ],
         "xaxis": "x",
         "y": [
          5520
         ],
         "yaxis": "y"
        },
        {
         "hovertemplate": "city=HalfMoonBay<br>area_total_sq_mi=%{x}<br>population_total=%{marker.size}<extra></extra>",
         "legendgroup": "HalfMoonBay",
         "marker": {
          "color": "#19d3f3",
          "size": [
           11324
          ],
          "sizemode": "area",
          "sizeref": 9710.7675,
          "symbol": "circle"
         },
         "mode": "markers",
         "name": "HalfMoonBay",
         "orientation": "v",
         "showlegend": true,
         "type": "scatter",
         "x": [
          6.444
         ],
         "xaxis": "x",
         "y": [
          11324
         ],
         "yaxis": "y"
        },
        {
         "hovertemplate": "city=Hanford<br>area_total_sq_mi=%{x}<br>population_total=%{marker.size}<extra></extra>",
         "legendgroup": "Hanford",
         "marker": {
          "color": "#FF6692",
          "size": [
           55283
          ],
          "sizemode": "area",
          "sizeref": 9710.7675,
          "symbol": "circle"
         },
         "mode": "markers",
         "name": "Hanford",
         "orientation": "v",
         "showlegend": true,
         "type": "scatter",
         "x": [
          16.589000000000002
         ],
         "xaxis": "x",
         "y": [
          55283
         ],
         "yaxis": "y"
        },
        {
         "hovertemplate": "city=HawaiianGardens<br>area_total_sq_mi=%{x}<br>population_total=%{marker.size}<extra></extra>",
         "legendgroup": "HawaiianGardens",
         "marker": {
          "color": "#B6E880",
          "size": [
           14254
          ],
          "sizemode": "area",
          "sizeref": 9710.7675,
          "symbol": "circle"
         },
         "mode": "markers",
         "name": "HawaiianGardens",
         "orientation": "v",
         "showlegend": true,
         "type": "scatter",
         "x": [
          0.956
         ],
         "xaxis": "x",
         "y": [
          14254
         ],
         "yaxis": "y"
        },
        {
         "hovertemplate": "city=Hawthorne<br>area_total_sq_mi=%{x}<br>population_total=%{marker.size}<extra></extra>",
         "legendgroup": "Hawthorne",
         "marker": {
          "color": "#FF97FF",
          "size": [
           84293
          ],
          "sizemode": "area",
          "sizeref": 9710.7675,
          "symbol": "circle"
         },
         "mode": "markers",
         "name": "Hawthorne",
         "orientation": "v",
         "showlegend": true,
         "type": "scatter",
         "x": [
          6.0920000000000005
         ],
         "xaxis": "x",
         "y": [
          84293
         ],
         "yaxis": "y"
        },
        {
         "hovertemplate": "city=Hayward<br>area_total_sq_mi=%{x}<br>population_total=%{marker.size}<extra></extra>",
         "legendgroup": "Hayward",
         "marker": {
          "color": "#FECB52",
          "size": [
           149392
          ],
          "sizemode": "area",
          "sizeref": 9710.7675,
          "symbol": "circle"
         },
         "mode": "markers",
         "name": "Hayward",
         "orientation": "v",
         "showlegend": true,
         "type": "scatter",
         "x": [
          63.748000000000005
         ],
         "xaxis": "x",
         "y": [
          149392
         ],
         "yaxis": "y"
        },
        {
         "hovertemplate": "city=Healdsburg<br>area_total_sq_mi=%{x}<br>population_total=%{marker.size}<extra></extra>",
         "legendgroup": "Healdsburg",
         "marker": {
          "color": "#636efa",
          "size": [
           11254
          ],
          "sizemode": "area",
          "sizeref": 9710.7675,
          "symbol": "circle"
         },
         "mode": "markers",
         "name": "Healdsburg",
         "orientation": "v",
         "showlegend": true,
         "type": "scatter",
         "x": [
          4.4639999999999995
         ],
         "xaxis": "x",
         "y": [
          11254
         ],
         "yaxis": "y"
        },
        {
         "hovertemplate": "city=Hemet<br>area_total_sq_mi=%{x}<br>population_total=%{marker.size}<extra></extra>",
         "legendgroup": "Hemet",
         "marker": {
          "color": "#EF553B",
          "size": [
           78657
          ],
          "sizemode": "area",
          "sizeref": 9710.7675,
          "symbol": "circle"
         },
         "mode": "markers",
         "name": "Hemet",
         "orientation": "v",
         "showlegend": true,
         "type": "scatter",
         "x": [
          27.847
         ],
         "xaxis": "x",
         "y": [
          78657
         ],
         "yaxis": "y"
        },
        {
         "hovertemplate": "city=Hercules<br>area_total_sq_mi=%{x}<br>population_total=%{marker.size}<extra></extra>",
         "legendgroup": "Hercules",
         "marker": {
          "color": "#00cc96",
          "size": [
           24060
          ],
          "sizemode": "area",
          "sizeref": 9710.7675,
          "symbol": "circle"
         },
         "mode": "markers",
         "name": "Hercules",
         "orientation": "v",
         "showlegend": true,
         "type": "scatter",
         "x": [
          18.179000000000002
         ],
         "xaxis": "x",
         "y": [
          24060
         ],
         "yaxis": "y"
        },
        {
         "hovertemplate": "city=HermosaBeach<br>area_total_sq_mi=%{x}<br>population_total=%{marker.size}<extra></extra>",
         "legendgroup": "HermosaBeach",
         "marker": {
          "color": "#ab63fa",
          "size": [
           19506
          ],
          "sizemode": "area",
          "sizeref": 9710.7675,
          "symbol": "circle"
         },
         "mode": "markers",
         "name": "HermosaBeach",
         "orientation": "v",
         "showlegend": true,
         "type": "scatter",
         "x": [
          1.4269999999999998
         ],
         "xaxis": "x",
         "y": [
          19506
         ],
         "yaxis": "y"
        },
        {
         "hovertemplate": "city=Hesperia<br>area_total_sq_mi=%{x}<br>population_total=%{marker.size}<extra></extra>",
         "legendgroup": "Hesperia",
         "marker": {
          "color": "#FFA15A",
          "size": [
           90173
          ],
          "sizemode": "area",
          "sizeref": 9710.7675,
          "symbol": "circle"
         },
         "mode": "markers",
         "name": "Hesperia",
         "orientation": "v",
         "showlegend": true,
         "type": "scatter",
         "x": [
          73.209
         ],
         "xaxis": "x",
         "y": [
          90173
         ],
         "yaxis": "y"
        },
        {
         "hovertemplate": "city=HiddenHills<br>area_total_sq_mi=%{x}<br>population_total=%{marker.size}<extra></extra>",
         "legendgroup": "HiddenHills",
         "marker": {
          "color": "#19d3f3",
          "size": [
           1856
          ],
          "sizemode": "area",
          "sizeref": 9710.7675,
          "symbol": "circle"
         },
         "mode": "markers",
         "name": "HiddenHills",
         "orientation": "v",
         "showlegend": true,
         "type": "scatter",
         "x": [
          1.689
         ],
         "xaxis": "x",
         "y": [
          1856
         ],
         "yaxis": "y"
        },
        {
         "hovertemplate": "city=Highland<br>area_total_sq_mi=%{x}<br>population_total=%{marker.size}<extra></extra>",
         "legendgroup": "Highland",
         "marker": {
          "color": "#FF6692",
          "size": [
           53014
          ],
          "sizemode": "area",
          "sizeref": 9710.7675,
          "symbol": "circle"
         },
         "mode": "markers",
         "name": "Highland",
         "orientation": "v",
         "showlegend": true,
         "type": "scatter",
         "x": [
          18.89
         ],
         "xaxis": "x",
         "y": [
          53014
         ],
         "yaxis": "y"
        },
        {
         "hovertemplate": "city=Hillsborough<br>area_total_sq_mi=%{x}<br>population_total=%{marker.size}<extra></extra>",
         "legendgroup": "Hillsborough",
         "marker": {
          "color": "#B6E880",
          "size": [
           10825
          ],
          "sizemode": "area",
          "sizeref": 9710.7675,
          "symbol": "circle"
         },
         "mode": "markers",
         "name": "Hillsborough",
         "orientation": "v",
         "showlegend": true,
         "type": "scatter",
         "x": [
          6.19
         ],
         "xaxis": "x",
         "y": [
          10825
         ],
         "yaxis": "y"
        },
        {
         "hovertemplate": "city=Hollister<br>area_total_sq_mi=%{x}<br>population_total=%{marker.size}<extra></extra>",
         "legendgroup": "Hollister",
         "marker": {
          "color": "#FF97FF",
          "size": [
           34928
          ],
          "sizemode": "area",
          "sizeref": 9710.7675,
          "symbol": "circle"
         },
         "mode": "markers",
         "name": "Hollister",
         "orientation": "v",
         "showlegend": true,
         "type": "scatter",
         "x": [
          7.29
         ],
         "xaxis": "x",
         "y": [
          34928
         ],
         "yaxis": "y"
        },
        {
         "hovertemplate": "city=Holtville<br>area_total_sq_mi=%{x}<br>population_total=%{marker.size}<extra></extra>",
         "legendgroup": "Holtville",
         "marker": {
          "color": "#FECB52",
          "size": [
           5939
          ],
          "sizemode": "area",
          "sizeref": 9710.7675,
          "symbol": "circle"
         },
         "mode": "markers",
         "name": "Holtville",
         "orientation": "v",
         "showlegend": true,
         "type": "scatter",
         "x": [
          1.1529999999999998
         ],
         "xaxis": "x",
         "y": [
          5939
         ],
         "yaxis": "y"
        },
        {
         "hovertemplate": "city=Hughson<br>area_total_sq_mi=%{x}<br>population_total=%{marker.size}<extra></extra>",
         "legendgroup": "Hughson",
         "marker": {
          "color": "#636efa",
          "size": [
           6640
          ],
          "sizemode": "area",
          "sizeref": 9710.7675,
          "symbol": "circle"
         },
         "mode": "markers",
         "name": "Hughson",
         "orientation": "v",
         "showlegend": true,
         "type": "scatter",
         "x": [
          1.815
         ],
         "xaxis": "x",
         "y": [
          6640
         ],
         "yaxis": "y"
        },
        {
         "hovertemplate": "city=HuntingtonBeach<br>area_total_sq_mi=%{x}<br>population_total=%{marker.size}<extra></extra>",
         "legendgroup": "HuntingtonBeach",
         "marker": {
          "color": "#EF553B",
          "size": [
           197575
          ],
          "sizemode": "area",
          "sizeref": 9710.7675,
          "symbol": "circle"
         },
         "mode": "markers",
         "name": "HuntingtonBeach",
         "orientation": "v",
         "showlegend": true,
         "type": "scatter",
         "x": [
          31.882
         ],
         "xaxis": "x",
         "y": [
          197575
         ],
         "yaxis": "y"
        },
        {
         "hovertemplate": "city=HuntingtonPark<br>area_total_sq_mi=%{x}<br>population_total=%{marker.size}<extra></extra>",
         "legendgroup": "HuntingtonPark",
         "marker": {
          "color": "#00cc96",
          "size": [
           58114
          ],
          "sizemode": "area",
          "sizeref": 9710.7675,
          "symbol": "circle"
         },
         "mode": "markers",
         "name": "HuntingtonPark",
         "orientation": "v",
         "showlegend": true,
         "type": "scatter",
         "x": [
          3.016
         ],
         "xaxis": "x",
         "y": [
          58114
         ],
         "yaxis": "y"
        },
        {
         "hovertemplate": "city=Huron<br>area_total_sq_mi=%{x}<br>population_total=%{marker.size}<extra></extra>",
         "legendgroup": "Huron",
         "marker": {
          "color": "#ab63fa",
          "size": [
           6754
          ],
          "sizemode": "area",
          "sizeref": 9710.7675,
          "symbol": "circle"
         },
         "mode": "markers",
         "name": "Huron",
         "orientation": "v",
         "showlegend": true,
         "type": "scatter",
         "x": [
          1.591
         ],
         "xaxis": "x",
         "y": [
          6754
         ],
         "yaxis": "y"
        },
        {
         "hovertemplate": "city=ImperialBeach<br>area_total_sq_mi=%{x}<br>population_total=%{marker.size}<extra></extra>",
         "legendgroup": "ImperialBeach",
         "marker": {
          "color": "#FFA15A",
          "size": [
           26324
          ],
          "sizemode": "area",
          "sizeref": 9710.7675,
          "symbol": "circle"
         },
         "mode": "markers",
         "name": "ImperialBeach",
         "orientation": "v",
         "showlegend": true,
         "type": "scatter",
         "x": [
          4.485
         ],
         "xaxis": "x",
         "y": [
          26324
         ],
         "yaxis": "y"
        },
        {
         "hovertemplate": "city=Imperial<br>area_total_sq_mi=%{x}<br>population_total=%{marker.size}<extra></extra>",
         "legendgroup": "Imperial",
         "marker": {
          "color": "#19d3f3",
          "size": [
           14758
          ],
          "sizemode": "area",
          "sizeref": 9710.7675,
          "symbol": "circle"
         },
         "mode": "markers",
         "name": "Imperial",
         "orientation": "v",
         "showlegend": true,
         "type": "scatter",
         "x": [
          5.856
         ],
         "xaxis": "x",
         "y": [
          14758
         ],
         "yaxis": "y"
        },
        {
         "hovertemplate": "city=IndianWells<br>area_total_sq_mi=%{x}<br>population_total=%{marker.size}<extra></extra>",
         "legendgroup": "IndianWells",
         "marker": {
          "color": "#FF6692",
          "size": [
           4958
          ],
          "sizemode": "area",
          "sizeref": 9710.7675,
          "symbol": "circle"
         },
         "mode": "markers",
         "name": "IndianWells",
         "orientation": "v",
         "showlegend": true,
         "type": "scatter",
         "x": [
          14.591
         ],
         "xaxis": "x",
         "y": [
          4958
         ],
         "yaxis": "y"
        },
        {
         "hovertemplate": "city=Indio<br>area_total_sq_mi=%{x}<br>population_total=%{marker.size}<extra></extra>",
         "legendgroup": "Indio",
         "marker": {
          "color": "#B6E880",
          "size": [
           76036
          ],
          "sizemode": "area",
          "sizeref": 9710.7675,
          "symbol": "circle"
         },
         "mode": "markers",
         "name": "Indio",
         "orientation": "v",
         "showlegend": true,
         "type": "scatter",
         "x": [
          29.189
         ],
         "xaxis": "x",
         "y": [
          76036
         ],
         "yaxis": "y"
        },
        {
         "hovertemplate": "city=Industry<br>area_total_sq_mi=%{x}<br>population_total=%{marker.size}<extra></extra>",
         "legendgroup": "Industry",
         "marker": {
          "color": "#FF97FF",
          "size": [
           219
          ],
          "sizemode": "area",
          "sizeref": 9710.7675,
          "symbol": "circle"
         },
         "mode": "markers",
         "name": "Industry",
         "orientation": "v",
         "showlegend": true,
         "type": "scatter",
         "x": [
          12.064
         ],
         "xaxis": "x",
         "y": [
          219
         ],
         "yaxis": "y"
        },
        {
         "hovertemplate": "city=Inglewood<br>area_total_sq_mi=%{x}<br>population_total=%{marker.size}<extra></extra>",
         "legendgroup": "Inglewood",
         "marker": {
          "color": "#FECB52",
          "size": [
           109673
          ],
          "sizemode": "area",
          "sizeref": 9710.7675,
          "symbol": "circle"
         },
         "mode": "markers",
         "name": "Inglewood",
         "orientation": "v",
         "showlegend": true,
         "type": "scatter",
         "x": [
          9.093
         ],
         "xaxis": "x",
         "y": [
          109673
         ],
         "yaxis": "y"
        },
        {
         "hovertemplate": "city=Ione<br>area_total_sq_mi=%{x}<br>population_total=%{marker.size}<extra></extra>",
         "legendgroup": "Ione",
         "marker": {
          "color": "#636efa",
          "size": [
           7918
          ],
          "sizemode": "area",
          "sizeref": 9710.7675,
          "symbol": "circle"
         },
         "mode": "markers",
         "name": "Ione",
         "orientation": "v",
         "showlegend": true,
         "type": "scatter",
         "x": [
          4.779999999999999
         ],
         "xaxis": "x",
         "y": [
          7918
         ],
         "yaxis": "y"
        },
        {
         "hovertemplate": "city=Irvine<br>area_total_sq_mi=%{x}<br>population_total=%{marker.size}<extra></extra>",
         "legendgroup": "Irvine",
         "marker": {
          "color": "#EF553B",
          "size": [
           215529
          ],
          "sizemode": "area",
          "sizeref": 9710.7675,
          "symbol": "circle"
         },
         "mode": "markers",
         "name": "Irvine",
         "orientation": "v",
         "showlegend": true,
         "type": "scatter",
         "x": [
          66.45400000000001
         ],
         "xaxis": "x",
         "y": [
          215529
         ],
         "yaxis": "y"
        },
        {
         "hovertemplate": "city=Irwindale<br>area_total_sq_mi=%{x}<br>population_total=%{marker.size}<extra></extra>",
         "legendgroup": "Irwindale",
         "marker": {
          "color": "#00cc96",
          "size": [
           1422
          ],
          "sizemode": "area",
          "sizeref": 9710.7675,
          "symbol": "circle"
         },
         "mode": "markers",
         "name": "Irwindale",
         "orientation": "v",
         "showlegend": true,
         "type": "scatter",
         "x": [
          9.613000000000001
         ],
         "xaxis": "x",
         "y": [
          1422
         ],
         "yaxis": "y"
        },
        {
         "hovertemplate": "city=Isleton<br>area_total_sq_mi=%{x}<br>population_total=%{marker.size}<extra></extra>",
         "legendgroup": "Isleton",
         "marker": {
          "color": "#ab63fa",
          "size": [
           804
          ],
          "sizemode": "area",
          "sizeref": 9710.7675,
          "symbol": "circle"
         },
         "mode": "markers",
         "name": "Isleton",
         "orientation": "v",
         "showlegend": true,
         "type": "scatter",
         "x": [
          0.492
         ],
         "xaxis": "x",
         "y": [
          804
         ],
         "yaxis": "y"
        },
        {
         "hovertemplate": "city=Jackson<br>area_total_sq_mi=%{x}<br>population_total=%{marker.size}<extra></extra>",
         "legendgroup": "Jackson",
         "marker": {
          "color": "#FFA15A",
          "size": [
           4651
          ],
          "sizemode": "area",
          "sizeref": 9710.7675,
          "symbol": "circle"
         },
         "mode": "markers",
         "name": "Jackson",
         "orientation": "v",
         "showlegend": true,
         "type": "scatter",
         "x": [
          3.73
         ],
         "xaxis": "x",
         "y": [
          4651
         ],
         "yaxis": "y"
        },
        {
         "hovertemplate": "city=Kerman<br>area_total_sq_mi=%{x}<br>population_total=%{marker.size}<extra></extra>",
         "legendgroup": "Kerman",
         "marker": {
          "color": "#19d3f3",
          "size": [
           17303
          ],
          "sizemode": "area",
          "sizeref": 9710.7675,
          "symbol": "circle"
         },
         "mode": "markers",
         "name": "Kerman",
         "orientation": "v",
         "showlegend": true,
         "type": "scatter",
         "x": [
          3.233
         ],
         "xaxis": "x",
         "y": [
          17303
         ],
         "yaxis": "y"
        },
        {
         "hovertemplate": "city=KingCity<br>area_total_sq_mi=%{x}<br>population_total=%{marker.size}<extra></extra>",
         "legendgroup": "KingCity",
         "marker": {
          "color": "#FF6692",
          "size": [
           12874
          ],
          "sizemode": "area",
          "sizeref": 9710.7675,
          "symbol": "circle"
         },
         "mode": "markers",
         "name": "KingCity",
         "orientation": "v",
         "showlegend": true,
         "type": "scatter",
         "x": [
          3.984
         ],
         "xaxis": "x",
         "y": [
          12874
         ],
         "yaxis": "y"
        },
        {
         "hovertemplate": "city=Kingsburg<br>area_total_sq_mi=%{x}<br>population_total=%{marker.size}<extra></extra>",
         "legendgroup": "Kingsburg",
         "marker": {
          "color": "#B6E880",
          "size": [
           11382
          ],
          "sizemode": "area",
          "sizeref": 9710.7675,
          "symbol": "circle"
         },
         "mode": "markers",
         "name": "Kingsburg",
         "orientation": "v",
         "showlegend": true,
         "type": "scatter",
         "x": [
          2.8280000000000003
         ],
         "xaxis": "x",
         "y": [
          11382
         ],
         "yaxis": "y"
        },
        {
         "hovertemplate": "city=LaCaadaFlintridge<br>area_total_sq_mi=%{x}<br>population_total=%{marker.size}<extra></extra>",
         "legendgroup": "LaCaadaFlintridge",
         "marker": {
          "color": "#FF97FF",
          "size": [
           20246
          ],
          "sizemode": "area",
          "sizeref": 9710.7675,
          "symbol": "circle"
         },
         "mode": "markers",
         "name": "LaCaadaFlintridge",
         "orientation": "v",
         "showlegend": true,
         "type": "scatter",
         "x": [
          8.645
         ],
         "xaxis": "x",
         "y": [
          20246
         ],
         "yaxis": "y"
        },
        {
         "hovertemplate": "city=Lafayette<br>area_total_sq_mi=%{x}<br>population_total=%{marker.size}<extra></extra>",
         "legendgroup": "Lafayette",
         "marker": {
          "color": "#FECB52",
          "size": [
           24285
          ],
          "sizemode": "area",
          "sizeref": 9710.7675,
          "symbol": "circle"
         },
         "mode": "markers",
         "name": "Lafayette",
         "orientation": "v",
         "showlegend": true,
         "type": "scatter",
         "x": [
          15.386999999999999
         ],
         "xaxis": "x",
         "y": [
          24285
         ],
         "yaxis": "y"
        },
        {
         "hovertemplate": "city=LagunaBeach<br>area_total_sq_mi=%{x}<br>population_total=%{marker.size}<extra></extra>",
         "legendgroup": "LagunaBeach",
         "marker": {
          "color": "#636efa",
          "size": [
           22723
          ],
          "sizemode": "area",
          "sizeref": 9710.7675,
          "symbol": "circle"
         },
         "mode": "markers",
         "name": "LagunaBeach",
         "orientation": "v",
         "showlegend": true,
         "type": "scatter",
         "x": [
          9.821
         ],
         "xaxis": "x",
         "y": [
          22723
         ],
         "yaxis": "y"
        },
        {
         "hovertemplate": "city=LagunaHills<br>area_total_sq_mi=%{x}<br>population_total=%{marker.size}<extra></extra>",
         "legendgroup": "LagunaHills",
         "marker": {
          "color": "#EF553B",
          "size": [
           30344
          ],
          "sizemode": "area",
          "sizeref": 9710.7675,
          "symbol": "circle"
         },
         "mode": "markers",
         "name": "LagunaHills",
         "orientation": "v",
         "showlegend": true,
         "type": "scatter",
         "x": [
          6.695
         ],
         "xaxis": "x",
         "y": [
          30344
         ],
         "yaxis": "y"
        },
        {
         "hovertemplate": "city=LagunaNiguel<br>area_total_sq_mi=%{x}<br>population_total=%{marker.size}<extra></extra>",
         "legendgroup": "LagunaNiguel",
         "marker": {
          "color": "#00cc96",
          "size": [
           62979
          ],
          "sizemode": "area",
          "sizeref": 9710.7675,
          "symbol": "circle"
         },
         "mode": "markers",
         "name": "LagunaNiguel",
         "orientation": "v",
         "showlegend": true,
         "type": "scatter",
         "x": [
          14.885
         ],
         "xaxis": "x",
         "y": [
          62979
         ],
         "yaxis": "y"
        },
        {
         "hovertemplate": "city=LagunaWoods<br>area_total_sq_mi=%{x}<br>population_total=%{marker.size}<extra></extra>",
         "legendgroup": "LagunaWoods",
         "marker": {
          "color": "#ab63fa",
          "size": [
           18747
          ],
          "sizemode": "area",
          "sizeref": 9710.7675,
          "symbol": "circle"
         },
         "mode": "markers",
         "name": "LagunaWoods",
         "orientation": "v",
         "showlegend": true,
         "type": "scatter",
         "x": [
          3.115
         ],
         "xaxis": "x",
         "y": [
          18747
         ],
         "yaxis": "y"
        },
        {
         "hovertemplate": "city=LaHabra<br>area_total_sq_mi=%{x}<br>population_total=%{marker.size}<extra></extra>",
         "legendgroup": "LaHabra",
         "marker": {
          "color": "#FFA15A",
          "size": [
           60239
          ],
          "sizemode": "area",
          "sizeref": 9710.7675,
          "symbol": "circle"
         },
         "mode": "markers",
         "name": "LaHabra",
         "orientation": "v",
         "showlegend": true,
         "type": "scatter",
         "x": [
          7.376
         ],
         "xaxis": "x",
         "y": [
          60239
         ],
         "yaxis": "y"
        },
        {
         "hovertemplate": "city=LaHabraHeights<br>area_total_sq_mi=%{x}<br>population_total=%{marker.size}<extra></extra>",
         "legendgroup": "LaHabraHeights",
         "marker": {
          "color": "#19d3f3",
          "size": [
           5325
          ],
          "sizemode": "area",
          "sizeref": 9710.7675,
          "symbol": "circle"
         },
         "mode": "markers",
         "name": "LaHabraHeights",
         "orientation": "v",
         "showlegend": true,
         "type": "scatter",
         "x": [
          6.162
         ],
         "xaxis": "x",
         "y": [
          5325
         ],
         "yaxis": "y"
        },
        {
         "hovertemplate": "city=LakeElsinore<br>area_total_sq_mi=%{x}<br>population_total=%{marker.size}<extra></extra>",
         "legendgroup": "LakeElsinore",
         "marker": {
          "color": "#FF6692",
          "size": [
           51821
          ],
          "sizemode": "area",
          "sizeref": 9710.7675,
          "symbol": "circle"
         },
         "mode": "markers",
         "name": "LakeElsinore",
         "orientation": "v",
         "showlegend": true,
         "type": "scatter",
         "x": [
          41.687
         ],
         "xaxis": "x",
         "y": [
          51821
         ],
         "yaxis": "y"
        },
        {
         "hovertemplate": "city=LakeForest<br>area_total_sq_mi=%{x}<br>population_total=%{marker.size}<extra></extra>",
         "legendgroup": "LakeForest",
         "marker": {
          "color": "#B6E880",
          "size": [
           77264
          ],
          "sizemode": "area",
          "sizeref": 9710.7675,
          "symbol": "circle"
         },
         "mode": "markers",
         "name": "LakeForest",
         "orientation": "v",
         "showlegend": true,
         "type": "scatter",
         "x": [
          17.901999999999997
         ],
         "xaxis": "x",
         "y": [
          77264
         ],
         "yaxis": "y"
        },
        {
         "hovertemplate": "city=Lakeport<br>area_total_sq_mi=%{x}<br>population_total=%{marker.size}<extra></extra>",
         "legendgroup": "Lakeport",
         "marker": {
          "color": "#FF97FF",
          "size": [
           4753
          ],
          "sizemode": "area",
          "sizeref": 9710.7675,
          "symbol": "circle"
         },
         "mode": "markers",
         "name": "Lakeport",
         "orientation": "v",
         "showlegend": true,
         "type": "scatter",
         "x": [
          3.1980000000000004
         ],
         "xaxis": "x",
         "y": [
          4753
         ],
         "yaxis": "y"
        },
        {
         "hovertemplate": "city=Lakewood<br>area_total_sq_mi=%{x}<br>population_total=%{marker.size}<extra></extra>",
         "legendgroup": "Lakewood",
         "marker": {
          "color": "#FECB52",
          "size": [
           80048
          ],
          "sizemode": "area",
          "sizeref": 9710.7675,
          "symbol": "circle"
         },
         "mode": "markers",
         "name": "Lakewood",
         "orientation": "v",
         "showlegend": true,
         "type": "scatter",
         "x": [
          9.466
         ],
         "xaxis": "x",
         "y": [
          80048
         ],
         "yaxis": "y"
        },
        {
         "hovertemplate": "city=LaMesa<br>area_total_sq_mi=%{x}<br>population_total=%{marker.size}<extra></extra>",
         "legendgroup": "LaMesa",
         "marker": {
          "color": "#636efa",
          "size": [
           57065
          ],
          "sizemode": "area",
          "sizeref": 9710.7675,
          "symbol": "circle"
         },
         "mode": "markers",
         "name": "LaMesa",
         "orientation": "v",
         "showlegend": true,
         "type": "scatter",
         "x": [
          9.116
         ],
         "xaxis": "x",
         "y": [
          57065
         ],
         "yaxis": "y"
        },
        {
         "hovertemplate": "city=LaMirada<br>area_total_sq_mi=%{x}<br>population_total=%{marker.size}<extra></extra>",
         "legendgroup": "LaMirada",
         "marker": {
          "color": "#EF553B",
          "size": [
           48527
          ],
          "sizemode": "area",
          "sizeref": 9710.7675,
          "symbol": "circle"
         },
         "mode": "markers",
         "name": "LaMirada",
         "orientation": "v",
         "showlegend": true,
         "type": "scatter",
         "x": [
          7.857
         ],
         "xaxis": "x",
         "y": [
          48527
         ],
         "yaxis": "y"
        },
        {
         "hovertemplate": "city=Lancaster<br>area_total_sq_mi=%{x}<br>population_total=%{marker.size}<extra></extra>",
         "legendgroup": "Lancaster",
         "marker": {
          "color": "#00cc96",
          "size": [
           156633
          ],
          "sizemode": "area",
          "sizeref": 9710.7675,
          "symbol": "circle"
         },
         "mode": "markers",
         "name": "Lancaster",
         "orientation": "v",
         "showlegend": true,
         "type": "scatter",
         "x": [
          94.547
         ],
         "xaxis": "x",
         "y": [
          156633
         ],
         "yaxis": "y"
        },
        {
         "hovertemplate": "city=LaPalma<br>area_total_sq_mi=%{x}<br>population_total=%{marker.size}<extra></extra>",
         "legendgroup": "LaPalma",
         "marker": {
          "color": "#ab63fa",
          "size": [
           15568
          ],
          "sizemode": "area",
          "sizeref": 9710.7675,
          "symbol": "circle"
         },
         "mode": "markers",
         "name": "LaPalma",
         "orientation": "v",
         "showlegend": true,
         "type": "scatter",
         "x": [
          1.832
         ],
         "xaxis": "x",
         "y": [
          15568
         ],
         "yaxis": "y"
        },
        {
         "hovertemplate": "city=LaPuente<br>area_total_sq_mi=%{x}<br>population_total=%{marker.size}<extra></extra>",
         "legendgroup": "LaPuente",
         "marker": {
          "color": "#FFA15A",
          "size": [
           39816
          ],
          "sizemode": "area",
          "sizeref": 9710.7675,
          "symbol": "circle"
         },
         "mode": "markers",
         "name": "LaPuente",
         "orientation": "v",
         "showlegend": true,
         "type": "scatter",
         "x": [
          3.48
         ],
         "xaxis": "x",
         "y": [
          39816
         ],
         "yaxis": "y"
        },
        {
         "hovertemplate": "city=LaQuinta<br>area_total_sq_mi=%{x}<br>population_total=%{marker.size}<extra></extra>",
         "legendgroup": "LaQuinta",
         "marker": {
          "color": "#19d3f3",
          "size": [
           37467
          ],
          "sizemode": "area",
          "sizeref": 9710.7675,
          "symbol": "circle"
         },
         "mode": "markers",
         "name": "LaQuinta",
         "orientation": "v",
         "showlegend": true,
         "type": "scatter",
         "x": [
          35.550999999999995
         ],
         "xaxis": "x",
         "y": [
          37467
         ],
         "yaxis": "y"
        },
        {
         "hovertemplate": "city=Larkspur<br>area_total_sq_mi=%{x}<br>population_total=%{marker.size}<extra></extra>",
         "legendgroup": "Larkspur",
         "marker": {
          "color": "#FF6692",
          "size": [
           11926
          ],
          "sizemode": "area",
          "sizeref": 9710.7675,
          "symbol": "circle"
         },
         "mode": "markers",
         "name": "Larkspur",
         "orientation": "v",
         "showlegend": true,
         "type": "scatter",
         "x": [
          3.2430000000000003
         ],
         "xaxis": "x",
         "y": [
          11926
         ],
         "yaxis": "y"
        },
        {
         "hovertemplate": "city=Lathrop<br>area_total_sq_mi=%{x}<br>population_total=%{marker.size}<extra></extra>",
         "legendgroup": "Lathrop",
         "marker": {
          "color": "#B6E880",
          "size": [
           18023
          ],
          "sizemode": "area",
          "sizeref": 9710.7675,
          "symbol": "circle"
         },
         "mode": "markers",
         "name": "Lathrop",
         "orientation": "v",
         "showlegend": true,
         "type": "scatter",
         "x": [
          23.033
         ],
         "xaxis": "x",
         "y": [
          18023
         ],
         "yaxis": "y"
        },
        {
         "hovertemplate": "city=LaVerne<br>area_total_sq_mi=%{x}<br>population_total=%{marker.size}<extra></extra>",
         "legendgroup": "LaVerne",
         "marker": {
          "color": "#FF97FF",
          "size": [
           31063
          ],
          "sizemode": "area",
          "sizeref": 9710.7675,
          "symbol": "circle"
         },
         "mode": "markers",
         "name": "LaVerne",
         "orientation": "v",
         "showlegend": true,
         "type": "scatter",
         "x": [
          8.562
         ],
         "xaxis": "x",
         "y": [
          31063
         ],
         "yaxis": "y"
        },
        {
         "hovertemplate": "city=Lawndale<br>area_total_sq_mi=%{x}<br>population_total=%{marker.size}<extra></extra>",
         "legendgroup": "Lawndale",
         "marker": {
          "color": "#FECB52",
          "size": [
           32769
          ],
          "sizemode": "area",
          "sizeref": 9710.7675,
          "symbol": "circle"
         },
         "mode": "markers",
         "name": "Lawndale",
         "orientation": "v",
         "showlegend": true,
         "type": "scatter",
         "x": [
          1.974
         ],
         "xaxis": "x",
         "y": [
          32769
         ],
         "yaxis": "y"
        },
        {
         "hovertemplate": "city=LemonGrove<br>area_total_sq_mi=%{x}<br>population_total=%{marker.size}<extra></extra>",
         "legendgroup": "LemonGrove",
         "marker": {
          "color": "#636efa",
          "size": [
           25320
          ],
          "sizemode": "area",
          "sizeref": 9710.7675,
          "symbol": "circle"
         },
         "mode": "markers",
         "name": "LemonGrove",
         "orientation": "v",
         "showlegend": true,
         "type": "scatter",
         "x": [
          3.88
         ],
         "xaxis": "x",
         "y": [
          25320
         ],
         "yaxis": "y"
        },
        {
         "hovertemplate": "city=Lemoore<br>area_total_sq_mi=%{x}<br>population_total=%{marker.size}<extra></extra>",
         "legendgroup": "Lemoore",
         "marker": {
          "color": "#EF553B",
          "size": [
           25281
          ],
          "sizemode": "area",
          "sizeref": 9710.7675,
          "symbol": "circle"
         },
         "mode": "markers",
         "name": "Lemoore",
         "orientation": "v",
         "showlegend": true,
         "type": "scatter",
         "x": [
          8.517000000000001
         ],
         "xaxis": "x",
         "y": [
          25281
         ],
         "yaxis": "y"
        },
        {
         "hovertemplate": "city=Lincoln<br>area_total_sq_mi=%{x}<br>population_total=%{marker.size}<extra></extra>",
         "legendgroup": "Lincoln",
         "marker": {
          "color": "#00cc96",
          "size": [
           42819
          ],
          "sizemode": "area",
          "sizeref": 9710.7675,
          "symbol": "circle"
         },
         "mode": "markers",
         "name": "Lincoln",
         "orientation": "v",
         "showlegend": true,
         "type": "scatter",
         "x": [
          20.130000000000003
         ],
         "xaxis": "x",
         "y": [
          42819
         ],
         "yaxis": "y"
        },
        {
         "hovertemplate": "city=Lindsay<br>area_total_sq_mi=%{x}<br>population_total=%{marker.size}<extra></extra>",
         "legendgroup": "Lindsay",
         "marker": {
          "color": "#ab63fa",
          "size": [
           11768
          ],
          "sizemode": "area",
          "sizeref": 9710.7675,
          "symbol": "circle"
         },
         "mode": "markers",
         "name": "Lindsay",
         "orientation": "v",
         "showlegend": true,
         "type": "scatter",
         "x": [
          2.61
         ],
         "xaxis": "x",
         "y": [
          11768
         ],
         "yaxis": "y"
        },
        {
         "hovertemplate": "city=LiveOakSutterCounty<br>area_total_sq_mi=%{x}<br>population_total=%{marker.size}<extra></extra>",
         "legendgroup": "LiveOakSutterCounty",
         "marker": {
          "color": "#FFA15A",
          "size": [
           8392
          ],
          "sizemode": "area",
          "sizeref": 9710.7675,
          "symbol": "circle"
         },
         "mode": "markers",
         "name": "LiveOakSutterCounty",
         "orientation": "v",
         "showlegend": true,
         "type": "scatter",
         "x": [
          1.869
         ],
         "xaxis": "x",
         "y": [
          8392
         ],
         "yaxis": "y"
        },
        {
         "hovertemplate": "city=Livermore<br>area_total_sq_mi=%{x}<br>population_total=%{marker.size}<extra></extra>",
         "legendgroup": "Livermore",
         "marker": {
          "color": "#19d3f3",
          "size": [
           83547
          ],
          "sizemode": "area",
          "sizeref": 9710.7675,
          "symbol": "circle"
         },
         "mode": "markers",
         "name": "Livermore",
         "orientation": "v",
         "showlegend": true,
         "type": "scatter",
         "x": [
          25.176
         ],
         "xaxis": "x",
         "y": [
          83547
         ],
         "yaxis": "y"
        },
        {
         "hovertemplate": "city=Livingston<br>area_total_sq_mi=%{x}<br>population_total=%{marker.size}<extra></extra>",
         "legendgroup": "Livingston",
         "marker": {
          "color": "#FF6692",
          "size": [
           13058
          ],
          "sizemode": "area",
          "sizeref": 9710.7675,
          "symbol": "circle"
         },
         "mode": "markers",
         "name": "Livingston",
         "orientation": "v",
         "showlegend": true,
         "type": "scatter",
         "x": [
          3.715
         ],
         "xaxis": "x",
         "y": [
          13058
         ],
         "yaxis": "y"
        },
        {
         "hovertemplate": "city=Lodi<br>area_total_sq_mi=%{x}<br>population_total=%{marker.size}<extra></extra>",
         "legendgroup": "Lodi",
         "marker": {
          "color": "#B6E880",
          "size": [
           62134
          ],
          "sizemode": "area",
          "sizeref": 9710.7675,
          "symbol": "circle"
         },
         "mode": "markers",
         "name": "Lodi",
         "orientation": "v",
         "showlegend": true,
         "type": "scatter",
         "x": [
          13.825000000000001
         ],
         "xaxis": "x",
         "y": [
          62134
         ],
         "yaxis": "y"
        },
        {
         "hovertemplate": "city=LomaLinda<br>area_total_sq_mi=%{x}<br>population_total=%{marker.size}<extra></extra>",
         "legendgroup": "LomaLinda",
         "marker": {
          "color": "#FF97FF",
          "size": [
           23261
          ],
          "sizemode": "area",
          "sizeref": 9710.7675,
          "symbol": "circle"
         },
         "mode": "markers",
         "name": "LomaLinda",
         "orientation": "v",
         "showlegend": true,
         "type": "scatter",
         "x": [
          7.517
         ],
         "xaxis": "x",
         "y": [
          23261
         ],
         "yaxis": "y"
        },
        {
         "hovertemplate": "city=Lomita<br>area_total_sq_mi=%{x}<br>population_total=%{marker.size}<extra></extra>",
         "legendgroup": "Lomita",
         "marker": {
          "color": "#FECB52",
          "size": [
           20256
          ],
          "sizemode": "area",
          "sizeref": 9710.7675,
          "symbol": "circle"
         },
         "mode": "markers",
         "name": "Lomita",
         "orientation": "v",
         "showlegend": true,
         "type": "scatter",
         "x": [
          1.911
         ],
         "xaxis": "x",
         "y": [
          20256
         ],
         "yaxis": "y"
        },
        {
         "hovertemplate": "city=Lompoc<br>area_total_sq_mi=%{x}<br>population_total=%{marker.size}<extra></extra>",
         "legendgroup": "Lompoc",
         "marker": {
          "color": "#636efa",
          "size": [
           42434
          ],
          "sizemode": "area",
          "sizeref": 9710.7675,
          "symbol": "circle"
         },
         "mode": "markers",
         "name": "Lompoc",
         "orientation": "v",
         "showlegend": true,
         "type": "scatter",
         "x": [
          11.674999999999999
         ],
         "xaxis": "x",
         "y": [
          42434
         ],
         "yaxis": "y"
        },
        {
         "hovertemplate": "city=LongBeach<br>area_total_sq_mi=%{x}<br>population_total=%{marker.size}<extra></extra>",
         "legendgroup": "LongBeach",
         "marker": {
          "color": "#EF553B",
          "size": [
           462257
          ],
          "sizemode": "area",
          "sizeref": 9710.7675,
          "symbol": "circle"
         },
         "mode": "markers",
         "name": "LongBeach",
         "orientation": "v",
         "showlegend": true,
         "type": "scatter",
         "x": [
          51.437
         ],
         "xaxis": "x",
         "y": [
          462257
         ],
         "yaxis": "y"
        },
        {
         "hovertemplate": "city=Loomis<br>area_total_sq_mi=%{x}<br>population_total=%{marker.size}<extra></extra>",
         "legendgroup": "Loomis",
         "marker": {
          "color": "#00cc96",
          "size": [
           6430
          ],
          "sizemode": "area",
          "sizeref": 9710.7675,
          "symbol": "circle"
         },
         "mode": "markers",
         "name": "Loomis",
         "orientation": "v",
         "showlegend": true,
         "type": "scatter",
         "x": [
          7.267
         ],
         "xaxis": "x",
         "y": [
          6430
         ],
         "yaxis": "y"
        },
        {
         "hovertemplate": "city=LosAlamitos<br>area_total_sq_mi=%{x}<br>population_total=%{marker.size}<extra></extra>",
         "legendgroup": "LosAlamitos",
         "marker": {
          "color": "#ab63fa",
          "size": [
           11449
          ],
          "sizemode": "area",
          "sizeref": 9710.7675,
          "symbol": "circle"
         },
         "mode": "markers",
         "name": "LosAlamitos",
         "orientation": "v",
         "showlegend": true,
         "type": "scatter",
         "x": [
          4.116
         ],
         "xaxis": "x",
         "y": [
          11449
         ],
         "yaxis": "y"
        },
        {
         "hovertemplate": "city=LosAltosHills<br>area_total_sq_mi=%{x}<br>population_total=%{marker.size}<extra></extra>",
         "legendgroup": "LosAltosHills",
         "marker": {
          "color": "#FFA15A",
          "size": [
           7922
          ],
          "sizemode": "area",
          "sizeref": 9710.7675,
          "symbol": "circle"
         },
         "mode": "markers",
         "name": "LosAltosHills",
         "orientation": "v",
         "showlegend": true,
         "type": "scatter",
         "x": [
          8.802
         ],
         "xaxis": "x",
         "y": [
          7922
         ],
         "yaxis": "y"
        },
        {
         "hovertemplate": "city=LosAngeles<br>area_total_sq_mi=%{x}<br>population_total=%{marker.size}<extra></extra>",
         "legendgroup": "LosAngeles",
         "marker": {
          "color": "#19d3f3",
          "size": [
           3884307
          ],
          "sizemode": "area",
          "sizeref": 9710.7675,
          "symbol": "circle"
         },
         "mode": "markers",
         "name": "LosAngeles",
         "orientation": "v",
         "showlegend": true,
         "type": "scatter",
         "x": [
          503
         ],
         "xaxis": "x",
         "y": [
          3884307
         ],
         "yaxis": "y"
        },
        {
         "hovertemplate": "city=LosBanos<br>area_total_sq_mi=%{x}<br>population_total=%{marker.size}<extra></extra>",
         "legendgroup": "LosBanos",
         "marker": {
          "color": "#FF6692",
          "size": [
           35972
          ],
          "sizemode": "area",
          "sizeref": 9710.7675,
          "symbol": "circle"
         },
         "mode": "markers",
         "name": "LosBanos",
         "orientation": "v",
         "showlegend": true,
         "type": "scatter",
         "x": [
          10.117
         ],
         "xaxis": "x",
         "y": [
          35972
         ],
         "yaxis": "y"
        },
        {
         "hovertemplate": "city=LosGatos<br>area_total_sq_mi=%{x}<br>population_total=%{marker.size}<extra></extra>",
         "legendgroup": "LosGatos",
         "marker": {
          "color": "#B6E880",
          "size": [
           29413
          ],
          "sizemode": "area",
          "sizeref": 9710.7675,
          "symbol": "circle"
         },
         "mode": "markers",
         "name": "LosGatos",
         "orientation": "v",
         "showlegend": true,
         "type": "scatter",
         "x": [
          11.16
         ],
         "xaxis": "x",
         "y": [
          29413
         ],
         "yaxis": "y"
        },
        {
         "hovertemplate": "city=Loyalton<br>area_total_sq_mi=%{x}<br>population_total=%{marker.size}<extra></extra>",
         "legendgroup": "Loyalton",
         "marker": {
          "color": "#FF97FF",
          "size": [
           769
          ],
          "sizemode": "area",
          "sizeref": 9710.7675,
          "symbol": "circle"
         },
         "mode": "markers",
         "name": "Loyalton",
         "orientation": "v",
         "showlegend": true,
         "type": "scatter",
         "x": [
          0.355
         ],
         "xaxis": "x",
         "y": [
          769
         ],
         "yaxis": "y"
        },
        {
         "hovertemplate": "city=Lynwood<br>area_total_sq_mi=%{x}<br>population_total=%{marker.size}<extra></extra>",
         "legendgroup": "Lynwood",
         "marker": {
          "color": "#FECB52",
          "size": [
           69772
          ],
          "sizemode": "area",
          "sizeref": 9710.7675,
          "symbol": "circle"
         },
         "mode": "markers",
         "name": "Lynwood",
         "orientation": "v",
         "showlegend": true,
         "type": "scatter",
         "x": [
          4.84
         ],
         "xaxis": "x",
         "y": [
          69772
         ],
         "yaxis": "y"
        },
        {
         "hovertemplate": "city=Madera<br>area_total_sq_mi=%{x}<br>population_total=%{marker.size}<extra></extra>",
         "legendgroup": "Madera",
         "marker": {
          "color": "#636efa",
          "size": [
           61416
          ],
          "sizemode": "area",
          "sizeref": 9710.7675,
          "symbol": "circle"
         },
         "mode": "markers",
         "name": "Madera",
         "orientation": "v",
         "showlegend": true,
         "type": "scatter",
         "x": [
          15.789
         ],
         "xaxis": "x",
         "y": [
          61416
         ],
         "yaxis": "y"
        },
        {
         "hovertemplate": "city=Malibu<br>area_total_sq_mi=%{x}<br>population_total=%{marker.size}<extra></extra>",
         "legendgroup": "Malibu",
         "marker": {
          "color": "#EF553B",
          "size": [
           12645
          ],
          "sizemode": "area",
          "sizeref": 9710.7675,
          "symbol": "circle"
         },
         "mode": "markers",
         "name": "Malibu",
         "orientation": "v",
         "showlegend": true,
         "type": "scatter",
         "x": [
          19.828
         ],
         "xaxis": "x",
         "y": [
          12645
         ],
         "yaxis": "y"
        },
        {
         "hovertemplate": "city=MammothLakes<br>area_total_sq_mi=%{x}<br>population_total=%{marker.size}<extra></extra>",
         "legendgroup": "MammothLakes",
         "marker": {
          "color": "#00cc96",
          "size": [
           8234
          ],
          "sizemode": "area",
          "sizeref": 9710.7675,
          "symbol": "circle"
         },
         "mode": "markers",
         "name": "MammothLakes",
         "orientation": "v",
         "showlegend": true,
         "type": "scatter",
         "x": [
          25.306
         ],
         "xaxis": "x",
         "y": [
          8234
         ],
         "yaxis": "y"
        },
        {
         "hovertemplate": "city=ManhattanBeach<br>area_total_sq_mi=%{x}<br>population_total=%{marker.size}<extra></extra>",
         "legendgroup": "ManhattanBeach",
         "marker": {
          "color": "#ab63fa",
          "size": [
           35135
          ],
          "sizemode": "area",
          "sizeref": 9710.7675,
          "symbol": "circle"
         },
         "mode": "markers",
         "name": "ManhattanBeach",
         "orientation": "v",
         "showlegend": true,
         "type": "scatter",
         "x": [
          3.941
         ],
         "xaxis": "x",
         "y": [
          35135
         ],
         "yaxis": "y"
        },
        {
         "hovertemplate": "city=Manteca<br>area_total_sq_mi=%{x}<br>population_total=%{marker.size}<extra></extra>",
         "legendgroup": "Manteca",
         "marker": {
          "color": "#FFA15A",
          "size": [
           71067
          ],
          "sizemode": "area",
          "sizeref": 9710.7675,
          "symbol": "circle"
         },
         "mode": "markers",
         "name": "Manteca",
         "orientation": "v",
         "showlegend": true,
         "type": "scatter",
         "x": [
          17.757
         ],
         "xaxis": "x",
         "y": [
          71067
         ],
         "yaxis": "y"
        },
        {
         "hovertemplate": "city=Maricopa<br>area_total_sq_mi=%{x}<br>population_total=%{marker.size}<extra></extra>",
         "legendgroup": "Maricopa",
         "marker": {
          "color": "#19d3f3",
          "size": [
           1154
          ],
          "sizemode": "area",
          "sizeref": 9710.7675,
          "symbol": "circle"
         },
         "mode": "markers",
         "name": "Maricopa",
         "orientation": "v",
         "showlegend": true,
         "type": "scatter",
         "x": [
          1.5019999999999998
         ],
         "xaxis": "x",
         "y": [
          1154
         ],
         "yaxis": "y"
        },
        {
         "hovertemplate": "city=Marina<br>area_total_sq_mi=%{x}<br>population_total=%{marker.size}<extra></extra>",
         "legendgroup": "Marina",
         "marker": {
          "color": "#FF6692",
          "size": [
           29718
          ],
          "sizemode": "area",
          "sizeref": 9710.7675,
          "symbol": "circle"
         },
         "mode": "markers",
         "name": "Marina",
         "orientation": "v",
         "showlegend": true,
         "type": "scatter",
         "x": [
          9.763
         ],
         "xaxis": "x",
         "y": [
          29718
         ],
         "yaxis": "y"
        },
        {
         "hovertemplate": "city=Martinez<br>area_total_sq_mi=%{x}<br>population_total=%{marker.size}<extra></extra>",
         "legendgroup": "Martinez",
         "marker": {
          "color": "#B6E880",
          "size": [
           35824
          ],
          "sizemode": "area",
          "sizeref": 9710.7675,
          "symbol": "circle"
         },
         "mode": "markers",
         "name": "Martinez",
         "orientation": "v",
         "showlegend": true,
         "type": "scatter",
         "x": [
          13.134999999999998
         ],
         "xaxis": "x",
         "y": [
          35824
         ],
         "yaxis": "y"
        },
        {
         "hovertemplate": "city=Marysville<br>area_total_sq_mi=%{x}<br>population_total=%{marker.size}<extra></extra>",
         "legendgroup": "Marysville",
         "marker": {
          "color": "#FF97FF",
          "size": [
           12072
          ],
          "sizemode": "area",
          "sizeref": 9710.7675,
          "symbol": "circle"
         },
         "mode": "markers",
         "name": "Marysville",
         "orientation": "v",
         "showlegend": true,
         "type": "scatter",
         "x": [
          3.585
         ],
         "xaxis": "x",
         "y": [
          12072
         ],
         "yaxis": "y"
        },
        {
         "hovertemplate": "city=Maywood<br>area_total_sq_mi=%{x}<br>population_total=%{marker.size}<extra></extra>",
         "legendgroup": "Maywood",
         "marker": {
          "color": "#FECB52",
          "size": [
           27395
          ],
          "sizemode": "area",
          "sizeref": 9710.7675,
          "symbol": "circle"
         },
         "mode": "markers",
         "name": "Maywood",
         "orientation": "v",
         "showlegend": true,
         "type": "scatter",
         "x": [
          1.178
         ],
         "xaxis": "x",
         "y": [
          27395
         ],
         "yaxis": "y"
        },
        {
         "hovertemplate": "city=McFarland<br>area_total_sq_mi=%{x}<br>population_total=%{marker.size}<extra></extra>",
         "legendgroup": "McFarland",
         "marker": {
          "color": "#636efa",
          "size": [
           13745
          ],
          "sizemode": "area",
          "sizeref": 9710.7675,
          "symbol": "circle"
         },
         "mode": "markers",
         "name": "McFarland",
         "orientation": "v",
         "showlegend": true,
         "type": "scatter",
         "x": [
          2.668
         ],
         "xaxis": "x",
         "y": [
          13745
         ],
         "yaxis": "y"
        },
        {
         "hovertemplate": "city=Mendota<br>area_total_sq_mi=%{x}<br>population_total=%{marker.size}<extra></extra>",
         "legendgroup": "Mendota",
         "marker": {
          "color": "#EF553B",
          "size": [
           11014
          ],
          "sizemode": "area",
          "sizeref": 9710.7675,
          "symbol": "circle"
         },
         "mode": "markers",
         "name": "Mendota",
         "orientation": "v",
         "showlegend": true,
         "type": "scatter",
         "x": [
          3.281
         ],
         "xaxis": "x",
         "y": [
          11014
         ],
         "yaxis": "y"
        },
        {
         "hovertemplate": "city=Menifee<br>area_total_sq_mi=%{x}<br>population_total=%{marker.size}<extra></extra>",
         "legendgroup": "Menifee",
         "marker": {
          "color": "#00cc96",
          "size": [
           77519
          ],
          "sizemode": "area",
          "sizeref": 9710.7675,
          "symbol": "circle"
         },
         "mode": "markers",
         "name": "Menifee",
         "orientation": "v",
         "showlegend": true,
         "type": "scatter",
         "x": [
          46.607
         ],
         "xaxis": "x",
         "y": [
          77519
         ],
         "yaxis": "y"
        },
        {
         "hovertemplate": "city=MenloPark<br>area_total_sq_mi=%{x}<br>population_total=%{marker.size}<extra></extra>",
         "legendgroup": "MenloPark",
         "marker": {
          "color": "#ab63fa",
          "size": [
           32026
          ],
          "sizemode": "area",
          "sizeref": 9710.7675,
          "symbol": "circle"
         },
         "mode": "markers",
         "name": "MenloPark",
         "orientation": "v",
         "showlegend": true,
         "type": "scatter",
         "x": [
          17.415
         ],
         "xaxis": "x",
         "y": [
          32026
         ],
         "yaxis": "y"
        },
        {
         "hovertemplate": "city=Merced<br>area_total_sq_mi=%{x}<br>population_total=%{marker.size}<extra></extra>",
         "legendgroup": "Merced",
         "marker": {
          "color": "#FFA15A",
          "size": [
           80793
          ],
          "sizemode": "area",
          "sizeref": 9710.7675,
          "symbol": "circle"
         },
         "mode": "markers",
         "name": "Merced",
         "orientation": "v",
         "showlegend": true,
         "type": "scatter",
         "x": [
          23.316
         ],
         "xaxis": "x",
         "y": [
          80793
         ],
         "yaxis": "y"
        },
        {
         "hovertemplate": "city=Millbrae<br>area_total_sq_mi=%{x}<br>population_total=%{marker.size}<extra></extra>",
         "legendgroup": "Millbrae",
         "marker": {
          "color": "#19d3f3",
          "size": [
           21536
          ],
          "sizemode": "area",
          "sizeref": 9710.7675,
          "symbol": "circle"
         },
         "mode": "markers",
         "name": "Millbrae",
         "orientation": "v",
         "showlegend": true,
         "type": "scatter",
         "x": [
          3.259
         ],
         "xaxis": "x",
         "y": [
          21536
         ],
         "yaxis": "y"
        },
        {
         "hovertemplate": "city=MillValley<br>area_total_sq_mi=%{x}<br>population_total=%{marker.size}<extra></extra>",
         "legendgroup": "MillValley",
         "marker": {
          "color": "#FF6692",
          "size": [
           13903
          ],
          "sizemode": "area",
          "sizeref": 9710.7675,
          "symbol": "circle"
         },
         "mode": "markers",
         "name": "MillValley",
         "orientation": "v",
         "showlegend": true,
         "type": "scatter",
         "x": [
          4.8469999999999995
         ],
         "xaxis": "x",
         "y": [
          13903
         ],
         "yaxis": "y"
        },
        {
         "hovertemplate": "city=Milpitas<br>area_total_sq_mi=%{x}<br>population_total=%{marker.size}<extra></extra>",
         "legendgroup": "Milpitas",
         "marker": {
          "color": "#B6E880",
          "size": [
           70092
          ],
          "sizemode": "area",
          "sizeref": 9710.7675,
          "symbol": "circle"
         },
         "mode": "markers",
         "name": "Milpitas",
         "orientation": "v",
         "showlegend": true,
         "type": "scatter",
         "x": [
          13.641
         ],
         "xaxis": "x",
         "y": [
          70092
         ],
         "yaxis": "y"
        },
        {
         "hovertemplate": "city=MissionViejo<br>area_total_sq_mi=%{x}<br>population_total=%{marker.size}<extra></extra>",
         "legendgroup": "MissionViejo",
         "marker": {
          "color": "#FF97FF",
          "size": [
           96346
          ],
          "sizemode": "area",
          "sizeref": 9710.7675,
          "symbol": "circle"
         },
         "mode": "markers",
         "name": "MissionViejo",
         "orientation": "v",
         "showlegend": true,
         "type": "scatter",
         "x": [
          18.123
         ],
         "xaxis": "x",
         "y": [
          96346
         ],
         "yaxis": "y"
        },
        {
         "hovertemplate": "city=Modesto<br>area_total_sq_mi=%{x}<br>population_total=%{marker.size}<extra></extra>",
         "legendgroup": "Modesto",
         "marker": {
          "color": "#FECB52",
          "size": [
           201165
          ],
          "sizemode": "area",
          "sizeref": 9710.7675,
          "symbol": "circle"
         },
         "mode": "markers",
         "name": "Modesto",
         "orientation": "v",
         "showlegend": true,
         "type": "scatter",
         "x": [
          37.092
         ],
         "xaxis": "x",
         "y": [
          201165
         ],
         "yaxis": "y"
        },
        {
         "hovertemplate": "city=Monrovia<br>area_total_sq_mi=%{x}<br>population_total=%{marker.size}<extra></extra>",
         "legendgroup": "Monrovia",
         "marker": {
          "color": "#636efa",
          "size": [
           36590
          ],
          "sizemode": "area",
          "sizeref": 9710.7675,
          "symbol": "circle"
         },
         "mode": "markers",
         "name": "Monrovia",
         "orientation": "v",
         "showlegend": true,
         "type": "scatter",
         "x": [
          13.714
         ],
         "xaxis": "x",
         "y": [
          36590
         ],
         "yaxis": "y"
        },
        {
         "hovertemplate": "city=Montague<br>area_total_sq_mi=%{x}<br>population_total=%{marker.size}<extra></extra>",
         "legendgroup": "Montague",
         "marker": {
          "color": "#EF553B",
          "size": [
           1443
          ],
          "sizemode": "area",
          "sizeref": 9710.7675,
          "symbol": "circle"
         },
         "mode": "markers",
         "name": "Montague",
         "orientation": "v",
         "showlegend": true,
         "type": "scatter",
         "x": [
          1.793
         ],
         "xaxis": "x",
         "y": [
          1443
         ],
         "yaxis": "y"
        },
        {
         "hovertemplate": "city=Montclair<br>area_total_sq_mi=%{x}<br>population_total=%{marker.size}<extra></extra>",
         "legendgroup": "Montclair",
         "marker": {
          "color": "#00cc96",
          "size": [
           36664
          ],
          "sizemode": "area",
          "sizeref": 9710.7675,
          "symbol": "circle"
         },
         "mode": "markers",
         "name": "Montclair",
         "orientation": "v",
         "showlegend": true,
         "type": "scatter",
         "x": [
          5.517
         ],
         "xaxis": "x",
         "y": [
          36664
         ],
         "yaxis": "y"
        },
        {
         "hovertemplate": "city=Montebello<br>area_total_sq_mi=%{x}<br>population_total=%{marker.size}<extra></extra>",
         "legendgroup": "Montebello",
         "marker": {
          "color": "#ab63fa",
          "size": [
           62500
          ],
          "sizemode": "area",
          "sizeref": 9710.7675,
          "symbol": "circle"
         },
         "mode": "markers",
         "name": "Montebello",
         "orientation": "v",
         "showlegend": true,
         "type": "scatter",
         "x": [
          8.373
         ],
         "xaxis": "x",
         "y": [
          62500
         ],
         "yaxis": "y"
        },
        {
         "hovertemplate": "city=Monterey<br>area_total_sq_mi=%{x}<br>population_total=%{marker.size}<extra></extra>",
         "legendgroup": "Monterey",
         "marker": {
          "color": "#FFA15A",
          "size": [
           27810
          ],
          "sizemode": "area",
          "sizeref": 9710.7675,
          "symbol": "circle"
         },
         "mode": "markers",
         "name": "Monterey",
         "orientation": "v",
         "showlegend": true,
         "type": "scatter",
         "x": [
          11.764000000000001
         ],
         "xaxis": "x",
         "y": [
          27810
         ],
         "yaxis": "y"
        },
        {
         "hovertemplate": "city=MontereyPark<br>area_total_sq_mi=%{x}<br>population_total=%{marker.size}<extra></extra>",
         "legendgroup": "MontereyPark",
         "marker": {
          "color": "#19d3f3",
          "size": [
           60269
          ],
          "sizemode": "area",
          "sizeref": 9710.7675,
          "symbol": "circle"
         },
         "mode": "markers",
         "name": "MontereyPark",
         "orientation": "v",
         "showlegend": true,
         "type": "scatter",
         "x": [
          7.7330000000000005
         ],
         "xaxis": "x",
         "y": [
          60269
         ],
         "yaxis": "y"
        },
        {
         "hovertemplate": "city=MonteSereno<br>area_total_sq_mi=%{x}<br>population_total=%{marker.size}<extra></extra>",
         "legendgroup": "MonteSereno",
         "marker": {
          "color": "#FF6692",
          "size": [
           3341
          ],
          "sizemode": "area",
          "sizeref": 9710.7675,
          "symbol": "circle"
         },
         "mode": "markers",
         "name": "MonteSereno",
         "orientation": "v",
         "showlegend": true,
         "type": "scatter",
         "x": [
          1.615
         ],
         "xaxis": "x",
         "y": [
          3341
         ],
         "yaxis": "y"
        },
        {
         "hovertemplate": "city=Moorpark<br>area_total_sq_mi=%{x}<br>population_total=%{marker.size}<extra></extra>",
         "legendgroup": "Moorpark",
         "marker": {
          "color": "#B6E880",
          "size": [
           34421
          ],
          "sizemode": "area",
          "sizeref": 9710.7675,
          "symbol": "circle"
         },
         "mode": "markers",
         "name": "Moorpark",
         "orientation": "v",
         "showlegend": true,
         "type": "scatter",
         "x": [
          12.799000000000001
         ],
         "xaxis": "x",
         "y": [
          34421
         ],
         "yaxis": "y"
        },
        {
         "hovertemplate": "city=Moraga<br>area_total_sq_mi=%{x}<br>population_total=%{marker.size}<extra></extra>",
         "legendgroup": "Moraga",
         "marker": {
          "color": "#FF97FF",
          "size": [
           16016
          ],
          "sizemode": "area",
          "sizeref": 9710.7675,
          "symbol": "circle"
         },
         "mode": "markers",
         "name": "Moraga",
         "orientation": "v",
         "showlegend": true,
         "type": "scatter",
         "x": [
          9.442
         ],
         "xaxis": "x",
         "y": [
          16016
         ],
         "yaxis": "y"
        },
        {
         "hovertemplate": "city=MorenoValley<br>area_total_sq_mi=%{x}<br>population_total=%{marker.size}<extra></extra>",
         "legendgroup": "MorenoValley",
         "marker": {
          "color": "#FECB52",
          "size": [
           193365
          ],
          "sizemode": "area",
          "sizeref": 9710.7675,
          "symbol": "circle"
         },
         "mode": "markers",
         "name": "MorenoValley",
         "orientation": "v",
         "showlegend": true,
         "type": "scatter",
         "x": [
          51.475
         ],
         "xaxis": "x",
         "y": [
          193365
         ],
         "yaxis": "y"
        },
        {
         "hovertemplate": "city=MorganHill<br>area_total_sq_mi=%{x}<br>population_total=%{marker.size}<extra></extra>",
         "legendgroup": "MorganHill",
         "marker": {
          "color": "#636efa",
          "size": [
           37882
          ],
          "sizemode": "area",
          "sizeref": 9710.7675,
          "symbol": "circle"
         },
         "mode": "markers",
         "name": "MorganHill",
         "orientation": "v",
         "showlegend": true,
         "type": "scatter",
         "x": [
          12.882
         ],
         "xaxis": "x",
         "y": [
          37882
         ],
         "yaxis": "y"
        },
        {
         "hovertemplate": "city=MorroBay<br>area_total_sq_mi=%{x}<br>population_total=%{marker.size}<extra></extra>",
         "legendgroup": "MorroBay",
         "marker": {
          "color": "#EF553B",
          "size": [
           10234
          ],
          "sizemode": "area",
          "sizeref": 9710.7675,
          "symbol": "circle"
         },
         "mode": "markers",
         "name": "MorroBay",
         "orientation": "v",
         "showlegend": true,
         "type": "scatter",
         "x": [
          10.322
         ],
         "xaxis": "x",
         "y": [
          10234
         ],
         "yaxis": "y"
        },
        {
         "hovertemplate": "city=MountainView<br>area_total_sq_mi=%{x}<br>population_total=%{marker.size}<extra></extra>",
         "legendgroup": "MountainView",
         "marker": {
          "color": "#00cc96",
          "size": [
           74066
          ],
          "sizemode": "area",
          "sizeref": 9710.7675,
          "symbol": "circle"
         },
         "mode": "markers",
         "name": "MountainView",
         "orientation": "v",
         "showlegend": true,
         "type": "scatter",
         "x": [
          12.273
         ],
         "xaxis": "x",
         "y": [
          74066
         ],
         "yaxis": "y"
        },
        {
         "hovertemplate": "city=MountShasta<br>area_total_sq_mi=%{x}<br>population_total=%{marker.size}<extra></extra>",
         "legendgroup": "MountShasta",
         "marker": {
          "color": "#ab63fa",
          "size": [
           3394
          ],
          "sizemode": "area",
          "sizeref": 9710.7675,
          "symbol": "circle"
         },
         "mode": "markers",
         "name": "MountShasta",
         "orientation": "v",
         "showlegend": true,
         "type": "scatter",
         "x": [
          3.77
         ],
         "xaxis": "x",
         "y": [
          3394
         ],
         "yaxis": "y"
        },
        {
         "hovertemplate": "city=Murrieta<br>area_total_sq_mi=%{x}<br>population_total=%{marker.size}<extra></extra>",
         "legendgroup": "Murrieta",
         "marker": {
          "color": "#FFA15A",
          "size": [
           103466
          ],
          "sizemode": "area",
          "sizeref": 9710.7675,
          "symbol": "circle"
         },
         "mode": "markers",
         "name": "Murrieta",
         "orientation": "v",
         "showlegend": true,
         "type": "scatter",
         "x": [
          33.613
         ],
         "xaxis": "x",
         "y": [
          103466
         ],
         "yaxis": "y"
        },
        {
         "hovertemplate": "city=Napa<br>area_total_sq_mi=%{x}<br>population_total=%{marker.size}<extra></extra>",
         "legendgroup": "Napa",
         "marker": {
          "color": "#19d3f3",
          "size": [
           76915
          ],
          "sizemode": "area",
          "sizeref": 9710.7675,
          "symbol": "circle"
         },
         "mode": "markers",
         "name": "Napa",
         "orientation": "v",
         "showlegend": true,
         "type": "scatter",
         "x": [
          18.147000000000002
         ],
         "xaxis": "x",
         "y": [
          76915
         ],
         "yaxis": "y"
        },
        {
         "hovertemplate": "city=NationalCity<br>area_total_sq_mi=%{x}<br>population_total=%{marker.size}<extra></extra>",
         "legendgroup": "NationalCity",
         "marker": {
          "color": "#FF6692",
          "size": [
           58582
          ],
          "sizemode": "area",
          "sizeref": 9710.7675,
          "symbol": "circle"
         },
         "mode": "markers",
         "name": "NationalCity",
         "orientation": "v",
         "showlegend": true,
         "type": "scatter",
         "x": [
          9.116
         ],
         "xaxis": "x",
         "y": [
          58582
         ],
         "yaxis": "y"
        },
        {
         "hovertemplate": "city=Needles<br>area_total_sq_mi=%{x}<br>population_total=%{marker.size}<extra></extra>",
         "legendgroup": "Needles",
         "marker": {
          "color": "#B6E880",
          "size": [
           4844
          ],
          "sizemode": "area",
          "sizeref": 9710.7675,
          "symbol": "circle"
         },
         "mode": "markers",
         "name": "Needles",
         "orientation": "v",
         "showlegend": true,
         "type": "scatter",
         "x": [
          31.275000000000002
         ],
         "xaxis": "x",
         "y": [
          4844
         ],
         "yaxis": "y"
        },
        {
         "hovertemplate": "city=NevadaCity<br>area_total_sq_mi=%{x}<br>population_total=%{marker.size}<extra></extra>",
         "legendgroup": "NevadaCity",
         "marker": {
          "color": "#FF97FF",
          "size": [
           3068
          ],
          "sizemode": "area",
          "sizeref": 9710.7675,
          "symbol": "circle"
         },
         "mode": "markers",
         "name": "NevadaCity",
         "orientation": "v",
         "showlegend": true,
         "type": "scatter",
         "x": [
          2.192
         ],
         "xaxis": "x",
         "y": [
          3068
         ],
         "yaxis": "y"
        },
        {
         "hovertemplate": "city=Newark<br>area_total_sq_mi=%{x}<br>population_total=%{marker.size}<extra></extra>",
         "legendgroup": "Newark",
         "marker": {
          "color": "#FECB52",
          "size": [
           43539
          ],
          "sizemode": "area",
          "sizeref": 9710.7675,
          "symbol": "circle"
         },
         "mode": "markers",
         "name": "Newark",
         "orientation": "v",
         "showlegend": true,
         "type": "scatter",
         "x": [
          13.898
         ],
         "xaxis": "x",
         "y": [
          43539
         ],
         "yaxis": "y"
        },
        {
         "hovertemplate": "city=Newman<br>area_total_sq_mi=%{x}<br>population_total=%{marker.size}<extra></extra>",
         "legendgroup": "Newman",
         "marker": {
          "color": "#636efa",
          "size": [
           10224
          ],
          "sizemode": "area",
          "sizeref": 9710.7675,
          "symbol": "circle"
         },
         "mode": "markers",
         "name": "Newman",
         "orientation": "v",
         "showlegend": true,
         "type": "scatter",
         "x": [
          2.102
         ],
         "xaxis": "x",
         "y": [
          10224
         ],
         "yaxis": "y"
        },
        {
         "hovertemplate": "city=NewportBeach<br>area_total_sq_mi=%{x}<br>population_total=%{marker.size}<extra></extra>",
         "legendgroup": "NewportBeach",
         "marker": {
          "color": "#EF553B",
          "size": [
           85186
          ],
          "sizemode": "area",
          "sizeref": 9710.7675,
          "symbol": "circle"
         },
         "mode": "markers",
         "name": "NewportBeach",
         "orientation": "v",
         "showlegend": true,
         "type": "scatter",
         "x": [
          52.977999999999994
         ],
         "xaxis": "x",
         "y": [
          85186
         ],
         "yaxis": "y"
        },
        {
         "hovertemplate": "city=Norco<br>area_total_sq_mi=%{x}<br>population_total=%{marker.size}<extra></extra>",
         "legendgroup": "Norco",
         "marker": {
          "color": "#00cc96",
          "size": [
           27063
          ],
          "sizemode": "area",
          "sizeref": 9710.7675,
          "symbol": "circle"
         },
         "mode": "markers",
         "name": "Norco",
         "orientation": "v",
         "showlegend": true,
         "type": "scatter",
         "x": [
          14.278
         ],
         "xaxis": "x",
         "y": [
          27063
         ],
         "yaxis": "y"
        },
        {
         "hovertemplate": "city=Norwalk<br>area_total_sq_mi=%{x}<br>population_total=%{marker.size}<extra></extra>",
         "legendgroup": "Norwalk",
         "marker": {
          "color": "#ab63fa",
          "size": [
           105549
          ],
          "sizemode": "area",
          "sizeref": 9710.7675,
          "symbol": "circle"
         },
         "mode": "markers",
         "name": "Norwalk",
         "orientation": "v",
         "showlegend": true,
         "type": "scatter",
         "x": [
          9.746
         ],
         "xaxis": "x",
         "y": [
          105549
         ],
         "yaxis": "y"
        },
        {
         "hovertemplate": "city=Novato<br>area_total_sq_mi=%{x}<br>population_total=%{marker.size}<extra></extra>",
         "legendgroup": "Novato",
         "marker": {
          "color": "#FFA15A",
          "size": [
           51904
          ],
          "sizemode": "area",
          "sizeref": 9710.7675,
          "symbol": "circle"
         },
         "mode": "markers",
         "name": "Novato",
         "orientation": "v",
         "showlegend": true,
         "type": "scatter",
         "x": [
          27.957
         ],
         "xaxis": "x",
         "y": [
          51904
         ],
         "yaxis": "y"
        },
        {
         "hovertemplate": "city=Oakdale<br>area_total_sq_mi=%{x}<br>population_total=%{marker.size}<extra></extra>",
         "legendgroup": "Oakdale",
         "marker": {
          "color": "#19d3f3",
          "size": [
           20675
          ],
          "sizemode": "area",
          "sizeref": 9710.7675,
          "symbol": "circle"
         },
         "mode": "markers",
         "name": "Oakdale",
         "orientation": "v",
         "showlegend": true,
         "type": "scatter",
         "x": [
          6.095
         ],
         "xaxis": "x",
         "y": [
          20675
         ],
         "yaxis": "y"
        },
        {
         "hovertemplate": "city=Oakland<br>area_total_sq_mi=%{x}<br>population_total=%{marker.size}<extra></extra>",
         "legendgroup": "Oakland",
         "marker": {
          "color": "#FF6692",
          "size": [
           406253
          ],
          "sizemode": "area",
          "sizeref": 9710.7675,
          "symbol": "circle"
         },
         "mode": "markers",
         "name": "Oakland",
         "orientation": "v",
         "showlegend": true,
         "type": "scatter",
         "x": [
          78.00200000000001
         ],
         "xaxis": "x",
         "y": [
          406253
         ],
         "yaxis": "y"
        },
        {
         "hovertemplate": "city=Oakley<br>area_total_sq_mi=%{x}<br>population_total=%{marker.size}<extra></extra>",
         "legendgroup": "Oakley",
         "marker": {
          "color": "#B6E880",
          "size": [
           35432
          ],
          "sizemode": "area",
          "sizeref": 9710.7675,
          "symbol": "circle"
         },
         "mode": "markers",
         "name": "Oakley",
         "orientation": "v",
         "showlegend": true,
         "type": "scatter",
         "x": [
          16.155
         ],
         "xaxis": "x",
         "y": [
          35432
         ],
         "yaxis": "y"
        },
        {
         "hovertemplate": "city=Oceanside<br>area_total_sq_mi=%{x}<br>population_total=%{marker.size}<extra></extra>",
         "legendgroup": "Oceanside",
         "marker": {
          "color": "#FF97FF",
          "size": [
           183095
          ],
          "sizemode": "area",
          "sizeref": 9710.7675,
          "symbol": "circle"
         },
         "mode": "markers",
         "name": "Oceanside",
         "orientation": "v",
         "showlegend": true,
         "type": "scatter",
         "x": [
          42.174
         ],
         "xaxis": "x",
         "y": [
          183095
         ],
         "yaxis": "y"
        },
        {
         "hovertemplate": "city=Ojai<br>area_total_sq_mi=%{x}<br>population_total=%{marker.size}<extra></extra>",
         "legendgroup": "Ojai",
         "marker": {
          "color": "#FECB52",
          "size": [
           7461
          ],
          "sizemode": "area",
          "sizeref": 9710.7675,
          "symbol": "circle"
         },
         "mode": "markers",
         "name": "Ojai",
         "orientation": "v",
         "showlegend": true,
         "type": "scatter",
         "x": [
          4.401
         ],
         "xaxis": "x",
         "y": [
          7461
         ],
         "yaxis": "y"
        },
        {
         "hovertemplate": "city=Ontario<br>area_total_sq_mi=%{x}<br>population_total=%{marker.size}<extra></extra>",
         "legendgroup": "Ontario",
         "marker": {
          "color": "#636efa",
          "size": [
           163924
          ],
          "sizemode": "area",
          "sizeref": 9710.7675,
          "symbol": "circle"
         },
         "mode": "markers",
         "name": "Ontario",
         "orientation": "v",
         "showlegend": true,
         "type": "scatter",
         "x": [
          50.006
         ],
         "xaxis": "x",
         "y": [
          163924
         ],
         "yaxis": "y"
        },
        {
         "hovertemplate": "city=Orange<br>area_total_sq_mi=%{x}<br>population_total=%{marker.size}<extra></extra>",
         "legendgroup": "Orange",
         "marker": {
          "color": "#EF553B",
          "size": [
           136416
          ],
          "sizemode": "area",
          "sizeref": 9710.7675,
          "symbol": "circle"
         },
         "mode": "markers",
         "name": "Orange",
         "orientation": "v",
         "showlegend": true,
         "type": "scatter",
         "x": [
          25.240000000000002
         ],
         "xaxis": "x",
         "y": [
          136416
         ],
         "yaxis": "y"
        },
        {
         "hovertemplate": "city=OrangeCove<br>area_total_sq_mi=%{x}<br>population_total=%{marker.size}<extra></extra>",
         "legendgroup": "OrangeCove",
         "marker": {
          "color": "#00cc96",
          "size": [
           9078
          ],
          "sizemode": "area",
          "sizeref": 9710.7675,
          "symbol": "circle"
         },
         "mode": "markers",
         "name": "OrangeCove",
         "orientation": "v",
         "showlegend": true,
         "type": "scatter",
         "x": [
          1.912
         ],
         "xaxis": "x",
         "y": [
          9078
         ],
         "yaxis": "y"
        },
        {
         "hovertemplate": "city=Orinda<br>area_total_sq_mi=%{x}<br>population_total=%{marker.size}<extra></extra>",
         "legendgroup": "Orinda",
         "marker": {
          "color": "#ab63fa",
          "size": [
           18342
          ],
          "sizemode": "area",
          "sizeref": 9710.7675,
          "symbol": "circle"
         },
         "mode": "markers",
         "name": "Orinda",
         "orientation": "v",
         "showlegend": true,
         "type": "scatter",
         "x": [
          12.698
         ],
         "xaxis": "x",
         "y": [
          18342
         ],
         "yaxis": "y"
        },
        {
         "hovertemplate": "city=Orland<br>area_total_sq_mi=%{x}<br>population_total=%{marker.size}<extra></extra>",
         "legendgroup": "Orland",
         "marker": {
          "color": "#FFA15A",
          "size": [
           7291
          ],
          "sizemode": "area",
          "sizeref": 9710.7675,
          "symbol": "circle"
         },
         "mode": "markers",
         "name": "Orland",
         "orientation": "v",
         "showlegend": true,
         "type": "scatter",
         "x": [
          2.971
         ],
         "xaxis": "x",
         "y": [
          7291
         ],
         "yaxis": "y"
        },
        {
         "hovertemplate": "city=Oroville<br>area_total_sq_mi=%{x}<br>population_total=%{marker.size}<extra></extra>",
         "legendgroup": "Oroville",
         "marker": {
          "color": "#19d3f3",
          "size": [
           15506
          ],
          "sizemode": "area",
          "sizeref": 9710.7675,
          "symbol": "circle"
         },
         "mode": "markers",
         "name": "Oroville",
         "orientation": "v",
         "showlegend": true,
         "type": "scatter",
         "x": [
          13.011000000000001
         ],
         "xaxis": "x",
         "y": [
          15506
         ],
         "yaxis": "y"
        },
        {
         "hovertemplate": "city=Oxnard<br>area_total_sq_mi=%{x}<br>population_total=%{marker.size}<extra></extra>",
         "legendgroup": "Oxnard",
         "marker": {
          "color": "#FF6692",
          "size": [
           203585
          ],
          "sizemode": "area",
          "sizeref": 9710.7675,
          "symbol": "circle"
         },
         "mode": "markers",
         "name": "Oxnard",
         "orientation": "v",
         "showlegend": true,
         "type": "scatter",
         "x": [
          39.208
         ],
         "xaxis": "x",
         "y": [
          203585
         ],
         "yaxis": "y"
        },
        {
         "hovertemplate": "city=Pacifica<br>area_total_sq_mi=%{x}<br>population_total=%{marker.size}<extra></extra>",
         "legendgroup": "Pacifica",
         "marker": {
          "color": "#B6E880",
          "size": [
           37234
          ],
          "sizemode": "area",
          "sizeref": 9710.7675,
          "symbol": "circle"
         },
         "mode": "markers",
         "name": "Pacifica",
         "orientation": "v",
         "showlegend": true,
         "type": "scatter",
         "x": [
          12.66
         ],
         "xaxis": "x",
         "y": [
          37234
         ],
         "yaxis": "y"
        },
        {
         "hovertemplate": "city=PacificGrove<br>area_total_sq_mi=%{x}<br>population_total=%{marker.size}<extra></extra>",
         "legendgroup": "PacificGrove",
         "marker": {
          "color": "#FF97FF",
          "size": [
           15295
          ],
          "sizemode": "area",
          "sizeref": 9710.7675,
          "symbol": "circle"
         },
         "mode": "markers",
         "name": "PacificGrove",
         "orientation": "v",
         "showlegend": true,
         "type": "scatter",
         "x": [
          4.003
         ],
         "xaxis": "x",
         "y": [
          15295
         ],
         "yaxis": "y"
        },
        {
         "hovertemplate": "city=Palmdale<br>area_total_sq_mi=%{x}<br>population_total=%{marker.size}<extra></extra>",
         "legendgroup": "Palmdale",
         "marker": {
          "color": "#FECB52",
          "size": [
           152750
          ],
          "sizemode": "area",
          "sizeref": 9710.7675,
          "symbol": "circle"
         },
         "mode": "markers",
         "name": "Palmdale",
         "orientation": "v",
         "showlegend": true,
         "type": "scatter",
         "x": [
          106.216
         ],
         "xaxis": "x",
         "y": [
          152750
         ],
         "yaxis": "y"
        },
        {
         "hovertemplate": "city=PalmDesert<br>area_total_sq_mi=%{x}<br>population_total=%{marker.size}<extra></extra>",
         "legendgroup": "PalmDesert",
         "marker": {
          "color": "#636efa",
          "size": [
           48445
          ],
          "sizemode": "area",
          "sizeref": 9710.7675,
          "symbol": "circle"
         },
         "mode": "markers",
         "name": "PalmDesert",
         "orientation": "v",
         "showlegend": true,
         "type": "scatter",
         "x": [
          27.014
         ],
         "xaxis": "x",
         "y": [
          48445
         ],
         "yaxis": "y"
        },
        {
         "hovertemplate": "city=PalmSprings<br>area_total_sq_mi=%{x}<br>population_total=%{marker.size}<extra></extra>",
         "legendgroup": "PalmSprings",
         "marker": {
          "color": "#EF553B",
          "size": [
           44552
          ],
          "sizemode": "area",
          "sizeref": 9710.7675,
          "symbol": "circle"
         },
         "mode": "markers",
         "name": "PalmSprings",
         "orientation": "v",
         "showlegend": true,
         "type": "scatter",
         "x": [
          94.975
         ],
         "xaxis": "x",
         "y": [
          44552
         ],
         "yaxis": "y"
        },
        {
         "hovertemplate": "city=PaloAlto<br>area_total_sq_mi=%{x}<br>population_total=%{marker.size}<extra></extra>",
         "legendgroup": "PaloAlto",
         "marker": {
          "color": "#00cc96",
          "size": [
           64403
          ],
          "sizemode": "area",
          "sizeref": 9710.7675,
          "symbol": "circle"
         },
         "mode": "markers",
         "name": "PaloAlto",
         "orientation": "v",
         "showlegend": true,
         "type": "scatter",
         "x": [
          25.787
         ],
         "xaxis": "x",
         "y": [
          64403
         ],
         "yaxis": "y"
        },
        {
         "hovertemplate": "city=PalosVerdesEstates<br>area_total_sq_mi=%{x}<br>population_total=%{marker.size}<extra></extra>",
         "legendgroup": "PalosVerdesEstates",
         "marker": {
          "color": "#ab63fa",
          "size": [
           13438
          ],
          "sizemode": "area",
          "sizeref": 9710.7675,
          "symbol": "circle"
         },
         "mode": "markers",
         "name": "PalosVerdesEstates",
         "orientation": "v",
         "showlegend": true,
         "type": "scatter",
         "x": [
          4.774
         ],
         "xaxis": "x",
         "y": [
          13438
         ],
         "yaxis": "y"
        },
        {
         "hovertemplate": "city=Paradise<br>area_total_sq_mi=%{x}<br>population_total=%{marker.size}<extra></extra>",
         "legendgroup": "Paradise",
         "marker": {
          "color": "#FFA15A",
          "size": [
           26249
          ],
          "sizemode": "area",
          "sizeref": 9710.7675,
          "symbol": "circle"
         },
         "mode": "markers",
         "name": "Paradise",
         "orientation": "v",
         "showlegend": true,
         "type": "scatter",
         "x": [
          18.322
         ],
         "xaxis": "x",
         "y": [
          26249
         ],
         "yaxis": "y"
        },
        {
         "hovertemplate": "city=Paramount<br>area_total_sq_mi=%{x}<br>population_total=%{marker.size}<extra></extra>",
         "legendgroup": "Paramount",
         "marker": {
          "color": "#19d3f3",
          "size": [
           54098
          ],
          "sizemode": "area",
          "sizeref": 9710.7675,
          "symbol": "circle"
         },
         "mode": "markers",
         "name": "Paramount",
         "orientation": "v",
         "showlegend": true,
         "type": "scatter",
         "x": [
          4.84
         ],
         "xaxis": "x",
         "y": [
          54098
         ],
         "yaxis": "y"
        },
        {
         "hovertemplate": "city=Parlier<br>area_total_sq_mi=%{x}<br>population_total=%{marker.size}<extra></extra>",
         "legendgroup": "Parlier",
         "marker": {
          "color": "#FF6692",
          "size": [
           14494
          ],
          "sizemode": "area",
          "sizeref": 9710.7675,
          "symbol": "circle"
         },
         "mode": "markers",
         "name": "Parlier",
         "orientation": "v",
         "showlegend": true,
         "type": "scatter",
         "x": [
          2.194
         ],
         "xaxis": "x",
         "y": [
          14494
         ],
         "yaxis": "y"
        },
        {
         "hovertemplate": "city=Pasadena<br>area_total_sq_mi=%{x}<br>population_total=%{marker.size}<extra></extra>",
         "legendgroup": "Pasadena",
         "marker": {
          "color": "#B6E880",
          "size": [
           137122
          ],
          "sizemode": "area",
          "sizeref": 9710.7675,
          "symbol": "circle"
         },
         "mode": "markers",
         "name": "Pasadena",
         "orientation": "v",
         "showlegend": true,
         "type": "scatter",
         "x": [
          23.128
         ],
         "xaxis": "x",
         "y": [
          137122
         ],
         "yaxis": "y"
        },
        {
         "hovertemplate": "city=PasoRobles<br>area_total_sq_mi=%{x}<br>population_total=%{marker.size}<extra></extra>",
         "legendgroup": "PasoRobles",
         "marker": {
          "color": "#FF97FF",
          "size": [
           29792
          ],
          "sizemode": "area",
          "sizeref": 9710.7675,
          "symbol": "circle"
         },
         "mode": "markers",
         "name": "PasoRobles",
         "orientation": "v",
         "showlegend": true,
         "type": "scatter",
         "x": [
          19.425
         ],
         "xaxis": "x",
         "y": [
          29792
         ],
         "yaxis": "y"
        },
        {
         "hovertemplate": "city=Patterson<br>area_total_sq_mi=%{x}<br>population_total=%{marker.size}<extra></extra>",
         "legendgroup": "Patterson",
         "marker": {
          "color": "#FECB52",
          "size": [
           20413
          ],
          "sizemode": "area",
          "sizeref": 9710.7675,
          "symbol": "circle"
         },
         "mode": "markers",
         "name": "Patterson",
         "orientation": "v",
         "showlegend": true,
         "type": "scatter",
         "x": [
          5.954
         ],
         "xaxis": "x",
         "y": [
          20413
         ],
         "yaxis": "y"
        },
        {
         "hovertemplate": "city=Perris<br>area_total_sq_mi=%{x}<br>population_total=%{marker.size}<extra></extra>",
         "legendgroup": "Perris",
         "marker": {
          "color": "#636efa",
          "size": [
           71326
          ],
          "sizemode": "area",
          "sizeref": 9710.7675,
          "symbol": "circle"
         },
         "mode": "markers",
         "name": "Perris",
         "orientation": "v",
         "showlegend": true,
         "type": "scatter",
         "x": [
          31.503
         ],
         "xaxis": "x",
         "y": [
          71326
         ],
         "yaxis": "y"
        },
        {
         "hovertemplate": "city=Petaluma<br>area_total_sq_mi=%{x}<br>population_total=%{marker.size}<extra></extra>",
         "legendgroup": "Petaluma",
         "marker": {
          "color": "#EF553B",
          "size": [
           58921
          ],
          "sizemode": "area",
          "sizeref": 9710.7675,
          "symbol": "circle"
         },
         "mode": "markers",
         "name": "Petaluma",
         "orientation": "v",
         "showlegend": true,
         "type": "scatter",
         "x": [
          14.488999999999999
         ],
         "xaxis": "x",
         "y": [
          58921
         ],
         "yaxis": "y"
        },
        {
         "hovertemplate": "city=PicoRivera<br>area_total_sq_mi=%{x}<br>population_total=%{marker.size}<extra></extra>",
         "legendgroup": "PicoRivera",
         "marker": {
          "color": "#00cc96",
          "size": [
           62942
          ],
          "sizemode": "area",
          "sizeref": 9710.7675,
          "symbol": "circle"
         },
         "mode": "markers",
         "name": "PicoRivera",
         "orientation": "v",
         "showlegend": true,
         "type": "scatter",
         "x": [
          8.882
         ],
         "xaxis": "x",
         "y": [
          62942
         ],
         "yaxis": "y"
        },
        {
         "hovertemplate": "city=Piedmont<br>area_total_sq_mi=%{x}<br>population_total=%{marker.size}<extra></extra>",
         "legendgroup": "Piedmont",
         "marker": {
          "color": "#ab63fa",
          "size": [
           10667
          ],
          "sizemode": "area",
          "sizeref": 9710.7675,
          "symbol": "circle"
         },
         "mode": "markers",
         "name": "Piedmont",
         "orientation": "v",
         "showlegend": true,
         "type": "scatter",
         "x": [
          1.6780000000000002
         ],
         "xaxis": "x",
         "y": [
          10667
         ],
         "yaxis": "y"
        },
        {
         "hovertemplate": "city=Pinole<br>area_total_sq_mi=%{x}<br>population_total=%{marker.size}<extra></extra>",
         "legendgroup": "Pinole",
         "marker": {
          "color": "#FFA15A",
          "size": [
           18390
          ],
          "sizemode": "area",
          "sizeref": 9710.7675,
          "symbol": "circle"
         },
         "mode": "markers",
         "name": "Pinole",
         "orientation": "v",
         "showlegend": true,
         "type": "scatter",
         "x": [
          13.575000000000001
         ],
         "xaxis": "x",
         "y": [
          18390
         ],
         "yaxis": "y"
        },
        {
         "hovertemplate": "city=PismoBeach<br>area_total_sq_mi=%{x}<br>population_total=%{marker.size}<extra></extra>",
         "legendgroup": "PismoBeach",
         "marker": {
          "color": "#19d3f3",
          "size": [
           7655
          ],
          "sizemode": "area",
          "sizeref": 9710.7675,
          "symbol": "circle"
         },
         "mode": "markers",
         "name": "PismoBeach",
         "orientation": "v",
         "showlegend": true,
         "type": "scatter",
         "x": [
          13.476
         ],
         "xaxis": "x",
         "y": [
          7655
         ],
         "yaxis": "y"
        },
        {
         "hovertemplate": "city=Pittsburg<br>area_total_sq_mi=%{x}<br>population_total=%{marker.size}<extra></extra>",
         "legendgroup": "Pittsburg",
         "marker": {
          "color": "#FF6692",
          "size": [
           63264
          ],
          "sizemode": "area",
          "sizeref": 9710.7675,
          "symbol": "circle"
         },
         "mode": "markers",
         "name": "Pittsburg",
         "orientation": "v",
         "showlegend": true,
         "type": "scatter",
         "x": [
          19.154
         ],
         "xaxis": "x",
         "y": [
          63264
         ],
         "yaxis": "y"
        },
        {
         "hovertemplate": "city=Placentia<br>area_total_sq_mi=%{x}<br>population_total=%{marker.size}<extra></extra>",
         "legendgroup": "Placentia",
         "marker": {
          "color": "#B6E880",
          "size": [
           50533
          ],
          "sizemode": "area",
          "sizeref": 9710.7675,
          "symbol": "circle"
         },
         "mode": "markers",
         "name": "Placentia",
         "orientation": "v",
         "showlegend": true,
         "type": "scatter",
         "x": [
          6.582
         ],
         "xaxis": "x",
         "y": [
          50533
         ],
         "yaxis": "y"
        },
        {
         "hovertemplate": "city=Placerville<br>area_total_sq_mi=%{x}<br>population_total=%{marker.size}<extra></extra>",
         "legendgroup": "Placerville",
         "marker": {
          "color": "#FF97FF",
          "size": [
           10389
          ],
          "sizemode": "area",
          "sizeref": 9710.7675,
          "symbol": "circle"
         },
         "mode": "markers",
         "name": "Placerville",
         "orientation": "v",
         "showlegend": true,
         "type": "scatter",
         "x": [
          5.813000000000001
         ],
         "xaxis": "x",
         "y": [
          10389
         ],
         "yaxis": "y"
        },
        {
         "hovertemplate": "city=PleasantHill<br>area_total_sq_mi=%{x}<br>population_total=%{marker.size}<extra></extra>",
         "legendgroup": "PleasantHill",
         "marker": {
          "color": "#FECB52",
          "size": [
           33152
          ],
          "sizemode": "area",
          "sizeref": 9710.7675,
          "symbol": "circle"
         },
         "mode": "markers",
         "name": "PleasantHill",
         "orientation": "v",
         "showlegend": true,
         "type": "scatter",
         "x": [
          7.072
         ],
         "xaxis": "x",
         "y": [
          33152
         ],
         "yaxis": "y"
        },
        {
         "hovertemplate": "city=Pleasanton<br>area_total_sq_mi=%{x}<br>population_total=%{marker.size}<extra></extra>",
         "legendgroup": "Pleasanton",
         "marker": {
          "color": "#636efa",
          "size": [
           70285
          ],
          "sizemode": "area",
          "sizeref": 9710.7675,
          "symbol": "circle"
         },
         "mode": "markers",
         "name": "Pleasanton",
         "orientation": "v",
         "showlegend": true,
         "type": "scatter",
         "x": [
          24.266000000000002
         ],
         "xaxis": "x",
         "y": [
          70285
         ],
         "yaxis": "y"
        },
        {
         "hovertemplate": "city=Plymouth<br>area_total_sq_mi=%{x}<br>population_total=%{marker.size}<extra></extra>",
         "legendgroup": "Plymouth",
         "marker": {
          "color": "#EF553B",
          "size": [
           1005
          ],
          "sizemode": "area",
          "sizeref": 9710.7675,
          "symbol": "circle"
         },
         "mode": "markers",
         "name": "Plymouth",
         "orientation": "v",
         "showlegend": true,
         "type": "scatter",
         "x": [
          0.9440000000000001
         ],
         "xaxis": "x",
         "y": [
          1005
         ],
         "yaxis": "y"
        },
        {
         "hovertemplate": "city=PointArena<br>area_total_sq_mi=%{x}<br>population_total=%{marker.size}<extra></extra>",
         "legendgroup": "PointArena",
         "marker": {
          "color": "#00cc96",
          "size": [
           449
          ],
          "sizemode": "area",
          "sizeref": 9710.7675,
          "symbol": "circle"
         },
         "mode": "markers",
         "name": "PointArena",
         "orientation": "v",
         "showlegend": true,
         "type": "scatter",
         "x": [
          1.35
         ],
         "xaxis": "x",
         "y": [
          449
         ],
         "yaxis": "y"
        },
        {
         "hovertemplate": "city=Pomona<br>area_total_sq_mi=%{x}<br>population_total=%{marker.size}<extra></extra>",
         "legendgroup": "Pomona",
         "marker": {
          "color": "#ab63fa",
          "size": [
           1
          ],
          "sizemode": "area",
          "sizeref": 9710.7675,
          "symbol": "circle"
         },
         "mode": "markers",
         "name": "Pomona",
         "orientation": "v",
         "showlegend": true,
         "type": "scatter",
         "x": [
          22.964000000000002
         ],
         "xaxis": "x",
         "y": [
          1
         ],
         "yaxis": "y"
        },
        {
         "hovertemplate": "city=Porterville<br>area_total_sq_mi=%{x}<br>population_total=%{marker.size}<extra></extra>",
         "legendgroup": "Porterville",
         "marker": {
          "color": "#FFA15A",
          "size": [
           55697
          ],
          "sizemode": "area",
          "sizeref": 9710.7675,
          "symbol": "circle"
         },
         "mode": "markers",
         "name": "Porterville",
         "orientation": "v",
         "showlegend": true,
         "type": "scatter",
         "x": [
          17.679
         ],
         "xaxis": "x",
         "y": [
          55697
         ],
         "yaxis": "y"
        },
        {
         "hovertemplate": "city=PortHueneme<br>area_total_sq_mi=%{x}<br>population_total=%{marker.size}<extra></extra>",
         "legendgroup": "PortHueneme",
         "marker": {
          "color": "#19d3f3",
          "size": [
           21723
          ],
          "sizemode": "area",
          "sizeref": 9710.7675,
          "symbol": "circle"
         },
         "mode": "markers",
         "name": "PortHueneme",
         "orientation": "v",
         "showlegend": true,
         "type": "scatter",
         "x": [
          4.671
         ],
         "xaxis": "x",
         "y": [
          21723
         ],
         "yaxis": "y"
        },
        {
         "hovertemplate": "city=Portola<br>area_total_sq_mi=%{x}<br>population_total=%{marker.size}<extra></extra>",
         "legendgroup": "Portola",
         "marker": {
          "color": "#FF6692",
          "size": [
           2104
          ],
          "sizemode": "area",
          "sizeref": 9710.7675,
          "symbol": "circle"
         },
         "mode": "markers",
         "name": "Portola",
         "orientation": "v",
         "showlegend": true,
         "type": "scatter",
         "x": [
          5.407
         ],
         "xaxis": "x",
         "y": [
          2104
         ],
         "yaxis": "y"
        },
        {
         "hovertemplate": "city=PortolaValley<br>area_total_sq_mi=%{x}<br>population_total=%{marker.size}<extra></extra>",
         "legendgroup": "PortolaValley",
         "marker": {
          "color": "#B6E880",
          "size": [
           4353
          ],
          "sizemode": "area",
          "sizeref": 9710.7675,
          "symbol": "circle"
         },
         "mode": "markers",
         "name": "PortolaValley",
         "orientation": "v",
         "showlegend": true,
         "type": "scatter",
         "x": [
          9.093
         ],
         "xaxis": "x",
         "y": [
          4353
         ],
         "yaxis": "y"
        },
        {
         "hovertemplate": "city=Poway<br>area_total_sq_mi=%{x}<br>population_total=%{marker.size}<extra></extra>",
         "legendgroup": "Poway",
         "marker": {
          "color": "#FF97FF",
          "size": [
           47811
          ],
          "sizemode": "area",
          "sizeref": 9710.7675,
          "symbol": "circle"
         },
         "mode": "markers",
         "name": "Poway",
         "orientation": "v",
         "showlegend": true,
         "type": "scatter",
         "x": [
          39.165
         ],
         "xaxis": "x",
         "y": [
          47811
         ],
         "yaxis": "y"
        },
        {
         "hovertemplate": "city=RanchoCordova<br>area_total_sq_mi=%{x}<br>population_total=%{marker.size}<extra></extra>",
         "legendgroup": "RanchoCordova",
         "marker": {
          "color": "#FECB52",
          "size": [
           64776
          ],
          "sizemode": "area",
          "sizeref": 9710.7675,
          "symbol": "circle"
         },
         "mode": "markers",
         "name": "RanchoCordova",
         "orientation": "v",
         "showlegend": true,
         "type": "scatter",
         "x": [
          33.873999999999995
         ],
         "xaxis": "x",
         "y": [
          64776
         ],
         "yaxis": "y"
        },
        {
         "hovertemplate": "city=RanchoCucamonga<br>area_total_sq_mi=%{x}<br>population_total=%{marker.size}<extra></extra>",
         "legendgroup": "RanchoCucamonga",
         "marker": {
          "color": "#636efa",
          "size": [
           170746
          ],
          "sizemode": "area",
          "sizeref": 9710.7675,
          "symbol": "circle"
         },
         "mode": "markers",
         "name": "RanchoCucamonga",
         "orientation": "v",
         "showlegend": true,
         "type": "scatter",
         "x": [
          39.871
         ],
         "xaxis": "x",
         "y": [
          170746
         ],
         "yaxis": "y"
        },
        {
         "hovertemplate": "city=RanchoMirage<br>area_total_sq_mi=%{x}<br>population_total=%{marker.size}<extra></extra>",
         "legendgroup": "RanchoMirage",
         "marker": {
          "color": "#EF553B",
          "size": [
           17218
          ],
          "sizemode": "area",
          "sizeref": 9710.7675,
          "symbol": "circle"
         },
         "mode": "markers",
         "name": "RanchoMirage",
         "orientation": "v",
         "showlegend": true,
         "type": "scatter",
         "x": [
          24.836
         ],
         "xaxis": "x",
         "y": [
          17218
         ],
         "yaxis": "y"
        },
        {
         "hovertemplate": "city=RanchoPalosVerdes<br>area_total_sq_mi=%{x}<br>population_total=%{marker.size}<extra></extra>",
         "legendgroup": "RanchoPalosVerdes",
         "marker": {
          "color": "#00cc96",
          "size": [
           41643
          ],
          "sizemode": "area",
          "sizeref": 9710.7675,
          "symbol": "circle"
         },
         "mode": "markers",
         "name": "RanchoPalosVerdes",
         "orientation": "v",
         "showlegend": true,
         "type": "scatter",
         "x": [
          13.465
         ],
         "xaxis": "x",
         "y": [
          41643
         ],
         "yaxis": "y"
        },
        {
         "hovertemplate": "city=RanchoSantaMargarita<br>area_total_sq_mi=%{x}<br>population_total=%{marker.size}<extra></extra>",
         "legendgroup": "RanchoSantaMargarita",
         "marker": {
          "color": "#ab63fa",
          "size": [
           47853
          ],
          "sizemode": "area",
          "sizeref": 9710.7675,
          "symbol": "circle"
         },
         "mode": "markers",
         "name": "RanchoSantaMargarita",
         "orientation": "v",
         "showlegend": true,
         "type": "scatter",
         "x": [
          12.992
         ],
         "xaxis": "x",
         "y": [
          47853
         ],
         "yaxis": "y"
        },
        {
         "hovertemplate": "city=RedBluff<br>area_total_sq_mi=%{x}<br>population_total=%{marker.size}<extra></extra>",
         "legendgroup": "RedBluff",
         "marker": {
          "color": "#FFA15A",
          "size": [
           24674
          ],
          "sizemode": "area",
          "sizeref": 9710.7675,
          "symbol": "circle"
         },
         "mode": "markers",
         "name": "RedBluff",
         "orientation": "v",
         "showlegend": true,
         "type": "scatter",
         "x": [
          7.677
         ],
         "xaxis": "x",
         "y": [
          24674
         ],
         "yaxis": "y"
        },
        {
         "hovertemplate": "city=Redding<br>area_total_sq_mi=%{x}<br>population_total=%{marker.size}<extra></extra>",
         "legendgroup": "Redding",
         "marker": {
          "color": "#19d3f3",
          "size": [
           92328
          ],
          "sizemode": "area",
          "sizeref": 9710.7675,
          "symbol": "circle"
         },
         "mode": "markers",
         "name": "Redding",
         "orientation": "v",
         "showlegend": true,
         "type": "scatter",
         "x": [
          61.175
         ],
         "xaxis": "x",
         "y": [
          92328
         ],
         "yaxis": "y"
        },
        {
         "hovertemplate": "city=Redlands<br>area_total_sq_mi=%{x}<br>population_total=%{marker.size}<extra></extra>",
         "legendgroup": "Redlands",
         "marker": {
          "color": "#FF6692",
          "size": [
           68747
          ],
          "sizemode": "area",
          "sizeref": 9710.7675,
          "symbol": "circle"
         },
         "mode": "markers",
         "name": "Redlands",
         "orientation": "v",
         "showlegend": true,
         "type": "scatter",
         "x": [
          36.427
         ],
         "xaxis": "x",
         "y": [
          68747
         ],
         "yaxis": "y"
        },
        {
         "hovertemplate": "city=RedondoBeach<br>area_total_sq_mi=%{x}<br>population_total=%{marker.size}<extra></extra>",
         "legendgroup": "RedondoBeach",
         "marker": {
          "color": "#B6E880",
          "size": [
           66748
          ],
          "sizemode": "area",
          "sizeref": 9710.7675,
          "symbol": "circle"
         },
         "mode": "markers",
         "name": "RedondoBeach",
         "orientation": "v",
         "showlegend": true,
         "type": "scatter",
         "x": [
          6.208
         ],
         "xaxis": "x",
         "y": [
          66748
         ],
         "yaxis": "y"
        },
        {
         "hovertemplate": "city=RedwoodCity<br>area_total_sq_mi=%{x}<br>population_total=%{marker.size}<extra></extra>",
         "legendgroup": "RedwoodCity",
         "marker": {
          "color": "#FF97FF",
          "size": [
           76815
          ],
          "sizemode": "area",
          "sizeref": 9710.7675,
          "symbol": "circle"
         },
         "mode": "markers",
         "name": "RedwoodCity",
         "orientation": "v",
         "showlegend": true,
         "type": "scatter",
         "x": [
          34.625
         ],
         "xaxis": "x",
         "y": [
          76815
         ],
         "yaxis": "y"
        },
        {
         "hovertemplate": "city=Reedley<br>area_total_sq_mi=%{x}<br>population_total=%{marker.size}<extra></extra>",
         "legendgroup": "Reedley",
         "marker": {
          "color": "#FECB52",
          "size": [
           24194
          ],
          "sizemode": "area",
          "sizeref": 9710.7675,
          "symbol": "circle"
         },
         "mode": "markers",
         "name": "Reedley",
         "orientation": "v",
         "showlegend": true,
         "type": "scatter",
         "x": [
          5.156
         ],
         "xaxis": "x",
         "y": [
          24194
         ],
         "yaxis": "y"
        },
        {
         "hovertemplate": "city=Rialto<br>area_total_sq_mi=%{x}<br>population_total=%{marker.size}<extra></extra>",
         "legendgroup": "Rialto",
         "marker": {
          "color": "#636efa",
          "size": [
           101740
          ],
          "sizemode": "area",
          "sizeref": 9710.7675,
          "symbol": "circle"
         },
         "mode": "markers",
         "name": "Rialto",
         "orientation": "v",
         "showlegend": true,
         "type": "scatter",
         "x": [
          22.365
         ],
         "xaxis": "x",
         "y": [
          101740
         ],
         "yaxis": "y"
        },
        {
         "hovertemplate": "city=Richmond<br>area_total_sq_mi=%{x}<br>population_total=%{marker.size}<extra></extra>",
         "legendgroup": "Richmond",
         "marker": {
          "color": "#EF553B",
          "size": [
           103701
          ],
          "sizemode": "area",
          "sizeref": 9710.7675,
          "symbol": "circle"
         },
         "mode": "markers",
         "name": "Richmond",
         "orientation": "v",
         "showlegend": true,
         "type": "scatter",
         "x": [
          52.480000000000004
         ],
         "xaxis": "x",
         "y": [
          103701
         ],
         "yaxis": "y"
        },
        {
         "hovertemplate": "city=Ridgecrest<br>area_total_sq_mi=%{x}<br>population_total=%{marker.size}<extra></extra>",
         "legendgroup": "Ridgecrest",
         "marker": {
          "color": "#00cc96",
          "size": [
           27616
          ],
          "sizemode": "area",
          "sizeref": 9710.7675,
          "symbol": "circle"
         },
         "mode": "markers",
         "name": "Ridgecrest",
         "orientation": "v",
         "showlegend": true,
         "type": "scatter",
         "x": [
          21.416999999999998
         ],
         "xaxis": "x",
         "y": [
          27616
         ],
         "yaxis": "y"
        },
        {
         "hovertemplate": "city=RioDell<br>area_total_sq_mi=%{x}<br>population_total=%{marker.size}<extra></extra>",
         "legendgroup": "RioDell",
         "marker": {
          "color": "#ab63fa",
          "size": [
           3363
          ],
          "sizemode": "area",
          "sizeref": 9710.7675,
          "symbol": "circle"
         },
         "mode": "markers",
         "name": "RioDell",
         "orientation": "v",
         "showlegend": true,
         "type": "scatter",
         "x": [
          2.418
         ],
         "xaxis": "x",
         "y": [
          3363
         ],
         "yaxis": "y"
        },
        {
         "hovertemplate": "city=RioVista<br>area_total_sq_mi=%{x}<br>population_total=%{marker.size}<extra></extra>",
         "legendgroup": "RioVista",
         "marker": {
          "color": "#FFA15A",
          "size": [
           7360
          ],
          "sizemode": "area",
          "sizeref": 9710.7675,
          "symbol": "circle"
         },
         "mode": "markers",
         "name": "RioVista",
         "orientation": "v",
         "showlegend": true,
         "type": "scatter",
         "x": [
          7.093999999999999
         ],
         "xaxis": "x",
         "y": [
          7360
         ],
         "yaxis": "y"
        },
        {
         "hovertemplate": "city=Ripon<br>area_total_sq_mi=%{x}<br>population_total=%{marker.size}<extra></extra>",
         "legendgroup": "Ripon",
         "marker": {
          "color": "#19d3f3",
          "size": [
           14297
          ],
          "sizemode": "area",
          "sizeref": 9710.7675,
          "symbol": "circle"
         },
         "mode": "markers",
         "name": "Ripon",
         "orientation": "v",
         "showlegend": true,
         "type": "scatter",
         "x": [
          5.495
         ],
         "xaxis": "x",
         "y": [
          14297
         ],
         "yaxis": "y"
        },
        {
         "hovertemplate": "city=Riverbank<br>area_total_sq_mi=%{x}<br>population_total=%{marker.size}<extra></extra>",
         "legendgroup": "Riverbank",
         "marker": {
          "color": "#FF6692",
          "size": [
           22678
          ],
          "sizemode": "area",
          "sizeref": 9710.7675,
          "symbol": "circle"
         },
         "mode": "markers",
         "name": "Riverbank",
         "orientation": "v",
         "showlegend": true,
         "type": "scatter",
         "x": [
          4.116
         ],
         "xaxis": "x",
         "y": [
          22678
         ],
         "yaxis": "y"
        },
        {
         "hovertemplate": "city=Riverside<br>area_total_sq_mi=%{x}<br>population_total=%{marker.size}<extra></extra>",
         "legendgroup": "Riverside",
         "marker": {
          "color": "#B6E880",
          "size": [
           313673
          ],
          "sizemode": "area",
          "sizeref": 9710.7675,
          "symbol": "circle"
         },
         "mode": "markers",
         "name": "Riverside",
         "orientation": "v",
         "showlegend": true,
         "type": "scatter",
         "x": [
          81.444
         ],
         "xaxis": "x",
         "y": [
          313673
         ],
         "yaxis": "y"
        },
        {
         "hovertemplate": "city=Rocklin<br>area_total_sq_mi=%{x}<br>population_total=%{marker.size}<extra></extra>",
         "legendgroup": "Rocklin",
         "marker": {
          "color": "#FF97FF",
          "size": [
           56974
          ],
          "sizemode": "area",
          "sizeref": 9710.7675,
          "symbol": "circle"
         },
         "mode": "markers",
         "name": "Rocklin",
         "orientation": "v",
         "showlegend": true,
         "type": "scatter",
         "x": [
          19.594
         ],
         "xaxis": "x",
         "y": [
          56974
         ],
         "yaxis": "y"
        },
        {
         "hovertemplate": "city=RohnertPark<br>area_total_sq_mi=%{x}<br>population_total=%{marker.size}<extra></extra>",
         "legendgroup": "RohnertPark",
         "marker": {
          "color": "#FECB52",
          "size": [
           40971
          ],
          "sizemode": "area",
          "sizeref": 9710.7675,
          "symbol": "circle"
         },
         "mode": "markers",
         "name": "RohnertPark",
         "orientation": "v",
         "showlegend": true,
         "type": "scatter",
         "x": [
          7.007999999999999
         ],
         "xaxis": "x",
         "y": [
          40971
         ],
         "yaxis": "y"
        },
        {
         "hovertemplate": "city=RollingHills<br>area_total_sq_mi=%{x}<br>population_total=%{marker.size}<extra></extra>",
         "legendgroup": "RollingHills",
         "marker": {
          "color": "#636efa",
          "size": [
           1860
          ],
          "sizemode": "area",
          "sizeref": 9710.7675,
          "symbol": "circle"
         },
         "mode": "markers",
         "name": "RollingHills",
         "orientation": "v",
         "showlegend": true,
         "type": "scatter",
         "x": [
          2.991
         ],
         "xaxis": "x",
         "y": [
          1860
         ],
         "yaxis": "y"
        },
        {
         "hovertemplate": "city=RollingHillsEstates<br>area_total_sq_mi=%{x}<br>population_total=%{marker.size}<extra></extra>",
         "legendgroup": "RollingHillsEstates",
         "marker": {
          "color": "#EF553B",
          "size": [
           8067
          ],
          "sizemode": "area",
          "sizeref": 9710.7675,
          "symbol": "circle"
         },
         "mode": "markers",
         "name": "RollingHillsEstates",
         "orientation": "v",
         "showlegend": true,
         "type": "scatter",
         "x": [
          3.613
         ],
         "xaxis": "x",
         "y": [
          8067
         ],
         "yaxis": "y"
        },
        {
         "hovertemplate": "city=Rosemead<br>area_total_sq_mi=%{x}<br>population_total=%{marker.size}<extra></extra>",
         "legendgroup": "Rosemead",
         "marker": {
          "color": "#00cc96",
          "size": [
           53764
          ],
          "sizemode": "area",
          "sizeref": 9710.7675,
          "symbol": "circle"
         },
         "mode": "markers",
         "name": "Rosemead",
         "orientation": "v",
         "showlegend": true,
         "type": "scatter",
         "x": [
          5.176000000000001
         ],
         "xaxis": "x",
         "y": [
          53764
         ],
         "yaxis": "y"
        },
        {
         "hovertemplate": "city=Roseville<br>area_total_sq_mi=%{x}<br>population_total=%{marker.size}<extra></extra>",
         "legendgroup": "Roseville",
         "marker": {
          "color": "#ab63fa",
          "size": [
           127323
          ],
          "sizemode": "area",
          "sizeref": 9710.7675,
          "symbol": "circle"
         },
         "mode": "markers",
         "name": "Roseville",
         "orientation": "v",
         "showlegend": true,
         "type": "scatter",
         "x": [
          36.223
         ],
         "xaxis": "x",
         "y": [
          127323
         ],
         "yaxis": "y"
        },
        {
         "hovertemplate": "city=Ross<br>area_total_sq_mi=%{x}<br>population_total=%{marker.size}<extra></extra>",
         "legendgroup": "Ross",
         "marker": {
          "color": "#FFA15A",
          "size": [
           2415
          ],
          "sizemode": "area",
          "sizeref": 9710.7675,
          "symbol": "circle"
         },
         "mode": "markers",
         "name": "Ross",
         "orientation": "v",
         "showlegend": true,
         "type": "scatter",
         "x": [
          1.556
         ],
         "xaxis": "x",
         "y": [
          2415
         ],
         "yaxis": "y"
        },
        {
         "hovertemplate": "city=Sacramento<br>area_total_sq_mi=%{x}<br>population_total=%{marker.size}<extra></extra>",
         "legendgroup": "Sacramento",
         "marker": {
          "color": "#19d3f3",
          "size": [
           466488
          ],
          "sizemode": "area",
          "sizeref": 9710.7675,
          "symbol": "circle"
         },
         "mode": "markers",
         "name": "Sacramento",
         "orientation": "v",
         "showlegend": true,
         "type": "scatter",
         "x": [
          100.105
         ],
         "xaxis": "x",
         "y": [
          466488
         ],
         "yaxis": "y"
        },
        {
         "hovertemplate": "city=Salinas<br>area_total_sq_mi=%{x}<br>population_total=%{marker.size}<extra></extra>",
         "legendgroup": "Salinas",
         "marker": {
          "color": "#FF6692",
          "size": [
           163665
          ],
          "sizemode": "area",
          "sizeref": 9710.7675,
          "symbol": "circle"
         },
         "mode": "markers",
         "name": "Salinas",
         "orientation": "v",
         "showlegend": true,
         "type": "scatter",
         "x": [
          23.217
         ],
         "xaxis": "x",
         "y": [
          163665
         ],
         "yaxis": "y"
        },
        {
         "hovertemplate": "city=SanAnselmo<br>area_total_sq_mi=%{x}<br>population_total=%{marker.size}<extra></extra>",
         "legendgroup": "SanAnselmo",
         "marker": {
          "color": "#B6E880",
          "size": [
           12336
          ],
          "sizemode": "area",
          "sizeref": 9710.7675,
          "symbol": "circle"
         },
         "mode": "markers",
         "name": "SanAnselmo",
         "orientation": "v",
         "showlegend": true,
         "type": "scatter",
         "x": [
          2.677
         ],
         "xaxis": "x",
         "y": [
          12336
         ],
         "yaxis": "y"
        },
        {
         "hovertemplate": "city=SanBernardino<br>area_total_sq_mi=%{x}<br>population_total=%{marker.size}<extra></extra>",
         "legendgroup": "SanBernardino",
         "marker": {
          "color": "#FF97FF",
          "size": [
           209924
          ],
          "sizemode": "area",
          "sizeref": 9710.7675,
          "symbol": "circle"
         },
         "mode": "markers",
         "name": "SanBernardino",
         "orientation": "v",
         "showlegend": true,
         "type": "scatter",
         "x": [
          59.645
         ],
         "xaxis": "x",
         "y": [
          209924
         ],
         "yaxis": "y"
        },
        {
         "hovertemplate": "city=SanBruno<br>area_total_sq_mi=%{x}<br>population_total=%{marker.size}<extra></extra>",
         "legendgroup": "SanBruno",
         "marker": {
          "color": "#FECB52",
          "size": [
           41114
          ],
          "sizemode": "area",
          "sizeref": 9710.7675,
          "symbol": "circle"
         },
         "mode": "markers",
         "name": "SanBruno",
         "orientation": "v",
         "showlegend": true,
         "type": "scatter",
         "x": [
          5.478
         ],
         "xaxis": "x",
         "y": [
          41114
         ],
         "yaxis": "y"
        },
        {
         "hovertemplate": "city=SanCarlos<br>area_total_sq_mi=%{x}<br>population_total=%{marker.size}<extra></extra>",
         "legendgroup": "SanCarlos",
         "marker": {
          "color": "#636efa",
          "size": [
           28406
          ],
          "sizemode": "area",
          "sizeref": 9710.7675,
          "symbol": "circle"
         },
         "mode": "markers",
         "name": "SanCarlos",
         "orientation": "v",
         "showlegend": true,
         "type": "scatter",
         "x": [
          5.5409999999999995
         ],
         "xaxis": "x",
         "y": [
          28406
         ],
         "yaxis": "y"
        },
        {
         "hovertemplate": "city=SanClemente<br>area_total_sq_mi=%{x}<br>population_total=%{marker.size}<extra></extra>",
         "legendgroup": "SanClemente",
         "marker": {
          "color": "#EF553B",
          "size": [
           63522
          ],
          "sizemode": "area",
          "sizeref": 9710.7675,
          "symbol": "circle"
         },
         "mode": "markers",
         "name": "SanClemente",
         "orientation": "v",
         "showlegend": true,
         "type": "scatter",
         "x": [
          19.468
         ],
         "xaxis": "x",
         "y": [
          63522
         ],
         "yaxis": "y"
        },
        {
         "hovertemplate": "city=SandCity<br>area_total_sq_mi=%{x}<br>population_total=%{marker.size}<extra></extra>",
         "legendgroup": "SandCity",
         "marker": {
          "color": "#00cc96",
          "size": [
           334
          ],
          "sizemode": "area",
          "sizeref": 9710.7675,
          "symbol": "circle"
         },
         "mode": "markers",
         "name": "SandCity",
         "orientation": "v",
         "showlegend": true,
         "type": "scatter",
         "x": [
          2.9240000000000004
         ],
         "xaxis": "x",
         "y": [
          334
         ],
         "yaxis": "y"
        },
        {
         "hovertemplate": "city=SanDiego<br>area_total_sq_mi=%{x}<br>population_total=%{marker.size}<extra></extra>",
         "legendgroup": "SanDiego",
         "marker": {
          "color": "#ab63fa",
          "size": [
           1345895
          ],
          "sizemode": "area",
          "sizeref": 9710.7675,
          "symbol": "circle"
         },
         "mode": "markers",
         "name": "SanDiego",
         "orientation": "v",
         "showlegend": true,
         "type": "scatter",
         "x": [
          372.4
         ],
         "xaxis": "x",
         "y": [
          1345895
         ],
         "yaxis": "y"
        },
        {
         "hovertemplate": "city=SanDimas<br>area_total_sq_mi=%{x}<br>population_total=%{marker.size}<extra></extra>",
         "legendgroup": "SanDimas",
         "marker": {
          "color": "#FFA15A",
          "size": [
           33371
          ],
          "sizemode": "area",
          "sizeref": 9710.7675,
          "symbol": "circle"
         },
         "mode": "markers",
         "name": "SanDimas",
         "orientation": "v",
         "showlegend": true,
         "type": "scatter",
         "x": [
          15.427000000000001
         ],
         "xaxis": "x",
         "y": [
          33371
         ],
         "yaxis": "y"
        },
        {
         "hovertemplate": "city=SanFernando<br>area_total_sq_mi=%{x}<br>population_total=%{marker.size}<extra></extra>",
         "legendgroup": "SanFernando",
         "marker": {
          "color": "#19d3f3",
          "size": [
           23645
          ],
          "sizemode": "area",
          "sizeref": 9710.7675,
          "symbol": "circle"
         },
         "mode": "markers",
         "name": "SanFernando",
         "orientation": "v",
         "showlegend": true,
         "type": "scatter",
         "x": [
          2.374
         ],
         "xaxis": "x",
         "y": [
          23645
         ],
         "yaxis": "y"
        },
        {
         "hovertemplate": "city=SanGabriel<br>area_total_sq_mi=%{x}<br>population_total=%{marker.size}<extra></extra>",
         "legendgroup": "SanGabriel",
         "marker": {
          "color": "#FF6692",
          "size": [
           39718
          ],
          "sizemode": "area",
          "sizeref": 9710.7675,
          "symbol": "circle"
         },
         "mode": "markers",
         "name": "SanGabriel",
         "orientation": "v",
         "showlegend": true,
         "type": "scatter",
         "x": [
          4.146
         ],
         "xaxis": "x",
         "y": [
          39718
         ],
         "yaxis": "y"
        },
        {
         "hovertemplate": "city=Sanger<br>area_total_sq_mi=%{x}<br>population_total=%{marker.size}<extra></extra>",
         "legendgroup": "Sanger",
         "marker": {
          "color": "#B6E880",
          "size": [
           24270
          ],
          "sizemode": "area",
          "sizeref": 9710.7675,
          "symbol": "circle"
         },
         "mode": "markers",
         "name": "Sanger",
         "orientation": "v",
         "showlegend": true,
         "type": "scatter",
         "x": [
          5.524
         ],
         "xaxis": "x",
         "y": [
          24270
         ],
         "yaxis": "y"
        },
        {
         "hovertemplate": "city=SanJacinto<br>area_total_sq_mi=%{x}<br>population_total=%{marker.size}<extra></extra>",
         "legendgroup": "SanJacinto",
         "marker": {
          "color": "#FF97FF",
          "size": [
           44199
          ],
          "sizemode": "area",
          "sizeref": 9710.7675,
          "symbol": "circle"
         },
         "mode": "markers",
         "name": "SanJacinto",
         "orientation": "v",
         "showlegend": true,
         "type": "scatter",
         "x": [
          26.131
         ],
         "xaxis": "x",
         "y": [
          44199
         ],
         "yaxis": "y"
        },
        {
         "hovertemplate": "city=SanJoaquin<br>area_total_sq_mi=%{x}<br>population_total=%{marker.size}<extra></extra>",
         "legendgroup": "SanJoaquin",
         "marker": {
          "color": "#FECB52",
          "size": [
           4001
          ],
          "sizemode": "area",
          "sizeref": 9710.7675,
          "symbol": "circle"
         },
         "mode": "markers",
         "name": "SanJoaquin",
         "orientation": "v",
         "showlegend": true,
         "type": "scatter",
         "x": [
          1.148
         ],
         "xaxis": "x",
         "y": [
          4001
         ],
         "yaxis": "y"
        },
        {
         "hovertemplate": "city=SanJose<br>area_total_sq_mi=%{x}<br>population_total=%{marker.size}<extra></extra>",
         "legendgroup": "SanJose",
         "marker": {
          "color": "#636efa",
          "size": [
           1000536
          ],
          "sizemode": "area",
          "sizeref": 9710.7675,
          "symbol": "circle"
         },
         "mode": "markers",
         "name": "SanJose",
         "orientation": "v",
         "showlegend": true,
         "type": "scatter",
         "x": [
          179.96499999999997
         ],
         "xaxis": "x",
         "y": [
          1000536
         ],
         "yaxis": "y"
        },
        {
         "hovertemplate": "city=SanJuanBautista<br>area_total_sq_mi=%{x}<br>population_total=%{marker.size}<extra></extra>",
         "legendgroup": "SanJuanBautista",
         "marker": {
          "color": "#EF553B",
          "size": [
           1862
          ],
          "sizemode": "area",
          "sizeref": 9710.7675,
          "symbol": "circle"
         },
         "mode": "markers",
         "name": "SanJuanBautista",
         "orientation": "v",
         "showlegend": true,
         "type": "scatter",
         "x": [
          0.711
         ],
         "xaxis": "x",
         "y": [
          1862
         ],
         "yaxis": "y"
        },
        {
         "hovertemplate": "city=SanJuanCapistrano<br>area_total_sq_mi=%{x}<br>population_total=%{marker.size}<extra></extra>",
         "legendgroup": "SanJuanCapistrano",
         "marker": {
          "color": "#00cc96",
          "size": [
           34593
          ],
          "sizemode": "area",
          "sizeref": 9710.7675,
          "symbol": "circle"
         },
         "mode": "markers",
         "name": "SanJuanCapistrano",
         "orientation": "v",
         "showlegend": true,
         "type": "scatter",
         "x": [
          14.295
         ],
         "xaxis": "x",
         "y": [
          34593
         ],
         "yaxis": "y"
        },
        {
         "hovertemplate": "city=SanLeandro<br>area_total_sq_mi=%{x}<br>population_total=%{marker.size}<extra></extra>",
         "legendgroup": "SanLeandro",
         "marker": {
          "color": "#ab63fa",
          "size": [
           86869
          ],
          "sizemode": "area",
          "sizeref": 9710.7675,
          "symbol": "circle"
         },
         "mode": "markers",
         "name": "SanLeandro",
         "orientation": "v",
         "showlegend": true,
         "type": "scatter",
         "x": [
          15.663
         ],
         "xaxis": "x",
         "y": [
          86869
         ],
         "yaxis": "y"
        },
        {
         "hovertemplate": "city=SanLuisObispo<br>area_total_sq_mi=%{x}<br>population_total=%{marker.size}<extra></extra>",
         "legendgroup": "SanLuisObispo",
         "marker": {
          "color": "#FFA15A",
          "size": [
           45119
          ],
          "sizemode": "area",
          "sizeref": 9710.7675,
          "symbol": "circle"
         },
         "mode": "markers",
         "name": "SanLuisObispo",
         "orientation": "v",
         "showlegend": true,
         "type": "scatter",
         "x": [
          12.93
         ],
         "xaxis": "x",
         "y": [
          45119
         ],
         "yaxis": "y"
        },
        {
         "hovertemplate": "city=SanMarcos<br>area_total_sq_mi=%{x}<br>population_total=%{marker.size}<extra></extra>",
         "legendgroup": "SanMarcos",
         "marker": {
          "color": "#19d3f3",
          "size": [
           83781
          ],
          "sizemode": "area",
          "sizeref": 9710.7675,
          "symbol": "circle"
         },
         "mode": "markers",
         "name": "SanMarcos",
         "orientation": "v",
         "showlegend": true,
         "type": "scatter",
         "x": [
          24.39
         ],
         "xaxis": "x",
         "y": [
          83781
         ],
         "yaxis": "y"
        },
        {
         "hovertemplate": "city=SanMarino<br>area_total_sq_mi=%{x}<br>population_total=%{marker.size}<extra></extra>",
         "legendgroup": "SanMarino",
         "marker": {
          "color": "#FF6692",
          "size": [
           13147
          ],
          "sizemode": "area",
          "sizeref": 9710.7675,
          "symbol": "circle"
         },
         "mode": "markers",
         "name": "SanMarino",
         "orientation": "v",
         "showlegend": true,
         "type": "scatter",
         "x": [
          3.774
         ],
         "xaxis": "x",
         "y": [
          13147
         ],
         "yaxis": "y"
        },
        {
         "hovertemplate": "city=SanMateo<br>area_total_sq_mi=%{x}<br>population_total=%{marker.size}<extra></extra>",
         "legendgroup": "SanMateo",
         "marker": {
          "color": "#B6E880",
          "size": [
           97207
          ],
          "sizemode": "area",
          "sizeref": 9710.7675,
          "symbol": "circle"
         },
         "mode": "markers",
         "name": "SanMateo",
         "orientation": "v",
         "showlegend": true,
         "type": "scatter",
         "x": [
          15.884
         ],
         "xaxis": "x",
         "y": [
          97207
         ],
         "yaxis": "y"
        },
        {
         "hovertemplate": "city=SanPablo<br>area_total_sq_mi=%{x}<br>population_total=%{marker.size}<extra></extra>",
         "legendgroup": "SanPablo",
         "marker": {
          "color": "#FF97FF",
          "size": [
           29139
          ],
          "sizemode": "area",
          "sizeref": 9710.7675,
          "symbol": "circle"
         },
         "mode": "markers",
         "name": "SanPablo",
         "orientation": "v",
         "showlegend": true,
         "type": "scatter",
         "x": [
          2.634
         ],
         "xaxis": "x",
         "y": [
          29139
         ],
         "yaxis": "y"
        },
        {
         "hovertemplate": "city=SanRafael<br>area_total_sq_mi=%{x}<br>population_total=%{marker.size}<extra></extra>",
         "legendgroup": "SanRafael",
         "marker": {
          "color": "#FECB52",
          "size": [
           57713
          ],
          "sizemode": "area",
          "sizeref": 9710.7675,
          "symbol": "circle"
         },
         "mode": "markers",
         "name": "SanRafael",
         "orientation": "v",
         "showlegend": true,
         "type": "scatter",
         "x": [
          22.422
         ],
         "xaxis": "x",
         "y": [
          57713
         ],
         "yaxis": "y"
        },
        {
         "hovertemplate": "city=SanRamon<br>area_total_sq_mi=%{x}<br>population_total=%{marker.size}<extra></extra>",
         "legendgroup": "SanRamon",
         "marker": {
          "color": "#636efa",
          "size": [
           73927
          ],
          "sizemode": "area",
          "sizeref": 9710.7675,
          "symbol": "circle"
         },
         "mode": "markers",
         "name": "SanRamon",
         "orientation": "v",
         "showlegend": true,
         "type": "scatter",
         "x": [
          18.076999999999998
         ],
         "xaxis": "x",
         "y": [
          73927
         ],
         "yaxis": "y"
        },
        {
         "hovertemplate": "city=SantaAna<br>area_total_sq_mi=%{x}<br>population_total=%{marker.size}<extra></extra>",
         "legendgroup": "SantaAna",
         "marker": {
          "color": "#EF553B",
          "size": [
           324528
          ],
          "sizemode": "area",
          "sizeref": 9710.7675,
          "symbol": "circle"
         },
         "mode": "markers",
         "name": "SantaAna",
         "orientation": "v",
         "showlegend": true,
         "type": "scatter",
         "x": [
          27.518
         ],
         "xaxis": "x",
         "y": [
          324528
         ],
         "yaxis": "y"
        },
        {
         "hovertemplate": "city=SantaBarbara<br>area_total_sq_mi=%{x}<br>population_total=%{marker.size}<extra></extra>",
         "legendgroup": "SantaBarbara",
         "marker": {
          "color": "#00cc96",
          "size": [
           90893
          ],
          "sizemode": "area",
          "sizeref": 9710.7675,
          "symbol": "circle"
         },
         "mode": "markers",
         "name": "SantaBarbara",
         "orientation": "v",
         "showlegend": true,
         "type": "scatter",
         "x": [
          41.968
         ],
         "xaxis": "x",
         "y": [
          90893
         ],
         "yaxis": "y"
        },
        {
         "hovertemplate": "city=SantaClara<br>area_total_sq_mi=%{x}<br>population_total=%{marker.size}<extra></extra>",
         "legendgroup": "SantaClara",
         "marker": {
          "color": "#ab63fa",
          "size": [
           116468
          ],
          "sizemode": "area",
          "sizeref": 9710.7675,
          "symbol": "circle"
         },
         "mode": "markers",
         "name": "SantaClara",
         "orientation": "v",
         "showlegend": true,
         "type": "scatter",
         "x": [
          18.407
         ],
         "xaxis": "x",
         "y": [
          116468
         ],
         "yaxis": "y"
        },
        {
         "hovertemplate": "city=SantaClarita<br>area_total_sq_mi=%{x}<br>population_total=%{marker.size}<extra></extra>",
         "legendgroup": "SantaClarita",
         "marker": {
          "color": "#FFA15A",
          "size": [
           209130
          ],
          "sizemode": "area",
          "sizeref": 9710.7675,
          "symbol": "circle"
         },
         "mode": "markers",
         "name": "SantaClarita",
         "orientation": "v",
         "showlegend": true,
         "type": "scatter",
         "x": [
          62.160000000000004
         ],
         "xaxis": "x",
         "y": [
          209130
         ],
         "yaxis": "y"
        },
        {
         "hovertemplate": "city=SantaCruz<br>area_total_sq_mi=%{x}<br>population_total=%{marker.size}<extra></extra>",
         "legendgroup": "SantaCruz",
         "marker": {
          "color": "#19d3f3",
          "size": [
           62864
          ],
          "sizemode": "area",
          "sizeref": 9710.7675,
          "symbol": "circle"
         },
         "mode": "markers",
         "name": "SantaCruz",
         "orientation": "v",
         "showlegend": true,
         "type": "scatter",
         "x": [
          15.828
         ],
         "xaxis": "x",
         "y": [
          62864
         ],
         "yaxis": "y"
        },
        {
         "hovertemplate": "city=SantaFeSprings<br>area_total_sq_mi=%{x}<br>population_total=%{marker.size}<extra></extra>",
         "legendgroup": "SantaFeSprings",
         "marker": {
          "color": "#FF6692",
          "size": [
           16223
          ],
          "sizemode": "area",
          "sizeref": 9710.7675,
          "symbol": "circle"
         },
         "mode": "markers",
         "name": "SantaFeSprings",
         "orientation": "v",
         "showlegend": true,
         "type": "scatter",
         "x": [
          8.914
         ],
         "xaxis": "x",
         "y": [
          16223
         ],
         "yaxis": "y"
        },
        {
         "hovertemplate": "city=SantaMaria<br>area_total_sq_mi=%{x}<br>population_total=%{marker.size}<extra></extra>",
         "legendgroup": "SantaMaria",
         "marker": {
          "color": "#B6E880",
          "size": [
           101459
          ],
          "sizemode": "area",
          "sizeref": 9710.7675,
          "symbol": "circle"
         },
         "mode": "markers",
         "name": "SantaMaria",
         "orientation": "v",
         "showlegend": true,
         "type": "scatter",
         "x": [
          23.395
         ],
         "xaxis": "x",
         "y": [
          101459
         ],
         "yaxis": "y"
        },
        {
         "hovertemplate": "city=SantaPaula<br>area_total_sq_mi=%{x}<br>population_total=%{marker.size}<extra></extra>",
         "legendgroup": "SantaPaula",
         "marker": {
          "color": "#FF97FF",
          "size": [
           29321
          ],
          "sizemode": "area",
          "sizeref": 9710.7675,
          "symbol": "circle"
         },
         "mode": "markers",
         "name": "SantaPaula",
         "orientation": "v",
         "showlegend": true,
         "type": "scatter",
         "x": [
          4.707
         ],
         "xaxis": "x",
         "y": [
          29321
         ],
         "yaxis": "y"
        },
        {
         "hovertemplate": "city=SantaRosa<br>area_total_sq_mi=%{x}<br>population_total=%{marker.size}<extra></extra>",
         "legendgroup": "SantaRosa",
         "marker": {
          "color": "#FECB52",
          "size": [
           170685
          ],
          "sizemode": "area",
          "sizeref": 9710.7675,
          "symbol": "circle"
         },
         "mode": "markers",
         "name": "SantaRosa",
         "orientation": "v",
         "showlegend": true,
         "type": "scatter",
         "x": [
          41.498999999999995
         ],
         "xaxis": "x",
         "y": [
          170685
         ],
         "yaxis": "y"
        },
        {
         "hovertemplate": "city=Santee<br>area_total_sq_mi=%{x}<br>population_total=%{marker.size}<extra></extra>",
         "legendgroup": "Santee",
         "marker": {
          "color": "#636efa",
          "size": [
           53413
          ],
          "sizemode": "area",
          "sizeref": 9710.7675,
          "symbol": "circle"
         },
         "mode": "markers",
         "name": "Santee",
         "orientation": "v",
         "showlegend": true,
         "type": "scatter",
         "x": [
          16.528
         ],
         "xaxis": "x",
         "y": [
          53413
         ],
         "yaxis": "y"
        },
        {
         "hovertemplate": "city=Saratoga<br>area_total_sq_mi=%{x}<br>population_total=%{marker.size}<extra></extra>",
         "legendgroup": "Saratoga",
         "marker": {
          "color": "#EF553B",
          "size": [
           29926
          ],
          "sizemode": "area",
          "sizeref": 9710.7675,
          "symbol": "circle"
         },
         "mode": "markers",
         "name": "Saratoga",
         "orientation": "v",
         "showlegend": true,
         "type": "scatter",
         "x": [
          12.382
         ],
         "xaxis": "x",
         "y": [
          29926
         ],
         "yaxis": "y"
        },
        {
         "hovertemplate": "city=Sausalito<br>area_total_sq_mi=%{x}<br>population_total=%{marker.size}<extra></extra>",
         "legendgroup": "Sausalito",
         "marker": {
          "color": "#00cc96",
          "size": [
           7061
          ],
          "sizemode": "area",
          "sizeref": 9710.7675,
          "symbol": "circle"
         },
         "mode": "markers",
         "name": "Sausalito",
         "orientation": "v",
         "showlegend": true,
         "type": "scatter",
         "x": [
          2.2569999999999997
         ],
         "xaxis": "x",
         "y": [
          7061
         ],
         "yaxis": "y"
        },
        {
         "hovertemplate": "city=ScottsValley<br>area_total_sq_mi=%{x}<br>population_total=%{marker.size}<extra></extra>",
         "legendgroup": "ScottsValley",
         "marker": {
          "color": "#ab63fa",
          "size": [
           11580
          ],
          "sizemode": "area",
          "sizeref": 9710.7675,
          "symbol": "circle"
         },
         "mode": "markers",
         "name": "ScottsValley",
         "orientation": "v",
         "showlegend": true,
         "type": "scatter",
         "x": [
          4.595
         ],
         "xaxis": "x",
         "y": [
          11580
         ],
         "yaxis": "y"
        },
        {
         "hovertemplate": "city=SealBeach<br>area_total_sq_mi=%{x}<br>population_total=%{marker.size}<extra></extra>",
         "legendgroup": "SealBeach",
         "marker": {
          "color": "#FFA15A",
          "size": [
           24168
          ],
          "sizemode": "area",
          "sizeref": 9710.7675,
          "symbol": "circle"
         },
         "mode": "markers",
         "name": "SealBeach",
         "orientation": "v",
         "showlegend": true,
         "type": "scatter",
         "x": [
          13.04
         ],
         "xaxis": "x",
         "y": [
          24168
         ],
         "yaxis": "y"
        },
        {
         "hovertemplate": "city=Seaside<br>area_total_sq_mi=%{x}<br>population_total=%{marker.size}<extra></extra>",
         "legendgroup": "Seaside",
         "marker": {
          "color": "#19d3f3",
          "size": [
           33025
          ],
          "sizemode": "area",
          "sizeref": 9710.7675,
          "symbol": "circle"
         },
         "mode": "markers",
         "name": "Seaside",
         "orientation": "v",
         "showlegend": true,
         "type": "scatter",
         "x": [
          9.376
         ],
         "xaxis": "x",
         "y": [
          33025
         ],
         "yaxis": "y"
        },
        {
         "hovertemplate": "city=Sebastopol<br>area_total_sq_mi=%{x}<br>population_total=%{marker.size}<extra></extra>",
         "legendgroup": "Sebastopol",
         "marker": {
          "color": "#FF6692",
          "size": [
           7379
          ],
          "sizemode": "area",
          "sizeref": 9710.7675,
          "symbol": "circle"
         },
         "mode": "markers",
         "name": "Sebastopol",
         "orientation": "v",
         "showlegend": true,
         "type": "scatter",
         "x": [
          1.853
         ],
         "xaxis": "x",
         "y": [
          7379
         ],
         "yaxis": "y"
        },
        {
         "hovertemplate": "city=Selma<br>area_total_sq_mi=%{x}<br>population_total=%{marker.size}<extra></extra>",
         "legendgroup": "Selma",
         "marker": {
          "color": "#B6E880",
          "size": [
           23219
          ],
          "sizemode": "area",
          "sizeref": 9710.7675,
          "symbol": "circle"
         },
         "mode": "markers",
         "name": "Selma",
         "orientation": "v",
         "showlegend": true,
         "type": "scatter",
         "x": [
          5.136
         ],
         "xaxis": "x",
         "y": [
          23219
         ],
         "yaxis": "y"
        },
        {
         "hovertemplate": "city=Shafter<br>area_total_sq_mi=%{x}<br>population_total=%{marker.size}<extra></extra>",
         "legendgroup": "Shafter",
         "marker": {
          "color": "#FF97FF",
          "size": [
           16988
          ],
          "sizemode": "area",
          "sizeref": 9710.7675,
          "symbol": "circle"
         },
         "mode": "markers",
         "name": "Shafter",
         "orientation": "v",
         "showlegend": true,
         "type": "scatter",
         "x": [
          27.945
         ],
         "xaxis": "x",
         "y": [
          16988
         ],
         "yaxis": "y"
        },
        {
         "hovertemplate": "city=ShastaLake<br>area_total_sq_mi=%{x}<br>population_total=%{marker.size}<extra></extra>",
         "legendgroup": "ShastaLake",
         "marker": {
          "color": "#FECB52",
          "size": [
           10164
          ],
          "sizemode": "area",
          "sizeref": 9710.7675,
          "symbol": "circle"
         },
         "mode": "markers",
         "name": "ShastaLake",
         "orientation": "v",
         "showlegend": true,
         "type": "scatter",
         "x": [
          10.928999999999998
         ],
         "xaxis": "x",
         "y": [
          10164
         ],
         "yaxis": "y"
        },
        {
         "hovertemplate": "city=SierraMadre<br>area_total_sq_mi=%{x}<br>population_total=%{marker.size}<extra></extra>",
         "legendgroup": "SierraMadre",
         "marker": {
          "color": "#636efa",
          "size": [
           10917
          ],
          "sizemode": "area",
          "sizeref": 9710.7675,
          "symbol": "circle"
         },
         "mode": "markers",
         "name": "SierraMadre",
         "orientation": "v",
         "showlegend": true,
         "type": "scatter",
         "x": [
          2.9570000000000003
         ],
         "xaxis": "x",
         "y": [
          10917
         ],
         "yaxis": "y"
        },
        {
         "hovertemplate": "city=SignalHill<br>area_total_sq_mi=%{x}<br>population_total=%{marker.size}<extra></extra>",
         "legendgroup": "SignalHill",
         "marker": {
          "color": "#EF553B",
          "size": [
           11465
          ],
          "sizemode": "area",
          "sizeref": 9710.7675,
          "symbol": "circle"
         },
         "mode": "markers",
         "name": "SignalHill",
         "orientation": "v",
         "showlegend": true,
         "type": "scatter",
         "x": [
          2.191
         ],
         "xaxis": "x",
         "y": [
          11465
         ],
         "yaxis": "y"
        },
        {
         "hovertemplate": "city=SimiValley<br>area_total_sq_mi=%{x}<br>population_total=%{marker.size}<extra></extra>",
         "legendgroup": "SimiValley",
         "marker": {
          "color": "#00cc96",
          "size": [
           126874
          ],
          "sizemode": "area",
          "sizeref": 9710.7675,
          "symbol": "circle"
         },
         "mode": "markers",
         "name": "SimiValley",
         "orientation": "v",
         "showlegend": true,
         "type": "scatter",
         "x": [
          42.247
         ],
         "xaxis": "x",
         "y": [
          126874
         ],
         "yaxis": "y"
        },
        {
         "hovertemplate": "city=SolanaBeach<br>area_total_sq_mi=%{x}<br>population_total=%{marker.size}<extra></extra>",
         "legendgroup": "SolanaBeach",
         "marker": {
          "color": "#ab63fa",
          "size": [
           12867
          ],
          "sizemode": "area",
          "sizeref": 9710.7675,
          "symbol": "circle"
         },
         "mode": "markers",
         "name": "SolanaBeach",
         "orientation": "v",
         "showlegend": true,
         "type": "scatter",
         "x": [
          3.624
         ],
         "xaxis": "x",
         "y": [
          12867
         ],
         "yaxis": "y"
        },
        {
         "hovertemplate": "city=Soledad<br>area_total_sq_mi=%{x}<br>population_total=%{marker.size}<extra></extra>",
         "legendgroup": "Soledad",
         "marker": {
          "color": "#FFA15A",
          "size": [
           25738
          ],
          "sizemode": "area",
          "sizeref": 9710.7675,
          "symbol": "circle"
         },
         "mode": "markers",
         "name": "Soledad",
         "orientation": "v",
         "showlegend": true,
         "type": "scatter",
         "x": [
          4.566
         ],
         "xaxis": "x",
         "y": [
          25738
         ],
         "yaxis": "y"
        },
        {
         "hovertemplate": "city=Solvang<br>area_total_sq_mi=%{x}<br>population_total=%{marker.size}<extra></extra>",
         "legendgroup": "Solvang",
         "marker": {
          "color": "#19d3f3",
          "size": [
           5245
          ],
          "sizemode": "area",
          "sizeref": 9710.7675,
          "symbol": "circle"
         },
         "mode": "markers",
         "name": "Solvang",
         "orientation": "v",
         "showlegend": true,
         "type": "scatter",
         "x": [
          2.4259999999999997
         ],
         "xaxis": "x",
         "y": [
          5245
         ],
         "yaxis": "y"
        },
        {
         "hovertemplate": "city=Sonoma<br>area_total_sq_mi=%{x}<br>population_total=%{marker.size}<extra></extra>",
         "legendgroup": "Sonoma",
         "marker": {
          "color": "#FF6692",
          "size": [
           10648
          ],
          "sizemode": "area",
          "sizeref": 9710.7675,
          "symbol": "circle"
         },
         "mode": "markers",
         "name": "Sonoma",
         "orientation": "v",
         "showlegend": true,
         "type": "scatter",
         "x": [
          2.742
         ],
         "xaxis": "x",
         "y": [
          10648
         ],
         "yaxis": "y"
        },
        {
         "hovertemplate": "city=Sonora<br>area_total_sq_mi=%{x}<br>population_total=%{marker.size}<extra></extra>",
         "legendgroup": "Sonora",
         "marker": {
          "color": "#B6E880",
          "size": [
           7169
          ],
          "sizemode": "area",
          "sizeref": 9710.7675,
          "symbol": "circle"
         },
         "mode": "markers",
         "name": "Sonora",
         "orientation": "v",
         "showlegend": true,
         "type": "scatter",
         "x": [
          3.078
         ],
         "xaxis": "x",
         "y": [
          7169
         ],
         "yaxis": "y"
        },
        {
         "hovertemplate": "city=SouthElMonte<br>area_total_sq_mi=%{x}<br>population_total=%{marker.size}<extra></extra>",
         "legendgroup": "SouthElMonte",
         "marker": {
          "color": "#FF97FF",
          "size": [
           20116
          ],
          "sizemode": "area",
          "sizeref": 9710.7675,
          "symbol": "circle"
         },
         "mode": "markers",
         "name": "SouthElMonte",
         "orientation": "v",
         "showlegend": true,
         "type": "scatter",
         "x": [
          2.848
         ],
         "xaxis": "x",
         "y": [
          20116
         ],
         "yaxis": "y"
        },
        {
         "hovertemplate": "city=SouthGate<br>area_total_sq_mi=%{x}<br>population_total=%{marker.size}<extra></extra>",
         "legendgroup": "SouthGate",
         "marker": {
          "color": "#FECB52",
          "size": [
           94396
          ],
          "sizemode": "area",
          "sizeref": 9710.7675,
          "symbol": "circle"
         },
         "mode": "markers",
         "name": "SouthGate",
         "orientation": "v",
         "showlegend": true,
         "type": "scatter",
         "x": [
          7.353000000000001
         ],
         "xaxis": "x",
         "y": [
          94396
         ],
         "yaxis": "y"
        },
        {
         "hovertemplate": "city=SouthLakeTahoe<br>area_total_sq_mi=%{x}<br>population_total=%{marker.size}<extra></extra>",
         "legendgroup": "SouthLakeTahoe",
         "marker": {
          "color": "#636efa",
          "size": [
           21403
          ],
          "sizemode": "area",
          "sizeref": 9710.7675,
          "symbol": "circle"
         },
         "mode": "markers",
         "name": "SouthLakeTahoe",
         "orientation": "v",
         "showlegend": true,
         "type": "scatter",
         "x": [
          16.603
         ],
         "xaxis": "x",
         "y": [
          21403
         ],
         "yaxis": "y"
        },
        {
         "hovertemplate": "city=SouthPasadena<br>area_total_sq_mi=%{x}<br>population_total=%{marker.size}<extra></extra>",
         "legendgroup": "SouthPasadena",
         "marker": {
          "color": "#EF553B",
          "size": [
           25619
          ],
          "sizemode": "area",
          "sizeref": 9710.7675,
          "symbol": "circle"
         },
         "mode": "markers",
         "name": "SouthPasadena",
         "orientation": "v",
         "showlegend": true,
         "type": "scatter",
         "x": [
          3.417
         ],
         "xaxis": "x",
         "y": [
          25619
         ],
         "yaxis": "y"
        },
        {
         "hovertemplate": "city=SouthSanFrancisco<br>area_total_sq_mi=%{x}<br>population_total=%{marker.size}<extra></extra>",
         "legendgroup": "SouthSanFrancisco",
         "marker": {
          "color": "#00cc96",
          "size": [
           64409
          ],
          "sizemode": "area",
          "sizeref": 9710.7675,
          "symbol": "circle"
         },
         "mode": "markers",
         "name": "SouthSanFrancisco",
         "orientation": "v",
         "showlegend": true,
         "type": "scatter",
         "x": [
          30.158
         ],
         "xaxis": "x",
         "y": [
          64409
         ],
         "yaxis": "y"
        },
        {
         "hovertemplate": "city=Stanton<br>area_total_sq_mi=%{x}<br>population_total=%{marker.size}<extra></extra>",
         "legendgroup": "Stanton",
         "marker": {
          "color": "#ab63fa",
          "size": [
           38186
          ],
          "sizemode": "area",
          "sizeref": 9710.7675,
          "symbol": "circle"
         },
         "mode": "markers",
         "name": "Stanton",
         "orientation": "v",
         "showlegend": true,
         "type": "scatter",
         "x": [
          3.15
         ],
         "xaxis": "x",
         "y": [
          38186
         ],
         "yaxis": "y"
        },
        {
         "hovertemplate": "city=StHelena<br>area_total_sq_mi=%{x}<br>population_total=%{marker.size}<extra></extra>",
         "legendgroup": "StHelena",
         "marker": {
          "color": "#FFA15A",
          "size": [
           5814
          ],
          "sizemode": "area",
          "sizeref": 9710.7675,
          "symbol": "circle"
         },
         "mode": "markers",
         "name": "StHelena",
         "orientation": "v",
         "showlegend": true,
         "type": "scatter",
         "x": [
          5.027
         ],
         "xaxis": "x",
         "y": [
          5814
         ],
         "yaxis": "y"
        },
        {
         "hovertemplate": "city=Stockton<br>area_total_sq_mi=%{x}<br>population_total=%{marker.size}<extra></extra>",
         "legendgroup": "Stockton",
         "marker": {
          "color": "#19d3f3",
          "size": [
           301090
          ],
          "sizemode": "area",
          "sizeref": 9710.7675,
          "symbol": "circle"
         },
         "mode": "markers",
         "name": "Stockton",
         "orientation": "v",
         "showlegend": true,
         "type": "scatter",
         "x": [
          64.753
         ],
         "xaxis": "x",
         "y": [
          301090
         ],
         "yaxis": "y"
        },
        {
         "hovertemplate": "city=SuisunCity<br>area_total_sq_mi=%{x}<br>population_total=%{marker.size}<extra></extra>",
         "legendgroup": "SuisunCity",
         "marker": {
          "color": "#FF6692",
          "size": [
           28111
          ],
          "sizemode": "area",
          "sizeref": 9710.7675,
          "symbol": "circle"
         },
         "mode": "markers",
         "name": "SuisunCity",
         "orientation": "v",
         "showlegend": true,
         "type": "scatter",
         "x": [
          4.163
         ],
         "xaxis": "x",
         "y": [
          28111
         ],
         "yaxis": "y"
        },
        {
         "hovertemplate": "city=Sunnyvale<br>area_total_sq_mi=%{x}<br>population_total=%{marker.size}<extra></extra>",
         "legendgroup": "Sunnyvale",
         "marker": {
          "color": "#B6E880",
          "size": [
           140081
          ],
          "sizemode": "area",
          "sizeref": 9710.7675,
          "symbol": "circle"
         },
         "mode": "markers",
         "name": "Sunnyvale",
         "orientation": "v",
         "showlegend": true,
         "type": "scatter",
         "x": [
          22.689
         ],
         "xaxis": "x",
         "y": [
          140081
         ],
         "yaxis": "y"
        },
        {
         "hovertemplate": "city=Susanville<br>area_total_sq_mi=%{x}<br>population_total=%{marker.size}<extra></extra>",
         "legendgroup": "Susanville",
         "marker": {
          "color": "#FF97FF",
          "size": [
           17974
          ],
          "sizemode": "area",
          "sizeref": 9710.7675,
          "symbol": "circle"
         },
         "mode": "markers",
         "name": "Susanville",
         "orientation": "v",
         "showlegend": true,
         "type": "scatter",
         "x": [
          8.017
         ],
         "xaxis": "x",
         "y": [
          17974
         ],
         "yaxis": "y"
        },
        {
         "hovertemplate": "city=SutterCreek<br>area_total_sq_mi=%{x}<br>population_total=%{marker.size}<extra></extra>",
         "legendgroup": "SutterCreek",
         "marker": {
          "color": "#FECB52",
          "size": [
           2501
          ],
          "sizemode": "area",
          "sizeref": 9710.7675,
          "symbol": "circle"
         },
         "mode": "markers",
         "name": "SutterCreek",
         "orientation": "v",
         "showlegend": true,
         "type": "scatter",
         "x": [
          2.5580000000000003
         ],
         "xaxis": "x",
         "y": [
          2501
         ],
         "yaxis": "y"
        },
        {
         "hovertemplate": "city=Taft<br>area_total_sq_mi=%{x}<br>population_total=%{marker.size}<extra></extra>",
         "legendgroup": "Taft",
         "marker": {
          "color": "#636efa",
          "size": [
           9327
          ],
          "sizemode": "area",
          "sizeref": 9710.7675,
          "symbol": "circle"
         },
         "mode": "markers",
         "name": "Taft",
         "orientation": "v",
         "showlegend": true,
         "type": "scatter",
         "x": [
          15.113
         ],
         "xaxis": "x",
         "y": [
          9327
         ],
         "yaxis": "y"
        },
        {
         "hovertemplate": "city=Tehachapi<br>area_total_sq_mi=%{x}<br>population_total=%{marker.size}<extra></extra>",
         "legendgroup": "Tehachapi",
         "marker": {
          "color": "#EF553B",
          "size": [
           14414
          ],
          "sizemode": "area",
          "sizeref": 9710.7675,
          "symbol": "circle"
         },
         "mode": "markers",
         "name": "Tehachapi",
         "orientation": "v",
         "showlegend": true,
         "type": "scatter",
         "x": [
          9.971
         ],
         "xaxis": "x",
         "y": [
          14414
         ],
         "yaxis": "y"
        },
        {
         "hovertemplate": "city=Tehama<br>area_total_sq_mi=%{x}<br>population_total=%{marker.size}<extra></extra>",
         "legendgroup": "Tehama",
         "marker": {
          "color": "#00cc96",
          "size": [
           418
          ],
          "sizemode": "area",
          "sizeref": 9710.7675,
          "symbol": "circle"
         },
         "mode": "markers",
         "name": "Tehama",
         "orientation": "v",
         "showlegend": true,
         "type": "scatter",
         "x": [
          0.794
         ],
         "xaxis": "x",
         "y": [
          418
         ],
         "yaxis": "y"
        },
        {
         "hovertemplate": "city=Temecula<br>area_total_sq_mi=%{x}<br>population_total=%{marker.size}<extra></extra>",
         "legendgroup": "Temecula",
         "marker": {
          "color": "#ab63fa",
          "size": [
           105208
          ],
          "sizemode": "area",
          "sizeref": 9710.7675,
          "symbol": "circle"
         },
         "mode": "markers",
         "name": "Temecula",
         "orientation": "v",
         "showlegend": true,
         "type": "scatter",
         "x": [
          30.166999999999998
         ],
         "xaxis": "x",
         "y": [
          105208
         ],
         "yaxis": "y"
        },
        {
         "hovertemplate": "city=TempleCity<br>area_total_sq_mi=%{x}<br>population_total=%{marker.size}<extra></extra>",
         "legendgroup": "TempleCity",
         "marker": {
          "color": "#FFA15A",
          "size": [
           35558
          ],
          "sizemode": "area",
          "sizeref": 9710.7675,
          "symbol": "circle"
         },
         "mode": "markers",
         "name": "TempleCity",
         "orientation": "v",
         "showlegend": true,
         "type": "scatter",
         "x": [
          4.006
         ],
         "xaxis": "x",
         "y": [
          35558
         ],
         "yaxis": "y"
        },
        {
         "hovertemplate": "city=ThousandOaks<br>area_total_sq_mi=%{x}<br>population_total=%{marker.size}<extra></extra>",
         "legendgroup": "ThousandOaks",
         "marker": {
          "color": "#19d3f3",
          "size": [
           128374
          ],
          "sizemode": "area",
          "sizeref": 9710.7675,
          "symbol": "circle"
         },
         "mode": "markers",
         "name": "ThousandOaks",
         "orientation": "v",
         "showlegend": true,
         "type": "scatter",
         "x": [
          55.181000000000004
         ],
         "xaxis": "x",
         "y": [
          128374
         ],
         "yaxis": "y"
        },
        {
         "hovertemplate": "city=Tiburon<br>area_total_sq_mi=%{x}<br>population_total=%{marker.size}<extra></extra>",
         "legendgroup": "Tiburon",
         "marker": {
          "color": "#FF6692",
          "size": [
           8962
          ],
          "sizemode": "area",
          "sizeref": 9710.7675,
          "symbol": "circle"
         },
         "mode": "markers",
         "name": "Tiburon",
         "orientation": "v",
         "showlegend": true,
         "type": "scatter",
         "x": [
          13.182000000000002
         ],
         "xaxis": "x",
         "y": [
          8962
         ],
         "yaxis": "y"
        },
        {
         "hovertemplate": "city=Torrance<br>area_total_sq_mi=%{x}<br>population_total=%{marker.size}<extra></extra>",
         "legendgroup": "Torrance",
         "marker": {
          "color": "#B6E880",
          "size": [
           147027
          ],
          "sizemode": "area",
          "sizeref": 9710.7675,
          "symbol": "circle"
         },
         "mode": "markers",
         "name": "Torrance",
         "orientation": "v",
         "showlegend": true,
         "type": "scatter",
         "x": [
          20.553
         ],
         "xaxis": "x",
         "y": [
          147027
         ],
         "yaxis": "y"
        },
        {
         "hovertemplate": "city=Tracy<br>area_total_sq_mi=%{x}<br>population_total=%{marker.size}<extra></extra>",
         "legendgroup": "Tracy",
         "marker": {
          "color": "#FF97FF",
          "size": [
           82922
          ],
          "sizemode": "area",
          "sizeref": 9710.7675,
          "symbol": "circle"
         },
         "mode": "markers",
         "name": "Tracy",
         "orientation": "v",
         "showlegend": true,
         "type": "scatter",
         "x": [
          22.139
         ],
         "xaxis": "x",
         "y": [
          82922
         ],
         "yaxis": "y"
        },
        {
         "hovertemplate": "city=Trinidad<br>area_total_sq_mi=%{x}<br>population_total=%{marker.size}<extra></extra>",
         "legendgroup": "Trinidad",
         "marker": {
          "color": "#FECB52",
          "size": [
           367
          ],
          "sizemode": "area",
          "sizeref": 9710.7675,
          "symbol": "circle"
         },
         "mode": "markers",
         "name": "Trinidad",
         "orientation": "v",
         "showlegend": true,
         "type": "scatter",
         "x": [
          0.671
         ],
         "xaxis": "x",
         "y": [
          367
         ],
         "yaxis": "y"
        },
        {
         "hovertemplate": "city=Truckee<br>area_total_sq_mi=%{x}<br>population_total=%{marker.size}<extra></extra>",
         "legendgroup": "Truckee",
         "marker": {
          "color": "#636efa",
          "size": [
           16180
          ],
          "sizemode": "area",
          "sizeref": 9710.7675,
          "symbol": "circle"
         },
         "mode": "markers",
         "name": "Truckee",
         "orientation": "v",
         "showlegend": true,
         "type": "scatter",
         "x": [
          33.654
         ],
         "xaxis": "x",
         "y": [
          16180
         ],
         "yaxis": "y"
        },
        {
         "hovertemplate": "city=Tulare<br>area_total_sq_mi=%{x}<br>population_total=%{marker.size}<extra></extra>",
         "legendgroup": "Tulare",
         "marker": {
          "color": "#EF553B",
          "size": [
           59278
          ],
          "sizemode": "area",
          "sizeref": 9710.7675,
          "symbol": "circle"
         },
         "mode": "markers",
         "name": "Tulare",
         "orientation": "v",
         "showlegend": true,
         "type": "scatter",
         "x": [
          21.016000000000002
         ],
         "xaxis": "x",
         "y": [
          59278
         ],
         "yaxis": "y"
        },
        {
         "hovertemplate": "city=Tulelake<br>area_total_sq_mi=%{x}<br>population_total=%{marker.size}<extra></extra>",
         "legendgroup": "Tulelake",
         "marker": {
          "color": "#00cc96",
          "size": [
           1010
          ],
          "sizemode": "area",
          "sizeref": 9710.7675,
          "symbol": "circle"
         },
         "mode": "markers",
         "name": "Tulelake",
         "orientation": "v",
         "showlegend": true,
         "type": "scatter",
         "x": [
          0.412
         ],
         "xaxis": "x",
         "y": [
          1010
         ],
         "yaxis": "y"
        },
        {
         "hovertemplate": "city=Turlock<br>area_total_sq_mi=%{x}<br>population_total=%{marker.size}<extra></extra>",
         "legendgroup": "Turlock",
         "marker": {
          "color": "#ab63fa",
          "size": [
           69733
          ],
          "sizemode": "area",
          "sizeref": 9710.7675,
          "symbol": "circle"
         },
         "mode": "markers",
         "name": "Turlock",
         "orientation": "v",
         "showlegend": true,
         "type": "scatter",
         "x": [
          16.928
         ],
         "xaxis": "x",
         "y": [
          69733
         ],
         "yaxis": "y"
        },
        {
         "hovertemplate": "city=Tustin<br>area_total_sq_mi=%{x}<br>population_total=%{marker.size}<extra></extra>",
         "legendgroup": "Tustin",
         "marker": {
          "color": "#FFA15A",
          "size": [
           75540
          ],
          "sizemode": "area",
          "sizeref": 9710.7675,
          "symbol": "circle"
         },
         "mode": "markers",
         "name": "Tustin",
         "orientation": "v",
         "showlegend": true,
         "type": "scatter",
         "x": [
          11.082
         ],
         "xaxis": "x",
         "y": [
          75540
         ],
         "yaxis": "y"
        },
        {
         "hovertemplate": "city=TwentyninePalms<br>area_total_sq_mi=%{x}<br>population_total=%{marker.size}<extra></extra>",
         "legendgroup": "TwentyninePalms",
         "marker": {
          "color": "#19d3f3",
          "size": [
           25768
          ],
          "sizemode": "area",
          "sizeref": 9710.7675,
          "symbol": "circle"
         },
         "mode": "markers",
         "name": "TwentyninePalms",
         "orientation": "v",
         "showlegend": true,
         "type": "scatter",
         "x": [
          59.143
         ],
         "xaxis": "x",
         "y": [
          25768
         ],
         "yaxis": "y"
        },
        {
         "hovertemplate": "city=Ukiah<br>area_total_sq_mi=%{x}<br>population_total=%{marker.size}<extra></extra>",
         "legendgroup": "Ukiah",
         "marker": {
          "color": "#FF6692",
          "size": [
           16075
          ],
          "sizemode": "area",
          "sizeref": 9710.7675,
          "symbol": "circle"
         },
         "mode": "markers",
         "name": "Ukiah",
         "orientation": "v",
         "showlegend": true,
         "type": "scatter",
         "x": [
          4.7219999999999995
         ],
         "xaxis": "x",
         "y": [
          16075
         ],
         "yaxis": "y"
        },
        {
         "hovertemplate": "city=Upland<br>area_total_sq_mi=%{x}<br>population_total=%{marker.size}<extra></extra>",
         "legendgroup": "Upland",
         "marker": {
          "color": "#B6E880",
          "size": [
           73732
          ],
          "sizemode": "area",
          "sizeref": 9710.7675,
          "symbol": "circle"
         },
         "mode": "markers",
         "name": "Upland",
         "orientation": "v",
         "showlegend": true,
         "type": "scatter",
         "x": [
          15.651000000000002
         ],
         "xaxis": "x",
         "y": [
          73732
         ],
         "yaxis": "y"
        },
        {
         "hovertemplate": "city=Vacaville<br>area_total_sq_mi=%{x}<br>population_total=%{marker.size}<extra></extra>",
         "legendgroup": "Vacaville",
         "marker": {
          "color": "#FF97FF",
          "size": [
           92428
          ],
          "sizemode": "area",
          "sizeref": 9710.7675,
          "symbol": "circle"
         },
         "mode": "markers",
         "name": "Vacaville",
         "orientation": "v",
         "showlegend": true,
         "type": "scatter",
         "x": [
          28.585
         ],
         "xaxis": "x",
         "y": [
          92428
         ],
         "yaxis": "y"
        },
        {
         "hovertemplate": "city=Vallejo<br>area_total_sq_mi=%{x}<br>population_total=%{marker.size}<extra></extra>",
         "legendgroup": "Vallejo",
         "marker": {
          "color": "#FECB52",
          "size": [
           115942
          ],
          "sizemode": "area",
          "sizeref": 9710.7675,
          "symbol": "circle"
         },
         "mode": "markers",
         "name": "Vallejo",
         "orientation": "v",
         "showlegend": true,
         "type": "scatter",
         "x": [
          49.400000000000006
         ],
         "xaxis": "x",
         "y": [
          115942
         ],
         "yaxis": "y"
        },
        {
         "hovertemplate": "city=Ventura<br>area_total_sq_mi=%{x}<br>population_total=%{marker.size}<extra></extra>",
         "legendgroup": "Ventura",
         "marker": {
          "color": "#636efa",
          "size": [
           106433
          ],
          "sizemode": "area",
          "sizeref": 9710.7675,
          "symbol": "circle"
         },
         "mode": "markers",
         "name": "Ventura",
         "orientation": "v",
         "showlegend": true,
         "type": "scatter",
         "x": [
          32.095
         ],
         "xaxis": "x",
         "y": [
          106433
         ],
         "yaxis": "y"
        },
        {
         "hovertemplate": "city=Vernon<br>area_total_sq_mi=%{x}<br>population_total=%{marker.size}<extra></extra>",
         "legendgroup": "Vernon",
         "marker": {
          "color": "#EF553B",
          "size": [
           112
          ],
          "sizemode": "area",
          "sizeref": 9710.7675,
          "symbol": "circle"
         },
         "mode": "markers",
         "name": "Vernon",
         "orientation": "v",
         "showlegend": true,
         "type": "scatter",
         "x": [
          5.157
         ],
         "xaxis": "x",
         "y": [
          112
         ],
         "yaxis": "y"
        },
        {
         "hovertemplate": "city=Victorville<br>area_total_sq_mi=%{x}<br>population_total=%{marker.size}<extra></extra>",
         "legendgroup": "Victorville",
         "marker": {
          "color": "#00cc96",
          "size": [
           120336
          ],
          "sizemode": "area",
          "sizeref": 9710.7675,
          "symbol": "circle"
         },
         "mode": "markers",
         "name": "Victorville",
         "orientation": "v",
         "showlegend": true,
         "type": "scatter",
         "x": [
          73.741
         ],
         "xaxis": "x",
         "y": [
          120336
         ],
         "yaxis": "y"
        },
        {
         "hovertemplate": "city=VillaPark<br>area_total_sq_mi=%{x}<br>population_total=%{marker.size}<extra></extra>",
         "legendgroup": "VillaPark",
         "marker": {
          "color": "#ab63fa",
          "size": [
           5812
          ],
          "sizemode": "area",
          "sizeref": 9710.7675,
          "symbol": "circle"
         },
         "mode": "markers",
         "name": "VillaPark",
         "orientation": "v",
         "showlegend": true,
         "type": "scatter",
         "x": [
          2.0780000000000003
         ],
         "xaxis": "x",
         "y": [
          5812
         ],
         "yaxis": "y"
        },
        {
         "hovertemplate": "city=Visalia<br>area_total_sq_mi=%{x}<br>population_total=%{marker.size}<extra></extra>",
         "legendgroup": "Visalia",
         "marker": {
          "color": "#FFA15A",
          "size": [
           124442
          ],
          "sizemode": "area",
          "sizeref": 9710.7675,
          "symbol": "circle"
         },
         "mode": "markers",
         "name": "Visalia",
         "orientation": "v",
         "showlegend": true,
         "type": "scatter",
         "x": [
          36.266000000000005
         ],
         "xaxis": "x",
         "y": [
          124442
         ],
         "yaxis": "y"
        },
        {
         "hovertemplate": "city=Vista<br>area_total_sq_mi=%{x}<br>population_total=%{marker.size}<extra></extra>",
         "legendgroup": "Vista",
         "marker": {
          "color": "#19d3f3",
          "size": [
           93834
          ],
          "sizemode": "area",
          "sizeref": 9710.7675,
          "symbol": "circle"
         },
         "mode": "markers",
         "name": "Vista",
         "orientation": "v",
         "showlegend": true,
         "type": "scatter",
         "x": [
          18.678
         ],
         "xaxis": "x",
         "y": [
          93834
         ],
         "yaxis": "y"
        },
        {
         "hovertemplate": "city=Walnut<br>area_total_sq_mi=%{x}<br>population_total=%{marker.size}<extra></extra>",
         "legendgroup": "Walnut",
         "marker": {
          "color": "#FF6692",
          "size": [
           29172
          ],
          "sizemode": "area",
          "sizeref": 9710.7675,
          "symbol": "circle"
         },
         "mode": "markers",
         "name": "Walnut",
         "orientation": "v",
         "showlegend": true,
         "type": "scatter",
         "x": [
          8.996
         ],
         "xaxis": "x",
         "y": [
          29172
         ],
         "yaxis": "y"
        },
        {
         "hovertemplate": "city=WalnutCreek<br>area_total_sq_mi=%{x}<br>population_total=%{marker.size}<extra></extra>",
         "legendgroup": "WalnutCreek",
         "marker": {
          "color": "#B6E880",
          "size": [
           64173
          ],
          "sizemode": "area",
          "sizeref": 9710.7675,
          "symbol": "circle"
         },
         "mode": "markers",
         "name": "WalnutCreek",
         "orientation": "v",
         "showlegend": true,
         "type": "scatter",
         "x": [
          19.769000000000002
         ],
         "xaxis": "x",
         "y": [
          64173
         ],
         "yaxis": "y"
        },
        {
         "hovertemplate": "city=Wasco<br>area_total_sq_mi=%{x}<br>population_total=%{marker.size}<extra></extra>",
         "legendgroup": "Wasco",
         "marker": {
          "color": "#FF97FF",
          "size": [
           25545
          ],
          "sizemode": "area",
          "sizeref": 9710.7675,
          "symbol": "circle"
         },
         "mode": "markers",
         "name": "Wasco",
         "orientation": "v",
         "showlegend": true,
         "type": "scatter",
         "x": [
          9.426
         ],
         "xaxis": "x",
         "y": [
          25545
         ],
         "yaxis": "y"
        },
        {
         "hovertemplate": "city=Waterford<br>area_total_sq_mi=%{x}<br>population_total=%{marker.size}<extra></extra>",
         "legendgroup": "Waterford",
         "marker": {
          "color": "#FECB52",
          "size": [
           8456
          ],
          "sizemode": "area",
          "sizeref": 9710.7675,
          "symbol": "circle"
         },
         "mode": "markers",
         "name": "Waterford",
         "orientation": "v",
         "showlegend": true,
         "type": "scatter",
         "x": [
          2.369
         ],
         "xaxis": "x",
         "y": [
          8456
         ],
         "yaxis": "y"
        },
        {
         "hovertemplate": "city=Watsonville<br>area_total_sq_mi=%{x}<br>population_total=%{marker.size}<extra></extra>",
         "legendgroup": "Watsonville",
         "marker": {
          "color": "#636efa",
          "size": [
           51199
          ],
          "sizemode": "area",
          "sizeref": 9710.7675,
          "symbol": "circle"
         },
         "mode": "markers",
         "name": "Watsonville",
         "orientation": "v",
         "showlegend": true,
         "type": "scatter",
         "x": [
          6.783
         ],
         "xaxis": "x",
         "y": [
          51199
         ],
         "yaxis": "y"
        },
        {
         "hovertemplate": "city=Weed<br>area_total_sq_mi=%{x}<br>population_total=%{marker.size}<extra></extra>",
         "legendgroup": "Weed",
         "marker": {
          "color": "#EF553B",
          "size": [
           2967
          ],
          "sizemode": "area",
          "sizeref": 9710.7675,
          "symbol": "circle"
         },
         "mode": "markers",
         "name": "Weed",
         "orientation": "v",
         "showlegend": true,
         "type": "scatter",
         "x": [
          4.795
         ],
         "xaxis": "x",
         "y": [
          2967
         ],
         "yaxis": "y"
        },
        {
         "hovertemplate": "city=WestCovina<br>area_total_sq_mi=%{x}<br>population_total=%{marker.size}<extra></extra>",
         "legendgroup": "WestCovina",
         "marker": {
          "color": "#00cc96",
          "size": [
           106098
          ],
          "sizemode": "area",
          "sizeref": 9710.7675,
          "symbol": "circle"
         },
         "mode": "markers",
         "name": "WestCovina",
         "orientation": "v",
         "showlegend": true,
         "type": "scatter",
         "x": [
          16.09
         ],
         "xaxis": "x",
         "y": [
          106098
         ],
         "yaxis": "y"
        },
        {
         "hovertemplate": "city=WestHollywood<br>area_total_sq_mi=%{x}<br>population_total=%{marker.size}<extra></extra>",
         "legendgroup": "WestHollywood",
         "marker": {
          "color": "#ab63fa",
          "size": [
           34650
          ],
          "sizemode": "area",
          "sizeref": 9710.7675,
          "symbol": "circle"
         },
         "mode": "markers",
         "name": "WestHollywood",
         "orientation": "v",
         "showlegend": true,
         "type": "scatter",
         "x": [
          1.887
         ],
         "xaxis": "x",
         "y": [
          34650
         ],
         "yaxis": "y"
        },
        {
         "hovertemplate": "city=WestlakeVillage<br>area_total_sq_mi=%{x}<br>population_total=%{marker.size}<extra></extra>",
         "legendgroup": "WestlakeVillage",
         "marker": {
          "color": "#FFA15A",
          "size": [
           8270
          ],
          "sizemode": "area",
          "sizeref": 9710.7675,
          "symbol": "circle"
         },
         "mode": "markers",
         "name": "WestlakeVillage",
         "orientation": "v",
         "showlegend": true,
         "type": "scatter",
         "x": [
          5.505
         ],
         "xaxis": "x",
         "y": [
          8270
         ],
         "yaxis": "y"
        },
        {
         "hovertemplate": "city=Westminster<br>area_total_sq_mi=%{x}<br>population_total=%{marker.size}<extra></extra>",
         "legendgroup": "Westminster",
         "marker": {
          "color": "#19d3f3",
          "size": [
           89701
          ],
          "sizemode": "area",
          "sizeref": 9710.7675,
          "symbol": "circle"
         },
         "mode": "markers",
         "name": "Westminster",
         "orientation": "v",
         "showlegend": true,
         "type": "scatter",
         "x": [
          10.049
         ],
         "xaxis": "x",
         "y": [
          89701
         ],
         "yaxis": "y"
        },
        {
         "hovertemplate": "city=Westmorland<br>area_total_sq_mi=%{x}<br>population_total=%{marker.size}<extra></extra>",
         "legendgroup": "Westmorland",
         "marker": {
          "color": "#FF6692",
          "size": [
           2225
          ],
          "sizemode": "area",
          "sizeref": 9710.7675,
          "symbol": "circle"
         },
         "mode": "markers",
         "name": "Westmorland",
         "orientation": "v",
         "showlegend": true,
         "type": "scatter",
         "x": [
          0.59
         ],
         "xaxis": "x",
         "y": [
          2225
         ],
         "yaxis": "y"
        },
        {
         "hovertemplate": "city=WestSacramento<br>area_total_sq_mi=%{x}<br>population_total=%{marker.size}<extra></extra>",
         "legendgroup": "WestSacramento",
         "marker": {
          "color": "#B6E880",
          "size": [
           48744
          ],
          "sizemode": "area",
          "sizeref": 9710.7675,
          "symbol": "circle"
         },
         "mode": "markers",
         "name": "WestSacramento",
         "orientation": "v",
         "showlegend": true,
         "type": "scatter",
         "x": [
          22.846
         ],
         "xaxis": "x",
         "y": [
          48744
         ],
         "yaxis": "y"
        },
        {
         "hovertemplate": "city=Wheatland<br>area_total_sq_mi=%{x}<br>population_total=%{marker.size}<extra></extra>",
         "legendgroup": "Wheatland",
         "marker": {
          "color": "#FF97FF",
          "size": [
           3456
          ],
          "sizemode": "area",
          "sizeref": 9710.7675,
          "symbol": "circle"
         },
         "mode": "markers",
         "name": "Wheatland",
         "orientation": "v",
         "showlegend": true,
         "type": "scatter",
         "x": [
          1.486
         ],
         "xaxis": "x",
         "y": [
          3456
         ],
         "yaxis": "y"
        },
        {
         "hovertemplate": "city=Whittier<br>area_total_sq_mi=%{x}<br>population_total=%{marker.size}<extra></extra>",
         "legendgroup": "Whittier",
         "marker": {
          "color": "#FECB52",
          "size": [
           85331
          ],
          "sizemode": "area",
          "sizeref": 9710.7675,
          "symbol": "circle"
         },
         "mode": "markers",
         "name": "Whittier",
         "orientation": "v",
         "showlegend": true,
         "type": "scatter",
         "x": [
          14.716
         ],
         "xaxis": "x",
         "y": [
          85331
         ],
         "yaxis": "y"
        },
        {
         "hovertemplate": "city=Wildomar<br>area_total_sq_mi=%{x}<br>population_total=%{marker.size}<extra></extra>",
         "legendgroup": "Wildomar",
         "marker": {
          "color": "#636efa",
          "size": [
           32176
          ],
          "sizemode": "area",
          "sizeref": 9710.7675,
          "symbol": "circle"
         },
         "mode": "markers",
         "name": "Wildomar",
         "orientation": "v",
         "showlegend": true,
         "type": "scatter",
         "x": [
          23.688
         ],
         "xaxis": "x",
         "y": [
          32176
         ],
         "yaxis": "y"
        },
        {
         "hovertemplate": "city=Williams<br>area_total_sq_mi=%{x}<br>population_total=%{marker.size}<extra></extra>",
         "legendgroup": "Williams",
         "marker": {
          "color": "#EF553B",
          "size": [
           5123
          ],
          "sizemode": "area",
          "sizeref": 9710.7675,
          "symbol": "circle"
         },
         "mode": "markers",
         "name": "Williams",
         "orientation": "v",
         "showlegend": true,
         "type": "scatter",
         "x": [
          5.444
         ],
         "xaxis": "x",
         "y": [
          5123
         ],
         "yaxis": "y"
        },
        {
         "hovertemplate": "city=Willits<br>area_total_sq_mi=%{x}<br>population_total=%{marker.size}<extra></extra>",
         "legendgroup": "Willits",
         "marker": {
          "color": "#00cc96",
          "size": [
           4888
          ],
          "sizemode": "area",
          "sizeref": 9710.7675,
          "symbol": "circle"
         },
         "mode": "markers",
         "name": "Willits",
         "orientation": "v",
         "showlegend": true,
         "type": "scatter",
         "x": [
          2.803
         ],
         "xaxis": "x",
         "y": [
          4888
         ],
         "yaxis": "y"
        },
        {
         "hovertemplate": "city=Willows<br>area_total_sq_mi=%{x}<br>population_total=%{marker.size}<extra></extra>",
         "legendgroup": "Willows",
         "marker": {
          "color": "#ab63fa",
          "size": [
           6166
          ],
          "sizemode": "area",
          "sizeref": 9710.7675,
          "symbol": "circle"
         },
         "mode": "markers",
         "name": "Willows",
         "orientation": "v",
         "showlegend": true,
         "type": "scatter",
         "x": [
          2.8729999999999998
         ],
         "xaxis": "x",
         "y": [
          6166
         ],
         "yaxis": "y"
        },
        {
         "hovertemplate": "city=Windsor<br>area_total_sq_mi=%{x}<br>population_total=%{marker.size}<extra></extra>",
         "legendgroup": "Windsor",
         "marker": {
          "color": "#FFA15A",
          "size": [
           26801
          ],
          "sizemode": "area",
          "sizeref": 9710.7675,
          "symbol": "circle"
         },
         "mode": "markers",
         "name": "Windsor",
         "orientation": "v",
         "showlegend": true,
         "type": "scatter",
         "x": [
          7.293
         ],
         "xaxis": "x",
         "y": [
          26801
         ],
         "yaxis": "y"
        },
        {
         "hovertemplate": "city=Winters<br>area_total_sq_mi=%{x}<br>population_total=%{marker.size}<extra></extra>",
         "legendgroup": "Winters",
         "marker": {
          "color": "#19d3f3",
          "size": [
           6624
          ],
          "sizemode": "area",
          "sizeref": 9710.7675,
          "symbol": "circle"
         },
         "mode": "markers",
         "name": "Winters",
         "orientation": "v",
         "showlegend": true,
         "type": "scatter",
         "x": [
          2.937
         ],
         "xaxis": "x",
         "y": [
          6624
         ],
         "yaxis": "y"
        },
        {
         "hovertemplate": "city=Woodlake<br>area_total_sq_mi=%{x}<br>population_total=%{marker.size}<extra></extra>",
         "legendgroup": "Woodlake",
         "marker": {
          "color": "#FF6692",
          "size": [
           7279
          ],
          "sizemode": "area",
          "sizeref": 9710.7675,
          "symbol": "circle"
         },
         "mode": "markers",
         "name": "Woodlake",
         "orientation": "v",
         "showlegend": true,
         "type": "scatter",
         "x": [
          2.765
         ],
         "xaxis": "x",
         "y": [
          7279
         ],
         "yaxis": "y"
        },
        {
         "hovertemplate": "city=Woodland<br>area_total_sq_mi=%{x}<br>population_total=%{marker.size}<extra></extra>",
         "legendgroup": "Woodland",
         "marker": {
          "color": "#B6E880",
          "size": [
           55468
          ],
          "sizemode": "area",
          "sizeref": 9710.7675,
          "symbol": "circle"
         },
         "mode": "markers",
         "name": "Woodland",
         "orientation": "v",
         "showlegend": true,
         "type": "scatter",
         "x": [
          15.303
         ],
         "xaxis": "x",
         "y": [
          55468
         ],
         "yaxis": "y"
        },
        {
         "hovertemplate": "city=Woodside<br>area_total_sq_mi=%{x}<br>population_total=%{marker.size}<extra></extra>",
         "legendgroup": "Woodside",
         "marker": {
          "color": "#FF97FF",
          "size": [
           5287
          ],
          "sizemode": "area",
          "sizeref": 9710.7675,
          "symbol": "circle"
         },
         "mode": "markers",
         "name": "Woodside",
         "orientation": "v",
         "showlegend": true,
         "type": "scatter",
         "x": [
          11.732
         ],
         "xaxis": "x",
         "y": [
          5287
         ],
         "yaxis": "y"
        },
        {
         "hovertemplate": "city=YorbaLinda<br>area_total_sq_mi=%{x}<br>population_total=%{marker.size}<extra></extra>",
         "legendgroup": "YorbaLinda",
         "marker": {
          "color": "#FECB52",
          "size": [
           65237
          ],
          "sizemode": "area",
          "sizeref": 9710.7675,
          "symbol": "circle"
         },
         "mode": "markers",
         "name": "YorbaLinda",
         "orientation": "v",
         "showlegend": true,
         "type": "scatter",
         "x": [
          20.018
         ],
         "xaxis": "x",
         "y": [
          65237
         ],
         "yaxis": "y"
        },
        {
         "hovertemplate": "city=Yountville<br>area_total_sq_mi=%{x}<br>population_total=%{marker.size}<extra></extra>",
         "legendgroup": "Yountville",
         "marker": {
          "color": "#636efa",
          "size": [
           2933
          ],
          "sizemode": "area",
          "sizeref": 9710.7675,
          "symbol": "circle"
         },
         "mode": "markers",
         "name": "Yountville",
         "orientation": "v",
         "showlegend": true,
         "type": "scatter",
         "x": [
          1.531
         ],
         "xaxis": "x",
         "y": [
          2933
         ],
         "yaxis": "y"
        },
        {
         "hovertemplate": "city=Yreka<br>area_total_sq_mi=%{x}<br>population_total=%{marker.size}<extra></extra>",
         "legendgroup": "Yreka",
         "marker": {
          "color": "#EF553B",
          "size": [
           7765
          ],
          "sizemode": "area",
          "sizeref": 9710.7675,
          "symbol": "circle"
         },
         "mode": "markers",
         "name": "Yreka",
         "orientation": "v",
         "showlegend": true,
         "type": "scatter",
         "x": [
          10.053
         ],
         "xaxis": "x",
         "y": [
          7765
         ],
         "yaxis": "y"
        },
        {
         "hovertemplate": "city=YubaCity<br>area_total_sq_mi=%{x}<br>population_total=%{marker.size}<extra></extra>",
         "legendgroup": "YubaCity",
         "marker": {
          "color": "#00cc96",
          "size": [
           64925
          ],
          "sizemode": "area",
          "sizeref": 9710.7675,
          "symbol": "circle"
         },
         "mode": "markers",
         "name": "YubaCity",
         "orientation": "v",
         "showlegend": true,
         "type": "scatter",
         "x": [
          14.655999999999999
         ],
         "xaxis": "x",
         "y": [
          64925
         ],
         "yaxis": "y"
        },
        {
         "hovertemplate": "city=Yucaipa<br>area_total_sq_mi=%{x}<br>population_total=%{marker.size}<extra></extra>",
         "legendgroup": "Yucaipa",
         "marker": {
          "color": "#ab63fa",
          "size": [
           51367
          ],
          "sizemode": "area",
          "sizeref": 9710.7675,
          "symbol": "circle"
         },
         "mode": "markers",
         "name": "Yucaipa",
         "orientation": "v",
         "showlegend": true,
         "type": "scatter",
         "x": [
          27.893
         ],
         "xaxis": "x",
         "y": [
          51367
         ],
         "yaxis": "y"
        },
        {
         "hovertemplate": "city=YuccaValley<br>area_total_sq_mi=%{x}<br>population_total=%{marker.size}<extra></extra>",
         "legendgroup": "YuccaValley",
         "marker": {
          "color": "#FFA15A",
          "size": [
           20700
          ],
          "sizemode": "area",
          "sizeref": 9710.7675,
          "symbol": "circle"
         },
         "mode": "markers",
         "name": "YuccaValley",
         "orientation": "v",
         "showlegend": true,
         "type": "scatter",
         "x": [
          40.015
         ],
         "xaxis": "x",
         "y": [
          20700
         ],
         "yaxis": "y"
        }
       ],
       "layout": {
        "legend": {
         "itemsizing": "constant",
         "title": {
          "text": "city"
         },
         "tracegroupgap": 0
        },
        "template": {
         "data": {
          "bar": [
           {
            "error_x": {
             "color": "#2a3f5f"
            },
            "error_y": {
             "color": "#2a3f5f"
            },
            "marker": {
             "line": {
              "color": "#E5ECF6",
              "width": 0.5
             },
             "pattern": {
              "fillmode": "overlay",
              "size": 10,
              "solidity": 0.2
             }
            },
            "type": "bar"
           }
          ],
          "barpolar": [
           {
            "marker": {
             "line": {
              "color": "#E5ECF6",
              "width": 0.5
             },
             "pattern": {
              "fillmode": "overlay",
              "size": 10,
              "solidity": 0.2
             }
            },
            "type": "barpolar"
           }
          ],
          "carpet": [
           {
            "aaxis": {
             "endlinecolor": "#2a3f5f",
             "gridcolor": "white",
             "linecolor": "white",
             "minorgridcolor": "white",
             "startlinecolor": "#2a3f5f"
            },
            "baxis": {
             "endlinecolor": "#2a3f5f",
             "gridcolor": "white",
             "linecolor": "white",
             "minorgridcolor": "white",
             "startlinecolor": "#2a3f5f"
            },
            "type": "carpet"
           }
          ],
          "choropleth": [
           {
            "colorbar": {
             "outlinewidth": 0,
             "ticks": ""
            },
            "type": "choropleth"
           }
          ],
          "contour": [
           {
            "colorbar": {
             "outlinewidth": 0,
             "ticks": ""
            },
            "colorscale": [
             [
              0,
              "#0d0887"
             ],
             [
              0.1111111111111111,
              "#46039f"
             ],
             [
              0.2222222222222222,
              "#7201a8"
             ],
             [
              0.3333333333333333,
              "#9c179e"
             ],
             [
              0.4444444444444444,
              "#bd3786"
             ],
             [
              0.5555555555555556,
              "#d8576b"
             ],
             [
              0.6666666666666666,
              "#ed7953"
             ],
             [
              0.7777777777777778,
              "#fb9f3a"
             ],
             [
              0.8888888888888888,
              "#fdca26"
             ],
             [
              1,
              "#f0f921"
             ]
            ],
            "type": "contour"
           }
          ],
          "contourcarpet": [
           {
            "colorbar": {
             "outlinewidth": 0,
             "ticks": ""
            },
            "type": "contourcarpet"
           }
          ],
          "heatmap": [
           {
            "colorbar": {
             "outlinewidth": 0,
             "ticks": ""
            },
            "colorscale": [
             [
              0,
              "#0d0887"
             ],
             [
              0.1111111111111111,
              "#46039f"
             ],
             [
              0.2222222222222222,
              "#7201a8"
             ],
             [
              0.3333333333333333,
              "#9c179e"
             ],
             [
              0.4444444444444444,
              "#bd3786"
             ],
             [
              0.5555555555555556,
              "#d8576b"
             ],
             [
              0.6666666666666666,
              "#ed7953"
             ],
             [
              0.7777777777777778,
              "#fb9f3a"
             ],
             [
              0.8888888888888888,
              "#fdca26"
             ],
             [
              1,
              "#f0f921"
             ]
            ],
            "type": "heatmap"
           }
          ],
          "heatmapgl": [
           {
            "colorbar": {
             "outlinewidth": 0,
             "ticks": ""
            },
            "colorscale": [
             [
              0,
              "#0d0887"
             ],
             [
              0.1111111111111111,
              "#46039f"
             ],
             [
              0.2222222222222222,
              "#7201a8"
             ],
             [
              0.3333333333333333,
              "#9c179e"
             ],
             [
              0.4444444444444444,
              "#bd3786"
             ],
             [
              0.5555555555555556,
              "#d8576b"
             ],
             [
              0.6666666666666666,
              "#ed7953"
             ],
             [
              0.7777777777777778,
              "#fb9f3a"
             ],
             [
              0.8888888888888888,
              "#fdca26"
             ],
             [
              1,
              "#f0f921"
             ]
            ],
            "type": "heatmapgl"
           }
          ],
          "histogram": [
           {
            "marker": {
             "pattern": {
              "fillmode": "overlay",
              "size": 10,
              "solidity": 0.2
             }
            },
            "type": "histogram"
           }
          ],
          "histogram2d": [
           {
            "colorbar": {
             "outlinewidth": 0,
             "ticks": ""
            },
            "colorscale": [
             [
              0,
              "#0d0887"
             ],
             [
              0.1111111111111111,
              "#46039f"
             ],
             [
              0.2222222222222222,
              "#7201a8"
             ],
             [
              0.3333333333333333,
              "#9c179e"
             ],
             [
              0.4444444444444444,
              "#bd3786"
             ],
             [
              0.5555555555555556,
              "#d8576b"
             ],
             [
              0.6666666666666666,
              "#ed7953"
             ],
             [
              0.7777777777777778,
              "#fb9f3a"
             ],
             [
              0.8888888888888888,
              "#fdca26"
             ],
             [
              1,
              "#f0f921"
             ]
            ],
            "type": "histogram2d"
           }
          ],
          "histogram2dcontour": [
           {
            "colorbar": {
             "outlinewidth": 0,
             "ticks": ""
            },
            "colorscale": [
             [
              0,
              "#0d0887"
             ],
             [
              0.1111111111111111,
              "#46039f"
             ],
             [
              0.2222222222222222,
              "#7201a8"
             ],
             [
              0.3333333333333333,
              "#9c179e"
             ],
             [
              0.4444444444444444,
              "#bd3786"
             ],
             [
              0.5555555555555556,
              "#d8576b"
             ],
             [
              0.6666666666666666,
              "#ed7953"
             ],
             [
              0.7777777777777778,
              "#fb9f3a"
             ],
             [
              0.8888888888888888,
              "#fdca26"
             ],
             [
              1,
              "#f0f921"
             ]
            ],
            "type": "histogram2dcontour"
           }
          ],
          "mesh3d": [
           {
            "colorbar": {
             "outlinewidth": 0,
             "ticks": ""
            },
            "type": "mesh3d"
           }
          ],
          "parcoords": [
           {
            "line": {
             "colorbar": {
              "outlinewidth": 0,
              "ticks": ""
             }
            },
            "type": "parcoords"
           }
          ],
          "pie": [
           {
            "automargin": true,
            "type": "pie"
           }
          ],
          "scatter": [
           {
            "fillpattern": {
             "fillmode": "overlay",
             "size": 10,
             "solidity": 0.2
            },
            "type": "scatter"
           }
          ],
          "scatter3d": [
           {
            "line": {
             "colorbar": {
              "outlinewidth": 0,
              "ticks": ""
             }
            },
            "marker": {
             "colorbar": {
              "outlinewidth": 0,
              "ticks": ""
             }
            },
            "type": "scatter3d"
           }
          ],
          "scattercarpet": [
           {
            "marker": {
             "colorbar": {
              "outlinewidth": 0,
              "ticks": ""
             }
            },
            "type": "scattercarpet"
           }
          ],
          "scattergeo": [
           {
            "marker": {
             "colorbar": {
              "outlinewidth": 0,
              "ticks": ""
             }
            },
            "type": "scattergeo"
           }
          ],
          "scattergl": [
           {
            "marker": {
             "colorbar": {
              "outlinewidth": 0,
              "ticks": ""
             }
            },
            "type": "scattergl"
           }
          ],
          "scattermapbox": [
           {
            "marker": {
             "colorbar": {
              "outlinewidth": 0,
              "ticks": ""
             }
            },
            "type": "scattermapbox"
           }
          ],
          "scatterpolar": [
           {
            "marker": {
             "colorbar": {
              "outlinewidth": 0,
              "ticks": ""
             }
            },
            "type": "scatterpolar"
           }
          ],
          "scatterpolargl": [
           {
            "marker": {
             "colorbar": {
              "outlinewidth": 0,
              "ticks": ""
             }
            },
            "type": "scatterpolargl"
           }
          ],
          "scatterternary": [
           {
            "marker": {
             "colorbar": {
              "outlinewidth": 0,
              "ticks": ""
             }
            },
            "type": "scatterternary"
           }
          ],
          "surface": [
           {
            "colorbar": {
             "outlinewidth": 0,
             "ticks": ""
            },
            "colorscale": [
             [
              0,
              "#0d0887"
             ],
             [
              0.1111111111111111,
              "#46039f"
             ],
             [
              0.2222222222222222,
              "#7201a8"
             ],
             [
              0.3333333333333333,
              "#9c179e"
             ],
             [
              0.4444444444444444,
              "#bd3786"
             ],
             [
              0.5555555555555556,
              "#d8576b"
             ],
             [
              0.6666666666666666,
              "#ed7953"
             ],
             [
              0.7777777777777778,
              "#fb9f3a"
             ],
             [
              0.8888888888888888,
              "#fdca26"
             ],
             [
              1,
              "#f0f921"
             ]
            ],
            "type": "surface"
           }
          ],
          "table": [
           {
            "cells": {
             "fill": {
              "color": "#EBF0F8"
             },
             "line": {
              "color": "white"
             }
            },
            "header": {
             "fill": {
              "color": "#C8D4E3"
             },
             "line": {
              "color": "white"
             }
            },
            "type": "table"
           }
          ]
         },
         "layout": {
          "annotationdefaults": {
           "arrowcolor": "#2a3f5f",
           "arrowhead": 0,
           "arrowwidth": 1
          },
          "autotypenumbers": "strict",
          "coloraxis": {
           "colorbar": {
            "outlinewidth": 0,
            "ticks": ""
           }
          },
          "colorscale": {
           "diverging": [
            [
             0,
             "#8e0152"
            ],
            [
             0.1,
             "#c51b7d"
            ],
            [
             0.2,
             "#de77ae"
            ],
            [
             0.3,
             "#f1b6da"
            ],
            [
             0.4,
             "#fde0ef"
            ],
            [
             0.5,
             "#f7f7f7"
            ],
            [
             0.6,
             "#e6f5d0"
            ],
            [
             0.7,
             "#b8e186"
            ],
            [
             0.8,
             "#7fbc41"
            ],
            [
             0.9,
             "#4d9221"
            ],
            [
             1,
             "#276419"
            ]
           ],
           "sequential": [
            [
             0,
             "#0d0887"
            ],
            [
             0.1111111111111111,
             "#46039f"
            ],
            [
             0.2222222222222222,
             "#7201a8"
            ],
            [
             0.3333333333333333,
             "#9c179e"
            ],
            [
             0.4444444444444444,
             "#bd3786"
            ],
            [
             0.5555555555555556,
             "#d8576b"
            ],
            [
             0.6666666666666666,
             "#ed7953"
            ],
            [
             0.7777777777777778,
             "#fb9f3a"
            ],
            [
             0.8888888888888888,
             "#fdca26"
            ],
            [
             1,
             "#f0f921"
            ]
           ],
           "sequentialminus": [
            [
             0,
             "#0d0887"
            ],
            [
             0.1111111111111111,
             "#46039f"
            ],
            [
             0.2222222222222222,
             "#7201a8"
            ],
            [
             0.3333333333333333,
             "#9c179e"
            ],
            [
             0.4444444444444444,
             "#bd3786"
            ],
            [
             0.5555555555555556,
             "#d8576b"
            ],
            [
             0.6666666666666666,
             "#ed7953"
            ],
            [
             0.7777777777777778,
             "#fb9f3a"
            ],
            [
             0.8888888888888888,
             "#fdca26"
            ],
            [
             1,
             "#f0f921"
            ]
           ]
          },
          "colorway": [
           "#636efa",
           "#EF553B",
           "#00cc96",
           "#ab63fa",
           "#FFA15A",
           "#19d3f3",
           "#FF6692",
           "#B6E880",
           "#FF97FF",
           "#FECB52"
          ],
          "font": {
           "color": "#2a3f5f"
          },
          "geo": {
           "bgcolor": "white",
           "lakecolor": "white",
           "landcolor": "#E5ECF6",
           "showlakes": true,
           "showland": true,
           "subunitcolor": "white"
          },
          "hoverlabel": {
           "align": "left"
          },
          "hovermode": "closest",
          "mapbox": {
           "style": "light"
          },
          "paper_bgcolor": "white",
          "plot_bgcolor": "#E5ECF6",
          "polar": {
           "angularaxis": {
            "gridcolor": "white",
            "linecolor": "white",
            "ticks": ""
           },
           "bgcolor": "#E5ECF6",
           "radialaxis": {
            "gridcolor": "white",
            "linecolor": "white",
            "ticks": ""
           }
          },
          "scene": {
           "xaxis": {
            "backgroundcolor": "#E5ECF6",
            "gridcolor": "white",
            "gridwidth": 2,
            "linecolor": "white",
            "showbackground": true,
            "ticks": "",
            "zerolinecolor": "white"
           },
           "yaxis": {
            "backgroundcolor": "#E5ECF6",
            "gridcolor": "white",
            "gridwidth": 2,
            "linecolor": "white",
            "showbackground": true,
            "ticks": "",
            "zerolinecolor": "white"
           },
           "zaxis": {
            "backgroundcolor": "#E5ECF6",
            "gridcolor": "white",
            "gridwidth": 2,
            "linecolor": "white",
            "showbackground": true,
            "ticks": "",
            "zerolinecolor": "white"
           }
          },
          "shapedefaults": {
           "line": {
            "color": "#2a3f5f"
           }
          },
          "ternary": {
           "aaxis": {
            "gridcolor": "white",
            "linecolor": "white",
            "ticks": ""
           },
           "baxis": {
            "gridcolor": "white",
            "linecolor": "white",
            "ticks": ""
           },
           "bgcolor": "#E5ECF6",
           "caxis": {
            "gridcolor": "white",
            "linecolor": "white",
            "ticks": ""
           }
          },
          "title": {
           "x": 0.05
          },
          "xaxis": {
           "automargin": true,
           "gridcolor": "white",
           "linecolor": "white",
           "ticks": "",
           "title": {
            "standoff": 15
           },
           "zerolinecolor": "white",
           "zerolinewidth": 2
          },
          "yaxis": {
           "automargin": true,
           "gridcolor": "white",
           "linecolor": "white",
           "ticks": "",
           "title": {
            "standoff": 15
           },
           "zerolinecolor": "white",
           "zerolinewidth": 2
          }
         }
        },
        "title": {
         "text": "Relationship between Area & Population"
        },
        "xaxis": {
         "anchor": "y",
         "domain": [
          0,
          1
         ],
         "title": {
          "text": "area_total_sq_mi"
         }
        },
        "yaxis": {
         "anchor": "x",
         "domain": [
          0,
          1
         ],
         "title": {
          "text": "population_total"
         }
        }
       }
      },
      "text/html": [
       "<div>                            <div id=\"238ea11e-6d25-4201-ab68-342a39d6e371\" class=\"plotly-graph-div\" style=\"height:525px; width:100%;\"></div>            <script type=\"text/javascript\">                require([\"plotly\"], function(Plotly) {                    window.PLOTLYENV=window.PLOTLYENV || {};                                    if (document.getElementById(\"238ea11e-6d25-4201-ab68-342a39d6e371\")) {                    Plotly.newPlot(                        \"238ea11e-6d25-4201-ab68-342a39d6e371\",                        [{\"hovertemplate\":\"city=Adelanto<br>area_total_sq_mi=%{x}<br>population_total=%{marker.size}<extra></extra>\",\"legendgroup\":\"Adelanto\",\"marker\":{\"color\":\"#636efa\",\"size\":[31765],\"sizemode\":\"area\",\"sizeref\":9710.7675,\"symbol\":\"circle\"},\"mode\":\"markers\",\"name\":\"Adelanto\",\"orientation\":\"v\",\"showlegend\":true,\"x\":[56.026999999999994],\"xaxis\":\"x\",\"y\":[31765],\"yaxis\":\"y\",\"type\":\"scatter\"},{\"hovertemplate\":\"city=AgouraHills<br>area_total_sq_mi=%{x}<br>population_total=%{marker.size}<extra></extra>\",\"legendgroup\":\"AgouraHills\",\"marker\":{\"color\":\"#EF553B\",\"size\":[20330],\"sizemode\":\"area\",\"sizeref\":9710.7675,\"symbol\":\"circle\"},\"mode\":\"markers\",\"name\":\"AgouraHills\",\"orientation\":\"v\",\"showlegend\":true,\"x\":[7.821999999999999],\"xaxis\":\"x\",\"y\":[20330],\"yaxis\":\"y\",\"type\":\"scatter\"},{\"hovertemplate\":\"city=Alameda<br>area_total_sq_mi=%{x}<br>population_total=%{marker.size}<extra></extra>\",\"legendgroup\":\"Alameda\",\"marker\":{\"color\":\"#00cc96\",\"size\":[75467],\"sizemode\":\"area\",\"sizeref\":9710.7675,\"symbol\":\"circle\"},\"mode\":\"markers\",\"name\":\"Alameda\",\"orientation\":\"v\",\"showlegend\":true,\"x\":[22.96],\"xaxis\":\"x\",\"y\":[75467],\"yaxis\":\"y\",\"type\":\"scatter\"},{\"hovertemplate\":\"city=Albany<br>area_total_sq_mi=%{x}<br>population_total=%{marker.size}<extra></extra>\",\"legendgroup\":\"Albany\",\"marker\":{\"color\":\"#ab63fa\",\"size\":[18969],\"sizemode\":\"area\",\"sizeref\":9710.7675,\"symbol\":\"circle\"},\"mode\":\"markers\",\"name\":\"Albany\",\"orientation\":\"v\",\"showlegend\":true,\"x\":[5.465],\"xaxis\":\"x\",\"y\":[18969],\"yaxis\":\"y\",\"type\":\"scatter\"},{\"hovertemplate\":\"city=Alhambra<br>area_total_sq_mi=%{x}<br>population_total=%{marker.size}<extra></extra>\",\"legendgroup\":\"Alhambra\",\"marker\":{\"color\":\"#FFA15A\",\"size\":[83089],\"sizemode\":\"area\",\"sizeref\":9710.7675,\"symbol\":\"circle\"},\"mode\":\"markers\",\"name\":\"Alhambra\",\"orientation\":\"v\",\"showlegend\":true,\"x\":[7.632000000000001],\"xaxis\":\"x\",\"y\":[83089],\"yaxis\":\"y\",\"type\":\"scatter\"},{\"hovertemplate\":\"city=AlisoViejo<br>area_total_sq_mi=%{x}<br>population_total=%{marker.size}<extra></extra>\",\"legendgroup\":\"AlisoViejo\",\"marker\":{\"color\":\"#19d3f3\",\"size\":[47823],\"sizemode\":\"area\",\"sizeref\":9710.7675,\"symbol\":\"circle\"},\"mode\":\"markers\",\"name\":\"AlisoViejo\",\"orientation\":\"v\",\"showlegend\":true,\"x\":[7.472],\"xaxis\":\"x\",\"y\":[47823],\"yaxis\":\"y\",\"type\":\"scatter\"},{\"hovertemplate\":\"city=Alturas<br>area_total_sq_mi=%{x}<br>population_total=%{marker.size}<extra></extra>\",\"legendgroup\":\"Alturas\",\"marker\":{\"color\":\"#FF6692\",\"size\":[2827],\"sizemode\":\"area\",\"sizeref\":9710.7675,\"symbol\":\"circle\"},\"mode\":\"markers\",\"name\":\"Alturas\",\"orientation\":\"v\",\"showlegend\":true,\"x\":[2.449],\"xaxis\":\"x\",\"y\":[2827],\"yaxis\":\"y\",\"type\":\"scatter\"},{\"hovertemplate\":\"city=AmadorCity<br>area_total_sq_mi=%{x}<br>population_total=%{marker.size}<extra></extra>\",\"legendgroup\":\"AmadorCity\",\"marker\":{\"color\":\"#B6E880\",\"size\":[185],\"sizemode\":\"area\",\"sizeref\":9710.7675,\"symbol\":\"circle\"},\"mode\":\"markers\",\"name\":\"AmadorCity\",\"orientation\":\"v\",\"showlegend\":true,\"x\":[0.314],\"xaxis\":\"x\",\"y\":[185],\"yaxis\":\"y\",\"type\":\"scatter\"},{\"hovertemplate\":\"city=AmericanCanyon<br>area_total_sq_mi=%{x}<br>population_total=%{marker.size}<extra></extra>\",\"legendgroup\":\"AmericanCanyon\",\"marker\":{\"color\":\"#FF97FF\",\"size\":[19454],\"sizemode\":\"area\",\"sizeref\":9710.7675,\"symbol\":\"circle\"},\"mode\":\"markers\",\"name\":\"AmericanCanyon\",\"orientation\":\"v\",\"showlegend\":true,\"x\":[4.845],\"xaxis\":\"x\",\"y\":[19454],\"yaxis\":\"y\",\"type\":\"scatter\"},{\"hovertemplate\":\"city=Anaheim<br>area_total_sq_mi=%{x}<br>population_total=%{marker.size}<extra></extra>\",\"legendgroup\":\"Anaheim\",\"marker\":{\"color\":\"#FECB52\",\"size\":[336000],\"sizemode\":\"area\",\"sizeref\":9710.7675,\"symbol\":\"circle\"},\"mode\":\"markers\",\"name\":\"Anaheim\",\"orientation\":\"v\",\"showlegend\":true,\"x\":[50.811],\"xaxis\":\"x\",\"y\":[336000],\"yaxis\":\"y\",\"type\":\"scatter\"},{\"hovertemplate\":\"city=Anderson<br>area_total_sq_mi=%{x}<br>population_total=%{marker.size}<extra></extra>\",\"legendgroup\":\"Anderson\",\"marker\":{\"color\":\"#636efa\",\"size\":[9932],\"sizemode\":\"area\",\"sizeref\":9710.7675,\"symbol\":\"circle\"},\"mode\":\"markers\",\"name\":\"Anderson\",\"orientation\":\"v\",\"showlegend\":true,\"x\":[6.620000000000001],\"xaxis\":\"x\",\"y\":[9932],\"yaxis\":\"y\",\"type\":\"scatter\"},{\"hovertemplate\":\"city=AngelsCamp<br>area_total_sq_mi=%{x}<br>population_total=%{marker.size}<extra></extra>\",\"legendgroup\":\"AngelsCamp\",\"marker\":{\"color\":\"#EF553B\",\"size\":[3836],\"sizemode\":\"area\",\"sizeref\":9710.7675,\"symbol\":\"circle\"},\"mode\":\"markers\",\"name\":\"AngelsCamp\",\"orientation\":\"v\",\"showlegend\":true,\"x\":[3.637],\"xaxis\":\"x\",\"y\":[3836],\"yaxis\":\"y\",\"type\":\"scatter\"},{\"hovertemplate\":\"city=Antioch<br>area_total_sq_mi=%{x}<br>population_total=%{marker.size}<extra></extra>\",\"legendgroup\":\"Antioch\",\"marker\":{\"color\":\"#00cc96\",\"size\":[107100],\"sizemode\":\"area\",\"sizeref\":9710.7675,\"symbol\":\"circle\"},\"mode\":\"markers\",\"name\":\"Antioch\",\"orientation\":\"v\",\"showlegend\":true,\"x\":[29.083000000000002],\"xaxis\":\"x\",\"y\":[107100],\"yaxis\":\"y\",\"type\":\"scatter\"},{\"hovertemplate\":\"city=AppleValley<br>area_total_sq_mi=%{x}<br>population_total=%{marker.size}<extra></extra>\",\"legendgroup\":\"AppleValley\",\"marker\":{\"color\":\"#ab63fa\",\"size\":[69135],\"sizemode\":\"area\",\"sizeref\":9710.7675,\"symbol\":\"circle\"},\"mode\":\"markers\",\"name\":\"AppleValley\",\"orientation\":\"v\",\"showlegend\":true,\"x\":[73.523],\"xaxis\":\"x\",\"y\":[69135],\"yaxis\":\"y\",\"type\":\"scatter\"},{\"hovertemplate\":\"city=Arcadia<br>area_total_sq_mi=%{x}<br>population_total=%{marker.size}<extra></extra>\",\"legendgroup\":\"Arcadia\",\"marker\":{\"color\":\"#FFA15A\",\"size\":[56364],\"sizemode\":\"area\",\"sizeref\":9710.7675,\"symbol\":\"circle\"},\"mode\":\"markers\",\"name\":\"Arcadia\",\"orientation\":\"v\",\"showlegend\":true,\"x\":[11.133000000000001],\"xaxis\":\"x\",\"y\":[56364],\"yaxis\":\"y\",\"type\":\"scatter\"},{\"hovertemplate\":\"city=Arcata<br>area_total_sq_mi=%{x}<br>population_total=%{marker.size}<extra></extra>\",\"legendgroup\":\"Arcata\",\"marker\":{\"color\":\"#19d3f3\",\"size\":[17231],\"sizemode\":\"area\",\"sizeref\":9710.7675,\"symbol\":\"circle\"},\"mode\":\"markers\",\"name\":\"Arcata\",\"orientation\":\"v\",\"showlegend\":true,\"x\":[10.994],\"xaxis\":\"x\",\"y\":[17231],\"yaxis\":\"y\",\"type\":\"scatter\"},{\"hovertemplate\":\"city=ArroyoGrande<br>area_total_sq_mi=%{x}<br>population_total=%{marker.size}<extra></extra>\",\"legendgroup\":\"ArroyoGrande\",\"marker\":{\"color\":\"#FF6692\",\"size\":[17716],\"sizemode\":\"area\",\"sizeref\":9710.7675,\"symbol\":\"circle\"},\"mode\":\"markers\",\"name\":\"ArroyoGrande\",\"orientation\":\"v\",\"showlegend\":true,\"x\":[5.835],\"xaxis\":\"x\",\"y\":[17716],\"yaxis\":\"y\",\"type\":\"scatter\"},{\"hovertemplate\":\"city=Artesia<br>area_total_sq_mi=%{x}<br>population_total=%{marker.size}<extra></extra>\",\"legendgroup\":\"Artesia\",\"marker\":{\"color\":\"#B6E880\",\"size\":[16522],\"sizemode\":\"area\",\"sizeref\":9710.7675,\"symbol\":\"circle\"},\"mode\":\"markers\",\"name\":\"Artesia\",\"orientation\":\"v\",\"showlegend\":true,\"x\":[1.621],\"xaxis\":\"x\",\"y\":[16522],\"yaxis\":\"y\",\"type\":\"scatter\"},{\"hovertemplate\":\"city=Arvin<br>area_total_sq_mi=%{x}<br>population_total=%{marker.size}<extra></extra>\",\"legendgroup\":\"Arvin\",\"marker\":{\"color\":\"#FF97FF\",\"size\":[19304],\"sizemode\":\"area\",\"sizeref\":9710.7675,\"symbol\":\"circle\"},\"mode\":\"markers\",\"name\":\"Arvin\",\"orientation\":\"v\",\"showlegend\":true,\"x\":[4.819],\"xaxis\":\"x\",\"y\":[19304],\"yaxis\":\"y\",\"type\":\"scatter\"},{\"hovertemplate\":\"city=Atascadero<br>area_total_sq_mi=%{x}<br>population_total=%{marker.size}<extra></extra>\",\"legendgroup\":\"Atascadero\",\"marker\":{\"color\":\"#FECB52\",\"size\":[28310],\"sizemode\":\"area\",\"sizeref\":9710.7675,\"symbol\":\"circle\"},\"mode\":\"markers\",\"name\":\"Atascadero\",\"orientation\":\"v\",\"showlegend\":true,\"x\":[26.13],\"xaxis\":\"x\",\"y\":[28310],\"yaxis\":\"y\",\"type\":\"scatter\"},{\"hovertemplate\":\"city=Atherton<br>area_total_sq_mi=%{x}<br>population_total=%{marker.size}<extra></extra>\",\"legendgroup\":\"Atherton\",\"marker\":{\"color\":\"#636efa\",\"size\":[6914],\"sizemode\":\"area\",\"sizeref\":9710.7675,\"symbol\":\"circle\"},\"mode\":\"markers\",\"name\":\"Atherton\",\"orientation\":\"v\",\"showlegend\":true,\"x\":[5.049],\"xaxis\":\"x\",\"y\":[6914],\"yaxis\":\"y\",\"type\":\"scatter\"},{\"hovertemplate\":\"city=Atwater<br>area_total_sq_mi=%{x}<br>population_total=%{marker.size}<extra></extra>\",\"legendgroup\":\"Atwater\",\"marker\":{\"color\":\"#EF553B\",\"size\":[28168],\"sizemode\":\"area\",\"sizeref\":9710.7675,\"symbol\":\"circle\"},\"mode\":\"markers\",\"name\":\"Atwater\",\"orientation\":\"v\",\"showlegend\":true,\"x\":[6.096000000000001],\"xaxis\":\"x\",\"y\":[28168],\"yaxis\":\"y\",\"type\":\"scatter\"},{\"hovertemplate\":\"city=Auburn<br>area_total_sq_mi=%{x}<br>population_total=%{marker.size}<extra></extra>\",\"legendgroup\":\"Auburn\",\"marker\":{\"color\":\"#00cc96\",\"size\":[13330],\"sizemode\":\"area\",\"sizeref\":9710.7675,\"symbol\":\"circle\"},\"mode\":\"markers\",\"name\":\"Auburn\",\"orientation\":\"v\",\"showlegend\":true,\"x\":[7.1659999999999995],\"xaxis\":\"x\",\"y\":[13330],\"yaxis\":\"y\",\"type\":\"scatter\"},{\"hovertemplate\":\"city=Avalon<br>area_total_sq_mi=%{x}<br>population_total=%{marker.size}<extra></extra>\",\"legendgroup\":\"Avalon\",\"marker\":{\"color\":\"#ab63fa\",\"size\":[3728],\"sizemode\":\"area\",\"sizeref\":9710.7675,\"symbol\":\"circle\"},\"mode\":\"markers\",\"name\":\"Avalon\",\"orientation\":\"v\",\"showlegend\":true,\"x\":[2.937],\"xaxis\":\"x\",\"y\":[3728],\"yaxis\":\"y\",\"type\":\"scatter\"},{\"hovertemplate\":\"city=Avenal<br>area_total_sq_mi=%{x}<br>population_total=%{marker.size}<extra></extra>\",\"legendgroup\":\"Avenal\",\"marker\":{\"color\":\"#FFA15A\",\"size\":[13239],\"sizemode\":\"area\",\"sizeref\":9710.7675,\"symbol\":\"circle\"},\"mode\":\"markers\",\"name\":\"Avenal\",\"orientation\":\"v\",\"showlegend\":true,\"x\":[19.422],\"xaxis\":\"x\",\"y\":[13239],\"yaxis\":\"y\",\"type\":\"scatter\"},{\"hovertemplate\":\"city=Azusa<br>area_total_sq_mi=%{x}<br>population_total=%{marker.size}<extra></extra>\",\"legendgroup\":\"Azusa\",\"marker\":{\"color\":\"#19d3f3\",\"size\":[46361],\"sizemode\":\"area\",\"sizeref\":9710.7675,\"symbol\":\"circle\"},\"mode\":\"markers\",\"name\":\"Azusa\",\"orientation\":\"v\",\"showlegend\":true,\"x\":[9.669],\"xaxis\":\"x\",\"y\":[46361],\"yaxis\":\"y\",\"type\":\"scatter\"},{\"hovertemplate\":\"city=Bakersfield<br>area_total_sq_mi=%{x}<br>population_total=%{marker.size}<extra></extra>\",\"legendgroup\":\"Bakersfield\",\"marker\":{\"color\":\"#FF6692\",\"size\":[347483],\"sizemode\":\"area\",\"sizeref\":9710.7675,\"symbol\":\"circle\"},\"mode\":\"markers\",\"name\":\"Bakersfield\",\"orientation\":\"v\",\"showlegend\":true,\"x\":[143.60899999999998],\"xaxis\":\"x\",\"y\":[347483],\"yaxis\":\"y\",\"type\":\"scatter\"},{\"hovertemplate\":\"city=BaldwinPark<br>area_total_sq_mi=%{x}<br>population_total=%{marker.size}<extra></extra>\",\"legendgroup\":\"BaldwinPark\",\"marker\":{\"color\":\"#B6E880\",\"size\":[75390],\"sizemode\":\"area\",\"sizeref\":9710.7675,\"symbol\":\"circle\"},\"mode\":\"markers\",\"name\":\"BaldwinPark\",\"orientation\":\"v\",\"showlegend\":true,\"x\":[6.7860000000000005],\"xaxis\":\"x\",\"y\":[75390],\"yaxis\":\"y\",\"type\":\"scatter\"},{\"hovertemplate\":\"city=Banning<br>area_total_sq_mi=%{x}<br>population_total=%{marker.size}<extra></extra>\",\"legendgroup\":\"Banning\",\"marker\":{\"color\":\"#FF97FF\",\"size\":[29603],\"sizemode\":\"area\",\"sizeref\":9710.7675,\"symbol\":\"circle\"},\"mode\":\"markers\",\"name\":\"Banning\",\"orientation\":\"v\",\"showlegend\":true,\"x\":[23.099],\"xaxis\":\"x\",\"y\":[29603],\"yaxis\":\"y\",\"type\":\"scatter\"},{\"hovertemplate\":\"city=Barstow<br>area_total_sq_mi=%{x}<br>population_total=%{marker.size}<extra></extra>\",\"legendgroup\":\"Barstow\",\"marker\":{\"color\":\"#FECB52\",\"size\":[22639],\"sizemode\":\"area\",\"sizeref\":9710.7675,\"symbol\":\"circle\"},\"mode\":\"markers\",\"name\":\"Barstow\",\"orientation\":\"v\",\"showlegend\":true,\"x\":[41.394],\"xaxis\":\"x\",\"y\":[22639],\"yaxis\":\"y\",\"type\":\"scatter\"},{\"hovertemplate\":\"city=Beaumont<br>area_total_sq_mi=%{x}<br>population_total=%{marker.size}<extra></extra>\",\"legendgroup\":\"Beaumont\",\"marker\":{\"color\":\"#636efa\",\"size\":[36877],\"sizemode\":\"area\",\"sizeref\":9710.7675,\"symbol\":\"circle\"},\"mode\":\"markers\",\"name\":\"Beaumont\",\"orientation\":\"v\",\"showlegend\":true,\"x\":[30.926],\"xaxis\":\"x\",\"y\":[36877],\"yaxis\":\"y\",\"type\":\"scatter\"},{\"hovertemplate\":\"city=Bell<br>area_total_sq_mi=%{x}<br>population_total=%{marker.size}<extra></extra>\",\"legendgroup\":\"Bell\",\"marker\":{\"color\":\"#EF553B\",\"size\":[35477],\"sizemode\":\"area\",\"sizeref\":9710.7675,\"symbol\":\"circle\"},\"mode\":\"markers\",\"name\":\"Bell\",\"orientation\":\"v\",\"showlegend\":true,\"x\":[2.62],\"xaxis\":\"x\",\"y\":[35477],\"yaxis\":\"y\",\"type\":\"scatter\"},{\"hovertemplate\":\"city=Bellflower<br>area_total_sq_mi=%{x}<br>population_total=%{marker.size}<extra></extra>\",\"legendgroup\":\"Bellflower\",\"marker\":{\"color\":\"#00cc96\",\"size\":[76616],\"sizemode\":\"area\",\"sizeref\":9710.7675,\"symbol\":\"circle\"},\"mode\":\"markers\",\"name\":\"Bellflower\",\"orientation\":\"v\",\"showlegend\":true,\"x\":[6.170000000000001],\"xaxis\":\"x\",\"y\":[76616],\"yaxis\":\"y\",\"type\":\"scatter\"},{\"hovertemplate\":\"city=BellGardens<br>area_total_sq_mi=%{x}<br>population_total=%{marker.size}<extra></extra>\",\"legendgroup\":\"BellGardens\",\"marker\":{\"color\":\"#ab63fa\",\"size\":[42072],\"sizemode\":\"area\",\"sizeref\":9710.7675,\"symbol\":\"circle\"},\"mode\":\"markers\",\"name\":\"BellGardens\",\"orientation\":\"v\",\"showlegend\":true,\"x\":[2.463],\"xaxis\":\"x\",\"y\":[42072],\"yaxis\":\"y\",\"type\":\"scatter\"},{\"hovertemplate\":\"city=Belmont<br>area_total_sq_mi=%{x}<br>population_total=%{marker.size}<extra></extra>\",\"legendgroup\":\"Belmont\",\"marker\":{\"color\":\"#FFA15A\",\"size\":[25835],\"sizemode\":\"area\",\"sizeref\":9710.7675,\"symbol\":\"circle\"},\"mode\":\"markers\",\"name\":\"Belmont\",\"orientation\":\"v\",\"showlegend\":true,\"x\":[4.630000000000001],\"xaxis\":\"x\",\"y\":[25835],\"yaxis\":\"y\",\"type\":\"scatter\"},{\"hovertemplate\":\"city=Belvedere<br>area_total_sq_mi=%{x}<br>population_total=%{marker.size}<extra></extra>\",\"legendgroup\":\"Belvedere\",\"marker\":{\"color\":\"#19d3f3\",\"size\":[2068],\"sizemode\":\"area\",\"sizeref\":9710.7675,\"symbol\":\"circle\"},\"mode\":\"markers\",\"name\":\"Belvedere\",\"orientation\":\"v\",\"showlegend\":true,\"x\":[2.406],\"xaxis\":\"x\",\"y\":[2068],\"yaxis\":\"y\",\"type\":\"scatter\"},{\"hovertemplate\":\"city=Benicia<br>area_total_sq_mi=%{x}<br>population_total=%{marker.size}<extra></extra>\",\"legendgroup\":\"Benicia\",\"marker\":{\"color\":\"#FF6692\",\"size\":[26997],\"sizemode\":\"area\",\"sizeref\":9710.7675,\"symbol\":\"circle\"},\"mode\":\"markers\",\"name\":\"Benicia\",\"orientation\":\"v\",\"showlegend\":true,\"x\":[15.72],\"xaxis\":\"x\",\"y\":[26997],\"yaxis\":\"y\",\"type\":\"scatter\"},{\"hovertemplate\":\"city=Berkeley<br>area_total_sq_mi=%{x}<br>population_total=%{marker.size}<extra></extra>\",\"legendgroup\":\"Berkeley\",\"marker\":{\"color\":\"#B6E880\",\"size\":[112580],\"sizemode\":\"area\",\"sizeref\":9710.7675,\"symbol\":\"circle\"},\"mode\":\"markers\",\"name\":\"Berkeley\",\"orientation\":\"v\",\"showlegend\":true,\"x\":[17.696],\"xaxis\":\"x\",\"y\":[112580],\"yaxis\":\"y\",\"type\":\"scatter\"},{\"hovertemplate\":\"city=BeverlyHills<br>area_total_sq_mi=%{x}<br>population_total=%{marker.size}<extra></extra>\",\"legendgroup\":\"BeverlyHills\",\"marker\":{\"color\":\"#FF97FF\",\"size\":[34290],\"sizemode\":\"area\",\"sizeref\":9710.7675,\"symbol\":\"circle\"},\"mode\":\"markers\",\"name\":\"BeverlyHills\",\"orientation\":\"v\",\"showlegend\":true,\"x\":[5.709999999999999],\"xaxis\":\"x\",\"y\":[34290],\"yaxis\":\"y\",\"type\":\"scatter\"},{\"hovertemplate\":\"city=BigBearLake<br>area_total_sq_mi=%{x}<br>population_total=%{marker.size}<extra></extra>\",\"legendgroup\":\"BigBearLake\",\"marker\":{\"color\":\"#FECB52\",\"size\":[5019],\"sizemode\":\"area\",\"sizeref\":9710.7675,\"symbol\":\"circle\"},\"mode\":\"markers\",\"name\":\"BigBearLake\",\"orientation\":\"v\",\"showlegend\":true,\"x\":[6.534],\"xaxis\":\"x\",\"y\":[5019],\"yaxis\":\"y\",\"type\":\"scatter\"},{\"hovertemplate\":\"city=Biggs<br>area_total_sq_mi=%{x}<br>population_total=%{marker.size}<extra></extra>\",\"legendgroup\":\"Biggs\",\"marker\":{\"color\":\"#636efa\",\"size\":[1707],\"sizemode\":\"area\",\"sizeref\":9710.7675,\"symbol\":\"circle\"},\"mode\":\"markers\",\"name\":\"Biggs\",\"orientation\":\"v\",\"showlegend\":true,\"x\":[0.636],\"xaxis\":\"x\",\"y\":[1707],\"yaxis\":\"y\",\"type\":\"scatter\"},{\"hovertemplate\":\"city=Bishop<br>area_total_sq_mi=%{x}<br>population_total=%{marker.size}<extra></extra>\",\"legendgroup\":\"Bishop\",\"marker\":{\"color\":\"#EF553B\",\"size\":[3879],\"sizemode\":\"area\",\"sizeref\":9710.7675,\"symbol\":\"circle\"},\"mode\":\"markers\",\"name\":\"Bishop\",\"orientation\":\"v\",\"showlegend\":true,\"x\":[1.911],\"xaxis\":\"x\",\"y\":[3879],\"yaxis\":\"y\",\"type\":\"scatter\"},{\"hovertemplate\":\"city=BlueLake<br>area_total_sq_mi=%{x}<br>population_total=%{marker.size}<extra></extra>\",\"legendgroup\":\"BlueLake\",\"marker\":{\"color\":\"#00cc96\",\"size\":[1253],\"sizemode\":\"area\",\"sizeref\":9710.7675,\"symbol\":\"circle\"},\"mode\":\"markers\",\"name\":\"BlueLake\",\"orientation\":\"v\",\"showlegend\":true,\"x\":[0.6220000000000001],\"xaxis\":\"x\",\"y\":[1253],\"yaxis\":\"y\",\"type\":\"scatter\"},{\"hovertemplate\":\"city=Blythe<br>area_total_sq_mi=%{x}<br>population_total=%{marker.size}<extra></extra>\",\"legendgroup\":\"Blythe\",\"marker\":{\"color\":\"#ab63fa\",\"size\":[20817],\"sizemode\":\"area\",\"sizeref\":9710.7675,\"symbol\":\"circle\"},\"mode\":\"markers\",\"name\":\"Blythe\",\"orientation\":\"v\",\"showlegend\":true,\"x\":[26.972],\"xaxis\":\"x\",\"y\":[20817],\"yaxis\":\"y\",\"type\":\"scatter\"},{\"hovertemplate\":\"city=Bradbury<br>area_total_sq_mi=%{x}<br>population_total=%{marker.size}<extra></extra>\",\"legendgroup\":\"Bradbury\",\"marker\":{\"color\":\"#FFA15A\",\"size\":[1048],\"sizemode\":\"area\",\"sizeref\":9710.7675,\"symbol\":\"circle\"},\"mode\":\"markers\",\"name\":\"Bradbury\",\"orientation\":\"v\",\"showlegend\":true,\"x\":[1.958],\"xaxis\":\"x\",\"y\":[1048],\"yaxis\":\"y\",\"type\":\"scatter\"},{\"hovertemplate\":\"city=Brawley<br>area_total_sq_mi=%{x}<br>population_total=%{marker.size}<extra></extra>\",\"legendgroup\":\"Brawley\",\"marker\":{\"color\":\"#19d3f3\",\"size\":[24953],\"sizemode\":\"area\",\"sizeref\":9710.7675,\"symbol\":\"circle\"},\"mode\":\"markers\",\"name\":\"Brawley\",\"orientation\":\"v\",\"showlegend\":true,\"x\":[7.682],\"xaxis\":\"x\",\"y\":[24953],\"yaxis\":\"y\",\"type\":\"scatter\"},{\"hovertemplate\":\"city=Brea<br>area_total_sq_mi=%{x}<br>population_total=%{marker.size}<extra></extra>\",\"legendgroup\":\"Brea\",\"marker\":{\"color\":\"#FF6692\",\"size\":[39282],\"sizemode\":\"area\",\"sizeref\":9710.7675,\"symbol\":\"circle\"},\"mode\":\"markers\",\"name\":\"Brea\",\"orientation\":\"v\",\"showlegend\":true,\"x\":[12.109],\"xaxis\":\"x\",\"y\":[39282],\"yaxis\":\"y\",\"type\":\"scatter\"},{\"hovertemplate\":\"city=Brentwood<br>area_total_sq_mi=%{x}<br>population_total=%{marker.size}<extra></extra>\",\"legendgroup\":\"Brentwood\",\"marker\":{\"color\":\"#B6E880\",\"size\":[51481],\"sizemode\":\"area\",\"sizeref\":9710.7675,\"symbol\":\"circle\"},\"mode\":\"markers\",\"name\":\"Brentwood\",\"orientation\":\"v\",\"showlegend\":true,\"x\":[14.805],\"xaxis\":\"x\",\"y\":[51481],\"yaxis\":\"y\",\"type\":\"scatter\"},{\"hovertemplate\":\"city=Brisbane<br>area_total_sq_mi=%{x}<br>population_total=%{marker.size}<extra></extra>\",\"legendgroup\":\"Brisbane\",\"marker\":{\"color\":\"#FF97FF\",\"size\":[4282],\"sizemode\":\"area\",\"sizeref\":9710.7675,\"symbol\":\"circle\"},\"mode\":\"markers\",\"name\":\"Brisbane\",\"orientation\":\"v\",\"showlegend\":true,\"x\":[20.076999999999998],\"xaxis\":\"x\",\"y\":[4282],\"yaxis\":\"y\",\"type\":\"scatter\"},{\"hovertemplate\":\"city=Buellton<br>area_total_sq_mi=%{x}<br>population_total=%{marker.size}<extra></extra>\",\"legendgroup\":\"Buellton\",\"marker\":{\"color\":\"#FECB52\",\"size\":[4828],\"sizemode\":\"area\",\"sizeref\":9710.7675,\"symbol\":\"circle\"},\"mode\":\"markers\",\"name\":\"Buellton\",\"orientation\":\"v\",\"showlegend\":true,\"x\":[1.583],\"xaxis\":\"x\",\"y\":[4828],\"yaxis\":\"y\",\"type\":\"scatter\"},{\"hovertemplate\":\"city=BuenaPark<br>area_total_sq_mi=%{x}<br>population_total=%{marker.size}<extra></extra>\",\"legendgroup\":\"BuenaPark\",\"marker\":{\"color\":\"#636efa\",\"size\":[80530],\"sizemode\":\"area\",\"sizeref\":9710.7675,\"symbol\":\"circle\"},\"mode\":\"markers\",\"name\":\"BuenaPark\",\"orientation\":\"v\",\"showlegend\":true,\"x\":[10.552999999999999],\"xaxis\":\"x\",\"y\":[80530],\"yaxis\":\"y\",\"type\":\"scatter\"},{\"hovertemplate\":\"city=Burbank<br>area_total_sq_mi=%{x}<br>population_total=%{marker.size}<extra></extra>\",\"legendgroup\":\"Burbank\",\"marker\":{\"color\":\"#EF553B\",\"size\":[103340],\"sizemode\":\"area\",\"sizeref\":9710.7675,\"symbol\":\"circle\"},\"mode\":\"markers\",\"name\":\"Burbank\",\"orientation\":\"v\",\"showlegend\":true,\"x\":[17.378999999999998],\"xaxis\":\"x\",\"y\":[103340],\"yaxis\":\"y\",\"type\":\"scatter\"},{\"hovertemplate\":\"city=Burlingame<br>area_total_sq_mi=%{x}<br>population_total=%{marker.size}<extra></extra>\",\"legendgroup\":\"Burlingame\",\"marker\":{\"color\":\"#00cc96\",\"size\":[28806],\"sizemode\":\"area\",\"sizeref\":9710.7675,\"symbol\":\"circle\"},\"mode\":\"markers\",\"name\":\"Burlingame\",\"orientation\":\"v\",\"showlegend\":true,\"x\":[6.057],\"xaxis\":\"x\",\"y\":[28806],\"yaxis\":\"y\",\"type\":\"scatter\"},{\"hovertemplate\":\"city=Calabasas<br>area_total_sq_mi=%{x}<br>population_total=%{marker.size}<extra></extra>\",\"legendgroup\":\"Calabasas\",\"marker\":{\"color\":\"#ab63fa\",\"size\":[23058],\"sizemode\":\"area\",\"sizeref\":9710.7675,\"symbol\":\"circle\"},\"mode\":\"markers\",\"name\":\"Calabasas\",\"orientation\":\"v\",\"showlegend\":true,\"x\":[13.3],\"xaxis\":\"x\",\"y\":[23058],\"yaxis\":\"y\",\"type\":\"scatter\"},{\"hovertemplate\":\"city=Calexico<br>area_total_sq_mi=%{x}<br>population_total=%{marker.size}<extra></extra>\",\"legendgroup\":\"Calexico\",\"marker\":{\"color\":\"#FFA15A\",\"size\":[38572],\"sizemode\":\"area\",\"sizeref\":9710.7675,\"symbol\":\"circle\"},\"mode\":\"markers\",\"name\":\"Calexico\",\"orientation\":\"v\",\"showlegend\":true,\"x\":[8.391],\"xaxis\":\"x\",\"y\":[38572],\"yaxis\":\"y\",\"type\":\"scatter\"},{\"hovertemplate\":\"city=CaliforniaCity<br>area_total_sq_mi=%{x}<br>population_total=%{marker.size}<extra></extra>\",\"legendgroup\":\"CaliforniaCity\",\"marker\":{\"color\":\"#19d3f3\",\"size\":[14120],\"sizemode\":\"area\",\"sizeref\":9710.7675,\"symbol\":\"circle\"},\"mode\":\"markers\",\"name\":\"CaliforniaCity\",\"orientation\":\"v\",\"showlegend\":true,\"x\":[203.631],\"xaxis\":\"x\",\"y\":[14120],\"yaxis\":\"y\",\"type\":\"scatter\"},{\"hovertemplate\":\"city=Calimesa<br>area_total_sq_mi=%{x}<br>population_total=%{marker.size}<extra></extra>\",\"legendgroup\":\"Calimesa\",\"marker\":{\"color\":\"#FF6692\",\"size\":[7879],\"sizemode\":\"area\",\"sizeref\":9710.7675,\"symbol\":\"circle\"},\"mode\":\"markers\",\"name\":\"Calimesa\",\"orientation\":\"v\",\"showlegend\":true,\"x\":[14.847],\"xaxis\":\"x\",\"y\":[7879],\"yaxis\":\"y\",\"type\":\"scatter\"},{\"hovertemplate\":\"city=Calipatria<br>area_total_sq_mi=%{x}<br>population_total=%{marker.size}<extra></extra>\",\"legendgroup\":\"Calipatria\",\"marker\":{\"color\":\"#B6E880\",\"size\":[7705],\"sizemode\":\"area\",\"sizeref\":9710.7675,\"symbol\":\"circle\"},\"mode\":\"markers\",\"name\":\"Calipatria\",\"orientation\":\"v\",\"showlegend\":true,\"x\":[3.716],\"xaxis\":\"x\",\"y\":[7705],\"yaxis\":\"y\",\"type\":\"scatter\"},{\"hovertemplate\":\"city=Calistoga<br>area_total_sq_mi=%{x}<br>population_total=%{marker.size}<extra></extra>\",\"legendgroup\":\"Calistoga\",\"marker\":{\"color\":\"#FF97FF\",\"size\":[5155],\"sizemode\":\"area\",\"sizeref\":9710.7675,\"symbol\":\"circle\"},\"mode\":\"markers\",\"name\":\"Calistoga\",\"orientation\":\"v\",\"showlegend\":true,\"x\":[2.613],\"xaxis\":\"x\",\"y\":[5155],\"yaxis\":\"y\",\"type\":\"scatter\"},{\"hovertemplate\":\"city=Camarillo<br>area_total_sq_mi=%{x}<br>population_total=%{marker.size}<extra></extra>\",\"legendgroup\":\"Camarillo\",\"marker\":{\"color\":\"#FECB52\",\"size\":[65201],\"sizemode\":\"area\",\"sizeref\":9710.7675,\"symbol\":\"circle\"},\"mode\":\"markers\",\"name\":\"Camarillo\",\"orientation\":\"v\",\"showlegend\":true,\"x\":[19.543],\"xaxis\":\"x\",\"y\":[65201],\"yaxis\":\"y\",\"type\":\"scatter\"},{\"hovertemplate\":\"city=Campbell<br>area_total_sq_mi=%{x}<br>population_total=%{marker.size}<extra></extra>\",\"legendgroup\":\"Campbell\",\"marker\":{\"color\":\"#636efa\",\"size\":[39349],\"sizemode\":\"area\",\"sizeref\":9710.7675,\"symbol\":\"circle\"},\"mode\":\"markers\",\"name\":\"Campbell\",\"orientation\":\"v\",\"showlegend\":true,\"x\":[5.885999999999999],\"xaxis\":\"x\",\"y\":[39349],\"yaxis\":\"y\",\"type\":\"scatter\"},{\"hovertemplate\":\"city=CanyonLake<br>area_total_sq_mi=%{x}<br>population_total=%{marker.size}<extra></extra>\",\"legendgroup\":\"CanyonLake\",\"marker\":{\"color\":\"#EF553B\",\"size\":[10561],\"sizemode\":\"area\",\"sizeref\":9710.7675,\"symbol\":\"circle\"},\"mode\":\"markers\",\"name\":\"CanyonLake\",\"orientation\":\"v\",\"showlegend\":true,\"x\":[4.671],\"xaxis\":\"x\",\"y\":[10561],\"yaxis\":\"y\",\"type\":\"scatter\"},{\"hovertemplate\":\"city=Capitola<br>area_total_sq_mi=%{x}<br>population_total=%{marker.size}<extra></extra>\",\"legendgroup\":\"Capitola\",\"marker\":{\"color\":\"#00cc96\",\"size\":[9918],\"sizemode\":\"area\",\"sizeref\":9710.7675,\"symbol\":\"circle\"},\"mode\":\"markers\",\"name\":\"Capitola\",\"orientation\":\"v\",\"showlegend\":true,\"x\":[1.6760000000000002],\"xaxis\":\"x\",\"y\":[9918],\"yaxis\":\"y\",\"type\":\"scatter\"},{\"hovertemplate\":\"city=Carlsbad<br>area_total_sq_mi=%{x}<br>population_total=%{marker.size}<extra></extra>\",\"legendgroup\":\"Carlsbad\",\"marker\":{\"color\":\"#ab63fa\",\"size\":[105328],\"sizemode\":\"area\",\"sizeref\":9710.7675,\"symbol\":\"circle\"},\"mode\":\"markers\",\"name\":\"Carlsbad\",\"orientation\":\"v\",\"showlegend\":true,\"x\":[39.11],\"xaxis\":\"x\",\"y\":[105328],\"yaxis\":\"y\",\"type\":\"scatter\"},{\"hovertemplate\":\"city=CarmelbytheSea<br>area_total_sq_mi=%{x}<br>population_total=%{marker.size}<extra></extra>\",\"legendgroup\":\"CarmelbytheSea\",\"marker\":{\"color\":\"#FFA15A\",\"size\":[3722],\"sizemode\":\"area\",\"sizeref\":9710.7675,\"symbol\":\"circle\"},\"mode\":\"markers\",\"name\":\"CarmelbytheSea\",\"orientation\":\"v\",\"showlegend\":true,\"x\":[1.08],\"xaxis\":\"x\",\"y\":[3722],\"yaxis\":\"y\",\"type\":\"scatter\"},{\"hovertemplate\":\"city=Carpinteria<br>area_total_sq_mi=%{x}<br>population_total=%{marker.size}<extra></extra>\",\"legendgroup\":\"Carpinteria\",\"marker\":{\"color\":\"#19d3f3\",\"size\":[13040],\"sizemode\":\"area\",\"sizeref\":9710.7675,\"symbol\":\"circle\"},\"mode\":\"markers\",\"name\":\"Carpinteria\",\"orientation\":\"v\",\"showlegend\":true,\"x\":[9.272],\"xaxis\":\"x\",\"y\":[13040],\"yaxis\":\"y\",\"type\":\"scatter\"},{\"hovertemplate\":\"city=Carson<br>area_total_sq_mi=%{x}<br>population_total=%{marker.size}<extra></extra>\",\"legendgroup\":\"Carson\",\"marker\":{\"color\":\"#FF6692\",\"size\":[91714],\"sizemode\":\"area\",\"sizeref\":9710.7675,\"symbol\":\"circle\"},\"mode\":\"markers\",\"name\":\"Carson\",\"orientation\":\"v\",\"showlegend\":true,\"x\":[18.968],\"xaxis\":\"x\",\"y\":[91714],\"yaxis\":\"y\",\"type\":\"scatter\"},{\"hovertemplate\":\"city=CathedralCity<br>area_total_sq_mi=%{x}<br>population_total=%{marker.size}<extra></extra>\",\"legendgroup\":\"CathedralCity\",\"marker\":{\"color\":\"#B6E880\",\"size\":[51200],\"sizemode\":\"area\",\"sizeref\":9710.7675,\"symbol\":\"circle\"},\"mode\":\"markers\",\"name\":\"CathedralCity\",\"orientation\":\"v\",\"showlegend\":true,\"x\":[21.756],\"xaxis\":\"x\",\"y\":[51200],\"yaxis\":\"y\",\"type\":\"scatter\"},{\"hovertemplate\":\"city=Ceres<br>area_total_sq_mi=%{x}<br>population_total=%{marker.size}<extra></extra>\",\"legendgroup\":\"Ceres\",\"marker\":{\"color\":\"#FF97FF\",\"size\":[45417],\"sizemode\":\"area\",\"sizeref\":9710.7675,\"symbol\":\"circle\"},\"mode\":\"markers\",\"name\":\"Ceres\",\"orientation\":\"v\",\"showlegend\":true,\"x\":[8.019],\"xaxis\":\"x\",\"y\":[45417],\"yaxis\":\"y\",\"type\":\"scatter\"},{\"hovertemplate\":\"city=Cerritos<br>area_total_sq_mi=%{x}<br>population_total=%{marker.size}<extra></extra>\",\"legendgroup\":\"Cerritos\",\"marker\":{\"color\":\"#FECB52\",\"size\":[49041],\"sizemode\":\"area\",\"sizeref\":9710.7675,\"symbol\":\"circle\"},\"mode\":\"markers\",\"name\":\"Cerritos\",\"orientation\":\"v\",\"showlegend\":true,\"x\":[8.856],\"xaxis\":\"x\",\"y\":[49041],\"yaxis\":\"y\",\"type\":\"scatter\"},{\"hovertemplate\":\"city=Chico<br>area_total_sq_mi=%{x}<br>population_total=%{marker.size}<extra></extra>\",\"legendgroup\":\"Chico\",\"marker\":{\"color\":\"#636efa\",\"size\":[86187],\"sizemode\":\"area\",\"sizeref\":9710.7675,\"symbol\":\"circle\"},\"mode\":\"markers\",\"name\":\"Chico\",\"orientation\":\"v\",\"showlegend\":true,\"x\":[33.095],\"xaxis\":\"x\",\"y\":[86187],\"yaxis\":\"y\",\"type\":\"scatter\"},{\"hovertemplate\":\"city=Chino<br>area_total_sq_mi=%{x}<br>population_total=%{marker.size}<extra></extra>\",\"legendgroup\":\"Chino\",\"marker\":{\"color\":\"#EF553B\",\"size\":[77983],\"sizemode\":\"area\",\"sizeref\":9710.7675,\"symbol\":\"circle\"},\"mode\":\"markers\",\"name\":\"Chino\",\"orientation\":\"v\",\"showlegend\":true,\"x\":[29.652],\"xaxis\":\"x\",\"y\":[77983],\"yaxis\":\"y\",\"type\":\"scatter\"},{\"hovertemplate\":\"city=ChinoHills<br>area_total_sq_mi=%{x}<br>population_total=%{marker.size}<extra></extra>\",\"legendgroup\":\"ChinoHills\",\"marker\":{\"color\":\"#00cc96\",\"size\":[75655],\"sizemode\":\"area\",\"sizeref\":9710.7675,\"symbol\":\"circle\"},\"mode\":\"markers\",\"name\":\"ChinoHills\",\"orientation\":\"v\",\"showlegend\":true,\"x\":[44.748999999999995],\"xaxis\":\"x\",\"y\":[75655],\"yaxis\":\"y\",\"type\":\"scatter\"},{\"hovertemplate\":\"city=Chowchilla<br>area_total_sq_mi=%{x}<br>population_total=%{marker.size}<extra></extra>\",\"legendgroup\":\"Chowchilla\",\"marker\":{\"color\":\"#ab63fa\",\"size\":[18720],\"sizemode\":\"area\",\"sizeref\":9710.7675,\"symbol\":\"circle\"},\"mode\":\"markers\",\"name\":\"Chowchilla\",\"orientation\":\"v\",\"showlegend\":true,\"x\":[7.661],\"xaxis\":\"x\",\"y\":[18720],\"yaxis\":\"y\",\"type\":\"scatter\"},{\"hovertemplate\":\"city=ChulaVista<br>area_total_sq_mi=%{x}<br>population_total=%{marker.size}<extra></extra>\",\"legendgroup\":\"ChulaVista\",\"marker\":{\"color\":\"#FFA15A\",\"size\":[243916],\"sizemode\":\"area\",\"sizeref\":9710.7675,\"symbol\":\"circle\"},\"mode\":\"markers\",\"name\":\"ChulaVista\",\"orientation\":\"v\",\"showlegend\":true,\"x\":[52.094],\"xaxis\":\"x\",\"y\":[243916],\"yaxis\":\"y\",\"type\":\"scatter\"},{\"hovertemplate\":\"city=CitrusHeights<br>area_total_sq_mi=%{x}<br>population_total=%{marker.size}<extra></extra>\",\"legendgroup\":\"CitrusHeights\",\"marker\":{\"color\":\"#19d3f3\",\"size\":[83301],\"sizemode\":\"area\",\"sizeref\":9710.7675,\"symbol\":\"circle\"},\"mode\":\"markers\",\"name\":\"CitrusHeights\",\"orientation\":\"v\",\"showlegend\":true,\"x\":[14.228],\"xaxis\":\"x\",\"y\":[83301],\"yaxis\":\"y\",\"type\":\"scatter\"},{\"hovertemplate\":\"city=Claremont<br>area_total_sq_mi=%{x}<br>population_total=%{marker.size}<extra></extra>\",\"legendgroup\":\"Claremont\",\"marker\":{\"color\":\"#FF6692\",\"size\":[34926],\"sizemode\":\"area\",\"sizeref\":9710.7675,\"symbol\":\"circle\"},\"mode\":\"markers\",\"name\":\"Claremont\",\"orientation\":\"v\",\"showlegend\":true,\"x\":[13.486],\"xaxis\":\"x\",\"y\":[34926],\"yaxis\":\"y\",\"type\":\"scatter\"},{\"hovertemplate\":\"city=Clayton<br>area_total_sq_mi=%{x}<br>population_total=%{marker.size}<extra></extra>\",\"legendgroup\":\"Clayton\",\"marker\":{\"color\":\"#B6E880\",\"size\":[10897],\"sizemode\":\"area\",\"sizeref\":9710.7675,\"symbol\":\"circle\"},\"mode\":\"markers\",\"name\":\"Clayton\",\"orientation\":\"v\",\"showlegend\":true,\"x\":[3.836],\"xaxis\":\"x\",\"y\":[10897],\"yaxis\":\"y\",\"type\":\"scatter\"},{\"hovertemplate\":\"city=Clearlake<br>area_total_sq_mi=%{x}<br>population_total=%{marker.size}<extra></extra>\",\"legendgroup\":\"Clearlake\",\"marker\":{\"color\":\"#FF97FF\",\"size\":[15250],\"sizemode\":\"area\",\"sizeref\":9710.7675,\"symbol\":\"circle\"},\"mode\":\"markers\",\"name\":\"Clearlake\",\"orientation\":\"v\",\"showlegend\":true,\"x\":[10.581],\"xaxis\":\"x\",\"y\":[15250],\"yaxis\":\"y\",\"type\":\"scatter\"},{\"hovertemplate\":\"city=Cloverdale<br>area_total_sq_mi=%{x}<br>population_total=%{marker.size}<extra></extra>\",\"legendgroup\":\"Cloverdale\",\"marker\":{\"color\":\"#FECB52\",\"size\":[8618],\"sizemode\":\"area\",\"sizeref\":9710.7675,\"symbol\":\"circle\"},\"mode\":\"markers\",\"name\":\"Cloverdale\",\"orientation\":\"v\",\"showlegend\":true,\"x\":[2.648],\"xaxis\":\"x\",\"y\":[8618],\"yaxis\":\"y\",\"type\":\"scatter\"},{\"hovertemplate\":\"city=Clovis<br>area_total_sq_mi=%{x}<br>population_total=%{marker.size}<extra></extra>\",\"legendgroup\":\"Clovis\",\"marker\":{\"color\":\"#636efa\",\"size\":[101314],\"sizemode\":\"area\",\"sizeref\":9710.7675,\"symbol\":\"circle\"},\"mode\":\"markers\",\"name\":\"Clovis\",\"orientation\":\"v\",\"showlegend\":true,\"x\":[23.278],\"xaxis\":\"x\",\"y\":[101314],\"yaxis\":\"y\",\"type\":\"scatter\"},{\"hovertemplate\":\"city=Coachella<br>area_total_sq_mi=%{x}<br>population_total=%{marker.size}<extra></extra>\",\"legendgroup\":\"Coachella\",\"marker\":{\"color\":\"#EF553B\",\"size\":[40704],\"sizemode\":\"area\",\"sizeref\":9710.7675,\"symbol\":\"circle\"},\"mode\":\"markers\",\"name\":\"Coachella\",\"orientation\":\"v\",\"showlegend\":true,\"x\":[28.95],\"xaxis\":\"x\",\"y\":[40704],\"yaxis\":\"y\",\"type\":\"scatter\"},{\"hovertemplate\":\"city=Coalinga<br>area_total_sq_mi=%{x}<br>population_total=%{marker.size}<extra></extra>\",\"legendgroup\":\"Coalinga\",\"marker\":{\"color\":\"#00cc96\",\"size\":[13380],\"sizemode\":\"area\",\"sizeref\":9710.7675,\"symbol\":\"circle\"},\"mode\":\"markers\",\"name\":\"Coalinga\",\"orientation\":\"v\",\"showlegend\":true,\"x\":[6.1499999999999995],\"xaxis\":\"x\",\"y\":[13380],\"yaxis\":\"y\",\"type\":\"scatter\"},{\"hovertemplate\":\"city=Colfax<br>area_total_sq_mi=%{x}<br>population_total=%{marker.size}<extra></extra>\",\"legendgroup\":\"Colfax\",\"marker\":{\"color\":\"#ab63fa\",\"size\":[1963],\"sizemode\":\"area\",\"sizeref\":9710.7675,\"symbol\":\"circle\"},\"mode\":\"markers\",\"name\":\"Colfax\",\"orientation\":\"v\",\"showlegend\":true,\"x\":[1.4069999999999998],\"xaxis\":\"x\",\"y\":[1963],\"yaxis\":\"y\",\"type\":\"scatter\"},{\"hovertemplate\":\"city=Colma<br>area_total_sq_mi=%{x}<br>population_total=%{marker.size}<extra></extra>\",\"legendgroup\":\"Colma\",\"marker\":{\"color\":\"#FFA15A\",\"size\":[1792],\"sizemode\":\"area\",\"sizeref\":9710.7675,\"symbol\":\"circle\"},\"mode\":\"markers\",\"name\":\"Colma\",\"orientation\":\"v\",\"showlegend\":true,\"x\":[1.909],\"xaxis\":\"x\",\"y\":[1792],\"yaxis\":\"y\",\"type\":\"scatter\"},{\"hovertemplate\":\"city=Colton<br>area_total_sq_mi=%{x}<br>population_total=%{marker.size}<extra></extra>\",\"legendgroup\":\"Colton\",\"marker\":{\"color\":\"#19d3f3\",\"size\":[52154],\"sizemode\":\"area\",\"sizeref\":9710.7675,\"symbol\":\"circle\"},\"mode\":\"markers\",\"name\":\"Colton\",\"orientation\":\"v\",\"showlegend\":true,\"x\":[16.039],\"xaxis\":\"x\",\"y\":[52154],\"yaxis\":\"y\",\"type\":\"scatter\"},{\"hovertemplate\":\"city=Colusa<br>area_total_sq_mi=%{x}<br>population_total=%{marker.size}<extra></extra>\",\"legendgroup\":\"Colusa\",\"marker\":{\"color\":\"#FF6692\",\"size\":[5971],\"sizemode\":\"area\",\"sizeref\":9710.7675,\"symbol\":\"circle\"},\"mode\":\"markers\",\"name\":\"Colusa\",\"orientation\":\"v\",\"showlegend\":true,\"x\":[1.834],\"xaxis\":\"x\",\"y\":[5971],\"yaxis\":\"y\",\"type\":\"scatter\"},{\"hovertemplate\":\"city=Commerce<br>area_total_sq_mi=%{x}<br>population_total=%{marker.size}<extra></extra>\",\"legendgroup\":\"Commerce\",\"marker\":{\"color\":\"#B6E880\",\"size\":[12823],\"sizemode\":\"area\",\"sizeref\":9710.7675,\"symbol\":\"circle\"},\"mode\":\"markers\",\"name\":\"Commerce\",\"orientation\":\"v\",\"showlegend\":true,\"x\":[6.538000000000001],\"xaxis\":\"x\",\"y\":[12823],\"yaxis\":\"y\",\"type\":\"scatter\"},{\"hovertemplate\":\"city=Compton<br>area_total_sq_mi=%{x}<br>population_total=%{marker.size}<extra></extra>\",\"legendgroup\":\"Compton\",\"marker\":{\"color\":\"#FF97FF\",\"size\":[96455],\"sizemode\":\"area\",\"sizeref\":9710.7675,\"symbol\":\"circle\"},\"mode\":\"markers\",\"name\":\"Compton\",\"orientation\":\"v\",\"showlegend\":true,\"x\":[10.116],\"xaxis\":\"x\",\"y\":[96455],\"yaxis\":\"y\",\"type\":\"scatter\"},{\"hovertemplate\":\"city=Concord<br>area_total_sq_mi=%{x}<br>population_total=%{marker.size}<extra></extra>\",\"legendgroup\":\"Concord\",\"marker\":{\"color\":\"#FECB52\",\"size\":[122067],\"sizemode\":\"area\",\"sizeref\":9710.7675,\"symbol\":\"circle\"},\"mode\":\"markers\",\"name\":\"Concord\",\"orientation\":\"v\",\"showlegend\":true,\"x\":[30.546],\"xaxis\":\"x\",\"y\":[122067],\"yaxis\":\"y\",\"type\":\"scatter\"},{\"hovertemplate\":\"city=Corcoran<br>area_total_sq_mi=%{x}<br>population_total=%{marker.size}<extra></extra>\",\"legendgroup\":\"Corcoran\",\"marker\":{\"color\":\"#636efa\",\"size\":[25515],\"sizemode\":\"area\",\"sizeref\":9710.7675,\"symbol\":\"circle\"},\"mode\":\"markers\",\"name\":\"Corcoran\",\"orientation\":\"v\",\"showlegend\":true,\"x\":[7.467],\"xaxis\":\"x\",\"y\":[25515],\"yaxis\":\"y\",\"type\":\"scatter\"},{\"hovertemplate\":\"city=Corning<br>area_total_sq_mi=%{x}<br>population_total=%{marker.size}<extra></extra>\",\"legendgroup\":\"Corning\",\"marker\":{\"color\":\"#EF553B\",\"size\":[17382],\"sizemode\":\"area\",\"sizeref\":9710.7675,\"symbol\":\"circle\"},\"mode\":\"markers\",\"name\":\"Corning\",\"orientation\":\"v\",\"showlegend\":true,\"x\":[3.55],\"xaxis\":\"x\",\"y\":[17382],\"yaxis\":\"y\",\"type\":\"scatter\"},{\"hovertemplate\":\"city=Corona<br>area_total_sq_mi=%{x}<br>population_total=%{marker.size}<extra></extra>\",\"legendgroup\":\"Corona\",\"marker\":{\"color\":\"#00cc96\",\"size\":[158391],\"sizemode\":\"area\",\"sizeref\":9710.7675,\"symbol\":\"circle\"},\"mode\":\"markers\",\"name\":\"Corona\",\"orientation\":\"v\",\"showlegend\":true,\"x\":[38.93],\"xaxis\":\"x\",\"y\":[158391],\"yaxis\":\"y\",\"type\":\"scatter\"},{\"hovertemplate\":\"city=Coronado<br>area_total_sq_mi=%{x}<br>population_total=%{marker.size}<extra></extra>\",\"legendgroup\":\"Coronado\",\"marker\":{\"color\":\"#ab63fa\",\"size\":[24697],\"sizemode\":\"area\",\"sizeref\":9710.7675,\"symbol\":\"circle\"},\"mode\":\"markers\",\"name\":\"Coronado\",\"orientation\":\"v\",\"showlegend\":true,\"x\":[32.666],\"xaxis\":\"x\",\"y\":[24697],\"yaxis\":\"y\",\"type\":\"scatter\"},{\"hovertemplate\":\"city=CorteMadera<br>area_total_sq_mi=%{x}<br>population_total=%{marker.size}<extra></extra>\",\"legendgroup\":\"CorteMadera\",\"marker\":{\"color\":\"#FFA15A\",\"size\":[9253],\"sizemode\":\"area\",\"sizeref\":9710.7675,\"symbol\":\"circle\"},\"mode\":\"markers\",\"name\":\"CorteMadera\",\"orientation\":\"v\",\"showlegend\":true,\"x\":[4.406000000000001],\"xaxis\":\"x\",\"y\":[9253],\"yaxis\":\"y\",\"type\":\"scatter\"},{\"hovertemplate\":\"city=CostaMesa<br>area_total_sq_mi=%{x}<br>population_total=%{marker.size}<extra></extra>\",\"legendgroup\":\"CostaMesa\",\"marker\":{\"color\":\"#19d3f3\",\"size\":[109960],\"sizemode\":\"area\",\"sizeref\":9710.7675,\"symbol\":\"circle\"},\"mode\":\"markers\",\"name\":\"CostaMesa\",\"orientation\":\"v\",\"showlegend\":true,\"x\":[15.700000000000001],\"xaxis\":\"x\",\"y\":[109960],\"yaxis\":\"y\",\"type\":\"scatter\"},{\"hovertemplate\":\"city=Cotati<br>area_total_sq_mi=%{x}<br>population_total=%{marker.size}<extra></extra>\",\"legendgroup\":\"Cotati\",\"marker\":{\"color\":\"#FF6692\",\"size\":[7310],\"sizemode\":\"area\",\"sizeref\":9710.7675,\"symbol\":\"circle\"},\"mode\":\"markers\",\"name\":\"Cotati\",\"orientation\":\"v\",\"showlegend\":true,\"x\":[1.8829999999999998],\"xaxis\":\"x\",\"y\":[7310],\"yaxis\":\"y\",\"type\":\"scatter\"},{\"hovertemplate\":\"city=Covina<br>area_total_sq_mi=%{x}<br>population_total=%{marker.size}<extra></extra>\",\"legendgroup\":\"Covina\",\"marker\":{\"color\":\"#B6E880\",\"size\":[47796],\"sizemode\":\"area\",\"sizeref\":9710.7675,\"symbol\":\"circle\"},\"mode\":\"markers\",\"name\":\"Covina\",\"orientation\":\"v\",\"showlegend\":true,\"x\":[7.0409999999999995],\"xaxis\":\"x\",\"y\":[47796],\"yaxis\":\"y\",\"type\":\"scatter\"},{\"hovertemplate\":\"city=CrescentCity<br>area_total_sq_mi=%{x}<br>population_total=%{marker.size}<extra></extra>\",\"legendgroup\":\"CrescentCity\",\"marker\":{\"color\":\"#FF97FF\",\"size\":[7643],\"sizemode\":\"area\",\"sizeref\":9710.7675,\"symbol\":\"circle\"},\"mode\":\"markers\",\"name\":\"CrescentCity\",\"orientation\":\"v\",\"showlegend\":true,\"x\":[2.415],\"xaxis\":\"x\",\"y\":[7643],\"yaxis\":\"y\",\"type\":\"scatter\"},{\"hovertemplate\":\"city=Cudahy<br>area_total_sq_mi=%{x}<br>population_total=%{marker.size}<extra></extra>\",\"legendgroup\":\"Cudahy\",\"marker\":{\"color\":\"#FECB52\",\"size\":[23805],\"sizemode\":\"area\",\"sizeref\":9710.7675,\"symbol\":\"circle\"},\"mode\":\"markers\",\"name\":\"Cudahy\",\"orientation\":\"v\",\"showlegend\":true,\"x\":[1.226],\"xaxis\":\"x\",\"y\":[23805],\"yaxis\":\"y\",\"type\":\"scatter\"},{\"hovertemplate\":\"city=CulverCity<br>area_total_sq_mi=%{x}<br>population_total=%{marker.size}<extra></extra>\",\"legendgroup\":\"CulverCity\",\"marker\":{\"color\":\"#636efa\",\"size\":[38883],\"sizemode\":\"area\",\"sizeref\":9710.7675,\"symbol\":\"circle\"},\"mode\":\"markers\",\"name\":\"CulverCity\",\"orientation\":\"v\",\"showlegend\":true,\"x\":[5.139],\"xaxis\":\"x\",\"y\":[38883],\"yaxis\":\"y\",\"type\":\"scatter\"},{\"hovertemplate\":\"city=Cupertino<br>area_total_sq_mi=%{x}<br>population_total=%{marker.size}<extra></extra>\",\"legendgroup\":\"Cupertino\",\"marker\":{\"color\":\"#EF553B\",\"size\":[58302],\"sizemode\":\"area\",\"sizeref\":9710.7675,\"symbol\":\"circle\"},\"mode\":\"markers\",\"name\":\"Cupertino\",\"orientation\":\"v\",\"showlegend\":true,\"x\":[11.256999999999998],\"xaxis\":\"x\",\"y\":[58302],\"yaxis\":\"y\",\"type\":\"scatter\"},{\"hovertemplate\":\"city=Cypress<br>area_total_sq_mi=%{x}<br>population_total=%{marker.size}<extra></extra>\",\"legendgroup\":\"Cypress\",\"marker\":{\"color\":\"#00cc96\",\"size\":[47802],\"sizemode\":\"area\",\"sizeref\":9710.7675,\"symbol\":\"circle\"},\"mode\":\"markers\",\"name\":\"Cypress\",\"orientation\":\"v\",\"showlegend\":true,\"x\":[6.590000000000001],\"xaxis\":\"x\",\"y\":[47802],\"yaxis\":\"y\",\"type\":\"scatter\"},{\"hovertemplate\":\"city=DalyCity<br>area_total_sq_mi=%{x}<br>population_total=%{marker.size}<extra></extra>\",\"legendgroup\":\"DalyCity\",\"marker\":{\"color\":\"#ab63fa\",\"size\":[101123],\"sizemode\":\"area\",\"sizeref\":9710.7675,\"symbol\":\"circle\"},\"mode\":\"markers\",\"name\":\"DalyCity\",\"orientation\":\"v\",\"showlegend\":true,\"x\":[7.664],\"xaxis\":\"x\",\"y\":[101123],\"yaxis\":\"y\",\"type\":\"scatter\"},{\"hovertemplate\":\"city=DanaPoint<br>area_total_sq_mi=%{x}<br>population_total=%{marker.size}<extra></extra>\",\"legendgroup\":\"DanaPoint\",\"marker\":{\"color\":\"#FFA15A\",\"size\":[33351],\"sizemode\":\"area\",\"sizeref\":9710.7675,\"symbol\":\"circle\"},\"mode\":\"markers\",\"name\":\"DanaPoint\",\"orientation\":\"v\",\"showlegend\":true,\"x\":[29.483999999999998],\"xaxis\":\"x\",\"y\":[33351],\"yaxis\":\"y\",\"type\":\"scatter\"},{\"hovertemplate\":\"city=Danville<br>area_total_sq_mi=%{x}<br>population_total=%{marker.size}<extra></extra>\",\"legendgroup\":\"Danville\",\"marker\":{\"color\":\"#19d3f3\",\"size\":[42039],\"sizemode\":\"area\",\"sizeref\":9710.7675,\"symbol\":\"circle\"},\"mode\":\"markers\",\"name\":\"Danville\",\"orientation\":\"v\",\"showlegend\":true,\"x\":[18.028],\"xaxis\":\"x\",\"y\":[42039],\"yaxis\":\"y\",\"type\":\"scatter\"},{\"hovertemplate\":\"city=Davis<br>area_total_sq_mi=%{x}<br>population_total=%{marker.size}<extra></extra>\",\"legendgroup\":\"Davis\",\"marker\":{\"color\":\"#FF6692\",\"size\":[65622],\"sizemode\":\"area\",\"sizeref\":9710.7675,\"symbol\":\"circle\"},\"mode\":\"markers\",\"name\":\"Davis\",\"orientation\":\"v\",\"showlegend\":true,\"x\":[9.919],\"xaxis\":\"x\",\"y\":[65622],\"yaxis\":\"y\",\"type\":\"scatter\"},{\"hovertemplate\":\"city=Delano<br>area_total_sq_mi=%{x}<br>population_total=%{marker.size}<extra></extra>\",\"legendgroup\":\"Delano\",\"marker\":{\"color\":\"#B6E880\",\"size\":[53819],\"sizemode\":\"area\",\"sizeref\":9710.7675,\"symbol\":\"circle\"},\"mode\":\"markers\",\"name\":\"Delano\",\"orientation\":\"v\",\"showlegend\":true,\"x\":[14.355],\"xaxis\":\"x\",\"y\":[53819],\"yaxis\":\"y\",\"type\":\"scatter\"},{\"hovertemplate\":\"city=DelMar<br>area_total_sq_mi=%{x}<br>population_total=%{marker.size}<extra></extra>\",\"legendgroup\":\"DelMar\",\"marker\":{\"color\":\"#FF97FF\",\"size\":[4161],\"sizemode\":\"area\",\"sizeref\":9710.7675,\"symbol\":\"circle\"},\"mode\":\"markers\",\"name\":\"DelMar\",\"orientation\":\"v\",\"showlegend\":true,\"x\":[1.7770000000000001],\"xaxis\":\"x\",\"y\":[4161],\"yaxis\":\"y\",\"type\":\"scatter\"},{\"hovertemplate\":\"city=DelReyOaks<br>area_total_sq_mi=%{x}<br>population_total=%{marker.size}<extra></extra>\",\"legendgroup\":\"DelReyOaks\",\"marker\":{\"color\":\"#FECB52\",\"size\":[1624],\"sizemode\":\"area\",\"sizeref\":9710.7675,\"symbol\":\"circle\"},\"mode\":\"markers\",\"name\":\"DelReyOaks\",\"orientation\":\"v\",\"showlegend\":true,\"x\":[0.483],\"xaxis\":\"x\",\"y\":[1624],\"yaxis\":\"y\",\"type\":\"scatter\"},{\"hovertemplate\":\"city=DesertHotSprings<br>area_total_sq_mi=%{x}<br>population_total=%{marker.size}<extra></extra>\",\"legendgroup\":\"DesertHotSprings\",\"marker\":{\"color\":\"#636efa\",\"size\":[25938],\"sizemode\":\"area\",\"sizeref\":9710.7675,\"symbol\":\"circle\"},\"mode\":\"markers\",\"name\":\"DesertHotSprings\",\"orientation\":\"v\",\"showlegend\":true,\"x\":[23.642],\"xaxis\":\"x\",\"y\":[25938],\"yaxis\":\"y\",\"type\":\"scatter\"},{\"hovertemplate\":\"city=DiamondBar<br>area_total_sq_mi=%{x}<br>population_total=%{marker.size}<extra></extra>\",\"legendgroup\":\"DiamondBar\",\"marker\":{\"color\":\"#EF553B\",\"size\":[55544],\"sizemode\":\"area\",\"sizeref\":9710.7675,\"symbol\":\"circle\"},\"mode\":\"markers\",\"name\":\"DiamondBar\",\"orientation\":\"v\",\"showlegend\":true,\"x\":[14.885000000000002],\"xaxis\":\"x\",\"y\":[55544],\"yaxis\":\"y\",\"type\":\"scatter\"},{\"hovertemplate\":\"city=Dinuba<br>area_total_sq_mi=%{x}<br>population_total=%{marker.size}<extra></extra>\",\"legendgroup\":\"Dinuba\",\"marker\":{\"color\":\"#00cc96\",\"size\":[21453],\"sizemode\":\"area\",\"sizeref\":9710.7675,\"symbol\":\"circle\"},\"mode\":\"markers\",\"name\":\"Dinuba\",\"orientation\":\"v\",\"showlegend\":true,\"x\":[6.47],\"xaxis\":\"x\",\"y\":[21453],\"yaxis\":\"y\",\"type\":\"scatter\"},{\"hovertemplate\":\"city=Dixon<br>area_total_sq_mi=%{x}<br>population_total=%{marker.size}<extra></extra>\",\"legendgroup\":\"Dixon\",\"marker\":{\"color\":\"#ab63fa\",\"size\":[18351],\"sizemode\":\"area\",\"sizeref\":9710.7675,\"symbol\":\"circle\"},\"mode\":\"markers\",\"name\":\"Dixon\",\"orientation\":\"v\",\"showlegend\":true,\"x\":[7.0920000000000005],\"xaxis\":\"x\",\"y\":[18351],\"yaxis\":\"y\",\"type\":\"scatter\"},{\"hovertemplate\":\"city=Dorris<br>area_total_sq_mi=%{x}<br>population_total=%{marker.size}<extra></extra>\",\"legendgroup\":\"Dorris\",\"marker\":{\"color\":\"#FFA15A\",\"size\":[939],\"sizemode\":\"area\",\"sizeref\":9710.7675,\"symbol\":\"circle\"},\"mode\":\"markers\",\"name\":\"Dorris\",\"orientation\":\"v\",\"showlegend\":true,\"x\":[0.7180000000000001],\"xaxis\":\"x\",\"y\":[939],\"yaxis\":\"y\",\"type\":\"scatter\"},{\"hovertemplate\":\"city=DosPalos<br>area_total_sq_mi=%{x}<br>population_total=%{marker.size}<extra></extra>\",\"legendgroup\":\"DosPalos\",\"marker\":{\"color\":\"#19d3f3\",\"size\":[4950],\"sizemode\":\"area\",\"sizeref\":9710.7675,\"symbol\":\"circle\"},\"mode\":\"markers\",\"name\":\"DosPalos\",\"orientation\":\"v\",\"showlegend\":true,\"x\":[1.35],\"xaxis\":\"x\",\"y\":[4950],\"yaxis\":\"y\",\"type\":\"scatter\"},{\"hovertemplate\":\"city=Downey<br>area_total_sq_mi=%{x}<br>population_total=%{marker.size}<extra></extra>\",\"legendgroup\":\"Downey\",\"marker\":{\"color\":\"#FF6692\",\"size\":[111772],\"sizemode\":\"area\",\"sizeref\":9710.7675,\"symbol\":\"circle\"},\"mode\":\"markers\",\"name\":\"Downey\",\"orientation\":\"v\",\"showlegend\":true,\"x\":[12.568],\"xaxis\":\"x\",\"y\":[111772],\"yaxis\":\"y\",\"type\":\"scatter\"},{\"hovertemplate\":\"city=Duarte<br>area_total_sq_mi=%{x}<br>population_total=%{marker.size}<extra></extra>\",\"legendgroup\":\"Duarte\",\"marker\":{\"color\":\"#B6E880\",\"size\":[21321],\"sizemode\":\"area\",\"sizeref\":9710.7675,\"symbol\":\"circle\"},\"mode\":\"markers\",\"name\":\"Duarte\",\"orientation\":\"v\",\"showlegend\":true,\"x\":[6.69],\"xaxis\":\"x\",\"y\":[21321],\"yaxis\":\"y\",\"type\":\"scatter\"},{\"hovertemplate\":\"city=Dublin<br>area_total_sq_mi=%{x}<br>population_total=%{marker.size}<extra></extra>\",\"legendgroup\":\"Dublin\",\"marker\":{\"color\":\"#FF97FF\",\"size\":[49890],\"sizemode\":\"area\",\"sizeref\":9710.7675,\"symbol\":\"circle\"},\"mode\":\"markers\",\"name\":\"Dublin\",\"orientation\":\"v\",\"showlegend\":true,\"x\":[14.911999999999999],\"xaxis\":\"x\",\"y\":[49890],\"yaxis\":\"y\",\"type\":\"scatter\"},{\"hovertemplate\":\"city=Dunsmuir<br>area_total_sq_mi=%{x}<br>population_total=%{marker.size}<extra></extra>\",\"legendgroup\":\"Dunsmuir\",\"marker\":{\"color\":\"#FECB52\",\"size\":[1650],\"sizemode\":\"area\",\"sizeref\":9710.7675,\"symbol\":\"circle\"},\"mode\":\"markers\",\"name\":\"Dunsmuir\",\"orientation\":\"v\",\"showlegend\":true,\"x\":[1.735],\"xaxis\":\"x\",\"y\":[1650],\"yaxis\":\"y\",\"type\":\"scatter\"},{\"hovertemplate\":\"city=EastPaloAlto<br>area_total_sq_mi=%{x}<br>population_total=%{marker.size}<extra></extra>\",\"legendgroup\":\"EastPaloAlto\",\"marker\":{\"color\":\"#636efa\",\"size\":[28155],\"sizemode\":\"area\",\"sizeref\":9710.7675,\"symbol\":\"circle\"},\"mode\":\"markers\",\"name\":\"EastPaloAlto\",\"orientation\":\"v\",\"showlegend\":true,\"x\":[2.612],\"xaxis\":\"x\",\"y\":[28155],\"yaxis\":\"y\",\"type\":\"scatter\"},{\"hovertemplate\":\"city=Eastvale<br>area_total_sq_mi=%{x}<br>population_total=%{marker.size}<extra></extra>\",\"legendgroup\":\"Eastvale\",\"marker\":{\"color\":\"#EF553B\",\"size\":[53668],\"sizemode\":\"area\",\"sizeref\":9710.7675,\"symbol\":\"circle\"},\"mode\":\"markers\",\"name\":\"Eastvale\",\"orientation\":\"v\",\"showlegend\":true,\"x\":[11.444999999999999],\"xaxis\":\"x\",\"y\":[53668],\"yaxis\":\"y\",\"type\":\"scatter\"},{\"hovertemplate\":\"city=ElCajon<br>area_total_sq_mi=%{x}<br>population_total=%{marker.size}<extra></extra>\",\"legendgroup\":\"ElCajon\",\"marker\":{\"color\":\"#00cc96\",\"size\":[99478],\"sizemode\":\"area\",\"sizeref\":9710.7675,\"symbol\":\"circle\"},\"mode\":\"markers\",\"name\":\"ElCajon\",\"orientation\":\"v\",\"showlegend\":true,\"x\":[14.433],\"xaxis\":\"x\",\"y\":[99478],\"yaxis\":\"y\",\"type\":\"scatter\"},{\"hovertemplate\":\"city=ElCentro<br>area_total_sq_mi=%{x}<br>population_total=%{marker.size}<extra></extra>\",\"legendgroup\":\"ElCentro\",\"marker\":{\"color\":\"#ab63fa\",\"size\":[42598],\"sizemode\":\"area\",\"sizeref\":9710.7675,\"symbol\":\"circle\"},\"mode\":\"markers\",\"name\":\"ElCentro\",\"orientation\":\"v\",\"showlegend\":true,\"x\":[11.099],\"xaxis\":\"x\",\"y\":[42598],\"yaxis\":\"y\",\"type\":\"scatter\"},{\"hovertemplate\":\"city=ElCerrito<br>area_total_sq_mi=%{x}<br>population_total=%{marker.size}<extra></extra>\",\"legendgroup\":\"ElCerrito\",\"marker\":{\"color\":\"#FFA15A\",\"size\":[23549],\"sizemode\":\"area\",\"sizeref\":9710.7675,\"symbol\":\"circle\"},\"mode\":\"markers\",\"name\":\"ElCerrito\",\"orientation\":\"v\",\"showlegend\":true,\"x\":[3.688],\"xaxis\":\"x\",\"y\":[23549],\"yaxis\":\"y\",\"type\":\"scatter\"},{\"hovertemplate\":\"city=ElkGrove<br>area_total_sq_mi=%{x}<br>population_total=%{marker.size}<extra></extra>\",\"legendgroup\":\"ElkGrove\",\"marker\":{\"color\":\"#19d3f3\",\"size\":[153015],\"sizemode\":\"area\",\"sizeref\":9710.7675,\"symbol\":\"circle\"},\"mode\":\"markers\",\"name\":\"ElkGrove\",\"orientation\":\"v\",\"showlegend\":true,\"x\":[42.239],\"xaxis\":\"x\",\"y\":[153015],\"yaxis\":\"y\",\"type\":\"scatter\"},{\"hovertemplate\":\"city=ElMonte<br>area_total_sq_mi=%{x}<br>population_total=%{marker.size}<extra></extra>\",\"legendgroup\":\"ElMonte\",\"marker\":{\"color\":\"#FF6692\",\"size\":[113475],\"sizemode\":\"area\",\"sizeref\":9710.7675,\"symbol\":\"circle\"},\"mode\":\"markers\",\"name\":\"ElMonte\",\"orientation\":\"v\",\"showlegend\":true,\"x\":[9.648],\"xaxis\":\"x\",\"y\":[113475],\"yaxis\":\"y\",\"type\":\"scatter\"},{\"hovertemplate\":\"city=ElSegundo<br>area_total_sq_mi=%{x}<br>population_total=%{marker.size}<extra></extra>\",\"legendgroup\":\"ElSegundo\",\"marker\":{\"color\":\"#B6E880\",\"size\":[16654],\"sizemode\":\"area\",\"sizeref\":9710.7675,\"symbol\":\"circle\"},\"mode\":\"markers\",\"name\":\"ElSegundo\",\"orientation\":\"v\",\"showlegend\":true,\"x\":[5.464999999999999],\"xaxis\":\"x\",\"y\":[16654],\"yaxis\":\"y\",\"type\":\"scatter\"},{\"hovertemplate\":\"city=Emeryville<br>area_total_sq_mi=%{x}<br>population_total=%{marker.size}<extra></extra>\",\"legendgroup\":\"Emeryville\",\"marker\":{\"color\":\"#FF97FF\",\"size\":[10080],\"sizemode\":\"area\",\"sizeref\":9710.7675,\"symbol\":\"circle\"},\"mode\":\"markers\",\"name\":\"Emeryville\",\"orientation\":\"v\",\"showlegend\":true,\"x\":[2.01],\"xaxis\":\"x\",\"y\":[10080],\"yaxis\":\"y\",\"type\":\"scatter\"},{\"hovertemplate\":\"city=Encinitas<br>area_total_sq_mi=%{x}<br>population_total=%{marker.size}<extra></extra>\",\"legendgroup\":\"Encinitas\",\"marker\":{\"color\":\"#FECB52\",\"size\":[59518],\"sizemode\":\"area\",\"sizeref\":9710.7675,\"symbol\":\"circle\"},\"mode\":\"markers\",\"name\":\"Encinitas\",\"orientation\":\"v\",\"showlegend\":true,\"x\":[19.990000000000002],\"xaxis\":\"x\",\"y\":[59518],\"yaxis\":\"y\",\"type\":\"scatter\"},{\"hovertemplate\":\"city=Escalon<br>area_total_sq_mi=%{x}<br>population_total=%{marker.size}<extra></extra>\",\"legendgroup\":\"Escalon\",\"marker\":{\"color\":\"#636efa\",\"size\":[7266],\"sizemode\":\"area\",\"sizeref\":9710.7675,\"symbol\":\"circle\"},\"mode\":\"markers\",\"name\":\"Escalon\",\"orientation\":\"v\",\"showlegend\":true,\"x\":[2.3680000000000003],\"xaxis\":\"x\",\"y\":[7266],\"yaxis\":\"y\",\"type\":\"scatter\"},{\"hovertemplate\":\"city=Escondido<br>area_total_sq_mi=%{x}<br>population_total=%{marker.size}<extra></extra>\",\"legendgroup\":\"Escondido\",\"marker\":{\"color\":\"#EF553B\",\"size\":[143911],\"sizemode\":\"area\",\"sizeref\":9710.7675,\"symbol\":\"circle\"},\"mode\":\"markers\",\"name\":\"Escondido\",\"orientation\":\"v\",\"showlegend\":true,\"x\":[36.989000000000004],\"xaxis\":\"x\",\"y\":[143911],\"yaxis\":\"y\",\"type\":\"scatter\"},{\"hovertemplate\":\"city=Etna<br>area_total_sq_mi=%{x}<br>population_total=%{marker.size}<extra></extra>\",\"legendgroup\":\"Etna\",\"marker\":{\"color\":\"#00cc96\",\"size\":[737],\"sizemode\":\"area\",\"sizeref\":9710.7675,\"symbol\":\"circle\"},\"mode\":\"markers\",\"name\":\"Etna\",\"orientation\":\"v\",\"showlegend\":true,\"x\":[0.759],\"xaxis\":\"x\",\"y\":[737],\"yaxis\":\"y\",\"type\":\"scatter\"},{\"hovertemplate\":\"city=Eureka<br>area_total_sq_mi=%{x}<br>population_total=%{marker.size}<extra></extra>\",\"legendgroup\":\"Eureka\",\"marker\":{\"color\":\"#ab63fa\",\"size\":[27191],\"sizemode\":\"area\",\"sizeref\":9710.7675,\"symbol\":\"circle\"},\"mode\":\"markers\",\"name\":\"Eureka\",\"orientation\":\"v\",\"showlegend\":true,\"x\":[14.454],\"xaxis\":\"x\",\"y\":[27191],\"yaxis\":\"y\",\"type\":\"scatter\"},{\"hovertemplate\":\"city=Exeter<br>area_total_sq_mi=%{x}<br>population_total=%{marker.size}<extra></extra>\",\"legendgroup\":\"Exeter\",\"marker\":{\"color\":\"#FFA15A\",\"size\":[10334],\"sizemode\":\"area\",\"sizeref\":9710.7675,\"symbol\":\"circle\"},\"mode\":\"markers\",\"name\":\"Exeter\",\"orientation\":\"v\",\"showlegend\":true,\"x\":[2.463],\"xaxis\":\"x\",\"y\":[10334],\"yaxis\":\"y\",\"type\":\"scatter\"},{\"hovertemplate\":\"city=Fairfax<br>area_total_sq_mi=%{x}<br>population_total=%{marker.size}<extra></extra>\",\"legendgroup\":\"Fairfax\",\"marker\":{\"color\":\"#19d3f3\",\"size\":[7441],\"sizemode\":\"area\",\"sizeref\":9710.7675,\"symbol\":\"circle\"},\"mode\":\"markers\",\"name\":\"Fairfax\",\"orientation\":\"v\",\"showlegend\":true,\"x\":[2.204],\"xaxis\":\"x\",\"y\":[7441],\"yaxis\":\"y\",\"type\":\"scatter\"},{\"hovertemplate\":\"city=Fairfield<br>area_total_sq_mi=%{x}<br>population_total=%{marker.size}<extra></extra>\",\"legendgroup\":\"Fairfield\",\"marker\":{\"color\":\"#FF6692\",\"size\":[108321],\"sizemode\":\"area\",\"sizeref\":9710.7675,\"symbol\":\"circle\"},\"mode\":\"markers\",\"name\":\"Fairfield\",\"orientation\":\"v\",\"showlegend\":true,\"x\":[37.635],\"xaxis\":\"x\",\"y\":[108321],\"yaxis\":\"y\",\"type\":\"scatter\"},{\"hovertemplate\":\"city=Farmersville<br>area_total_sq_mi=%{x}<br>population_total=%{marker.size}<extra></extra>\",\"legendgroup\":\"Farmersville\",\"marker\":{\"color\":\"#B6E880\",\"size\":[10588],\"sizemode\":\"area\",\"sizeref\":9710.7675,\"symbol\":\"circle\"},\"mode\":\"markers\",\"name\":\"Farmersville\",\"orientation\":\"v\",\"showlegend\":true,\"x\":[2.258],\"xaxis\":\"x\",\"y\":[10588],\"yaxis\":\"y\",\"type\":\"scatter\"},{\"hovertemplate\":\"city=Ferndale<br>area_total_sq_mi=%{x}<br>population_total=%{marker.size}<extra></extra>\",\"legendgroup\":\"Ferndale\",\"marker\":{\"color\":\"#FF97FF\",\"size\":[1371],\"sizemode\":\"area\",\"sizeref\":9710.7675,\"symbol\":\"circle\"},\"mode\":\"markers\",\"name\":\"Ferndale\",\"orientation\":\"v\",\"showlegend\":true,\"x\":[1.027],\"xaxis\":\"x\",\"y\":[1371],\"yaxis\":\"y\",\"type\":\"scatter\"},{\"hovertemplate\":\"city=Fillmore<br>area_total_sq_mi=%{x}<br>population_total=%{marker.size}<extra></extra>\",\"legendgroup\":\"Fillmore\",\"marker\":{\"color\":\"#FECB52\",\"size\":[15002],\"sizemode\":\"area\",\"sizeref\":9710.7675,\"symbol\":\"circle\"},\"mode\":\"markers\",\"name\":\"Fillmore\",\"orientation\":\"v\",\"showlegend\":true,\"x\":[3.3649999999999998],\"xaxis\":\"x\",\"y\":[15002],\"yaxis\":\"y\",\"type\":\"scatter\"},{\"hovertemplate\":\"city=Firebaugh<br>area_total_sq_mi=%{x}<br>population_total=%{marker.size}<extra></extra>\",\"legendgroup\":\"Firebaugh\",\"marker\":{\"color\":\"#636efa\",\"size\":[7549],\"sizemode\":\"area\",\"sizeref\":9710.7675,\"symbol\":\"circle\"},\"mode\":\"markers\",\"name\":\"Firebaugh\",\"orientation\":\"v\",\"showlegend\":true,\"x\":[3.519],\"xaxis\":\"x\",\"y\":[7549],\"yaxis\":\"y\",\"type\":\"scatter\"},{\"hovertemplate\":\"city=Folsom<br>area_total_sq_mi=%{x}<br>population_total=%{marker.size}<extra></extra>\",\"legendgroup\":\"Folsom\",\"marker\":{\"color\":\"#EF553B\",\"size\":[72203],\"sizemode\":\"area\",\"sizeref\":9710.7675,\"symbol\":\"circle\"},\"mode\":\"markers\",\"name\":\"Folsom\",\"orientation\":\"v\",\"showlegend\":true,\"x\":[24.301000000000002],\"xaxis\":\"x\",\"y\":[72203],\"yaxis\":\"y\",\"type\":\"scatter\"},{\"hovertemplate\":\"city=Fontana<br>area_total_sq_mi=%{x}<br>population_total=%{marker.size}<extra></extra>\",\"legendgroup\":\"Fontana\",\"marker\":{\"color\":\"#00cc96\",\"size\":[201812],\"sizemode\":\"area\",\"sizeref\":9710.7675,\"symbol\":\"circle\"},\"mode\":\"markers\",\"name\":\"Fontana\",\"orientation\":\"v\",\"showlegend\":true,\"x\":[45.432],\"xaxis\":\"x\",\"y\":[201812],\"yaxis\":\"y\",\"type\":\"scatter\"},{\"hovertemplate\":\"city=FortJones<br>area_total_sq_mi=%{x}<br>population_total=%{marker.size}<extra></extra>\",\"legendgroup\":\"FortJones\",\"marker\":{\"color\":\"#ab63fa\",\"size\":[839],\"sizemode\":\"area\",\"sizeref\":9710.7675,\"symbol\":\"circle\"},\"mode\":\"markers\",\"name\":\"FortJones\",\"orientation\":\"v\",\"showlegend\":true,\"x\":[0.602],\"xaxis\":\"x\",\"y\":[839],\"yaxis\":\"y\",\"type\":\"scatter\"},{\"hovertemplate\":\"city=Fortuna<br>area_total_sq_mi=%{x}<br>population_total=%{marker.size}<extra></extra>\",\"legendgroup\":\"Fortuna\",\"marker\":{\"color\":\"#FFA15A\",\"size\":[11926],\"sizemode\":\"area\",\"sizeref\":9710.7675,\"symbol\":\"circle\"},\"mode\":\"markers\",\"name\":\"Fortuna\",\"orientation\":\"v\",\"showlegend\":true,\"x\":[4.845],\"xaxis\":\"x\",\"y\":[11926],\"yaxis\":\"y\",\"type\":\"scatter\"},{\"hovertemplate\":\"city=FosterCity<br>area_total_sq_mi=%{x}<br>population_total=%{marker.size}<extra></extra>\",\"legendgroup\":\"FosterCity\",\"marker\":{\"color\":\"#19d3f3\",\"size\":[30567],\"sizemode\":\"area\",\"sizeref\":9710.7675,\"symbol\":\"circle\"},\"mode\":\"markers\",\"name\":\"FosterCity\",\"orientation\":\"v\",\"showlegend\":true,\"x\":[19.841],\"xaxis\":\"x\",\"y\":[30567],\"yaxis\":\"y\",\"type\":\"scatter\"},{\"hovertemplate\":\"city=FountainValley<br>area_total_sq_mi=%{x}<br>population_total=%{marker.size}<extra></extra>\",\"legendgroup\":\"FountainValley\",\"marker\":{\"color\":\"#FF6692\",\"size\":[55313],\"sizemode\":\"area\",\"sizeref\":9710.7675,\"symbol\":\"circle\"},\"mode\":\"markers\",\"name\":\"FountainValley\",\"orientation\":\"v\",\"showlegend\":true,\"x\":[9.031],\"xaxis\":\"x\",\"y\":[55313],\"yaxis\":\"y\",\"type\":\"scatter\"},{\"hovertemplate\":\"city=Fowler<br>area_total_sq_mi=%{x}<br>population_total=%{marker.size}<extra></extra>\",\"legendgroup\":\"Fowler\",\"marker\":{\"color\":\"#B6E880\",\"size\":[5570],\"sizemode\":\"area\",\"sizeref\":9710.7675,\"symbol\":\"circle\"},\"mode\":\"markers\",\"name\":\"Fowler\",\"orientation\":\"v\",\"showlegend\":true,\"x\":[2.531],\"xaxis\":\"x\",\"y\":[5570],\"yaxis\":\"y\",\"type\":\"scatter\"},{\"hovertemplate\":\"city=Fremont<br>area_total_sq_mi=%{x}<br>population_total=%{marker.size}<extra></extra>\",\"legendgroup\":\"Fremont\",\"marker\":{\"color\":\"#FF97FF\",\"size\":[220000],\"sizemode\":\"area\",\"sizeref\":9710.7675,\"symbol\":\"circle\"},\"mode\":\"markers\",\"name\":\"Fremont\",\"orientation\":\"v\",\"showlegend\":true,\"x\":[87.61],\"xaxis\":\"x\",\"y\":[220000],\"yaxis\":\"y\",\"type\":\"scatter\"},{\"hovertemplate\":\"city=Fresno<br>area_total_sq_mi=%{x}<br>population_total=%{marker.size}<extra></extra>\",\"legendgroup\":\"Fresno\",\"marker\":{\"color\":\"#FECB52\",\"size\":[509039],\"sizemode\":\"area\",\"sizeref\":9710.7675,\"symbol\":\"circle\"},\"mode\":\"markers\",\"name\":\"Fresno\",\"orientation\":\"v\",\"showlegend\":true,\"x\":[112.30799999999999],\"xaxis\":\"x\",\"y\":[509039],\"yaxis\":\"y\",\"type\":\"scatter\"},{\"hovertemplate\":\"city=Fullerton<br>area_total_sq_mi=%{x}<br>population_total=%{marker.size}<extra></extra>\",\"legendgroup\":\"Fullerton\",\"marker\":{\"color\":\"#636efa\",\"size\":[135161],\"sizemode\":\"area\",\"sizeref\":9710.7675,\"symbol\":\"circle\"},\"mode\":\"markers\",\"name\":\"Fullerton\",\"orientation\":\"v\",\"showlegend\":true,\"x\":[22.364],\"xaxis\":\"x\",\"y\":[135161],\"yaxis\":\"y\",\"type\":\"scatter\"},{\"hovertemplate\":\"city=Galt<br>area_total_sq_mi=%{x}<br>population_total=%{marker.size}<extra></extra>\",\"legendgroup\":\"Galt\",\"marker\":{\"color\":\"#EF553B\",\"size\":[23647],\"sizemode\":\"area\",\"sizeref\":9710.7675,\"symbol\":\"circle\"},\"mode\":\"markers\",\"name\":\"Galt\",\"orientation\":\"v\",\"showlegend\":true,\"x\":[5.944],\"xaxis\":\"x\",\"y\":[23647],\"yaxis\":\"y\",\"type\":\"scatter\"},{\"hovertemplate\":\"city=Gardena<br>area_total_sq_mi=%{x}<br>population_total=%{marker.size}<extra></extra>\",\"legendgroup\":\"Gardena\",\"marker\":{\"color\":\"#00cc96\",\"size\":[58829],\"sizemode\":\"area\",\"sizeref\":9710.7675,\"symbol\":\"circle\"},\"mode\":\"markers\",\"name\":\"Gardena\",\"orientation\":\"v\",\"showlegend\":true,\"x\":[5.864999999999999],\"xaxis\":\"x\",\"y\":[58829],\"yaxis\":\"y\",\"type\":\"scatter\"},{\"hovertemplate\":\"city=GardenGrove<br>area_total_sq_mi=%{x}<br>population_total=%{marker.size}<extra></extra>\",\"legendgroup\":\"GardenGrove\",\"marker\":{\"color\":\"#ab63fa\",\"size\":[170883],\"sizemode\":\"area\",\"sizeref\":9710.7675,\"symbol\":\"circle\"},\"mode\":\"markers\",\"name\":\"GardenGrove\",\"orientation\":\"v\",\"showlegend\":true,\"x\":[17.959],\"xaxis\":\"x\",\"y\":[170883],\"yaxis\":\"y\",\"type\":\"scatter\"},{\"hovertemplate\":\"city=Gilroy<br>area_total_sq_mi=%{x}<br>population_total=%{marker.size}<extra></extra>\",\"legendgroup\":\"Gilroy\",\"marker\":{\"color\":\"#FFA15A\",\"size\":[48821],\"sizemode\":\"area\",\"sizeref\":9710.7675,\"symbol\":\"circle\"},\"mode\":\"markers\",\"name\":\"Gilroy\",\"orientation\":\"v\",\"showlegend\":true,\"x\":[16.156000000000002],\"xaxis\":\"x\",\"y\":[48821],\"yaxis\":\"y\",\"type\":\"scatter\"},{\"hovertemplate\":\"city=Glendale<br>area_total_sq_mi=%{x}<br>population_total=%{marker.size}<extra></extra>\",\"legendgroup\":\"Glendale\",\"marker\":{\"color\":\"#19d3f3\",\"size\":[196021],\"sizemode\":\"area\",\"sizeref\":9710.7675,\"symbol\":\"circle\"},\"mode\":\"markers\",\"name\":\"Glendale\",\"orientation\":\"v\",\"showlegend\":true,\"x\":[30.583000000000002],\"xaxis\":\"x\",\"y\":[196021],\"yaxis\":\"y\",\"type\":\"scatter\"},{\"hovertemplate\":\"city=Glendora<br>area_total_sq_mi=%{x}<br>population_total=%{marker.size}<extra></extra>\",\"legendgroup\":\"Glendora\",\"marker\":{\"color\":\"#FF6692\",\"size\":[50073],\"sizemode\":\"area\",\"sizeref\":9710.7675,\"symbol\":\"circle\"},\"mode\":\"markers\",\"name\":\"Glendora\",\"orientation\":\"v\",\"showlegend\":true,\"x\":[19.558],\"xaxis\":\"x\",\"y\":[50073],\"yaxis\":\"y\",\"type\":\"scatter\"},{\"hovertemplate\":\"city=Goleta<br>area_total_sq_mi=%{x}<br>population_total=%{marker.size}<extra></extra>\",\"legendgroup\":\"Goleta\",\"marker\":{\"color\":\"#B6E880\",\"size\":[29888],\"sizemode\":\"area\",\"sizeref\":9710.7675,\"symbol\":\"circle\"},\"mode\":\"markers\",\"name\":\"Goleta\",\"orientation\":\"v\",\"showlegend\":true,\"x\":[7.975],\"xaxis\":\"x\",\"y\":[29888],\"yaxis\":\"y\",\"type\":\"scatter\"},{\"hovertemplate\":\"city=Gonzales<br>area_total_sq_mi=%{x}<br>population_total=%{marker.size}<extra></extra>\",\"legendgroup\":\"Gonzales\",\"marker\":{\"color\":\"#FF97FF\",\"size\":[8187],\"sizemode\":\"area\",\"sizeref\":9710.7675,\"symbol\":\"circle\"},\"mode\":\"markers\",\"name\":\"Gonzales\",\"orientation\":\"v\",\"showlegend\":true,\"x\":[1.959],\"xaxis\":\"x\",\"y\":[8187],\"yaxis\":\"y\",\"type\":\"scatter\"},{\"hovertemplate\":\"city=GrandTerrace<br>area_total_sq_mi=%{x}<br>population_total=%{marker.size}<extra></extra>\",\"legendgroup\":\"GrandTerrace\",\"marker\":{\"color\":\"#FECB52\",\"size\":[12040],\"sizemode\":\"area\",\"sizeref\":9710.7675,\"symbol\":\"circle\"},\"mode\":\"markers\",\"name\":\"GrandTerrace\",\"orientation\":\"v\",\"showlegend\":true,\"x\":[3.502],\"xaxis\":\"x\",\"y\":[12040],\"yaxis\":\"y\",\"type\":\"scatter\"},{\"hovertemplate\":\"city=GrassValley<br>area_total_sq_mi=%{x}<br>population_total=%{marker.size}<extra></extra>\",\"legendgroup\":\"GrassValley\",\"marker\":{\"color\":\"#636efa\",\"size\":[12860],\"sizemode\":\"area\",\"sizeref\":9710.7675,\"symbol\":\"circle\"},\"mode\":\"markers\",\"name\":\"GrassValley\",\"orientation\":\"v\",\"showlegend\":true,\"x\":[4.743],\"xaxis\":\"x\",\"y\":[12860],\"yaxis\":\"y\",\"type\":\"scatter\"},{\"hovertemplate\":\"city=Greenfield<br>area_total_sq_mi=%{x}<br>population_total=%{marker.size}<extra></extra>\",\"legendgroup\":\"Greenfield\",\"marker\":{\"color\":\"#EF553B\",\"size\":[16330],\"sizemode\":\"area\",\"sizeref\":9710.7675,\"symbol\":\"circle\"},\"mode\":\"markers\",\"name\":\"Greenfield\",\"orientation\":\"v\",\"showlegend\":true,\"x\":[2.135],\"xaxis\":\"x\",\"y\":[16330],\"yaxis\":\"y\",\"type\":\"scatter\"},{\"hovertemplate\":\"city=GroverBeach<br>area_total_sq_mi=%{x}<br>population_total=%{marker.size}<extra></extra>\",\"legendgroup\":\"GroverBeach\",\"marker\":{\"color\":\"#00cc96\",\"size\":[13156],\"sizemode\":\"area\",\"sizeref\":9710.7675,\"symbol\":\"circle\"},\"mode\":\"markers\",\"name\":\"GroverBeach\",\"orientation\":\"v\",\"showlegend\":true,\"x\":[2.314],\"xaxis\":\"x\",\"y\":[13156],\"yaxis\":\"y\",\"type\":\"scatter\"},{\"hovertemplate\":\"city=Guadalupe<br>area_total_sq_mi=%{x}<br>population_total=%{marker.size}<extra></extra>\",\"legendgroup\":\"Guadalupe\",\"marker\":{\"color\":\"#ab63fa\",\"size\":[7080],\"sizemode\":\"area\",\"sizeref\":9710.7675,\"symbol\":\"circle\"},\"mode\":\"markers\",\"name\":\"Guadalupe\",\"orientation\":\"v\",\"showlegend\":true,\"x\":[1.314],\"xaxis\":\"x\",\"y\":[7080],\"yaxis\":\"y\",\"type\":\"scatter\"},{\"hovertemplate\":\"city=Gustine<br>area_total_sq_mi=%{x}<br>population_total=%{marker.size}<extra></extra>\",\"legendgroup\":\"Gustine\",\"marker\":{\"color\":\"#FFA15A\",\"size\":[5520],\"sizemode\":\"area\",\"sizeref\":9710.7675,\"symbol\":\"circle\"},\"mode\":\"markers\",\"name\":\"Gustine\",\"orientation\":\"v\",\"showlegend\":true,\"x\":[1.551],\"xaxis\":\"x\",\"y\":[5520],\"yaxis\":\"y\",\"type\":\"scatter\"},{\"hovertemplate\":\"city=HalfMoonBay<br>area_total_sq_mi=%{x}<br>population_total=%{marker.size}<extra></extra>\",\"legendgroup\":\"HalfMoonBay\",\"marker\":{\"color\":\"#19d3f3\",\"size\":[11324],\"sizemode\":\"area\",\"sizeref\":9710.7675,\"symbol\":\"circle\"},\"mode\":\"markers\",\"name\":\"HalfMoonBay\",\"orientation\":\"v\",\"showlegend\":true,\"x\":[6.444],\"xaxis\":\"x\",\"y\":[11324],\"yaxis\":\"y\",\"type\":\"scatter\"},{\"hovertemplate\":\"city=Hanford<br>area_total_sq_mi=%{x}<br>population_total=%{marker.size}<extra></extra>\",\"legendgroup\":\"Hanford\",\"marker\":{\"color\":\"#FF6692\",\"size\":[55283],\"sizemode\":\"area\",\"sizeref\":9710.7675,\"symbol\":\"circle\"},\"mode\":\"markers\",\"name\":\"Hanford\",\"orientation\":\"v\",\"showlegend\":true,\"x\":[16.589000000000002],\"xaxis\":\"x\",\"y\":[55283],\"yaxis\":\"y\",\"type\":\"scatter\"},{\"hovertemplate\":\"city=HawaiianGardens<br>area_total_sq_mi=%{x}<br>population_total=%{marker.size}<extra></extra>\",\"legendgroup\":\"HawaiianGardens\",\"marker\":{\"color\":\"#B6E880\",\"size\":[14254],\"sizemode\":\"area\",\"sizeref\":9710.7675,\"symbol\":\"circle\"},\"mode\":\"markers\",\"name\":\"HawaiianGardens\",\"orientation\":\"v\",\"showlegend\":true,\"x\":[0.956],\"xaxis\":\"x\",\"y\":[14254],\"yaxis\":\"y\",\"type\":\"scatter\"},{\"hovertemplate\":\"city=Hawthorne<br>area_total_sq_mi=%{x}<br>population_total=%{marker.size}<extra></extra>\",\"legendgroup\":\"Hawthorne\",\"marker\":{\"color\":\"#FF97FF\",\"size\":[84293],\"sizemode\":\"area\",\"sizeref\":9710.7675,\"symbol\":\"circle\"},\"mode\":\"markers\",\"name\":\"Hawthorne\",\"orientation\":\"v\",\"showlegend\":true,\"x\":[6.0920000000000005],\"xaxis\":\"x\",\"y\":[84293],\"yaxis\":\"y\",\"type\":\"scatter\"},{\"hovertemplate\":\"city=Hayward<br>area_total_sq_mi=%{x}<br>population_total=%{marker.size}<extra></extra>\",\"legendgroup\":\"Hayward\",\"marker\":{\"color\":\"#FECB52\",\"size\":[149392],\"sizemode\":\"area\",\"sizeref\":9710.7675,\"symbol\":\"circle\"},\"mode\":\"markers\",\"name\":\"Hayward\",\"orientation\":\"v\",\"showlegend\":true,\"x\":[63.748000000000005],\"xaxis\":\"x\",\"y\":[149392],\"yaxis\":\"y\",\"type\":\"scatter\"},{\"hovertemplate\":\"city=Healdsburg<br>area_total_sq_mi=%{x}<br>population_total=%{marker.size}<extra></extra>\",\"legendgroup\":\"Healdsburg\",\"marker\":{\"color\":\"#636efa\",\"size\":[11254],\"sizemode\":\"area\",\"sizeref\":9710.7675,\"symbol\":\"circle\"},\"mode\":\"markers\",\"name\":\"Healdsburg\",\"orientation\":\"v\",\"showlegend\":true,\"x\":[4.4639999999999995],\"xaxis\":\"x\",\"y\":[11254],\"yaxis\":\"y\",\"type\":\"scatter\"},{\"hovertemplate\":\"city=Hemet<br>area_total_sq_mi=%{x}<br>population_total=%{marker.size}<extra></extra>\",\"legendgroup\":\"Hemet\",\"marker\":{\"color\":\"#EF553B\",\"size\":[78657],\"sizemode\":\"area\",\"sizeref\":9710.7675,\"symbol\":\"circle\"},\"mode\":\"markers\",\"name\":\"Hemet\",\"orientation\":\"v\",\"showlegend\":true,\"x\":[27.847],\"xaxis\":\"x\",\"y\":[78657],\"yaxis\":\"y\",\"type\":\"scatter\"},{\"hovertemplate\":\"city=Hercules<br>area_total_sq_mi=%{x}<br>population_total=%{marker.size}<extra></extra>\",\"legendgroup\":\"Hercules\",\"marker\":{\"color\":\"#00cc96\",\"size\":[24060],\"sizemode\":\"area\",\"sizeref\":9710.7675,\"symbol\":\"circle\"},\"mode\":\"markers\",\"name\":\"Hercules\",\"orientation\":\"v\",\"showlegend\":true,\"x\":[18.179000000000002],\"xaxis\":\"x\",\"y\":[24060],\"yaxis\":\"y\",\"type\":\"scatter\"},{\"hovertemplate\":\"city=HermosaBeach<br>area_total_sq_mi=%{x}<br>population_total=%{marker.size}<extra></extra>\",\"legendgroup\":\"HermosaBeach\",\"marker\":{\"color\":\"#ab63fa\",\"size\":[19506],\"sizemode\":\"area\",\"sizeref\":9710.7675,\"symbol\":\"circle\"},\"mode\":\"markers\",\"name\":\"HermosaBeach\",\"orientation\":\"v\",\"showlegend\":true,\"x\":[1.4269999999999998],\"xaxis\":\"x\",\"y\":[19506],\"yaxis\":\"y\",\"type\":\"scatter\"},{\"hovertemplate\":\"city=Hesperia<br>area_total_sq_mi=%{x}<br>population_total=%{marker.size}<extra></extra>\",\"legendgroup\":\"Hesperia\",\"marker\":{\"color\":\"#FFA15A\",\"size\":[90173],\"sizemode\":\"area\",\"sizeref\":9710.7675,\"symbol\":\"circle\"},\"mode\":\"markers\",\"name\":\"Hesperia\",\"orientation\":\"v\",\"showlegend\":true,\"x\":[73.209],\"xaxis\":\"x\",\"y\":[90173],\"yaxis\":\"y\",\"type\":\"scatter\"},{\"hovertemplate\":\"city=HiddenHills<br>area_total_sq_mi=%{x}<br>population_total=%{marker.size}<extra></extra>\",\"legendgroup\":\"HiddenHills\",\"marker\":{\"color\":\"#19d3f3\",\"size\":[1856],\"sizemode\":\"area\",\"sizeref\":9710.7675,\"symbol\":\"circle\"},\"mode\":\"markers\",\"name\":\"HiddenHills\",\"orientation\":\"v\",\"showlegend\":true,\"x\":[1.689],\"xaxis\":\"x\",\"y\":[1856],\"yaxis\":\"y\",\"type\":\"scatter\"},{\"hovertemplate\":\"city=Highland<br>area_total_sq_mi=%{x}<br>population_total=%{marker.size}<extra></extra>\",\"legendgroup\":\"Highland\",\"marker\":{\"color\":\"#FF6692\",\"size\":[53014],\"sizemode\":\"area\",\"sizeref\":9710.7675,\"symbol\":\"circle\"},\"mode\":\"markers\",\"name\":\"Highland\",\"orientation\":\"v\",\"showlegend\":true,\"x\":[18.89],\"xaxis\":\"x\",\"y\":[53014],\"yaxis\":\"y\",\"type\":\"scatter\"},{\"hovertemplate\":\"city=Hillsborough<br>area_total_sq_mi=%{x}<br>population_total=%{marker.size}<extra></extra>\",\"legendgroup\":\"Hillsborough\",\"marker\":{\"color\":\"#B6E880\",\"size\":[10825],\"sizemode\":\"area\",\"sizeref\":9710.7675,\"symbol\":\"circle\"},\"mode\":\"markers\",\"name\":\"Hillsborough\",\"orientation\":\"v\",\"showlegend\":true,\"x\":[6.19],\"xaxis\":\"x\",\"y\":[10825],\"yaxis\":\"y\",\"type\":\"scatter\"},{\"hovertemplate\":\"city=Hollister<br>area_total_sq_mi=%{x}<br>population_total=%{marker.size}<extra></extra>\",\"legendgroup\":\"Hollister\",\"marker\":{\"color\":\"#FF97FF\",\"size\":[34928],\"sizemode\":\"area\",\"sizeref\":9710.7675,\"symbol\":\"circle\"},\"mode\":\"markers\",\"name\":\"Hollister\",\"orientation\":\"v\",\"showlegend\":true,\"x\":[7.29],\"xaxis\":\"x\",\"y\":[34928],\"yaxis\":\"y\",\"type\":\"scatter\"},{\"hovertemplate\":\"city=Holtville<br>area_total_sq_mi=%{x}<br>population_total=%{marker.size}<extra></extra>\",\"legendgroup\":\"Holtville\",\"marker\":{\"color\":\"#FECB52\",\"size\":[5939],\"sizemode\":\"area\",\"sizeref\":9710.7675,\"symbol\":\"circle\"},\"mode\":\"markers\",\"name\":\"Holtville\",\"orientation\":\"v\",\"showlegend\":true,\"x\":[1.1529999999999998],\"xaxis\":\"x\",\"y\":[5939],\"yaxis\":\"y\",\"type\":\"scatter\"},{\"hovertemplate\":\"city=Hughson<br>area_total_sq_mi=%{x}<br>population_total=%{marker.size}<extra></extra>\",\"legendgroup\":\"Hughson\",\"marker\":{\"color\":\"#636efa\",\"size\":[6640],\"sizemode\":\"area\",\"sizeref\":9710.7675,\"symbol\":\"circle\"},\"mode\":\"markers\",\"name\":\"Hughson\",\"orientation\":\"v\",\"showlegend\":true,\"x\":[1.815],\"xaxis\":\"x\",\"y\":[6640],\"yaxis\":\"y\",\"type\":\"scatter\"},{\"hovertemplate\":\"city=HuntingtonBeach<br>area_total_sq_mi=%{x}<br>population_total=%{marker.size}<extra></extra>\",\"legendgroup\":\"HuntingtonBeach\",\"marker\":{\"color\":\"#EF553B\",\"size\":[197575],\"sizemode\":\"area\",\"sizeref\":9710.7675,\"symbol\":\"circle\"},\"mode\":\"markers\",\"name\":\"HuntingtonBeach\",\"orientation\":\"v\",\"showlegend\":true,\"x\":[31.882],\"xaxis\":\"x\",\"y\":[197575],\"yaxis\":\"y\",\"type\":\"scatter\"},{\"hovertemplate\":\"city=HuntingtonPark<br>area_total_sq_mi=%{x}<br>population_total=%{marker.size}<extra></extra>\",\"legendgroup\":\"HuntingtonPark\",\"marker\":{\"color\":\"#00cc96\",\"size\":[58114],\"sizemode\":\"area\",\"sizeref\":9710.7675,\"symbol\":\"circle\"},\"mode\":\"markers\",\"name\":\"HuntingtonPark\",\"orientation\":\"v\",\"showlegend\":true,\"x\":[3.016],\"xaxis\":\"x\",\"y\":[58114],\"yaxis\":\"y\",\"type\":\"scatter\"},{\"hovertemplate\":\"city=Huron<br>area_total_sq_mi=%{x}<br>population_total=%{marker.size}<extra></extra>\",\"legendgroup\":\"Huron\",\"marker\":{\"color\":\"#ab63fa\",\"size\":[6754],\"sizemode\":\"area\",\"sizeref\":9710.7675,\"symbol\":\"circle\"},\"mode\":\"markers\",\"name\":\"Huron\",\"orientation\":\"v\",\"showlegend\":true,\"x\":[1.591],\"xaxis\":\"x\",\"y\":[6754],\"yaxis\":\"y\",\"type\":\"scatter\"},{\"hovertemplate\":\"city=ImperialBeach<br>area_total_sq_mi=%{x}<br>population_total=%{marker.size}<extra></extra>\",\"legendgroup\":\"ImperialBeach\",\"marker\":{\"color\":\"#FFA15A\",\"size\":[26324],\"sizemode\":\"area\",\"sizeref\":9710.7675,\"symbol\":\"circle\"},\"mode\":\"markers\",\"name\":\"ImperialBeach\",\"orientation\":\"v\",\"showlegend\":true,\"x\":[4.485],\"xaxis\":\"x\",\"y\":[26324],\"yaxis\":\"y\",\"type\":\"scatter\"},{\"hovertemplate\":\"city=Imperial<br>area_total_sq_mi=%{x}<br>population_total=%{marker.size}<extra></extra>\",\"legendgroup\":\"Imperial\",\"marker\":{\"color\":\"#19d3f3\",\"size\":[14758],\"sizemode\":\"area\",\"sizeref\":9710.7675,\"symbol\":\"circle\"},\"mode\":\"markers\",\"name\":\"Imperial\",\"orientation\":\"v\",\"showlegend\":true,\"x\":[5.856],\"xaxis\":\"x\",\"y\":[14758],\"yaxis\":\"y\",\"type\":\"scatter\"},{\"hovertemplate\":\"city=IndianWells<br>area_total_sq_mi=%{x}<br>population_total=%{marker.size}<extra></extra>\",\"legendgroup\":\"IndianWells\",\"marker\":{\"color\":\"#FF6692\",\"size\":[4958],\"sizemode\":\"area\",\"sizeref\":9710.7675,\"symbol\":\"circle\"},\"mode\":\"markers\",\"name\":\"IndianWells\",\"orientation\":\"v\",\"showlegend\":true,\"x\":[14.591],\"xaxis\":\"x\",\"y\":[4958],\"yaxis\":\"y\",\"type\":\"scatter\"},{\"hovertemplate\":\"city=Indio<br>area_total_sq_mi=%{x}<br>population_total=%{marker.size}<extra></extra>\",\"legendgroup\":\"Indio\",\"marker\":{\"color\":\"#B6E880\",\"size\":[76036],\"sizemode\":\"area\",\"sizeref\":9710.7675,\"symbol\":\"circle\"},\"mode\":\"markers\",\"name\":\"Indio\",\"orientation\":\"v\",\"showlegend\":true,\"x\":[29.189],\"xaxis\":\"x\",\"y\":[76036],\"yaxis\":\"y\",\"type\":\"scatter\"},{\"hovertemplate\":\"city=Industry<br>area_total_sq_mi=%{x}<br>population_total=%{marker.size}<extra></extra>\",\"legendgroup\":\"Industry\",\"marker\":{\"color\":\"#FF97FF\",\"size\":[219],\"sizemode\":\"area\",\"sizeref\":9710.7675,\"symbol\":\"circle\"},\"mode\":\"markers\",\"name\":\"Industry\",\"orientation\":\"v\",\"showlegend\":true,\"x\":[12.064],\"xaxis\":\"x\",\"y\":[219],\"yaxis\":\"y\",\"type\":\"scatter\"},{\"hovertemplate\":\"city=Inglewood<br>area_total_sq_mi=%{x}<br>population_total=%{marker.size}<extra></extra>\",\"legendgroup\":\"Inglewood\",\"marker\":{\"color\":\"#FECB52\",\"size\":[109673],\"sizemode\":\"area\",\"sizeref\":9710.7675,\"symbol\":\"circle\"},\"mode\":\"markers\",\"name\":\"Inglewood\",\"orientation\":\"v\",\"showlegend\":true,\"x\":[9.093],\"xaxis\":\"x\",\"y\":[109673],\"yaxis\":\"y\",\"type\":\"scatter\"},{\"hovertemplate\":\"city=Ione<br>area_total_sq_mi=%{x}<br>population_total=%{marker.size}<extra></extra>\",\"legendgroup\":\"Ione\",\"marker\":{\"color\":\"#636efa\",\"size\":[7918],\"sizemode\":\"area\",\"sizeref\":9710.7675,\"symbol\":\"circle\"},\"mode\":\"markers\",\"name\":\"Ione\",\"orientation\":\"v\",\"showlegend\":true,\"x\":[4.779999999999999],\"xaxis\":\"x\",\"y\":[7918],\"yaxis\":\"y\",\"type\":\"scatter\"},{\"hovertemplate\":\"city=Irvine<br>area_total_sq_mi=%{x}<br>population_total=%{marker.size}<extra></extra>\",\"legendgroup\":\"Irvine\",\"marker\":{\"color\":\"#EF553B\",\"size\":[215529],\"sizemode\":\"area\",\"sizeref\":9710.7675,\"symbol\":\"circle\"},\"mode\":\"markers\",\"name\":\"Irvine\",\"orientation\":\"v\",\"showlegend\":true,\"x\":[66.45400000000001],\"xaxis\":\"x\",\"y\":[215529],\"yaxis\":\"y\",\"type\":\"scatter\"},{\"hovertemplate\":\"city=Irwindale<br>area_total_sq_mi=%{x}<br>population_total=%{marker.size}<extra></extra>\",\"legendgroup\":\"Irwindale\",\"marker\":{\"color\":\"#00cc96\",\"size\":[1422],\"sizemode\":\"area\",\"sizeref\":9710.7675,\"symbol\":\"circle\"},\"mode\":\"markers\",\"name\":\"Irwindale\",\"orientation\":\"v\",\"showlegend\":true,\"x\":[9.613000000000001],\"xaxis\":\"x\",\"y\":[1422],\"yaxis\":\"y\",\"type\":\"scatter\"},{\"hovertemplate\":\"city=Isleton<br>area_total_sq_mi=%{x}<br>population_total=%{marker.size}<extra></extra>\",\"legendgroup\":\"Isleton\",\"marker\":{\"color\":\"#ab63fa\",\"size\":[804],\"sizemode\":\"area\",\"sizeref\":9710.7675,\"symbol\":\"circle\"},\"mode\":\"markers\",\"name\":\"Isleton\",\"orientation\":\"v\",\"showlegend\":true,\"x\":[0.492],\"xaxis\":\"x\",\"y\":[804],\"yaxis\":\"y\",\"type\":\"scatter\"},{\"hovertemplate\":\"city=Jackson<br>area_total_sq_mi=%{x}<br>population_total=%{marker.size}<extra></extra>\",\"legendgroup\":\"Jackson\",\"marker\":{\"color\":\"#FFA15A\",\"size\":[4651],\"sizemode\":\"area\",\"sizeref\":9710.7675,\"symbol\":\"circle\"},\"mode\":\"markers\",\"name\":\"Jackson\",\"orientation\":\"v\",\"showlegend\":true,\"x\":[3.73],\"xaxis\":\"x\",\"y\":[4651],\"yaxis\":\"y\",\"type\":\"scatter\"},{\"hovertemplate\":\"city=Kerman<br>area_total_sq_mi=%{x}<br>population_total=%{marker.size}<extra></extra>\",\"legendgroup\":\"Kerman\",\"marker\":{\"color\":\"#19d3f3\",\"size\":[17303],\"sizemode\":\"area\",\"sizeref\":9710.7675,\"symbol\":\"circle\"},\"mode\":\"markers\",\"name\":\"Kerman\",\"orientation\":\"v\",\"showlegend\":true,\"x\":[3.233],\"xaxis\":\"x\",\"y\":[17303],\"yaxis\":\"y\",\"type\":\"scatter\"},{\"hovertemplate\":\"city=KingCity<br>area_total_sq_mi=%{x}<br>population_total=%{marker.size}<extra></extra>\",\"legendgroup\":\"KingCity\",\"marker\":{\"color\":\"#FF6692\",\"size\":[12874],\"sizemode\":\"area\",\"sizeref\":9710.7675,\"symbol\":\"circle\"},\"mode\":\"markers\",\"name\":\"KingCity\",\"orientation\":\"v\",\"showlegend\":true,\"x\":[3.984],\"xaxis\":\"x\",\"y\":[12874],\"yaxis\":\"y\",\"type\":\"scatter\"},{\"hovertemplate\":\"city=Kingsburg<br>area_total_sq_mi=%{x}<br>population_total=%{marker.size}<extra></extra>\",\"legendgroup\":\"Kingsburg\",\"marker\":{\"color\":\"#B6E880\",\"size\":[11382],\"sizemode\":\"area\",\"sizeref\":9710.7675,\"symbol\":\"circle\"},\"mode\":\"markers\",\"name\":\"Kingsburg\",\"orientation\":\"v\",\"showlegend\":true,\"x\":[2.8280000000000003],\"xaxis\":\"x\",\"y\":[11382],\"yaxis\":\"y\",\"type\":\"scatter\"},{\"hovertemplate\":\"city=LaCaadaFlintridge<br>area_total_sq_mi=%{x}<br>population_total=%{marker.size}<extra></extra>\",\"legendgroup\":\"LaCaadaFlintridge\",\"marker\":{\"color\":\"#FF97FF\",\"size\":[20246],\"sizemode\":\"area\",\"sizeref\":9710.7675,\"symbol\":\"circle\"},\"mode\":\"markers\",\"name\":\"LaCaadaFlintridge\",\"orientation\":\"v\",\"showlegend\":true,\"x\":[8.645],\"xaxis\":\"x\",\"y\":[20246],\"yaxis\":\"y\",\"type\":\"scatter\"},{\"hovertemplate\":\"city=Lafayette<br>area_total_sq_mi=%{x}<br>population_total=%{marker.size}<extra></extra>\",\"legendgroup\":\"Lafayette\",\"marker\":{\"color\":\"#FECB52\",\"size\":[24285],\"sizemode\":\"area\",\"sizeref\":9710.7675,\"symbol\":\"circle\"},\"mode\":\"markers\",\"name\":\"Lafayette\",\"orientation\":\"v\",\"showlegend\":true,\"x\":[15.386999999999999],\"xaxis\":\"x\",\"y\":[24285],\"yaxis\":\"y\",\"type\":\"scatter\"},{\"hovertemplate\":\"city=LagunaBeach<br>area_total_sq_mi=%{x}<br>population_total=%{marker.size}<extra></extra>\",\"legendgroup\":\"LagunaBeach\",\"marker\":{\"color\":\"#636efa\",\"size\":[22723],\"sizemode\":\"area\",\"sizeref\":9710.7675,\"symbol\":\"circle\"},\"mode\":\"markers\",\"name\":\"LagunaBeach\",\"orientation\":\"v\",\"showlegend\":true,\"x\":[9.821],\"xaxis\":\"x\",\"y\":[22723],\"yaxis\":\"y\",\"type\":\"scatter\"},{\"hovertemplate\":\"city=LagunaHills<br>area_total_sq_mi=%{x}<br>population_total=%{marker.size}<extra></extra>\",\"legendgroup\":\"LagunaHills\",\"marker\":{\"color\":\"#EF553B\",\"size\":[30344],\"sizemode\":\"area\",\"sizeref\":9710.7675,\"symbol\":\"circle\"},\"mode\":\"markers\",\"name\":\"LagunaHills\",\"orientation\":\"v\",\"showlegend\":true,\"x\":[6.695],\"xaxis\":\"x\",\"y\":[30344],\"yaxis\":\"y\",\"type\":\"scatter\"},{\"hovertemplate\":\"city=LagunaNiguel<br>area_total_sq_mi=%{x}<br>population_total=%{marker.size}<extra></extra>\",\"legendgroup\":\"LagunaNiguel\",\"marker\":{\"color\":\"#00cc96\",\"size\":[62979],\"sizemode\":\"area\",\"sizeref\":9710.7675,\"symbol\":\"circle\"},\"mode\":\"markers\",\"name\":\"LagunaNiguel\",\"orientation\":\"v\",\"showlegend\":true,\"x\":[14.885],\"xaxis\":\"x\",\"y\":[62979],\"yaxis\":\"y\",\"type\":\"scatter\"},{\"hovertemplate\":\"city=LagunaWoods<br>area_total_sq_mi=%{x}<br>population_total=%{marker.size}<extra></extra>\",\"legendgroup\":\"LagunaWoods\",\"marker\":{\"color\":\"#ab63fa\",\"size\":[18747],\"sizemode\":\"area\",\"sizeref\":9710.7675,\"symbol\":\"circle\"},\"mode\":\"markers\",\"name\":\"LagunaWoods\",\"orientation\":\"v\",\"showlegend\":true,\"x\":[3.115],\"xaxis\":\"x\",\"y\":[18747],\"yaxis\":\"y\",\"type\":\"scatter\"},{\"hovertemplate\":\"city=LaHabra<br>area_total_sq_mi=%{x}<br>population_total=%{marker.size}<extra></extra>\",\"legendgroup\":\"LaHabra\",\"marker\":{\"color\":\"#FFA15A\",\"size\":[60239],\"sizemode\":\"area\",\"sizeref\":9710.7675,\"symbol\":\"circle\"},\"mode\":\"markers\",\"name\":\"LaHabra\",\"orientation\":\"v\",\"showlegend\":true,\"x\":[7.376],\"xaxis\":\"x\",\"y\":[60239],\"yaxis\":\"y\",\"type\":\"scatter\"},{\"hovertemplate\":\"city=LaHabraHeights<br>area_total_sq_mi=%{x}<br>population_total=%{marker.size}<extra></extra>\",\"legendgroup\":\"LaHabraHeights\",\"marker\":{\"color\":\"#19d3f3\",\"size\":[5325],\"sizemode\":\"area\",\"sizeref\":9710.7675,\"symbol\":\"circle\"},\"mode\":\"markers\",\"name\":\"LaHabraHeights\",\"orientation\":\"v\",\"showlegend\":true,\"x\":[6.162],\"xaxis\":\"x\",\"y\":[5325],\"yaxis\":\"y\",\"type\":\"scatter\"},{\"hovertemplate\":\"city=LakeElsinore<br>area_total_sq_mi=%{x}<br>population_total=%{marker.size}<extra></extra>\",\"legendgroup\":\"LakeElsinore\",\"marker\":{\"color\":\"#FF6692\",\"size\":[51821],\"sizemode\":\"area\",\"sizeref\":9710.7675,\"symbol\":\"circle\"},\"mode\":\"markers\",\"name\":\"LakeElsinore\",\"orientation\":\"v\",\"showlegend\":true,\"x\":[41.687],\"xaxis\":\"x\",\"y\":[51821],\"yaxis\":\"y\",\"type\":\"scatter\"},{\"hovertemplate\":\"city=LakeForest<br>area_total_sq_mi=%{x}<br>population_total=%{marker.size}<extra></extra>\",\"legendgroup\":\"LakeForest\",\"marker\":{\"color\":\"#B6E880\",\"size\":[77264],\"sizemode\":\"area\",\"sizeref\":9710.7675,\"symbol\":\"circle\"},\"mode\":\"markers\",\"name\":\"LakeForest\",\"orientation\":\"v\",\"showlegend\":true,\"x\":[17.901999999999997],\"xaxis\":\"x\",\"y\":[77264],\"yaxis\":\"y\",\"type\":\"scatter\"},{\"hovertemplate\":\"city=Lakeport<br>area_total_sq_mi=%{x}<br>population_total=%{marker.size}<extra></extra>\",\"legendgroup\":\"Lakeport\",\"marker\":{\"color\":\"#FF97FF\",\"size\":[4753],\"sizemode\":\"area\",\"sizeref\":9710.7675,\"symbol\":\"circle\"},\"mode\":\"markers\",\"name\":\"Lakeport\",\"orientation\":\"v\",\"showlegend\":true,\"x\":[3.1980000000000004],\"xaxis\":\"x\",\"y\":[4753],\"yaxis\":\"y\",\"type\":\"scatter\"},{\"hovertemplate\":\"city=Lakewood<br>area_total_sq_mi=%{x}<br>population_total=%{marker.size}<extra></extra>\",\"legendgroup\":\"Lakewood\",\"marker\":{\"color\":\"#FECB52\",\"size\":[80048],\"sizemode\":\"area\",\"sizeref\":9710.7675,\"symbol\":\"circle\"},\"mode\":\"markers\",\"name\":\"Lakewood\",\"orientation\":\"v\",\"showlegend\":true,\"x\":[9.466],\"xaxis\":\"x\",\"y\":[80048],\"yaxis\":\"y\",\"type\":\"scatter\"},{\"hovertemplate\":\"city=LaMesa<br>area_total_sq_mi=%{x}<br>population_total=%{marker.size}<extra></extra>\",\"legendgroup\":\"LaMesa\",\"marker\":{\"color\":\"#636efa\",\"size\":[57065],\"sizemode\":\"area\",\"sizeref\":9710.7675,\"symbol\":\"circle\"},\"mode\":\"markers\",\"name\":\"LaMesa\",\"orientation\":\"v\",\"showlegend\":true,\"x\":[9.116],\"xaxis\":\"x\",\"y\":[57065],\"yaxis\":\"y\",\"type\":\"scatter\"},{\"hovertemplate\":\"city=LaMirada<br>area_total_sq_mi=%{x}<br>population_total=%{marker.size}<extra></extra>\",\"legendgroup\":\"LaMirada\",\"marker\":{\"color\":\"#EF553B\",\"size\":[48527],\"sizemode\":\"area\",\"sizeref\":9710.7675,\"symbol\":\"circle\"},\"mode\":\"markers\",\"name\":\"LaMirada\",\"orientation\":\"v\",\"showlegend\":true,\"x\":[7.857],\"xaxis\":\"x\",\"y\":[48527],\"yaxis\":\"y\",\"type\":\"scatter\"},{\"hovertemplate\":\"city=Lancaster<br>area_total_sq_mi=%{x}<br>population_total=%{marker.size}<extra></extra>\",\"legendgroup\":\"Lancaster\",\"marker\":{\"color\":\"#00cc96\",\"size\":[156633],\"sizemode\":\"area\",\"sizeref\":9710.7675,\"symbol\":\"circle\"},\"mode\":\"markers\",\"name\":\"Lancaster\",\"orientation\":\"v\",\"showlegend\":true,\"x\":[94.547],\"xaxis\":\"x\",\"y\":[156633],\"yaxis\":\"y\",\"type\":\"scatter\"},{\"hovertemplate\":\"city=LaPalma<br>area_total_sq_mi=%{x}<br>population_total=%{marker.size}<extra></extra>\",\"legendgroup\":\"LaPalma\",\"marker\":{\"color\":\"#ab63fa\",\"size\":[15568],\"sizemode\":\"area\",\"sizeref\":9710.7675,\"symbol\":\"circle\"},\"mode\":\"markers\",\"name\":\"LaPalma\",\"orientation\":\"v\",\"showlegend\":true,\"x\":[1.832],\"xaxis\":\"x\",\"y\":[15568],\"yaxis\":\"y\",\"type\":\"scatter\"},{\"hovertemplate\":\"city=LaPuente<br>area_total_sq_mi=%{x}<br>population_total=%{marker.size}<extra></extra>\",\"legendgroup\":\"LaPuente\",\"marker\":{\"color\":\"#FFA15A\",\"size\":[39816],\"sizemode\":\"area\",\"sizeref\":9710.7675,\"symbol\":\"circle\"},\"mode\":\"markers\",\"name\":\"LaPuente\",\"orientation\":\"v\",\"showlegend\":true,\"x\":[3.48],\"xaxis\":\"x\",\"y\":[39816],\"yaxis\":\"y\",\"type\":\"scatter\"},{\"hovertemplate\":\"city=LaQuinta<br>area_total_sq_mi=%{x}<br>population_total=%{marker.size}<extra></extra>\",\"legendgroup\":\"LaQuinta\",\"marker\":{\"color\":\"#19d3f3\",\"size\":[37467],\"sizemode\":\"area\",\"sizeref\":9710.7675,\"symbol\":\"circle\"},\"mode\":\"markers\",\"name\":\"LaQuinta\",\"orientation\":\"v\",\"showlegend\":true,\"x\":[35.550999999999995],\"xaxis\":\"x\",\"y\":[37467],\"yaxis\":\"y\",\"type\":\"scatter\"},{\"hovertemplate\":\"city=Larkspur<br>area_total_sq_mi=%{x}<br>population_total=%{marker.size}<extra></extra>\",\"legendgroup\":\"Larkspur\",\"marker\":{\"color\":\"#FF6692\",\"size\":[11926],\"sizemode\":\"area\",\"sizeref\":9710.7675,\"symbol\":\"circle\"},\"mode\":\"markers\",\"name\":\"Larkspur\",\"orientation\":\"v\",\"showlegend\":true,\"x\":[3.2430000000000003],\"xaxis\":\"x\",\"y\":[11926],\"yaxis\":\"y\",\"type\":\"scatter\"},{\"hovertemplate\":\"city=Lathrop<br>area_total_sq_mi=%{x}<br>population_total=%{marker.size}<extra></extra>\",\"legendgroup\":\"Lathrop\",\"marker\":{\"color\":\"#B6E880\",\"size\":[18023],\"sizemode\":\"area\",\"sizeref\":9710.7675,\"symbol\":\"circle\"},\"mode\":\"markers\",\"name\":\"Lathrop\",\"orientation\":\"v\",\"showlegend\":true,\"x\":[23.033],\"xaxis\":\"x\",\"y\":[18023],\"yaxis\":\"y\",\"type\":\"scatter\"},{\"hovertemplate\":\"city=LaVerne<br>area_total_sq_mi=%{x}<br>population_total=%{marker.size}<extra></extra>\",\"legendgroup\":\"LaVerne\",\"marker\":{\"color\":\"#FF97FF\",\"size\":[31063],\"sizemode\":\"area\",\"sizeref\":9710.7675,\"symbol\":\"circle\"},\"mode\":\"markers\",\"name\":\"LaVerne\",\"orientation\":\"v\",\"showlegend\":true,\"x\":[8.562],\"xaxis\":\"x\",\"y\":[31063],\"yaxis\":\"y\",\"type\":\"scatter\"},{\"hovertemplate\":\"city=Lawndale<br>area_total_sq_mi=%{x}<br>population_total=%{marker.size}<extra></extra>\",\"legendgroup\":\"Lawndale\",\"marker\":{\"color\":\"#FECB52\",\"size\":[32769],\"sizemode\":\"area\",\"sizeref\":9710.7675,\"symbol\":\"circle\"},\"mode\":\"markers\",\"name\":\"Lawndale\",\"orientation\":\"v\",\"showlegend\":true,\"x\":[1.974],\"xaxis\":\"x\",\"y\":[32769],\"yaxis\":\"y\",\"type\":\"scatter\"},{\"hovertemplate\":\"city=LemonGrove<br>area_total_sq_mi=%{x}<br>population_total=%{marker.size}<extra></extra>\",\"legendgroup\":\"LemonGrove\",\"marker\":{\"color\":\"#636efa\",\"size\":[25320],\"sizemode\":\"area\",\"sizeref\":9710.7675,\"symbol\":\"circle\"},\"mode\":\"markers\",\"name\":\"LemonGrove\",\"orientation\":\"v\",\"showlegend\":true,\"x\":[3.88],\"xaxis\":\"x\",\"y\":[25320],\"yaxis\":\"y\",\"type\":\"scatter\"},{\"hovertemplate\":\"city=Lemoore<br>area_total_sq_mi=%{x}<br>population_total=%{marker.size}<extra></extra>\",\"legendgroup\":\"Lemoore\",\"marker\":{\"color\":\"#EF553B\",\"size\":[25281],\"sizemode\":\"area\",\"sizeref\":9710.7675,\"symbol\":\"circle\"},\"mode\":\"markers\",\"name\":\"Lemoore\",\"orientation\":\"v\",\"showlegend\":true,\"x\":[8.517000000000001],\"xaxis\":\"x\",\"y\":[25281],\"yaxis\":\"y\",\"type\":\"scatter\"},{\"hovertemplate\":\"city=Lincoln<br>area_total_sq_mi=%{x}<br>population_total=%{marker.size}<extra></extra>\",\"legendgroup\":\"Lincoln\",\"marker\":{\"color\":\"#00cc96\",\"size\":[42819],\"sizemode\":\"area\",\"sizeref\":9710.7675,\"symbol\":\"circle\"},\"mode\":\"markers\",\"name\":\"Lincoln\",\"orientation\":\"v\",\"showlegend\":true,\"x\":[20.130000000000003],\"xaxis\":\"x\",\"y\":[42819],\"yaxis\":\"y\",\"type\":\"scatter\"},{\"hovertemplate\":\"city=Lindsay<br>area_total_sq_mi=%{x}<br>population_total=%{marker.size}<extra></extra>\",\"legendgroup\":\"Lindsay\",\"marker\":{\"color\":\"#ab63fa\",\"size\":[11768],\"sizemode\":\"area\",\"sizeref\":9710.7675,\"symbol\":\"circle\"},\"mode\":\"markers\",\"name\":\"Lindsay\",\"orientation\":\"v\",\"showlegend\":true,\"x\":[2.61],\"xaxis\":\"x\",\"y\":[11768],\"yaxis\":\"y\",\"type\":\"scatter\"},{\"hovertemplate\":\"city=LiveOakSutterCounty<br>area_total_sq_mi=%{x}<br>population_total=%{marker.size}<extra></extra>\",\"legendgroup\":\"LiveOakSutterCounty\",\"marker\":{\"color\":\"#FFA15A\",\"size\":[8392],\"sizemode\":\"area\",\"sizeref\":9710.7675,\"symbol\":\"circle\"},\"mode\":\"markers\",\"name\":\"LiveOakSutterCounty\",\"orientation\":\"v\",\"showlegend\":true,\"x\":[1.869],\"xaxis\":\"x\",\"y\":[8392],\"yaxis\":\"y\",\"type\":\"scatter\"},{\"hovertemplate\":\"city=Livermore<br>area_total_sq_mi=%{x}<br>population_total=%{marker.size}<extra></extra>\",\"legendgroup\":\"Livermore\",\"marker\":{\"color\":\"#19d3f3\",\"size\":[83547],\"sizemode\":\"area\",\"sizeref\":9710.7675,\"symbol\":\"circle\"},\"mode\":\"markers\",\"name\":\"Livermore\",\"orientation\":\"v\",\"showlegend\":true,\"x\":[25.176],\"xaxis\":\"x\",\"y\":[83547],\"yaxis\":\"y\",\"type\":\"scatter\"},{\"hovertemplate\":\"city=Livingston<br>area_total_sq_mi=%{x}<br>population_total=%{marker.size}<extra></extra>\",\"legendgroup\":\"Livingston\",\"marker\":{\"color\":\"#FF6692\",\"size\":[13058],\"sizemode\":\"area\",\"sizeref\":9710.7675,\"symbol\":\"circle\"},\"mode\":\"markers\",\"name\":\"Livingston\",\"orientation\":\"v\",\"showlegend\":true,\"x\":[3.715],\"xaxis\":\"x\",\"y\":[13058],\"yaxis\":\"y\",\"type\":\"scatter\"},{\"hovertemplate\":\"city=Lodi<br>area_total_sq_mi=%{x}<br>population_total=%{marker.size}<extra></extra>\",\"legendgroup\":\"Lodi\",\"marker\":{\"color\":\"#B6E880\",\"size\":[62134],\"sizemode\":\"area\",\"sizeref\":9710.7675,\"symbol\":\"circle\"},\"mode\":\"markers\",\"name\":\"Lodi\",\"orientation\":\"v\",\"showlegend\":true,\"x\":[13.825000000000001],\"xaxis\":\"x\",\"y\":[62134],\"yaxis\":\"y\",\"type\":\"scatter\"},{\"hovertemplate\":\"city=LomaLinda<br>area_total_sq_mi=%{x}<br>population_total=%{marker.size}<extra></extra>\",\"legendgroup\":\"LomaLinda\",\"marker\":{\"color\":\"#FF97FF\",\"size\":[23261],\"sizemode\":\"area\",\"sizeref\":9710.7675,\"symbol\":\"circle\"},\"mode\":\"markers\",\"name\":\"LomaLinda\",\"orientation\":\"v\",\"showlegend\":true,\"x\":[7.517],\"xaxis\":\"x\",\"y\":[23261],\"yaxis\":\"y\",\"type\":\"scatter\"},{\"hovertemplate\":\"city=Lomita<br>area_total_sq_mi=%{x}<br>population_total=%{marker.size}<extra></extra>\",\"legendgroup\":\"Lomita\",\"marker\":{\"color\":\"#FECB52\",\"size\":[20256],\"sizemode\":\"area\",\"sizeref\":9710.7675,\"symbol\":\"circle\"},\"mode\":\"markers\",\"name\":\"Lomita\",\"orientation\":\"v\",\"showlegend\":true,\"x\":[1.911],\"xaxis\":\"x\",\"y\":[20256],\"yaxis\":\"y\",\"type\":\"scatter\"},{\"hovertemplate\":\"city=Lompoc<br>area_total_sq_mi=%{x}<br>population_total=%{marker.size}<extra></extra>\",\"legendgroup\":\"Lompoc\",\"marker\":{\"color\":\"#636efa\",\"size\":[42434],\"sizemode\":\"area\",\"sizeref\":9710.7675,\"symbol\":\"circle\"},\"mode\":\"markers\",\"name\":\"Lompoc\",\"orientation\":\"v\",\"showlegend\":true,\"x\":[11.674999999999999],\"xaxis\":\"x\",\"y\":[42434],\"yaxis\":\"y\",\"type\":\"scatter\"},{\"hovertemplate\":\"city=LongBeach<br>area_total_sq_mi=%{x}<br>population_total=%{marker.size}<extra></extra>\",\"legendgroup\":\"LongBeach\",\"marker\":{\"color\":\"#EF553B\",\"size\":[462257],\"sizemode\":\"area\",\"sizeref\":9710.7675,\"symbol\":\"circle\"},\"mode\":\"markers\",\"name\":\"LongBeach\",\"orientation\":\"v\",\"showlegend\":true,\"x\":[51.437],\"xaxis\":\"x\",\"y\":[462257],\"yaxis\":\"y\",\"type\":\"scatter\"},{\"hovertemplate\":\"city=Loomis<br>area_total_sq_mi=%{x}<br>population_total=%{marker.size}<extra></extra>\",\"legendgroup\":\"Loomis\",\"marker\":{\"color\":\"#00cc96\",\"size\":[6430],\"sizemode\":\"area\",\"sizeref\":9710.7675,\"symbol\":\"circle\"},\"mode\":\"markers\",\"name\":\"Loomis\",\"orientation\":\"v\",\"showlegend\":true,\"x\":[7.267],\"xaxis\":\"x\",\"y\":[6430],\"yaxis\":\"y\",\"type\":\"scatter\"},{\"hovertemplate\":\"city=LosAlamitos<br>area_total_sq_mi=%{x}<br>population_total=%{marker.size}<extra></extra>\",\"legendgroup\":\"LosAlamitos\",\"marker\":{\"color\":\"#ab63fa\",\"size\":[11449],\"sizemode\":\"area\",\"sizeref\":9710.7675,\"symbol\":\"circle\"},\"mode\":\"markers\",\"name\":\"LosAlamitos\",\"orientation\":\"v\",\"showlegend\":true,\"x\":[4.116],\"xaxis\":\"x\",\"y\":[11449],\"yaxis\":\"y\",\"type\":\"scatter\"},{\"hovertemplate\":\"city=LosAltosHills<br>area_total_sq_mi=%{x}<br>population_total=%{marker.size}<extra></extra>\",\"legendgroup\":\"LosAltosHills\",\"marker\":{\"color\":\"#FFA15A\",\"size\":[7922],\"sizemode\":\"area\",\"sizeref\":9710.7675,\"symbol\":\"circle\"},\"mode\":\"markers\",\"name\":\"LosAltosHills\",\"orientation\":\"v\",\"showlegend\":true,\"x\":[8.802],\"xaxis\":\"x\",\"y\":[7922],\"yaxis\":\"y\",\"type\":\"scatter\"},{\"hovertemplate\":\"city=LosAngeles<br>area_total_sq_mi=%{x}<br>population_total=%{marker.size}<extra></extra>\",\"legendgroup\":\"LosAngeles\",\"marker\":{\"color\":\"#19d3f3\",\"size\":[3884307],\"sizemode\":\"area\",\"sizeref\":9710.7675,\"symbol\":\"circle\"},\"mode\":\"markers\",\"name\":\"LosAngeles\",\"orientation\":\"v\",\"showlegend\":true,\"x\":[503.0],\"xaxis\":\"x\",\"y\":[3884307],\"yaxis\":\"y\",\"type\":\"scatter\"},{\"hovertemplate\":\"city=LosBanos<br>area_total_sq_mi=%{x}<br>population_total=%{marker.size}<extra></extra>\",\"legendgroup\":\"LosBanos\",\"marker\":{\"color\":\"#FF6692\",\"size\":[35972],\"sizemode\":\"area\",\"sizeref\":9710.7675,\"symbol\":\"circle\"},\"mode\":\"markers\",\"name\":\"LosBanos\",\"orientation\":\"v\",\"showlegend\":true,\"x\":[10.117],\"xaxis\":\"x\",\"y\":[35972],\"yaxis\":\"y\",\"type\":\"scatter\"},{\"hovertemplate\":\"city=LosGatos<br>area_total_sq_mi=%{x}<br>population_total=%{marker.size}<extra></extra>\",\"legendgroup\":\"LosGatos\",\"marker\":{\"color\":\"#B6E880\",\"size\":[29413],\"sizemode\":\"area\",\"sizeref\":9710.7675,\"symbol\":\"circle\"},\"mode\":\"markers\",\"name\":\"LosGatos\",\"orientation\":\"v\",\"showlegend\":true,\"x\":[11.16],\"xaxis\":\"x\",\"y\":[29413],\"yaxis\":\"y\",\"type\":\"scatter\"},{\"hovertemplate\":\"city=Loyalton<br>area_total_sq_mi=%{x}<br>population_total=%{marker.size}<extra></extra>\",\"legendgroup\":\"Loyalton\",\"marker\":{\"color\":\"#FF97FF\",\"size\":[769],\"sizemode\":\"area\",\"sizeref\":9710.7675,\"symbol\":\"circle\"},\"mode\":\"markers\",\"name\":\"Loyalton\",\"orientation\":\"v\",\"showlegend\":true,\"x\":[0.355],\"xaxis\":\"x\",\"y\":[769],\"yaxis\":\"y\",\"type\":\"scatter\"},{\"hovertemplate\":\"city=Lynwood<br>area_total_sq_mi=%{x}<br>population_total=%{marker.size}<extra></extra>\",\"legendgroup\":\"Lynwood\",\"marker\":{\"color\":\"#FECB52\",\"size\":[69772],\"sizemode\":\"area\",\"sizeref\":9710.7675,\"symbol\":\"circle\"},\"mode\":\"markers\",\"name\":\"Lynwood\",\"orientation\":\"v\",\"showlegend\":true,\"x\":[4.84],\"xaxis\":\"x\",\"y\":[69772],\"yaxis\":\"y\",\"type\":\"scatter\"},{\"hovertemplate\":\"city=Madera<br>area_total_sq_mi=%{x}<br>population_total=%{marker.size}<extra></extra>\",\"legendgroup\":\"Madera\",\"marker\":{\"color\":\"#636efa\",\"size\":[61416],\"sizemode\":\"area\",\"sizeref\":9710.7675,\"symbol\":\"circle\"},\"mode\":\"markers\",\"name\":\"Madera\",\"orientation\":\"v\",\"showlegend\":true,\"x\":[15.789],\"xaxis\":\"x\",\"y\":[61416],\"yaxis\":\"y\",\"type\":\"scatter\"},{\"hovertemplate\":\"city=Malibu<br>area_total_sq_mi=%{x}<br>population_total=%{marker.size}<extra></extra>\",\"legendgroup\":\"Malibu\",\"marker\":{\"color\":\"#EF553B\",\"size\":[12645],\"sizemode\":\"area\",\"sizeref\":9710.7675,\"symbol\":\"circle\"},\"mode\":\"markers\",\"name\":\"Malibu\",\"orientation\":\"v\",\"showlegend\":true,\"x\":[19.828],\"xaxis\":\"x\",\"y\":[12645],\"yaxis\":\"y\",\"type\":\"scatter\"},{\"hovertemplate\":\"city=MammothLakes<br>area_total_sq_mi=%{x}<br>population_total=%{marker.size}<extra></extra>\",\"legendgroup\":\"MammothLakes\",\"marker\":{\"color\":\"#00cc96\",\"size\":[8234],\"sizemode\":\"area\",\"sizeref\":9710.7675,\"symbol\":\"circle\"},\"mode\":\"markers\",\"name\":\"MammothLakes\",\"orientation\":\"v\",\"showlegend\":true,\"x\":[25.306],\"xaxis\":\"x\",\"y\":[8234],\"yaxis\":\"y\",\"type\":\"scatter\"},{\"hovertemplate\":\"city=ManhattanBeach<br>area_total_sq_mi=%{x}<br>population_total=%{marker.size}<extra></extra>\",\"legendgroup\":\"ManhattanBeach\",\"marker\":{\"color\":\"#ab63fa\",\"size\":[35135],\"sizemode\":\"area\",\"sizeref\":9710.7675,\"symbol\":\"circle\"},\"mode\":\"markers\",\"name\":\"ManhattanBeach\",\"orientation\":\"v\",\"showlegend\":true,\"x\":[3.941],\"xaxis\":\"x\",\"y\":[35135],\"yaxis\":\"y\",\"type\":\"scatter\"},{\"hovertemplate\":\"city=Manteca<br>area_total_sq_mi=%{x}<br>population_total=%{marker.size}<extra></extra>\",\"legendgroup\":\"Manteca\",\"marker\":{\"color\":\"#FFA15A\",\"size\":[71067],\"sizemode\":\"area\",\"sizeref\":9710.7675,\"symbol\":\"circle\"},\"mode\":\"markers\",\"name\":\"Manteca\",\"orientation\":\"v\",\"showlegend\":true,\"x\":[17.757],\"xaxis\":\"x\",\"y\":[71067],\"yaxis\":\"y\",\"type\":\"scatter\"},{\"hovertemplate\":\"city=Maricopa<br>area_total_sq_mi=%{x}<br>population_total=%{marker.size}<extra></extra>\",\"legendgroup\":\"Maricopa\",\"marker\":{\"color\":\"#19d3f3\",\"size\":[1154],\"sizemode\":\"area\",\"sizeref\":9710.7675,\"symbol\":\"circle\"},\"mode\":\"markers\",\"name\":\"Maricopa\",\"orientation\":\"v\",\"showlegend\":true,\"x\":[1.5019999999999998],\"xaxis\":\"x\",\"y\":[1154],\"yaxis\":\"y\",\"type\":\"scatter\"},{\"hovertemplate\":\"city=Marina<br>area_total_sq_mi=%{x}<br>population_total=%{marker.size}<extra></extra>\",\"legendgroup\":\"Marina\",\"marker\":{\"color\":\"#FF6692\",\"size\":[29718],\"sizemode\":\"area\",\"sizeref\":9710.7675,\"symbol\":\"circle\"},\"mode\":\"markers\",\"name\":\"Marina\",\"orientation\":\"v\",\"showlegend\":true,\"x\":[9.763],\"xaxis\":\"x\",\"y\":[29718],\"yaxis\":\"y\",\"type\":\"scatter\"},{\"hovertemplate\":\"city=Martinez<br>area_total_sq_mi=%{x}<br>population_total=%{marker.size}<extra></extra>\",\"legendgroup\":\"Martinez\",\"marker\":{\"color\":\"#B6E880\",\"size\":[35824],\"sizemode\":\"area\",\"sizeref\":9710.7675,\"symbol\":\"circle\"},\"mode\":\"markers\",\"name\":\"Martinez\",\"orientation\":\"v\",\"showlegend\":true,\"x\":[13.134999999999998],\"xaxis\":\"x\",\"y\":[35824],\"yaxis\":\"y\",\"type\":\"scatter\"},{\"hovertemplate\":\"city=Marysville<br>area_total_sq_mi=%{x}<br>population_total=%{marker.size}<extra></extra>\",\"legendgroup\":\"Marysville\",\"marker\":{\"color\":\"#FF97FF\",\"size\":[12072],\"sizemode\":\"area\",\"sizeref\":9710.7675,\"symbol\":\"circle\"},\"mode\":\"markers\",\"name\":\"Marysville\",\"orientation\":\"v\",\"showlegend\":true,\"x\":[3.585],\"xaxis\":\"x\",\"y\":[12072],\"yaxis\":\"y\",\"type\":\"scatter\"},{\"hovertemplate\":\"city=Maywood<br>area_total_sq_mi=%{x}<br>population_total=%{marker.size}<extra></extra>\",\"legendgroup\":\"Maywood\",\"marker\":{\"color\":\"#FECB52\",\"size\":[27395],\"sizemode\":\"area\",\"sizeref\":9710.7675,\"symbol\":\"circle\"},\"mode\":\"markers\",\"name\":\"Maywood\",\"orientation\":\"v\",\"showlegend\":true,\"x\":[1.178],\"xaxis\":\"x\",\"y\":[27395],\"yaxis\":\"y\",\"type\":\"scatter\"},{\"hovertemplate\":\"city=McFarland<br>area_total_sq_mi=%{x}<br>population_total=%{marker.size}<extra></extra>\",\"legendgroup\":\"McFarland\",\"marker\":{\"color\":\"#636efa\",\"size\":[13745],\"sizemode\":\"area\",\"sizeref\":9710.7675,\"symbol\":\"circle\"},\"mode\":\"markers\",\"name\":\"McFarland\",\"orientation\":\"v\",\"showlegend\":true,\"x\":[2.668],\"xaxis\":\"x\",\"y\":[13745],\"yaxis\":\"y\",\"type\":\"scatter\"},{\"hovertemplate\":\"city=Mendota<br>area_total_sq_mi=%{x}<br>population_total=%{marker.size}<extra></extra>\",\"legendgroup\":\"Mendota\",\"marker\":{\"color\":\"#EF553B\",\"size\":[11014],\"sizemode\":\"area\",\"sizeref\":9710.7675,\"symbol\":\"circle\"},\"mode\":\"markers\",\"name\":\"Mendota\",\"orientation\":\"v\",\"showlegend\":true,\"x\":[3.281],\"xaxis\":\"x\",\"y\":[11014],\"yaxis\":\"y\",\"type\":\"scatter\"},{\"hovertemplate\":\"city=Menifee<br>area_total_sq_mi=%{x}<br>population_total=%{marker.size}<extra></extra>\",\"legendgroup\":\"Menifee\",\"marker\":{\"color\":\"#00cc96\",\"size\":[77519],\"sizemode\":\"area\",\"sizeref\":9710.7675,\"symbol\":\"circle\"},\"mode\":\"markers\",\"name\":\"Menifee\",\"orientation\":\"v\",\"showlegend\":true,\"x\":[46.607],\"xaxis\":\"x\",\"y\":[77519],\"yaxis\":\"y\",\"type\":\"scatter\"},{\"hovertemplate\":\"city=MenloPark<br>area_total_sq_mi=%{x}<br>population_total=%{marker.size}<extra></extra>\",\"legendgroup\":\"MenloPark\",\"marker\":{\"color\":\"#ab63fa\",\"size\":[32026],\"sizemode\":\"area\",\"sizeref\":9710.7675,\"symbol\":\"circle\"},\"mode\":\"markers\",\"name\":\"MenloPark\",\"orientation\":\"v\",\"showlegend\":true,\"x\":[17.415],\"xaxis\":\"x\",\"y\":[32026],\"yaxis\":\"y\",\"type\":\"scatter\"},{\"hovertemplate\":\"city=Merced<br>area_total_sq_mi=%{x}<br>population_total=%{marker.size}<extra></extra>\",\"legendgroup\":\"Merced\",\"marker\":{\"color\":\"#FFA15A\",\"size\":[80793],\"sizemode\":\"area\",\"sizeref\":9710.7675,\"symbol\":\"circle\"},\"mode\":\"markers\",\"name\":\"Merced\",\"orientation\":\"v\",\"showlegend\":true,\"x\":[23.316],\"xaxis\":\"x\",\"y\":[80793],\"yaxis\":\"y\",\"type\":\"scatter\"},{\"hovertemplate\":\"city=Millbrae<br>area_total_sq_mi=%{x}<br>population_total=%{marker.size}<extra></extra>\",\"legendgroup\":\"Millbrae\",\"marker\":{\"color\":\"#19d3f3\",\"size\":[21536],\"sizemode\":\"area\",\"sizeref\":9710.7675,\"symbol\":\"circle\"},\"mode\":\"markers\",\"name\":\"Millbrae\",\"orientation\":\"v\",\"showlegend\":true,\"x\":[3.259],\"xaxis\":\"x\",\"y\":[21536],\"yaxis\":\"y\",\"type\":\"scatter\"},{\"hovertemplate\":\"city=MillValley<br>area_total_sq_mi=%{x}<br>population_total=%{marker.size}<extra></extra>\",\"legendgroup\":\"MillValley\",\"marker\":{\"color\":\"#FF6692\",\"size\":[13903],\"sizemode\":\"area\",\"sizeref\":9710.7675,\"symbol\":\"circle\"},\"mode\":\"markers\",\"name\":\"MillValley\",\"orientation\":\"v\",\"showlegend\":true,\"x\":[4.8469999999999995],\"xaxis\":\"x\",\"y\":[13903],\"yaxis\":\"y\",\"type\":\"scatter\"},{\"hovertemplate\":\"city=Milpitas<br>area_total_sq_mi=%{x}<br>population_total=%{marker.size}<extra></extra>\",\"legendgroup\":\"Milpitas\",\"marker\":{\"color\":\"#B6E880\",\"size\":[70092],\"sizemode\":\"area\",\"sizeref\":9710.7675,\"symbol\":\"circle\"},\"mode\":\"markers\",\"name\":\"Milpitas\",\"orientation\":\"v\",\"showlegend\":true,\"x\":[13.641],\"xaxis\":\"x\",\"y\":[70092],\"yaxis\":\"y\",\"type\":\"scatter\"},{\"hovertemplate\":\"city=MissionViejo<br>area_total_sq_mi=%{x}<br>population_total=%{marker.size}<extra></extra>\",\"legendgroup\":\"MissionViejo\",\"marker\":{\"color\":\"#FF97FF\",\"size\":[96346],\"sizemode\":\"area\",\"sizeref\":9710.7675,\"symbol\":\"circle\"},\"mode\":\"markers\",\"name\":\"MissionViejo\",\"orientation\":\"v\",\"showlegend\":true,\"x\":[18.123],\"xaxis\":\"x\",\"y\":[96346],\"yaxis\":\"y\",\"type\":\"scatter\"},{\"hovertemplate\":\"city=Modesto<br>area_total_sq_mi=%{x}<br>population_total=%{marker.size}<extra></extra>\",\"legendgroup\":\"Modesto\",\"marker\":{\"color\":\"#FECB52\",\"size\":[201165],\"sizemode\":\"area\",\"sizeref\":9710.7675,\"symbol\":\"circle\"},\"mode\":\"markers\",\"name\":\"Modesto\",\"orientation\":\"v\",\"showlegend\":true,\"x\":[37.092],\"xaxis\":\"x\",\"y\":[201165],\"yaxis\":\"y\",\"type\":\"scatter\"},{\"hovertemplate\":\"city=Monrovia<br>area_total_sq_mi=%{x}<br>population_total=%{marker.size}<extra></extra>\",\"legendgroup\":\"Monrovia\",\"marker\":{\"color\":\"#636efa\",\"size\":[36590],\"sizemode\":\"area\",\"sizeref\":9710.7675,\"symbol\":\"circle\"},\"mode\":\"markers\",\"name\":\"Monrovia\",\"orientation\":\"v\",\"showlegend\":true,\"x\":[13.714],\"xaxis\":\"x\",\"y\":[36590],\"yaxis\":\"y\",\"type\":\"scatter\"},{\"hovertemplate\":\"city=Montague<br>area_total_sq_mi=%{x}<br>population_total=%{marker.size}<extra></extra>\",\"legendgroup\":\"Montague\",\"marker\":{\"color\":\"#EF553B\",\"size\":[1443],\"sizemode\":\"area\",\"sizeref\":9710.7675,\"symbol\":\"circle\"},\"mode\":\"markers\",\"name\":\"Montague\",\"orientation\":\"v\",\"showlegend\":true,\"x\":[1.793],\"xaxis\":\"x\",\"y\":[1443],\"yaxis\":\"y\",\"type\":\"scatter\"},{\"hovertemplate\":\"city=Montclair<br>area_total_sq_mi=%{x}<br>population_total=%{marker.size}<extra></extra>\",\"legendgroup\":\"Montclair\",\"marker\":{\"color\":\"#00cc96\",\"size\":[36664],\"sizemode\":\"area\",\"sizeref\":9710.7675,\"symbol\":\"circle\"},\"mode\":\"markers\",\"name\":\"Montclair\",\"orientation\":\"v\",\"showlegend\":true,\"x\":[5.517],\"xaxis\":\"x\",\"y\":[36664],\"yaxis\":\"y\",\"type\":\"scatter\"},{\"hovertemplate\":\"city=Montebello<br>area_total_sq_mi=%{x}<br>population_total=%{marker.size}<extra></extra>\",\"legendgroup\":\"Montebello\",\"marker\":{\"color\":\"#ab63fa\",\"size\":[62500],\"sizemode\":\"area\",\"sizeref\":9710.7675,\"symbol\":\"circle\"},\"mode\":\"markers\",\"name\":\"Montebello\",\"orientation\":\"v\",\"showlegend\":true,\"x\":[8.373],\"xaxis\":\"x\",\"y\":[62500],\"yaxis\":\"y\",\"type\":\"scatter\"},{\"hovertemplate\":\"city=Monterey<br>area_total_sq_mi=%{x}<br>population_total=%{marker.size}<extra></extra>\",\"legendgroup\":\"Monterey\",\"marker\":{\"color\":\"#FFA15A\",\"size\":[27810],\"sizemode\":\"area\",\"sizeref\":9710.7675,\"symbol\":\"circle\"},\"mode\":\"markers\",\"name\":\"Monterey\",\"orientation\":\"v\",\"showlegend\":true,\"x\":[11.764000000000001],\"xaxis\":\"x\",\"y\":[27810],\"yaxis\":\"y\",\"type\":\"scatter\"},{\"hovertemplate\":\"city=MontereyPark<br>area_total_sq_mi=%{x}<br>population_total=%{marker.size}<extra></extra>\",\"legendgroup\":\"MontereyPark\",\"marker\":{\"color\":\"#19d3f3\",\"size\":[60269],\"sizemode\":\"area\",\"sizeref\":9710.7675,\"symbol\":\"circle\"},\"mode\":\"markers\",\"name\":\"MontereyPark\",\"orientation\":\"v\",\"showlegend\":true,\"x\":[7.7330000000000005],\"xaxis\":\"x\",\"y\":[60269],\"yaxis\":\"y\",\"type\":\"scatter\"},{\"hovertemplate\":\"city=MonteSereno<br>area_total_sq_mi=%{x}<br>population_total=%{marker.size}<extra></extra>\",\"legendgroup\":\"MonteSereno\",\"marker\":{\"color\":\"#FF6692\",\"size\":[3341],\"sizemode\":\"area\",\"sizeref\":9710.7675,\"symbol\":\"circle\"},\"mode\":\"markers\",\"name\":\"MonteSereno\",\"orientation\":\"v\",\"showlegend\":true,\"x\":[1.615],\"xaxis\":\"x\",\"y\":[3341],\"yaxis\":\"y\",\"type\":\"scatter\"},{\"hovertemplate\":\"city=Moorpark<br>area_total_sq_mi=%{x}<br>population_total=%{marker.size}<extra></extra>\",\"legendgroup\":\"Moorpark\",\"marker\":{\"color\":\"#B6E880\",\"size\":[34421],\"sizemode\":\"area\",\"sizeref\":9710.7675,\"symbol\":\"circle\"},\"mode\":\"markers\",\"name\":\"Moorpark\",\"orientation\":\"v\",\"showlegend\":true,\"x\":[12.799000000000001],\"xaxis\":\"x\",\"y\":[34421],\"yaxis\":\"y\",\"type\":\"scatter\"},{\"hovertemplate\":\"city=Moraga<br>area_total_sq_mi=%{x}<br>population_total=%{marker.size}<extra></extra>\",\"legendgroup\":\"Moraga\",\"marker\":{\"color\":\"#FF97FF\",\"size\":[16016],\"sizemode\":\"area\",\"sizeref\":9710.7675,\"symbol\":\"circle\"},\"mode\":\"markers\",\"name\":\"Moraga\",\"orientation\":\"v\",\"showlegend\":true,\"x\":[9.442],\"xaxis\":\"x\",\"y\":[16016],\"yaxis\":\"y\",\"type\":\"scatter\"},{\"hovertemplate\":\"city=MorenoValley<br>area_total_sq_mi=%{x}<br>population_total=%{marker.size}<extra></extra>\",\"legendgroup\":\"MorenoValley\",\"marker\":{\"color\":\"#FECB52\",\"size\":[193365],\"sizemode\":\"area\",\"sizeref\":9710.7675,\"symbol\":\"circle\"},\"mode\":\"markers\",\"name\":\"MorenoValley\",\"orientation\":\"v\",\"showlegend\":true,\"x\":[51.475],\"xaxis\":\"x\",\"y\":[193365],\"yaxis\":\"y\",\"type\":\"scatter\"},{\"hovertemplate\":\"city=MorganHill<br>area_total_sq_mi=%{x}<br>population_total=%{marker.size}<extra></extra>\",\"legendgroup\":\"MorganHill\",\"marker\":{\"color\":\"#636efa\",\"size\":[37882],\"sizemode\":\"area\",\"sizeref\":9710.7675,\"symbol\":\"circle\"},\"mode\":\"markers\",\"name\":\"MorganHill\",\"orientation\":\"v\",\"showlegend\":true,\"x\":[12.882],\"xaxis\":\"x\",\"y\":[37882],\"yaxis\":\"y\",\"type\":\"scatter\"},{\"hovertemplate\":\"city=MorroBay<br>area_total_sq_mi=%{x}<br>population_total=%{marker.size}<extra></extra>\",\"legendgroup\":\"MorroBay\",\"marker\":{\"color\":\"#EF553B\",\"size\":[10234],\"sizemode\":\"area\",\"sizeref\":9710.7675,\"symbol\":\"circle\"},\"mode\":\"markers\",\"name\":\"MorroBay\",\"orientation\":\"v\",\"showlegend\":true,\"x\":[10.322],\"xaxis\":\"x\",\"y\":[10234],\"yaxis\":\"y\",\"type\":\"scatter\"},{\"hovertemplate\":\"city=MountainView<br>area_total_sq_mi=%{x}<br>population_total=%{marker.size}<extra></extra>\",\"legendgroup\":\"MountainView\",\"marker\":{\"color\":\"#00cc96\",\"size\":[74066],\"sizemode\":\"area\",\"sizeref\":9710.7675,\"symbol\":\"circle\"},\"mode\":\"markers\",\"name\":\"MountainView\",\"orientation\":\"v\",\"showlegend\":true,\"x\":[12.273],\"xaxis\":\"x\",\"y\":[74066],\"yaxis\":\"y\",\"type\":\"scatter\"},{\"hovertemplate\":\"city=MountShasta<br>area_total_sq_mi=%{x}<br>population_total=%{marker.size}<extra></extra>\",\"legendgroup\":\"MountShasta\",\"marker\":{\"color\":\"#ab63fa\",\"size\":[3394],\"sizemode\":\"area\",\"sizeref\":9710.7675,\"symbol\":\"circle\"},\"mode\":\"markers\",\"name\":\"MountShasta\",\"orientation\":\"v\",\"showlegend\":true,\"x\":[3.77],\"xaxis\":\"x\",\"y\":[3394],\"yaxis\":\"y\",\"type\":\"scatter\"},{\"hovertemplate\":\"city=Murrieta<br>area_total_sq_mi=%{x}<br>population_total=%{marker.size}<extra></extra>\",\"legendgroup\":\"Murrieta\",\"marker\":{\"color\":\"#FFA15A\",\"size\":[103466],\"sizemode\":\"area\",\"sizeref\":9710.7675,\"symbol\":\"circle\"},\"mode\":\"markers\",\"name\":\"Murrieta\",\"orientation\":\"v\",\"showlegend\":true,\"x\":[33.613],\"xaxis\":\"x\",\"y\":[103466],\"yaxis\":\"y\",\"type\":\"scatter\"},{\"hovertemplate\":\"city=Napa<br>area_total_sq_mi=%{x}<br>population_total=%{marker.size}<extra></extra>\",\"legendgroup\":\"Napa\",\"marker\":{\"color\":\"#19d3f3\",\"size\":[76915],\"sizemode\":\"area\",\"sizeref\":9710.7675,\"symbol\":\"circle\"},\"mode\":\"markers\",\"name\":\"Napa\",\"orientation\":\"v\",\"showlegend\":true,\"x\":[18.147000000000002],\"xaxis\":\"x\",\"y\":[76915],\"yaxis\":\"y\",\"type\":\"scatter\"},{\"hovertemplate\":\"city=NationalCity<br>area_total_sq_mi=%{x}<br>population_total=%{marker.size}<extra></extra>\",\"legendgroup\":\"NationalCity\",\"marker\":{\"color\":\"#FF6692\",\"size\":[58582],\"sizemode\":\"area\",\"sizeref\":9710.7675,\"symbol\":\"circle\"},\"mode\":\"markers\",\"name\":\"NationalCity\",\"orientation\":\"v\",\"showlegend\":true,\"x\":[9.116],\"xaxis\":\"x\",\"y\":[58582],\"yaxis\":\"y\",\"type\":\"scatter\"},{\"hovertemplate\":\"city=Needles<br>area_total_sq_mi=%{x}<br>population_total=%{marker.size}<extra></extra>\",\"legendgroup\":\"Needles\",\"marker\":{\"color\":\"#B6E880\",\"size\":[4844],\"sizemode\":\"area\",\"sizeref\":9710.7675,\"symbol\":\"circle\"},\"mode\":\"markers\",\"name\":\"Needles\",\"orientation\":\"v\",\"showlegend\":true,\"x\":[31.275000000000002],\"xaxis\":\"x\",\"y\":[4844],\"yaxis\":\"y\",\"type\":\"scatter\"},{\"hovertemplate\":\"city=NevadaCity<br>area_total_sq_mi=%{x}<br>population_total=%{marker.size}<extra></extra>\",\"legendgroup\":\"NevadaCity\",\"marker\":{\"color\":\"#FF97FF\",\"size\":[3068],\"sizemode\":\"area\",\"sizeref\":9710.7675,\"symbol\":\"circle\"},\"mode\":\"markers\",\"name\":\"NevadaCity\",\"orientation\":\"v\",\"showlegend\":true,\"x\":[2.192],\"xaxis\":\"x\",\"y\":[3068],\"yaxis\":\"y\",\"type\":\"scatter\"},{\"hovertemplate\":\"city=Newark<br>area_total_sq_mi=%{x}<br>population_total=%{marker.size}<extra></extra>\",\"legendgroup\":\"Newark\",\"marker\":{\"color\":\"#FECB52\",\"size\":[43539],\"sizemode\":\"area\",\"sizeref\":9710.7675,\"symbol\":\"circle\"},\"mode\":\"markers\",\"name\":\"Newark\",\"orientation\":\"v\",\"showlegend\":true,\"x\":[13.898],\"xaxis\":\"x\",\"y\":[43539],\"yaxis\":\"y\",\"type\":\"scatter\"},{\"hovertemplate\":\"city=Newman<br>area_total_sq_mi=%{x}<br>population_total=%{marker.size}<extra></extra>\",\"legendgroup\":\"Newman\",\"marker\":{\"color\":\"#636efa\",\"size\":[10224],\"sizemode\":\"area\",\"sizeref\":9710.7675,\"symbol\":\"circle\"},\"mode\":\"markers\",\"name\":\"Newman\",\"orientation\":\"v\",\"showlegend\":true,\"x\":[2.102],\"xaxis\":\"x\",\"y\":[10224],\"yaxis\":\"y\",\"type\":\"scatter\"},{\"hovertemplate\":\"city=NewportBeach<br>area_total_sq_mi=%{x}<br>population_total=%{marker.size}<extra></extra>\",\"legendgroup\":\"NewportBeach\",\"marker\":{\"color\":\"#EF553B\",\"size\":[85186],\"sizemode\":\"area\",\"sizeref\":9710.7675,\"symbol\":\"circle\"},\"mode\":\"markers\",\"name\":\"NewportBeach\",\"orientation\":\"v\",\"showlegend\":true,\"x\":[52.977999999999994],\"xaxis\":\"x\",\"y\":[85186],\"yaxis\":\"y\",\"type\":\"scatter\"},{\"hovertemplate\":\"city=Norco<br>area_total_sq_mi=%{x}<br>population_total=%{marker.size}<extra></extra>\",\"legendgroup\":\"Norco\",\"marker\":{\"color\":\"#00cc96\",\"size\":[27063],\"sizemode\":\"area\",\"sizeref\":9710.7675,\"symbol\":\"circle\"},\"mode\":\"markers\",\"name\":\"Norco\",\"orientation\":\"v\",\"showlegend\":true,\"x\":[14.278],\"xaxis\":\"x\",\"y\":[27063],\"yaxis\":\"y\",\"type\":\"scatter\"},{\"hovertemplate\":\"city=Norwalk<br>area_total_sq_mi=%{x}<br>population_total=%{marker.size}<extra></extra>\",\"legendgroup\":\"Norwalk\",\"marker\":{\"color\":\"#ab63fa\",\"size\":[105549],\"sizemode\":\"area\",\"sizeref\":9710.7675,\"symbol\":\"circle\"},\"mode\":\"markers\",\"name\":\"Norwalk\",\"orientation\":\"v\",\"showlegend\":true,\"x\":[9.746],\"xaxis\":\"x\",\"y\":[105549],\"yaxis\":\"y\",\"type\":\"scatter\"},{\"hovertemplate\":\"city=Novato<br>area_total_sq_mi=%{x}<br>population_total=%{marker.size}<extra></extra>\",\"legendgroup\":\"Novato\",\"marker\":{\"color\":\"#FFA15A\",\"size\":[51904],\"sizemode\":\"area\",\"sizeref\":9710.7675,\"symbol\":\"circle\"},\"mode\":\"markers\",\"name\":\"Novato\",\"orientation\":\"v\",\"showlegend\":true,\"x\":[27.957],\"xaxis\":\"x\",\"y\":[51904],\"yaxis\":\"y\",\"type\":\"scatter\"},{\"hovertemplate\":\"city=Oakdale<br>area_total_sq_mi=%{x}<br>population_total=%{marker.size}<extra></extra>\",\"legendgroup\":\"Oakdale\",\"marker\":{\"color\":\"#19d3f3\",\"size\":[20675],\"sizemode\":\"area\",\"sizeref\":9710.7675,\"symbol\":\"circle\"},\"mode\":\"markers\",\"name\":\"Oakdale\",\"orientation\":\"v\",\"showlegend\":true,\"x\":[6.095],\"xaxis\":\"x\",\"y\":[20675],\"yaxis\":\"y\",\"type\":\"scatter\"},{\"hovertemplate\":\"city=Oakland<br>area_total_sq_mi=%{x}<br>population_total=%{marker.size}<extra></extra>\",\"legendgroup\":\"Oakland\",\"marker\":{\"color\":\"#FF6692\",\"size\":[406253],\"sizemode\":\"area\",\"sizeref\":9710.7675,\"symbol\":\"circle\"},\"mode\":\"markers\",\"name\":\"Oakland\",\"orientation\":\"v\",\"showlegend\":true,\"x\":[78.00200000000001],\"xaxis\":\"x\",\"y\":[406253],\"yaxis\":\"y\",\"type\":\"scatter\"},{\"hovertemplate\":\"city=Oakley<br>area_total_sq_mi=%{x}<br>population_total=%{marker.size}<extra></extra>\",\"legendgroup\":\"Oakley\",\"marker\":{\"color\":\"#B6E880\",\"size\":[35432],\"sizemode\":\"area\",\"sizeref\":9710.7675,\"symbol\":\"circle\"},\"mode\":\"markers\",\"name\":\"Oakley\",\"orientation\":\"v\",\"showlegend\":true,\"x\":[16.155],\"xaxis\":\"x\",\"y\":[35432],\"yaxis\":\"y\",\"type\":\"scatter\"},{\"hovertemplate\":\"city=Oceanside<br>area_total_sq_mi=%{x}<br>population_total=%{marker.size}<extra></extra>\",\"legendgroup\":\"Oceanside\",\"marker\":{\"color\":\"#FF97FF\",\"size\":[183095],\"sizemode\":\"area\",\"sizeref\":9710.7675,\"symbol\":\"circle\"},\"mode\":\"markers\",\"name\":\"Oceanside\",\"orientation\":\"v\",\"showlegend\":true,\"x\":[42.174],\"xaxis\":\"x\",\"y\":[183095],\"yaxis\":\"y\",\"type\":\"scatter\"},{\"hovertemplate\":\"city=Ojai<br>area_total_sq_mi=%{x}<br>population_total=%{marker.size}<extra></extra>\",\"legendgroup\":\"Ojai\",\"marker\":{\"color\":\"#FECB52\",\"size\":[7461],\"sizemode\":\"area\",\"sizeref\":9710.7675,\"symbol\":\"circle\"},\"mode\":\"markers\",\"name\":\"Ojai\",\"orientation\":\"v\",\"showlegend\":true,\"x\":[4.401],\"xaxis\":\"x\",\"y\":[7461],\"yaxis\":\"y\",\"type\":\"scatter\"},{\"hovertemplate\":\"city=Ontario<br>area_total_sq_mi=%{x}<br>population_total=%{marker.size}<extra></extra>\",\"legendgroup\":\"Ontario\",\"marker\":{\"color\":\"#636efa\",\"size\":[163924],\"sizemode\":\"area\",\"sizeref\":9710.7675,\"symbol\":\"circle\"},\"mode\":\"markers\",\"name\":\"Ontario\",\"orientation\":\"v\",\"showlegend\":true,\"x\":[50.006],\"xaxis\":\"x\",\"y\":[163924],\"yaxis\":\"y\",\"type\":\"scatter\"},{\"hovertemplate\":\"city=Orange<br>area_total_sq_mi=%{x}<br>population_total=%{marker.size}<extra></extra>\",\"legendgroup\":\"Orange\",\"marker\":{\"color\":\"#EF553B\",\"size\":[136416],\"sizemode\":\"area\",\"sizeref\":9710.7675,\"symbol\":\"circle\"},\"mode\":\"markers\",\"name\":\"Orange\",\"orientation\":\"v\",\"showlegend\":true,\"x\":[25.240000000000002],\"xaxis\":\"x\",\"y\":[136416],\"yaxis\":\"y\",\"type\":\"scatter\"},{\"hovertemplate\":\"city=OrangeCove<br>area_total_sq_mi=%{x}<br>population_total=%{marker.size}<extra></extra>\",\"legendgroup\":\"OrangeCove\",\"marker\":{\"color\":\"#00cc96\",\"size\":[9078],\"sizemode\":\"area\",\"sizeref\":9710.7675,\"symbol\":\"circle\"},\"mode\":\"markers\",\"name\":\"OrangeCove\",\"orientation\":\"v\",\"showlegend\":true,\"x\":[1.912],\"xaxis\":\"x\",\"y\":[9078],\"yaxis\":\"y\",\"type\":\"scatter\"},{\"hovertemplate\":\"city=Orinda<br>area_total_sq_mi=%{x}<br>population_total=%{marker.size}<extra></extra>\",\"legendgroup\":\"Orinda\",\"marker\":{\"color\":\"#ab63fa\",\"size\":[18342],\"sizemode\":\"area\",\"sizeref\":9710.7675,\"symbol\":\"circle\"},\"mode\":\"markers\",\"name\":\"Orinda\",\"orientation\":\"v\",\"showlegend\":true,\"x\":[12.698],\"xaxis\":\"x\",\"y\":[18342],\"yaxis\":\"y\",\"type\":\"scatter\"},{\"hovertemplate\":\"city=Orland<br>area_total_sq_mi=%{x}<br>population_total=%{marker.size}<extra></extra>\",\"legendgroup\":\"Orland\",\"marker\":{\"color\":\"#FFA15A\",\"size\":[7291],\"sizemode\":\"area\",\"sizeref\":9710.7675,\"symbol\":\"circle\"},\"mode\":\"markers\",\"name\":\"Orland\",\"orientation\":\"v\",\"showlegend\":true,\"x\":[2.971],\"xaxis\":\"x\",\"y\":[7291],\"yaxis\":\"y\",\"type\":\"scatter\"},{\"hovertemplate\":\"city=Oroville<br>area_total_sq_mi=%{x}<br>population_total=%{marker.size}<extra></extra>\",\"legendgroup\":\"Oroville\",\"marker\":{\"color\":\"#19d3f3\",\"size\":[15506],\"sizemode\":\"area\",\"sizeref\":9710.7675,\"symbol\":\"circle\"},\"mode\":\"markers\",\"name\":\"Oroville\",\"orientation\":\"v\",\"showlegend\":true,\"x\":[13.011000000000001],\"xaxis\":\"x\",\"y\":[15506],\"yaxis\":\"y\",\"type\":\"scatter\"},{\"hovertemplate\":\"city=Oxnard<br>area_total_sq_mi=%{x}<br>population_total=%{marker.size}<extra></extra>\",\"legendgroup\":\"Oxnard\",\"marker\":{\"color\":\"#FF6692\",\"size\":[203585],\"sizemode\":\"area\",\"sizeref\":9710.7675,\"symbol\":\"circle\"},\"mode\":\"markers\",\"name\":\"Oxnard\",\"orientation\":\"v\",\"showlegend\":true,\"x\":[39.208],\"xaxis\":\"x\",\"y\":[203585],\"yaxis\":\"y\",\"type\":\"scatter\"},{\"hovertemplate\":\"city=Pacifica<br>area_total_sq_mi=%{x}<br>population_total=%{marker.size}<extra></extra>\",\"legendgroup\":\"Pacifica\",\"marker\":{\"color\":\"#B6E880\",\"size\":[37234],\"sizemode\":\"area\",\"sizeref\":9710.7675,\"symbol\":\"circle\"},\"mode\":\"markers\",\"name\":\"Pacifica\",\"orientation\":\"v\",\"showlegend\":true,\"x\":[12.66],\"xaxis\":\"x\",\"y\":[37234],\"yaxis\":\"y\",\"type\":\"scatter\"},{\"hovertemplate\":\"city=PacificGrove<br>area_total_sq_mi=%{x}<br>population_total=%{marker.size}<extra></extra>\",\"legendgroup\":\"PacificGrove\",\"marker\":{\"color\":\"#FF97FF\",\"size\":[15295],\"sizemode\":\"area\",\"sizeref\":9710.7675,\"symbol\":\"circle\"},\"mode\":\"markers\",\"name\":\"PacificGrove\",\"orientation\":\"v\",\"showlegend\":true,\"x\":[4.003],\"xaxis\":\"x\",\"y\":[15295],\"yaxis\":\"y\",\"type\":\"scatter\"},{\"hovertemplate\":\"city=Palmdale<br>area_total_sq_mi=%{x}<br>population_total=%{marker.size}<extra></extra>\",\"legendgroup\":\"Palmdale\",\"marker\":{\"color\":\"#FECB52\",\"size\":[152750],\"sizemode\":\"area\",\"sizeref\":9710.7675,\"symbol\":\"circle\"},\"mode\":\"markers\",\"name\":\"Palmdale\",\"orientation\":\"v\",\"showlegend\":true,\"x\":[106.216],\"xaxis\":\"x\",\"y\":[152750],\"yaxis\":\"y\",\"type\":\"scatter\"},{\"hovertemplate\":\"city=PalmDesert<br>area_total_sq_mi=%{x}<br>population_total=%{marker.size}<extra></extra>\",\"legendgroup\":\"PalmDesert\",\"marker\":{\"color\":\"#636efa\",\"size\":[48445],\"sizemode\":\"area\",\"sizeref\":9710.7675,\"symbol\":\"circle\"},\"mode\":\"markers\",\"name\":\"PalmDesert\",\"orientation\":\"v\",\"showlegend\":true,\"x\":[27.014],\"xaxis\":\"x\",\"y\":[48445],\"yaxis\":\"y\",\"type\":\"scatter\"},{\"hovertemplate\":\"city=PalmSprings<br>area_total_sq_mi=%{x}<br>population_total=%{marker.size}<extra></extra>\",\"legendgroup\":\"PalmSprings\",\"marker\":{\"color\":\"#EF553B\",\"size\":[44552],\"sizemode\":\"area\",\"sizeref\":9710.7675,\"symbol\":\"circle\"},\"mode\":\"markers\",\"name\":\"PalmSprings\",\"orientation\":\"v\",\"showlegend\":true,\"x\":[94.975],\"xaxis\":\"x\",\"y\":[44552],\"yaxis\":\"y\",\"type\":\"scatter\"},{\"hovertemplate\":\"city=PaloAlto<br>area_total_sq_mi=%{x}<br>population_total=%{marker.size}<extra></extra>\",\"legendgroup\":\"PaloAlto\",\"marker\":{\"color\":\"#00cc96\",\"size\":[64403],\"sizemode\":\"area\",\"sizeref\":9710.7675,\"symbol\":\"circle\"},\"mode\":\"markers\",\"name\":\"PaloAlto\",\"orientation\":\"v\",\"showlegend\":true,\"x\":[25.787],\"xaxis\":\"x\",\"y\":[64403],\"yaxis\":\"y\",\"type\":\"scatter\"},{\"hovertemplate\":\"city=PalosVerdesEstates<br>area_total_sq_mi=%{x}<br>population_total=%{marker.size}<extra></extra>\",\"legendgroup\":\"PalosVerdesEstates\",\"marker\":{\"color\":\"#ab63fa\",\"size\":[13438],\"sizemode\":\"area\",\"sizeref\":9710.7675,\"symbol\":\"circle\"},\"mode\":\"markers\",\"name\":\"PalosVerdesEstates\",\"orientation\":\"v\",\"showlegend\":true,\"x\":[4.774],\"xaxis\":\"x\",\"y\":[13438],\"yaxis\":\"y\",\"type\":\"scatter\"},{\"hovertemplate\":\"city=Paradise<br>area_total_sq_mi=%{x}<br>population_total=%{marker.size}<extra></extra>\",\"legendgroup\":\"Paradise\",\"marker\":{\"color\":\"#FFA15A\",\"size\":[26249],\"sizemode\":\"area\",\"sizeref\":9710.7675,\"symbol\":\"circle\"},\"mode\":\"markers\",\"name\":\"Paradise\",\"orientation\":\"v\",\"showlegend\":true,\"x\":[18.322],\"xaxis\":\"x\",\"y\":[26249],\"yaxis\":\"y\",\"type\":\"scatter\"},{\"hovertemplate\":\"city=Paramount<br>area_total_sq_mi=%{x}<br>population_total=%{marker.size}<extra></extra>\",\"legendgroup\":\"Paramount\",\"marker\":{\"color\":\"#19d3f3\",\"size\":[54098],\"sizemode\":\"area\",\"sizeref\":9710.7675,\"symbol\":\"circle\"},\"mode\":\"markers\",\"name\":\"Paramount\",\"orientation\":\"v\",\"showlegend\":true,\"x\":[4.84],\"xaxis\":\"x\",\"y\":[54098],\"yaxis\":\"y\",\"type\":\"scatter\"},{\"hovertemplate\":\"city=Parlier<br>area_total_sq_mi=%{x}<br>population_total=%{marker.size}<extra></extra>\",\"legendgroup\":\"Parlier\",\"marker\":{\"color\":\"#FF6692\",\"size\":[14494],\"sizemode\":\"area\",\"sizeref\":9710.7675,\"symbol\":\"circle\"},\"mode\":\"markers\",\"name\":\"Parlier\",\"orientation\":\"v\",\"showlegend\":true,\"x\":[2.194],\"xaxis\":\"x\",\"y\":[14494],\"yaxis\":\"y\",\"type\":\"scatter\"},{\"hovertemplate\":\"city=Pasadena<br>area_total_sq_mi=%{x}<br>population_total=%{marker.size}<extra></extra>\",\"legendgroup\":\"Pasadena\",\"marker\":{\"color\":\"#B6E880\",\"size\":[137122],\"sizemode\":\"area\",\"sizeref\":9710.7675,\"symbol\":\"circle\"},\"mode\":\"markers\",\"name\":\"Pasadena\",\"orientation\":\"v\",\"showlegend\":true,\"x\":[23.128],\"xaxis\":\"x\",\"y\":[137122],\"yaxis\":\"y\",\"type\":\"scatter\"},{\"hovertemplate\":\"city=PasoRobles<br>area_total_sq_mi=%{x}<br>population_total=%{marker.size}<extra></extra>\",\"legendgroup\":\"PasoRobles\",\"marker\":{\"color\":\"#FF97FF\",\"size\":[29792],\"sizemode\":\"area\",\"sizeref\":9710.7675,\"symbol\":\"circle\"},\"mode\":\"markers\",\"name\":\"PasoRobles\",\"orientation\":\"v\",\"showlegend\":true,\"x\":[19.425],\"xaxis\":\"x\",\"y\":[29792],\"yaxis\":\"y\",\"type\":\"scatter\"},{\"hovertemplate\":\"city=Patterson<br>area_total_sq_mi=%{x}<br>population_total=%{marker.size}<extra></extra>\",\"legendgroup\":\"Patterson\",\"marker\":{\"color\":\"#FECB52\",\"size\":[20413],\"sizemode\":\"area\",\"sizeref\":9710.7675,\"symbol\":\"circle\"},\"mode\":\"markers\",\"name\":\"Patterson\",\"orientation\":\"v\",\"showlegend\":true,\"x\":[5.954],\"xaxis\":\"x\",\"y\":[20413],\"yaxis\":\"y\",\"type\":\"scatter\"},{\"hovertemplate\":\"city=Perris<br>area_total_sq_mi=%{x}<br>population_total=%{marker.size}<extra></extra>\",\"legendgroup\":\"Perris\",\"marker\":{\"color\":\"#636efa\",\"size\":[71326],\"sizemode\":\"area\",\"sizeref\":9710.7675,\"symbol\":\"circle\"},\"mode\":\"markers\",\"name\":\"Perris\",\"orientation\":\"v\",\"showlegend\":true,\"x\":[31.503],\"xaxis\":\"x\",\"y\":[71326],\"yaxis\":\"y\",\"type\":\"scatter\"},{\"hovertemplate\":\"city=Petaluma<br>area_total_sq_mi=%{x}<br>population_total=%{marker.size}<extra></extra>\",\"legendgroup\":\"Petaluma\",\"marker\":{\"color\":\"#EF553B\",\"size\":[58921],\"sizemode\":\"area\",\"sizeref\":9710.7675,\"symbol\":\"circle\"},\"mode\":\"markers\",\"name\":\"Petaluma\",\"orientation\":\"v\",\"showlegend\":true,\"x\":[14.488999999999999],\"xaxis\":\"x\",\"y\":[58921],\"yaxis\":\"y\",\"type\":\"scatter\"},{\"hovertemplate\":\"city=PicoRivera<br>area_total_sq_mi=%{x}<br>population_total=%{marker.size}<extra></extra>\",\"legendgroup\":\"PicoRivera\",\"marker\":{\"color\":\"#00cc96\",\"size\":[62942],\"sizemode\":\"area\",\"sizeref\":9710.7675,\"symbol\":\"circle\"},\"mode\":\"markers\",\"name\":\"PicoRivera\",\"orientation\":\"v\",\"showlegend\":true,\"x\":[8.882],\"xaxis\":\"x\",\"y\":[62942],\"yaxis\":\"y\",\"type\":\"scatter\"},{\"hovertemplate\":\"city=Piedmont<br>area_total_sq_mi=%{x}<br>population_total=%{marker.size}<extra></extra>\",\"legendgroup\":\"Piedmont\",\"marker\":{\"color\":\"#ab63fa\",\"size\":[10667],\"sizemode\":\"area\",\"sizeref\":9710.7675,\"symbol\":\"circle\"},\"mode\":\"markers\",\"name\":\"Piedmont\",\"orientation\":\"v\",\"showlegend\":true,\"x\":[1.6780000000000002],\"xaxis\":\"x\",\"y\":[10667],\"yaxis\":\"y\",\"type\":\"scatter\"},{\"hovertemplate\":\"city=Pinole<br>area_total_sq_mi=%{x}<br>population_total=%{marker.size}<extra></extra>\",\"legendgroup\":\"Pinole\",\"marker\":{\"color\":\"#FFA15A\",\"size\":[18390],\"sizemode\":\"area\",\"sizeref\":9710.7675,\"symbol\":\"circle\"},\"mode\":\"markers\",\"name\":\"Pinole\",\"orientation\":\"v\",\"showlegend\":true,\"x\":[13.575000000000001],\"xaxis\":\"x\",\"y\":[18390],\"yaxis\":\"y\",\"type\":\"scatter\"},{\"hovertemplate\":\"city=PismoBeach<br>area_total_sq_mi=%{x}<br>population_total=%{marker.size}<extra></extra>\",\"legendgroup\":\"PismoBeach\",\"marker\":{\"color\":\"#19d3f3\",\"size\":[7655],\"sizemode\":\"area\",\"sizeref\":9710.7675,\"symbol\":\"circle\"},\"mode\":\"markers\",\"name\":\"PismoBeach\",\"orientation\":\"v\",\"showlegend\":true,\"x\":[13.476],\"xaxis\":\"x\",\"y\":[7655],\"yaxis\":\"y\",\"type\":\"scatter\"},{\"hovertemplate\":\"city=Pittsburg<br>area_total_sq_mi=%{x}<br>population_total=%{marker.size}<extra></extra>\",\"legendgroup\":\"Pittsburg\",\"marker\":{\"color\":\"#FF6692\",\"size\":[63264],\"sizemode\":\"area\",\"sizeref\":9710.7675,\"symbol\":\"circle\"},\"mode\":\"markers\",\"name\":\"Pittsburg\",\"orientation\":\"v\",\"showlegend\":true,\"x\":[19.154],\"xaxis\":\"x\",\"y\":[63264],\"yaxis\":\"y\",\"type\":\"scatter\"},{\"hovertemplate\":\"city=Placentia<br>area_total_sq_mi=%{x}<br>population_total=%{marker.size}<extra></extra>\",\"legendgroup\":\"Placentia\",\"marker\":{\"color\":\"#B6E880\",\"size\":[50533],\"sizemode\":\"area\",\"sizeref\":9710.7675,\"symbol\":\"circle\"},\"mode\":\"markers\",\"name\":\"Placentia\",\"orientation\":\"v\",\"showlegend\":true,\"x\":[6.582],\"xaxis\":\"x\",\"y\":[50533],\"yaxis\":\"y\",\"type\":\"scatter\"},{\"hovertemplate\":\"city=Placerville<br>area_total_sq_mi=%{x}<br>population_total=%{marker.size}<extra></extra>\",\"legendgroup\":\"Placerville\",\"marker\":{\"color\":\"#FF97FF\",\"size\":[10389],\"sizemode\":\"area\",\"sizeref\":9710.7675,\"symbol\":\"circle\"},\"mode\":\"markers\",\"name\":\"Placerville\",\"orientation\":\"v\",\"showlegend\":true,\"x\":[5.813000000000001],\"xaxis\":\"x\",\"y\":[10389],\"yaxis\":\"y\",\"type\":\"scatter\"},{\"hovertemplate\":\"city=PleasantHill<br>area_total_sq_mi=%{x}<br>population_total=%{marker.size}<extra></extra>\",\"legendgroup\":\"PleasantHill\",\"marker\":{\"color\":\"#FECB52\",\"size\":[33152],\"sizemode\":\"area\",\"sizeref\":9710.7675,\"symbol\":\"circle\"},\"mode\":\"markers\",\"name\":\"PleasantHill\",\"orientation\":\"v\",\"showlegend\":true,\"x\":[7.072],\"xaxis\":\"x\",\"y\":[33152],\"yaxis\":\"y\",\"type\":\"scatter\"},{\"hovertemplate\":\"city=Pleasanton<br>area_total_sq_mi=%{x}<br>population_total=%{marker.size}<extra></extra>\",\"legendgroup\":\"Pleasanton\",\"marker\":{\"color\":\"#636efa\",\"size\":[70285],\"sizemode\":\"area\",\"sizeref\":9710.7675,\"symbol\":\"circle\"},\"mode\":\"markers\",\"name\":\"Pleasanton\",\"orientation\":\"v\",\"showlegend\":true,\"x\":[24.266000000000002],\"xaxis\":\"x\",\"y\":[70285],\"yaxis\":\"y\",\"type\":\"scatter\"},{\"hovertemplate\":\"city=Plymouth<br>area_total_sq_mi=%{x}<br>population_total=%{marker.size}<extra></extra>\",\"legendgroup\":\"Plymouth\",\"marker\":{\"color\":\"#EF553B\",\"size\":[1005],\"sizemode\":\"area\",\"sizeref\":9710.7675,\"symbol\":\"circle\"},\"mode\":\"markers\",\"name\":\"Plymouth\",\"orientation\":\"v\",\"showlegend\":true,\"x\":[0.9440000000000001],\"xaxis\":\"x\",\"y\":[1005],\"yaxis\":\"y\",\"type\":\"scatter\"},{\"hovertemplate\":\"city=PointArena<br>area_total_sq_mi=%{x}<br>population_total=%{marker.size}<extra></extra>\",\"legendgroup\":\"PointArena\",\"marker\":{\"color\":\"#00cc96\",\"size\":[449],\"sizemode\":\"area\",\"sizeref\":9710.7675,\"symbol\":\"circle\"},\"mode\":\"markers\",\"name\":\"PointArena\",\"orientation\":\"v\",\"showlegend\":true,\"x\":[1.35],\"xaxis\":\"x\",\"y\":[449],\"yaxis\":\"y\",\"type\":\"scatter\"},{\"hovertemplate\":\"city=Pomona<br>area_total_sq_mi=%{x}<br>population_total=%{marker.size}<extra></extra>\",\"legendgroup\":\"Pomona\",\"marker\":{\"color\":\"#ab63fa\",\"size\":[1],\"sizemode\":\"area\",\"sizeref\":9710.7675,\"symbol\":\"circle\"},\"mode\":\"markers\",\"name\":\"Pomona\",\"orientation\":\"v\",\"showlegend\":true,\"x\":[22.964000000000002],\"xaxis\":\"x\",\"y\":[1],\"yaxis\":\"y\",\"type\":\"scatter\"},{\"hovertemplate\":\"city=Porterville<br>area_total_sq_mi=%{x}<br>population_total=%{marker.size}<extra></extra>\",\"legendgroup\":\"Porterville\",\"marker\":{\"color\":\"#FFA15A\",\"size\":[55697],\"sizemode\":\"area\",\"sizeref\":9710.7675,\"symbol\":\"circle\"},\"mode\":\"markers\",\"name\":\"Porterville\",\"orientation\":\"v\",\"showlegend\":true,\"x\":[17.679],\"xaxis\":\"x\",\"y\":[55697],\"yaxis\":\"y\",\"type\":\"scatter\"},{\"hovertemplate\":\"city=PortHueneme<br>area_total_sq_mi=%{x}<br>population_total=%{marker.size}<extra></extra>\",\"legendgroup\":\"PortHueneme\",\"marker\":{\"color\":\"#19d3f3\",\"size\":[21723],\"sizemode\":\"area\",\"sizeref\":9710.7675,\"symbol\":\"circle\"},\"mode\":\"markers\",\"name\":\"PortHueneme\",\"orientation\":\"v\",\"showlegend\":true,\"x\":[4.671],\"xaxis\":\"x\",\"y\":[21723],\"yaxis\":\"y\",\"type\":\"scatter\"},{\"hovertemplate\":\"city=Portola<br>area_total_sq_mi=%{x}<br>population_total=%{marker.size}<extra></extra>\",\"legendgroup\":\"Portola\",\"marker\":{\"color\":\"#FF6692\",\"size\":[2104],\"sizemode\":\"area\",\"sizeref\":9710.7675,\"symbol\":\"circle\"},\"mode\":\"markers\",\"name\":\"Portola\",\"orientation\":\"v\",\"showlegend\":true,\"x\":[5.407],\"xaxis\":\"x\",\"y\":[2104],\"yaxis\":\"y\",\"type\":\"scatter\"},{\"hovertemplate\":\"city=PortolaValley<br>area_total_sq_mi=%{x}<br>population_total=%{marker.size}<extra></extra>\",\"legendgroup\":\"PortolaValley\",\"marker\":{\"color\":\"#B6E880\",\"size\":[4353],\"sizemode\":\"area\",\"sizeref\":9710.7675,\"symbol\":\"circle\"},\"mode\":\"markers\",\"name\":\"PortolaValley\",\"orientation\":\"v\",\"showlegend\":true,\"x\":[9.093],\"xaxis\":\"x\",\"y\":[4353],\"yaxis\":\"y\",\"type\":\"scatter\"},{\"hovertemplate\":\"city=Poway<br>area_total_sq_mi=%{x}<br>population_total=%{marker.size}<extra></extra>\",\"legendgroup\":\"Poway\",\"marker\":{\"color\":\"#FF97FF\",\"size\":[47811],\"sizemode\":\"area\",\"sizeref\":9710.7675,\"symbol\":\"circle\"},\"mode\":\"markers\",\"name\":\"Poway\",\"orientation\":\"v\",\"showlegend\":true,\"x\":[39.165],\"xaxis\":\"x\",\"y\":[47811],\"yaxis\":\"y\",\"type\":\"scatter\"},{\"hovertemplate\":\"city=RanchoCordova<br>area_total_sq_mi=%{x}<br>population_total=%{marker.size}<extra></extra>\",\"legendgroup\":\"RanchoCordova\",\"marker\":{\"color\":\"#FECB52\",\"size\":[64776],\"sizemode\":\"area\",\"sizeref\":9710.7675,\"symbol\":\"circle\"},\"mode\":\"markers\",\"name\":\"RanchoCordova\",\"orientation\":\"v\",\"showlegend\":true,\"x\":[33.873999999999995],\"xaxis\":\"x\",\"y\":[64776],\"yaxis\":\"y\",\"type\":\"scatter\"},{\"hovertemplate\":\"city=RanchoCucamonga<br>area_total_sq_mi=%{x}<br>population_total=%{marker.size}<extra></extra>\",\"legendgroup\":\"RanchoCucamonga\",\"marker\":{\"color\":\"#636efa\",\"size\":[170746],\"sizemode\":\"area\",\"sizeref\":9710.7675,\"symbol\":\"circle\"},\"mode\":\"markers\",\"name\":\"RanchoCucamonga\",\"orientation\":\"v\",\"showlegend\":true,\"x\":[39.871],\"xaxis\":\"x\",\"y\":[170746],\"yaxis\":\"y\",\"type\":\"scatter\"},{\"hovertemplate\":\"city=RanchoMirage<br>area_total_sq_mi=%{x}<br>population_total=%{marker.size}<extra></extra>\",\"legendgroup\":\"RanchoMirage\",\"marker\":{\"color\":\"#EF553B\",\"size\":[17218],\"sizemode\":\"area\",\"sizeref\":9710.7675,\"symbol\":\"circle\"},\"mode\":\"markers\",\"name\":\"RanchoMirage\",\"orientation\":\"v\",\"showlegend\":true,\"x\":[24.836],\"xaxis\":\"x\",\"y\":[17218],\"yaxis\":\"y\",\"type\":\"scatter\"},{\"hovertemplate\":\"city=RanchoPalosVerdes<br>area_total_sq_mi=%{x}<br>population_total=%{marker.size}<extra></extra>\",\"legendgroup\":\"RanchoPalosVerdes\",\"marker\":{\"color\":\"#00cc96\",\"size\":[41643],\"sizemode\":\"area\",\"sizeref\":9710.7675,\"symbol\":\"circle\"},\"mode\":\"markers\",\"name\":\"RanchoPalosVerdes\",\"orientation\":\"v\",\"showlegend\":true,\"x\":[13.465],\"xaxis\":\"x\",\"y\":[41643],\"yaxis\":\"y\",\"type\":\"scatter\"},{\"hovertemplate\":\"city=RanchoSantaMargarita<br>area_total_sq_mi=%{x}<br>population_total=%{marker.size}<extra></extra>\",\"legendgroup\":\"RanchoSantaMargarita\",\"marker\":{\"color\":\"#ab63fa\",\"size\":[47853],\"sizemode\":\"area\",\"sizeref\":9710.7675,\"symbol\":\"circle\"},\"mode\":\"markers\",\"name\":\"RanchoSantaMargarita\",\"orientation\":\"v\",\"showlegend\":true,\"x\":[12.992],\"xaxis\":\"x\",\"y\":[47853],\"yaxis\":\"y\",\"type\":\"scatter\"},{\"hovertemplate\":\"city=RedBluff<br>area_total_sq_mi=%{x}<br>population_total=%{marker.size}<extra></extra>\",\"legendgroup\":\"RedBluff\",\"marker\":{\"color\":\"#FFA15A\",\"size\":[24674],\"sizemode\":\"area\",\"sizeref\":9710.7675,\"symbol\":\"circle\"},\"mode\":\"markers\",\"name\":\"RedBluff\",\"orientation\":\"v\",\"showlegend\":true,\"x\":[7.677],\"xaxis\":\"x\",\"y\":[24674],\"yaxis\":\"y\",\"type\":\"scatter\"},{\"hovertemplate\":\"city=Redding<br>area_total_sq_mi=%{x}<br>population_total=%{marker.size}<extra></extra>\",\"legendgroup\":\"Redding\",\"marker\":{\"color\":\"#19d3f3\",\"size\":[92328],\"sizemode\":\"area\",\"sizeref\":9710.7675,\"symbol\":\"circle\"},\"mode\":\"markers\",\"name\":\"Redding\",\"orientation\":\"v\",\"showlegend\":true,\"x\":[61.175],\"xaxis\":\"x\",\"y\":[92328],\"yaxis\":\"y\",\"type\":\"scatter\"},{\"hovertemplate\":\"city=Redlands<br>area_total_sq_mi=%{x}<br>population_total=%{marker.size}<extra></extra>\",\"legendgroup\":\"Redlands\",\"marker\":{\"color\":\"#FF6692\",\"size\":[68747],\"sizemode\":\"area\",\"sizeref\":9710.7675,\"symbol\":\"circle\"},\"mode\":\"markers\",\"name\":\"Redlands\",\"orientation\":\"v\",\"showlegend\":true,\"x\":[36.427],\"xaxis\":\"x\",\"y\":[68747],\"yaxis\":\"y\",\"type\":\"scatter\"},{\"hovertemplate\":\"city=RedondoBeach<br>area_total_sq_mi=%{x}<br>population_total=%{marker.size}<extra></extra>\",\"legendgroup\":\"RedondoBeach\",\"marker\":{\"color\":\"#B6E880\",\"size\":[66748],\"sizemode\":\"area\",\"sizeref\":9710.7675,\"symbol\":\"circle\"},\"mode\":\"markers\",\"name\":\"RedondoBeach\",\"orientation\":\"v\",\"showlegend\":true,\"x\":[6.208],\"xaxis\":\"x\",\"y\":[66748],\"yaxis\":\"y\",\"type\":\"scatter\"},{\"hovertemplate\":\"city=RedwoodCity<br>area_total_sq_mi=%{x}<br>population_total=%{marker.size}<extra></extra>\",\"legendgroup\":\"RedwoodCity\",\"marker\":{\"color\":\"#FF97FF\",\"size\":[76815],\"sizemode\":\"area\",\"sizeref\":9710.7675,\"symbol\":\"circle\"},\"mode\":\"markers\",\"name\":\"RedwoodCity\",\"orientation\":\"v\",\"showlegend\":true,\"x\":[34.625],\"xaxis\":\"x\",\"y\":[76815],\"yaxis\":\"y\",\"type\":\"scatter\"},{\"hovertemplate\":\"city=Reedley<br>area_total_sq_mi=%{x}<br>population_total=%{marker.size}<extra></extra>\",\"legendgroup\":\"Reedley\",\"marker\":{\"color\":\"#FECB52\",\"size\":[24194],\"sizemode\":\"area\",\"sizeref\":9710.7675,\"symbol\":\"circle\"},\"mode\":\"markers\",\"name\":\"Reedley\",\"orientation\":\"v\",\"showlegend\":true,\"x\":[5.156],\"xaxis\":\"x\",\"y\":[24194],\"yaxis\":\"y\",\"type\":\"scatter\"},{\"hovertemplate\":\"city=Rialto<br>area_total_sq_mi=%{x}<br>population_total=%{marker.size}<extra></extra>\",\"legendgroup\":\"Rialto\",\"marker\":{\"color\":\"#636efa\",\"size\":[101740],\"sizemode\":\"area\",\"sizeref\":9710.7675,\"symbol\":\"circle\"},\"mode\":\"markers\",\"name\":\"Rialto\",\"orientation\":\"v\",\"showlegend\":true,\"x\":[22.365],\"xaxis\":\"x\",\"y\":[101740],\"yaxis\":\"y\",\"type\":\"scatter\"},{\"hovertemplate\":\"city=Richmond<br>area_total_sq_mi=%{x}<br>population_total=%{marker.size}<extra></extra>\",\"legendgroup\":\"Richmond\",\"marker\":{\"color\":\"#EF553B\",\"size\":[103701],\"sizemode\":\"area\",\"sizeref\":9710.7675,\"symbol\":\"circle\"},\"mode\":\"markers\",\"name\":\"Richmond\",\"orientation\":\"v\",\"showlegend\":true,\"x\":[52.480000000000004],\"xaxis\":\"x\",\"y\":[103701],\"yaxis\":\"y\",\"type\":\"scatter\"},{\"hovertemplate\":\"city=Ridgecrest<br>area_total_sq_mi=%{x}<br>population_total=%{marker.size}<extra></extra>\",\"legendgroup\":\"Ridgecrest\",\"marker\":{\"color\":\"#00cc96\",\"size\":[27616],\"sizemode\":\"area\",\"sizeref\":9710.7675,\"symbol\":\"circle\"},\"mode\":\"markers\",\"name\":\"Ridgecrest\",\"orientation\":\"v\",\"showlegend\":true,\"x\":[21.416999999999998],\"xaxis\":\"x\",\"y\":[27616],\"yaxis\":\"y\",\"type\":\"scatter\"},{\"hovertemplate\":\"city=RioDell<br>area_total_sq_mi=%{x}<br>population_total=%{marker.size}<extra></extra>\",\"legendgroup\":\"RioDell\",\"marker\":{\"color\":\"#ab63fa\",\"size\":[3363],\"sizemode\":\"area\",\"sizeref\":9710.7675,\"symbol\":\"circle\"},\"mode\":\"markers\",\"name\":\"RioDell\",\"orientation\":\"v\",\"showlegend\":true,\"x\":[2.418],\"xaxis\":\"x\",\"y\":[3363],\"yaxis\":\"y\",\"type\":\"scatter\"},{\"hovertemplate\":\"city=RioVista<br>area_total_sq_mi=%{x}<br>population_total=%{marker.size}<extra></extra>\",\"legendgroup\":\"RioVista\",\"marker\":{\"color\":\"#FFA15A\",\"size\":[7360],\"sizemode\":\"area\",\"sizeref\":9710.7675,\"symbol\":\"circle\"},\"mode\":\"markers\",\"name\":\"RioVista\",\"orientation\":\"v\",\"showlegend\":true,\"x\":[7.093999999999999],\"xaxis\":\"x\",\"y\":[7360],\"yaxis\":\"y\",\"type\":\"scatter\"},{\"hovertemplate\":\"city=Ripon<br>area_total_sq_mi=%{x}<br>population_total=%{marker.size}<extra></extra>\",\"legendgroup\":\"Ripon\",\"marker\":{\"color\":\"#19d3f3\",\"size\":[14297],\"sizemode\":\"area\",\"sizeref\":9710.7675,\"symbol\":\"circle\"},\"mode\":\"markers\",\"name\":\"Ripon\",\"orientation\":\"v\",\"showlegend\":true,\"x\":[5.495],\"xaxis\":\"x\",\"y\":[14297],\"yaxis\":\"y\",\"type\":\"scatter\"},{\"hovertemplate\":\"city=Riverbank<br>area_total_sq_mi=%{x}<br>population_total=%{marker.size}<extra></extra>\",\"legendgroup\":\"Riverbank\",\"marker\":{\"color\":\"#FF6692\",\"size\":[22678],\"sizemode\":\"area\",\"sizeref\":9710.7675,\"symbol\":\"circle\"},\"mode\":\"markers\",\"name\":\"Riverbank\",\"orientation\":\"v\",\"showlegend\":true,\"x\":[4.116],\"xaxis\":\"x\",\"y\":[22678],\"yaxis\":\"y\",\"type\":\"scatter\"},{\"hovertemplate\":\"city=Riverside<br>area_total_sq_mi=%{x}<br>population_total=%{marker.size}<extra></extra>\",\"legendgroup\":\"Riverside\",\"marker\":{\"color\":\"#B6E880\",\"size\":[313673],\"sizemode\":\"area\",\"sizeref\":9710.7675,\"symbol\":\"circle\"},\"mode\":\"markers\",\"name\":\"Riverside\",\"orientation\":\"v\",\"showlegend\":true,\"x\":[81.444],\"xaxis\":\"x\",\"y\":[313673],\"yaxis\":\"y\",\"type\":\"scatter\"},{\"hovertemplate\":\"city=Rocklin<br>area_total_sq_mi=%{x}<br>population_total=%{marker.size}<extra></extra>\",\"legendgroup\":\"Rocklin\",\"marker\":{\"color\":\"#FF97FF\",\"size\":[56974],\"sizemode\":\"area\",\"sizeref\":9710.7675,\"symbol\":\"circle\"},\"mode\":\"markers\",\"name\":\"Rocklin\",\"orientation\":\"v\",\"showlegend\":true,\"x\":[19.594],\"xaxis\":\"x\",\"y\":[56974],\"yaxis\":\"y\",\"type\":\"scatter\"},{\"hovertemplate\":\"city=RohnertPark<br>area_total_sq_mi=%{x}<br>population_total=%{marker.size}<extra></extra>\",\"legendgroup\":\"RohnertPark\",\"marker\":{\"color\":\"#FECB52\",\"size\":[40971],\"sizemode\":\"area\",\"sizeref\":9710.7675,\"symbol\":\"circle\"},\"mode\":\"markers\",\"name\":\"RohnertPark\",\"orientation\":\"v\",\"showlegend\":true,\"x\":[7.007999999999999],\"xaxis\":\"x\",\"y\":[40971],\"yaxis\":\"y\",\"type\":\"scatter\"},{\"hovertemplate\":\"city=RollingHills<br>area_total_sq_mi=%{x}<br>population_total=%{marker.size}<extra></extra>\",\"legendgroup\":\"RollingHills\",\"marker\":{\"color\":\"#636efa\",\"size\":[1860],\"sizemode\":\"area\",\"sizeref\":9710.7675,\"symbol\":\"circle\"},\"mode\":\"markers\",\"name\":\"RollingHills\",\"orientation\":\"v\",\"showlegend\":true,\"x\":[2.991],\"xaxis\":\"x\",\"y\":[1860],\"yaxis\":\"y\",\"type\":\"scatter\"},{\"hovertemplate\":\"city=RollingHillsEstates<br>area_total_sq_mi=%{x}<br>population_total=%{marker.size}<extra></extra>\",\"legendgroup\":\"RollingHillsEstates\",\"marker\":{\"color\":\"#EF553B\",\"size\":[8067],\"sizemode\":\"area\",\"sizeref\":9710.7675,\"symbol\":\"circle\"},\"mode\":\"markers\",\"name\":\"RollingHillsEstates\",\"orientation\":\"v\",\"showlegend\":true,\"x\":[3.613],\"xaxis\":\"x\",\"y\":[8067],\"yaxis\":\"y\",\"type\":\"scatter\"},{\"hovertemplate\":\"city=Rosemead<br>area_total_sq_mi=%{x}<br>population_total=%{marker.size}<extra></extra>\",\"legendgroup\":\"Rosemead\",\"marker\":{\"color\":\"#00cc96\",\"size\":[53764],\"sizemode\":\"area\",\"sizeref\":9710.7675,\"symbol\":\"circle\"},\"mode\":\"markers\",\"name\":\"Rosemead\",\"orientation\":\"v\",\"showlegend\":true,\"x\":[5.176000000000001],\"xaxis\":\"x\",\"y\":[53764],\"yaxis\":\"y\",\"type\":\"scatter\"},{\"hovertemplate\":\"city=Roseville<br>area_total_sq_mi=%{x}<br>population_total=%{marker.size}<extra></extra>\",\"legendgroup\":\"Roseville\",\"marker\":{\"color\":\"#ab63fa\",\"size\":[127323],\"sizemode\":\"area\",\"sizeref\":9710.7675,\"symbol\":\"circle\"},\"mode\":\"markers\",\"name\":\"Roseville\",\"orientation\":\"v\",\"showlegend\":true,\"x\":[36.223],\"xaxis\":\"x\",\"y\":[127323],\"yaxis\":\"y\",\"type\":\"scatter\"},{\"hovertemplate\":\"city=Ross<br>area_total_sq_mi=%{x}<br>population_total=%{marker.size}<extra></extra>\",\"legendgroup\":\"Ross\",\"marker\":{\"color\":\"#FFA15A\",\"size\":[2415],\"sizemode\":\"area\",\"sizeref\":9710.7675,\"symbol\":\"circle\"},\"mode\":\"markers\",\"name\":\"Ross\",\"orientation\":\"v\",\"showlegend\":true,\"x\":[1.556],\"xaxis\":\"x\",\"y\":[2415],\"yaxis\":\"y\",\"type\":\"scatter\"},{\"hovertemplate\":\"city=Sacramento<br>area_total_sq_mi=%{x}<br>population_total=%{marker.size}<extra></extra>\",\"legendgroup\":\"Sacramento\",\"marker\":{\"color\":\"#19d3f3\",\"size\":[466488],\"sizemode\":\"area\",\"sizeref\":9710.7675,\"symbol\":\"circle\"},\"mode\":\"markers\",\"name\":\"Sacramento\",\"orientation\":\"v\",\"showlegend\":true,\"x\":[100.105],\"xaxis\":\"x\",\"y\":[466488],\"yaxis\":\"y\",\"type\":\"scatter\"},{\"hovertemplate\":\"city=Salinas<br>area_total_sq_mi=%{x}<br>population_total=%{marker.size}<extra></extra>\",\"legendgroup\":\"Salinas\",\"marker\":{\"color\":\"#FF6692\",\"size\":[163665],\"sizemode\":\"area\",\"sizeref\":9710.7675,\"symbol\":\"circle\"},\"mode\":\"markers\",\"name\":\"Salinas\",\"orientation\":\"v\",\"showlegend\":true,\"x\":[23.217],\"xaxis\":\"x\",\"y\":[163665],\"yaxis\":\"y\",\"type\":\"scatter\"},{\"hovertemplate\":\"city=SanAnselmo<br>area_total_sq_mi=%{x}<br>population_total=%{marker.size}<extra></extra>\",\"legendgroup\":\"SanAnselmo\",\"marker\":{\"color\":\"#B6E880\",\"size\":[12336],\"sizemode\":\"area\",\"sizeref\":9710.7675,\"symbol\":\"circle\"},\"mode\":\"markers\",\"name\":\"SanAnselmo\",\"orientation\":\"v\",\"showlegend\":true,\"x\":[2.677],\"xaxis\":\"x\",\"y\":[12336],\"yaxis\":\"y\",\"type\":\"scatter\"},{\"hovertemplate\":\"city=SanBernardino<br>area_total_sq_mi=%{x}<br>population_total=%{marker.size}<extra></extra>\",\"legendgroup\":\"SanBernardino\",\"marker\":{\"color\":\"#FF97FF\",\"size\":[209924],\"sizemode\":\"area\",\"sizeref\":9710.7675,\"symbol\":\"circle\"},\"mode\":\"markers\",\"name\":\"SanBernardino\",\"orientation\":\"v\",\"showlegend\":true,\"x\":[59.645],\"xaxis\":\"x\",\"y\":[209924],\"yaxis\":\"y\",\"type\":\"scatter\"},{\"hovertemplate\":\"city=SanBruno<br>area_total_sq_mi=%{x}<br>population_total=%{marker.size}<extra></extra>\",\"legendgroup\":\"SanBruno\",\"marker\":{\"color\":\"#FECB52\",\"size\":[41114],\"sizemode\":\"area\",\"sizeref\":9710.7675,\"symbol\":\"circle\"},\"mode\":\"markers\",\"name\":\"SanBruno\",\"orientation\":\"v\",\"showlegend\":true,\"x\":[5.478],\"xaxis\":\"x\",\"y\":[41114],\"yaxis\":\"y\",\"type\":\"scatter\"},{\"hovertemplate\":\"city=SanCarlos<br>area_total_sq_mi=%{x}<br>population_total=%{marker.size}<extra></extra>\",\"legendgroup\":\"SanCarlos\",\"marker\":{\"color\":\"#636efa\",\"size\":[28406],\"sizemode\":\"area\",\"sizeref\":9710.7675,\"symbol\":\"circle\"},\"mode\":\"markers\",\"name\":\"SanCarlos\",\"orientation\":\"v\",\"showlegend\":true,\"x\":[5.5409999999999995],\"xaxis\":\"x\",\"y\":[28406],\"yaxis\":\"y\",\"type\":\"scatter\"},{\"hovertemplate\":\"city=SanClemente<br>area_total_sq_mi=%{x}<br>population_total=%{marker.size}<extra></extra>\",\"legendgroup\":\"SanClemente\",\"marker\":{\"color\":\"#EF553B\",\"size\":[63522],\"sizemode\":\"area\",\"sizeref\":9710.7675,\"symbol\":\"circle\"},\"mode\":\"markers\",\"name\":\"SanClemente\",\"orientation\":\"v\",\"showlegend\":true,\"x\":[19.468],\"xaxis\":\"x\",\"y\":[63522],\"yaxis\":\"y\",\"type\":\"scatter\"},{\"hovertemplate\":\"city=SandCity<br>area_total_sq_mi=%{x}<br>population_total=%{marker.size}<extra></extra>\",\"legendgroup\":\"SandCity\",\"marker\":{\"color\":\"#00cc96\",\"size\":[334],\"sizemode\":\"area\",\"sizeref\":9710.7675,\"symbol\":\"circle\"},\"mode\":\"markers\",\"name\":\"SandCity\",\"orientation\":\"v\",\"showlegend\":true,\"x\":[2.9240000000000004],\"xaxis\":\"x\",\"y\":[334],\"yaxis\":\"y\",\"type\":\"scatter\"},{\"hovertemplate\":\"city=SanDiego<br>area_total_sq_mi=%{x}<br>population_total=%{marker.size}<extra></extra>\",\"legendgroup\":\"SanDiego\",\"marker\":{\"color\":\"#ab63fa\",\"size\":[1345895],\"sizemode\":\"area\",\"sizeref\":9710.7675,\"symbol\":\"circle\"},\"mode\":\"markers\",\"name\":\"SanDiego\",\"orientation\":\"v\",\"showlegend\":true,\"x\":[372.4],\"xaxis\":\"x\",\"y\":[1345895],\"yaxis\":\"y\",\"type\":\"scatter\"},{\"hovertemplate\":\"city=SanDimas<br>area_total_sq_mi=%{x}<br>population_total=%{marker.size}<extra></extra>\",\"legendgroup\":\"SanDimas\",\"marker\":{\"color\":\"#FFA15A\",\"size\":[33371],\"sizemode\":\"area\",\"sizeref\":9710.7675,\"symbol\":\"circle\"},\"mode\":\"markers\",\"name\":\"SanDimas\",\"orientation\":\"v\",\"showlegend\":true,\"x\":[15.427000000000001],\"xaxis\":\"x\",\"y\":[33371],\"yaxis\":\"y\",\"type\":\"scatter\"},{\"hovertemplate\":\"city=SanFernando<br>area_total_sq_mi=%{x}<br>population_total=%{marker.size}<extra></extra>\",\"legendgroup\":\"SanFernando\",\"marker\":{\"color\":\"#19d3f3\",\"size\":[23645],\"sizemode\":\"area\",\"sizeref\":9710.7675,\"symbol\":\"circle\"},\"mode\":\"markers\",\"name\":\"SanFernando\",\"orientation\":\"v\",\"showlegend\":true,\"x\":[2.374],\"xaxis\":\"x\",\"y\":[23645],\"yaxis\":\"y\",\"type\":\"scatter\"},{\"hovertemplate\":\"city=SanGabriel<br>area_total_sq_mi=%{x}<br>population_total=%{marker.size}<extra></extra>\",\"legendgroup\":\"SanGabriel\",\"marker\":{\"color\":\"#FF6692\",\"size\":[39718],\"sizemode\":\"area\",\"sizeref\":9710.7675,\"symbol\":\"circle\"},\"mode\":\"markers\",\"name\":\"SanGabriel\",\"orientation\":\"v\",\"showlegend\":true,\"x\":[4.146],\"xaxis\":\"x\",\"y\":[39718],\"yaxis\":\"y\",\"type\":\"scatter\"},{\"hovertemplate\":\"city=Sanger<br>area_total_sq_mi=%{x}<br>population_total=%{marker.size}<extra></extra>\",\"legendgroup\":\"Sanger\",\"marker\":{\"color\":\"#B6E880\",\"size\":[24270],\"sizemode\":\"area\",\"sizeref\":9710.7675,\"symbol\":\"circle\"},\"mode\":\"markers\",\"name\":\"Sanger\",\"orientation\":\"v\",\"showlegend\":true,\"x\":[5.524],\"xaxis\":\"x\",\"y\":[24270],\"yaxis\":\"y\",\"type\":\"scatter\"},{\"hovertemplate\":\"city=SanJacinto<br>area_total_sq_mi=%{x}<br>population_total=%{marker.size}<extra></extra>\",\"legendgroup\":\"SanJacinto\",\"marker\":{\"color\":\"#FF97FF\",\"size\":[44199],\"sizemode\":\"area\",\"sizeref\":9710.7675,\"symbol\":\"circle\"},\"mode\":\"markers\",\"name\":\"SanJacinto\",\"orientation\":\"v\",\"showlegend\":true,\"x\":[26.131],\"xaxis\":\"x\",\"y\":[44199],\"yaxis\":\"y\",\"type\":\"scatter\"},{\"hovertemplate\":\"city=SanJoaquin<br>area_total_sq_mi=%{x}<br>population_total=%{marker.size}<extra></extra>\",\"legendgroup\":\"SanJoaquin\",\"marker\":{\"color\":\"#FECB52\",\"size\":[4001],\"sizemode\":\"area\",\"sizeref\":9710.7675,\"symbol\":\"circle\"},\"mode\":\"markers\",\"name\":\"SanJoaquin\",\"orientation\":\"v\",\"showlegend\":true,\"x\":[1.148],\"xaxis\":\"x\",\"y\":[4001],\"yaxis\":\"y\",\"type\":\"scatter\"},{\"hovertemplate\":\"city=SanJose<br>area_total_sq_mi=%{x}<br>population_total=%{marker.size}<extra></extra>\",\"legendgroup\":\"SanJose\",\"marker\":{\"color\":\"#636efa\",\"size\":[1000536],\"sizemode\":\"area\",\"sizeref\":9710.7675,\"symbol\":\"circle\"},\"mode\":\"markers\",\"name\":\"SanJose\",\"orientation\":\"v\",\"showlegend\":true,\"x\":[179.96499999999997],\"xaxis\":\"x\",\"y\":[1000536],\"yaxis\":\"y\",\"type\":\"scatter\"},{\"hovertemplate\":\"city=SanJuanBautista<br>area_total_sq_mi=%{x}<br>population_total=%{marker.size}<extra></extra>\",\"legendgroup\":\"SanJuanBautista\",\"marker\":{\"color\":\"#EF553B\",\"size\":[1862],\"sizemode\":\"area\",\"sizeref\":9710.7675,\"symbol\":\"circle\"},\"mode\":\"markers\",\"name\":\"SanJuanBautista\",\"orientation\":\"v\",\"showlegend\":true,\"x\":[0.711],\"xaxis\":\"x\",\"y\":[1862],\"yaxis\":\"y\",\"type\":\"scatter\"},{\"hovertemplate\":\"city=SanJuanCapistrano<br>area_total_sq_mi=%{x}<br>population_total=%{marker.size}<extra></extra>\",\"legendgroup\":\"SanJuanCapistrano\",\"marker\":{\"color\":\"#00cc96\",\"size\":[34593],\"sizemode\":\"area\",\"sizeref\":9710.7675,\"symbol\":\"circle\"},\"mode\":\"markers\",\"name\":\"SanJuanCapistrano\",\"orientation\":\"v\",\"showlegend\":true,\"x\":[14.295],\"xaxis\":\"x\",\"y\":[34593],\"yaxis\":\"y\",\"type\":\"scatter\"},{\"hovertemplate\":\"city=SanLeandro<br>area_total_sq_mi=%{x}<br>population_total=%{marker.size}<extra></extra>\",\"legendgroup\":\"SanLeandro\",\"marker\":{\"color\":\"#ab63fa\",\"size\":[86869],\"sizemode\":\"area\",\"sizeref\":9710.7675,\"symbol\":\"circle\"},\"mode\":\"markers\",\"name\":\"SanLeandro\",\"orientation\":\"v\",\"showlegend\":true,\"x\":[15.663],\"xaxis\":\"x\",\"y\":[86869],\"yaxis\":\"y\",\"type\":\"scatter\"},{\"hovertemplate\":\"city=SanLuisObispo<br>area_total_sq_mi=%{x}<br>population_total=%{marker.size}<extra></extra>\",\"legendgroup\":\"SanLuisObispo\",\"marker\":{\"color\":\"#FFA15A\",\"size\":[45119],\"sizemode\":\"area\",\"sizeref\":9710.7675,\"symbol\":\"circle\"},\"mode\":\"markers\",\"name\":\"SanLuisObispo\",\"orientation\":\"v\",\"showlegend\":true,\"x\":[12.93],\"xaxis\":\"x\",\"y\":[45119],\"yaxis\":\"y\",\"type\":\"scatter\"},{\"hovertemplate\":\"city=SanMarcos<br>area_total_sq_mi=%{x}<br>population_total=%{marker.size}<extra></extra>\",\"legendgroup\":\"SanMarcos\",\"marker\":{\"color\":\"#19d3f3\",\"size\":[83781],\"sizemode\":\"area\",\"sizeref\":9710.7675,\"symbol\":\"circle\"},\"mode\":\"markers\",\"name\":\"SanMarcos\",\"orientation\":\"v\",\"showlegend\":true,\"x\":[24.39],\"xaxis\":\"x\",\"y\":[83781],\"yaxis\":\"y\",\"type\":\"scatter\"},{\"hovertemplate\":\"city=SanMarino<br>area_total_sq_mi=%{x}<br>population_total=%{marker.size}<extra></extra>\",\"legendgroup\":\"SanMarino\",\"marker\":{\"color\":\"#FF6692\",\"size\":[13147],\"sizemode\":\"area\",\"sizeref\":9710.7675,\"symbol\":\"circle\"},\"mode\":\"markers\",\"name\":\"SanMarino\",\"orientation\":\"v\",\"showlegend\":true,\"x\":[3.774],\"xaxis\":\"x\",\"y\":[13147],\"yaxis\":\"y\",\"type\":\"scatter\"},{\"hovertemplate\":\"city=SanMateo<br>area_total_sq_mi=%{x}<br>population_total=%{marker.size}<extra></extra>\",\"legendgroup\":\"SanMateo\",\"marker\":{\"color\":\"#B6E880\",\"size\":[97207],\"sizemode\":\"area\",\"sizeref\":9710.7675,\"symbol\":\"circle\"},\"mode\":\"markers\",\"name\":\"SanMateo\",\"orientation\":\"v\",\"showlegend\":true,\"x\":[15.884],\"xaxis\":\"x\",\"y\":[97207],\"yaxis\":\"y\",\"type\":\"scatter\"},{\"hovertemplate\":\"city=SanPablo<br>area_total_sq_mi=%{x}<br>population_total=%{marker.size}<extra></extra>\",\"legendgroup\":\"SanPablo\",\"marker\":{\"color\":\"#FF97FF\",\"size\":[29139],\"sizemode\":\"area\",\"sizeref\":9710.7675,\"symbol\":\"circle\"},\"mode\":\"markers\",\"name\":\"SanPablo\",\"orientation\":\"v\",\"showlegend\":true,\"x\":[2.634],\"xaxis\":\"x\",\"y\":[29139],\"yaxis\":\"y\",\"type\":\"scatter\"},{\"hovertemplate\":\"city=SanRafael<br>area_total_sq_mi=%{x}<br>population_total=%{marker.size}<extra></extra>\",\"legendgroup\":\"SanRafael\",\"marker\":{\"color\":\"#FECB52\",\"size\":[57713],\"sizemode\":\"area\",\"sizeref\":9710.7675,\"symbol\":\"circle\"},\"mode\":\"markers\",\"name\":\"SanRafael\",\"orientation\":\"v\",\"showlegend\":true,\"x\":[22.422],\"xaxis\":\"x\",\"y\":[57713],\"yaxis\":\"y\",\"type\":\"scatter\"},{\"hovertemplate\":\"city=SanRamon<br>area_total_sq_mi=%{x}<br>population_total=%{marker.size}<extra></extra>\",\"legendgroup\":\"SanRamon\",\"marker\":{\"color\":\"#636efa\",\"size\":[73927],\"sizemode\":\"area\",\"sizeref\":9710.7675,\"symbol\":\"circle\"},\"mode\":\"markers\",\"name\":\"SanRamon\",\"orientation\":\"v\",\"showlegend\":true,\"x\":[18.076999999999998],\"xaxis\":\"x\",\"y\":[73927],\"yaxis\":\"y\",\"type\":\"scatter\"},{\"hovertemplate\":\"city=SantaAna<br>area_total_sq_mi=%{x}<br>population_total=%{marker.size}<extra></extra>\",\"legendgroup\":\"SantaAna\",\"marker\":{\"color\":\"#EF553B\",\"size\":[324528],\"sizemode\":\"area\",\"sizeref\":9710.7675,\"symbol\":\"circle\"},\"mode\":\"markers\",\"name\":\"SantaAna\",\"orientation\":\"v\",\"showlegend\":true,\"x\":[27.518],\"xaxis\":\"x\",\"y\":[324528],\"yaxis\":\"y\",\"type\":\"scatter\"},{\"hovertemplate\":\"city=SantaBarbara<br>area_total_sq_mi=%{x}<br>population_total=%{marker.size}<extra></extra>\",\"legendgroup\":\"SantaBarbara\",\"marker\":{\"color\":\"#00cc96\",\"size\":[90893],\"sizemode\":\"area\",\"sizeref\":9710.7675,\"symbol\":\"circle\"},\"mode\":\"markers\",\"name\":\"SantaBarbara\",\"orientation\":\"v\",\"showlegend\":true,\"x\":[41.968],\"xaxis\":\"x\",\"y\":[90893],\"yaxis\":\"y\",\"type\":\"scatter\"},{\"hovertemplate\":\"city=SantaClara<br>area_total_sq_mi=%{x}<br>population_total=%{marker.size}<extra></extra>\",\"legendgroup\":\"SantaClara\",\"marker\":{\"color\":\"#ab63fa\",\"size\":[116468],\"sizemode\":\"area\",\"sizeref\":9710.7675,\"symbol\":\"circle\"},\"mode\":\"markers\",\"name\":\"SantaClara\",\"orientation\":\"v\",\"showlegend\":true,\"x\":[18.407],\"xaxis\":\"x\",\"y\":[116468],\"yaxis\":\"y\",\"type\":\"scatter\"},{\"hovertemplate\":\"city=SantaClarita<br>area_total_sq_mi=%{x}<br>population_total=%{marker.size}<extra></extra>\",\"legendgroup\":\"SantaClarita\",\"marker\":{\"color\":\"#FFA15A\",\"size\":[209130],\"sizemode\":\"area\",\"sizeref\":9710.7675,\"symbol\":\"circle\"},\"mode\":\"markers\",\"name\":\"SantaClarita\",\"orientation\":\"v\",\"showlegend\":true,\"x\":[62.160000000000004],\"xaxis\":\"x\",\"y\":[209130],\"yaxis\":\"y\",\"type\":\"scatter\"},{\"hovertemplate\":\"city=SantaCruz<br>area_total_sq_mi=%{x}<br>population_total=%{marker.size}<extra></extra>\",\"legendgroup\":\"SantaCruz\",\"marker\":{\"color\":\"#19d3f3\",\"size\":[62864],\"sizemode\":\"area\",\"sizeref\":9710.7675,\"symbol\":\"circle\"},\"mode\":\"markers\",\"name\":\"SantaCruz\",\"orientation\":\"v\",\"showlegend\":true,\"x\":[15.828],\"xaxis\":\"x\",\"y\":[62864],\"yaxis\":\"y\",\"type\":\"scatter\"},{\"hovertemplate\":\"city=SantaFeSprings<br>area_total_sq_mi=%{x}<br>population_total=%{marker.size}<extra></extra>\",\"legendgroup\":\"SantaFeSprings\",\"marker\":{\"color\":\"#FF6692\",\"size\":[16223],\"sizemode\":\"area\",\"sizeref\":9710.7675,\"symbol\":\"circle\"},\"mode\":\"markers\",\"name\":\"SantaFeSprings\",\"orientation\":\"v\",\"showlegend\":true,\"x\":[8.914],\"xaxis\":\"x\",\"y\":[16223],\"yaxis\":\"y\",\"type\":\"scatter\"},{\"hovertemplate\":\"city=SantaMaria<br>area_total_sq_mi=%{x}<br>population_total=%{marker.size}<extra></extra>\",\"legendgroup\":\"SantaMaria\",\"marker\":{\"color\":\"#B6E880\",\"size\":[101459],\"sizemode\":\"area\",\"sizeref\":9710.7675,\"symbol\":\"circle\"},\"mode\":\"markers\",\"name\":\"SantaMaria\",\"orientation\":\"v\",\"showlegend\":true,\"x\":[23.395],\"xaxis\":\"x\",\"y\":[101459],\"yaxis\":\"y\",\"type\":\"scatter\"},{\"hovertemplate\":\"city=SantaPaula<br>area_total_sq_mi=%{x}<br>population_total=%{marker.size}<extra></extra>\",\"legendgroup\":\"SantaPaula\",\"marker\":{\"color\":\"#FF97FF\",\"size\":[29321],\"sizemode\":\"area\",\"sizeref\":9710.7675,\"symbol\":\"circle\"},\"mode\":\"markers\",\"name\":\"SantaPaula\",\"orientation\":\"v\",\"showlegend\":true,\"x\":[4.707],\"xaxis\":\"x\",\"y\":[29321],\"yaxis\":\"y\",\"type\":\"scatter\"},{\"hovertemplate\":\"city=SantaRosa<br>area_total_sq_mi=%{x}<br>population_total=%{marker.size}<extra></extra>\",\"legendgroup\":\"SantaRosa\",\"marker\":{\"color\":\"#FECB52\",\"size\":[170685],\"sizemode\":\"area\",\"sizeref\":9710.7675,\"symbol\":\"circle\"},\"mode\":\"markers\",\"name\":\"SantaRosa\",\"orientation\":\"v\",\"showlegend\":true,\"x\":[41.498999999999995],\"xaxis\":\"x\",\"y\":[170685],\"yaxis\":\"y\",\"type\":\"scatter\"},{\"hovertemplate\":\"city=Santee<br>area_total_sq_mi=%{x}<br>population_total=%{marker.size}<extra></extra>\",\"legendgroup\":\"Santee\",\"marker\":{\"color\":\"#636efa\",\"size\":[53413],\"sizemode\":\"area\",\"sizeref\":9710.7675,\"symbol\":\"circle\"},\"mode\":\"markers\",\"name\":\"Santee\",\"orientation\":\"v\",\"showlegend\":true,\"x\":[16.528],\"xaxis\":\"x\",\"y\":[53413],\"yaxis\":\"y\",\"type\":\"scatter\"},{\"hovertemplate\":\"city=Saratoga<br>area_total_sq_mi=%{x}<br>population_total=%{marker.size}<extra></extra>\",\"legendgroup\":\"Saratoga\",\"marker\":{\"color\":\"#EF553B\",\"size\":[29926],\"sizemode\":\"area\",\"sizeref\":9710.7675,\"symbol\":\"circle\"},\"mode\":\"markers\",\"name\":\"Saratoga\",\"orientation\":\"v\",\"showlegend\":true,\"x\":[12.382],\"xaxis\":\"x\",\"y\":[29926],\"yaxis\":\"y\",\"type\":\"scatter\"},{\"hovertemplate\":\"city=Sausalito<br>area_total_sq_mi=%{x}<br>population_total=%{marker.size}<extra></extra>\",\"legendgroup\":\"Sausalito\",\"marker\":{\"color\":\"#00cc96\",\"size\":[7061],\"sizemode\":\"area\",\"sizeref\":9710.7675,\"symbol\":\"circle\"},\"mode\":\"markers\",\"name\":\"Sausalito\",\"orientation\":\"v\",\"showlegend\":true,\"x\":[2.2569999999999997],\"xaxis\":\"x\",\"y\":[7061],\"yaxis\":\"y\",\"type\":\"scatter\"},{\"hovertemplate\":\"city=ScottsValley<br>area_total_sq_mi=%{x}<br>population_total=%{marker.size}<extra></extra>\",\"legendgroup\":\"ScottsValley\",\"marker\":{\"color\":\"#ab63fa\",\"size\":[11580],\"sizemode\":\"area\",\"sizeref\":9710.7675,\"symbol\":\"circle\"},\"mode\":\"markers\",\"name\":\"ScottsValley\",\"orientation\":\"v\",\"showlegend\":true,\"x\":[4.595],\"xaxis\":\"x\",\"y\":[11580],\"yaxis\":\"y\",\"type\":\"scatter\"},{\"hovertemplate\":\"city=SealBeach<br>area_total_sq_mi=%{x}<br>population_total=%{marker.size}<extra></extra>\",\"legendgroup\":\"SealBeach\",\"marker\":{\"color\":\"#FFA15A\",\"size\":[24168],\"sizemode\":\"area\",\"sizeref\":9710.7675,\"symbol\":\"circle\"},\"mode\":\"markers\",\"name\":\"SealBeach\",\"orientation\":\"v\",\"showlegend\":true,\"x\":[13.04],\"xaxis\":\"x\",\"y\":[24168],\"yaxis\":\"y\",\"type\":\"scatter\"},{\"hovertemplate\":\"city=Seaside<br>area_total_sq_mi=%{x}<br>population_total=%{marker.size}<extra></extra>\",\"legendgroup\":\"Seaside\",\"marker\":{\"color\":\"#19d3f3\",\"size\":[33025],\"sizemode\":\"area\",\"sizeref\":9710.7675,\"symbol\":\"circle\"},\"mode\":\"markers\",\"name\":\"Seaside\",\"orientation\":\"v\",\"showlegend\":true,\"x\":[9.376],\"xaxis\":\"x\",\"y\":[33025],\"yaxis\":\"y\",\"type\":\"scatter\"},{\"hovertemplate\":\"city=Sebastopol<br>area_total_sq_mi=%{x}<br>population_total=%{marker.size}<extra></extra>\",\"legendgroup\":\"Sebastopol\",\"marker\":{\"color\":\"#FF6692\",\"size\":[7379],\"sizemode\":\"area\",\"sizeref\":9710.7675,\"symbol\":\"circle\"},\"mode\":\"markers\",\"name\":\"Sebastopol\",\"orientation\":\"v\",\"showlegend\":true,\"x\":[1.853],\"xaxis\":\"x\",\"y\":[7379],\"yaxis\":\"y\",\"type\":\"scatter\"},{\"hovertemplate\":\"city=Selma<br>area_total_sq_mi=%{x}<br>population_total=%{marker.size}<extra></extra>\",\"legendgroup\":\"Selma\",\"marker\":{\"color\":\"#B6E880\",\"size\":[23219],\"sizemode\":\"area\",\"sizeref\":9710.7675,\"symbol\":\"circle\"},\"mode\":\"markers\",\"name\":\"Selma\",\"orientation\":\"v\",\"showlegend\":true,\"x\":[5.136],\"xaxis\":\"x\",\"y\":[23219],\"yaxis\":\"y\",\"type\":\"scatter\"},{\"hovertemplate\":\"city=Shafter<br>area_total_sq_mi=%{x}<br>population_total=%{marker.size}<extra></extra>\",\"legendgroup\":\"Shafter\",\"marker\":{\"color\":\"#FF97FF\",\"size\":[16988],\"sizemode\":\"area\",\"sizeref\":9710.7675,\"symbol\":\"circle\"},\"mode\":\"markers\",\"name\":\"Shafter\",\"orientation\":\"v\",\"showlegend\":true,\"x\":[27.945],\"xaxis\":\"x\",\"y\":[16988],\"yaxis\":\"y\",\"type\":\"scatter\"},{\"hovertemplate\":\"city=ShastaLake<br>area_total_sq_mi=%{x}<br>population_total=%{marker.size}<extra></extra>\",\"legendgroup\":\"ShastaLake\",\"marker\":{\"color\":\"#FECB52\",\"size\":[10164],\"sizemode\":\"area\",\"sizeref\":9710.7675,\"symbol\":\"circle\"},\"mode\":\"markers\",\"name\":\"ShastaLake\",\"orientation\":\"v\",\"showlegend\":true,\"x\":[10.928999999999998],\"xaxis\":\"x\",\"y\":[10164],\"yaxis\":\"y\",\"type\":\"scatter\"},{\"hovertemplate\":\"city=SierraMadre<br>area_total_sq_mi=%{x}<br>population_total=%{marker.size}<extra></extra>\",\"legendgroup\":\"SierraMadre\",\"marker\":{\"color\":\"#636efa\",\"size\":[10917],\"sizemode\":\"area\",\"sizeref\":9710.7675,\"symbol\":\"circle\"},\"mode\":\"markers\",\"name\":\"SierraMadre\",\"orientation\":\"v\",\"showlegend\":true,\"x\":[2.9570000000000003],\"xaxis\":\"x\",\"y\":[10917],\"yaxis\":\"y\",\"type\":\"scatter\"},{\"hovertemplate\":\"city=SignalHill<br>area_total_sq_mi=%{x}<br>population_total=%{marker.size}<extra></extra>\",\"legendgroup\":\"SignalHill\",\"marker\":{\"color\":\"#EF553B\",\"size\":[11465],\"sizemode\":\"area\",\"sizeref\":9710.7675,\"symbol\":\"circle\"},\"mode\":\"markers\",\"name\":\"SignalHill\",\"orientation\":\"v\",\"showlegend\":true,\"x\":[2.191],\"xaxis\":\"x\",\"y\":[11465],\"yaxis\":\"y\",\"type\":\"scatter\"},{\"hovertemplate\":\"city=SimiValley<br>area_total_sq_mi=%{x}<br>population_total=%{marker.size}<extra></extra>\",\"legendgroup\":\"SimiValley\",\"marker\":{\"color\":\"#00cc96\",\"size\":[126874],\"sizemode\":\"area\",\"sizeref\":9710.7675,\"symbol\":\"circle\"},\"mode\":\"markers\",\"name\":\"SimiValley\",\"orientation\":\"v\",\"showlegend\":true,\"x\":[42.247],\"xaxis\":\"x\",\"y\":[126874],\"yaxis\":\"y\",\"type\":\"scatter\"},{\"hovertemplate\":\"city=SolanaBeach<br>area_total_sq_mi=%{x}<br>population_total=%{marker.size}<extra></extra>\",\"legendgroup\":\"SolanaBeach\",\"marker\":{\"color\":\"#ab63fa\",\"size\":[12867],\"sizemode\":\"area\",\"sizeref\":9710.7675,\"symbol\":\"circle\"},\"mode\":\"markers\",\"name\":\"SolanaBeach\",\"orientation\":\"v\",\"showlegend\":true,\"x\":[3.624],\"xaxis\":\"x\",\"y\":[12867],\"yaxis\":\"y\",\"type\":\"scatter\"},{\"hovertemplate\":\"city=Soledad<br>area_total_sq_mi=%{x}<br>population_total=%{marker.size}<extra></extra>\",\"legendgroup\":\"Soledad\",\"marker\":{\"color\":\"#FFA15A\",\"size\":[25738],\"sizemode\":\"area\",\"sizeref\":9710.7675,\"symbol\":\"circle\"},\"mode\":\"markers\",\"name\":\"Soledad\",\"orientation\":\"v\",\"showlegend\":true,\"x\":[4.566],\"xaxis\":\"x\",\"y\":[25738],\"yaxis\":\"y\",\"type\":\"scatter\"},{\"hovertemplate\":\"city=Solvang<br>area_total_sq_mi=%{x}<br>population_total=%{marker.size}<extra></extra>\",\"legendgroup\":\"Solvang\",\"marker\":{\"color\":\"#19d3f3\",\"size\":[5245],\"sizemode\":\"area\",\"sizeref\":9710.7675,\"symbol\":\"circle\"},\"mode\":\"markers\",\"name\":\"Solvang\",\"orientation\":\"v\",\"showlegend\":true,\"x\":[2.4259999999999997],\"xaxis\":\"x\",\"y\":[5245],\"yaxis\":\"y\",\"type\":\"scatter\"},{\"hovertemplate\":\"city=Sonoma<br>area_total_sq_mi=%{x}<br>population_total=%{marker.size}<extra></extra>\",\"legendgroup\":\"Sonoma\",\"marker\":{\"color\":\"#FF6692\",\"size\":[10648],\"sizemode\":\"area\",\"sizeref\":9710.7675,\"symbol\":\"circle\"},\"mode\":\"markers\",\"name\":\"Sonoma\",\"orientation\":\"v\",\"showlegend\":true,\"x\":[2.742],\"xaxis\":\"x\",\"y\":[10648],\"yaxis\":\"y\",\"type\":\"scatter\"},{\"hovertemplate\":\"city=Sonora<br>area_total_sq_mi=%{x}<br>population_total=%{marker.size}<extra></extra>\",\"legendgroup\":\"Sonora\",\"marker\":{\"color\":\"#B6E880\",\"size\":[7169],\"sizemode\":\"area\",\"sizeref\":9710.7675,\"symbol\":\"circle\"},\"mode\":\"markers\",\"name\":\"Sonora\",\"orientation\":\"v\",\"showlegend\":true,\"x\":[3.078],\"xaxis\":\"x\",\"y\":[7169],\"yaxis\":\"y\",\"type\":\"scatter\"},{\"hovertemplate\":\"city=SouthElMonte<br>area_total_sq_mi=%{x}<br>population_total=%{marker.size}<extra></extra>\",\"legendgroup\":\"SouthElMonte\",\"marker\":{\"color\":\"#FF97FF\",\"size\":[20116],\"sizemode\":\"area\",\"sizeref\":9710.7675,\"symbol\":\"circle\"},\"mode\":\"markers\",\"name\":\"SouthElMonte\",\"orientation\":\"v\",\"showlegend\":true,\"x\":[2.848],\"xaxis\":\"x\",\"y\":[20116],\"yaxis\":\"y\",\"type\":\"scatter\"},{\"hovertemplate\":\"city=SouthGate<br>area_total_sq_mi=%{x}<br>population_total=%{marker.size}<extra></extra>\",\"legendgroup\":\"SouthGate\",\"marker\":{\"color\":\"#FECB52\",\"size\":[94396],\"sizemode\":\"area\",\"sizeref\":9710.7675,\"symbol\":\"circle\"},\"mode\":\"markers\",\"name\":\"SouthGate\",\"orientation\":\"v\",\"showlegend\":true,\"x\":[7.353000000000001],\"xaxis\":\"x\",\"y\":[94396],\"yaxis\":\"y\",\"type\":\"scatter\"},{\"hovertemplate\":\"city=SouthLakeTahoe<br>area_total_sq_mi=%{x}<br>population_total=%{marker.size}<extra></extra>\",\"legendgroup\":\"SouthLakeTahoe\",\"marker\":{\"color\":\"#636efa\",\"size\":[21403],\"sizemode\":\"area\",\"sizeref\":9710.7675,\"symbol\":\"circle\"},\"mode\":\"markers\",\"name\":\"SouthLakeTahoe\",\"orientation\":\"v\",\"showlegend\":true,\"x\":[16.603],\"xaxis\":\"x\",\"y\":[21403],\"yaxis\":\"y\",\"type\":\"scatter\"},{\"hovertemplate\":\"city=SouthPasadena<br>area_total_sq_mi=%{x}<br>population_total=%{marker.size}<extra></extra>\",\"legendgroup\":\"SouthPasadena\",\"marker\":{\"color\":\"#EF553B\",\"size\":[25619],\"sizemode\":\"area\",\"sizeref\":9710.7675,\"symbol\":\"circle\"},\"mode\":\"markers\",\"name\":\"SouthPasadena\",\"orientation\":\"v\",\"showlegend\":true,\"x\":[3.417],\"xaxis\":\"x\",\"y\":[25619],\"yaxis\":\"y\",\"type\":\"scatter\"},{\"hovertemplate\":\"city=SouthSanFrancisco<br>area_total_sq_mi=%{x}<br>population_total=%{marker.size}<extra></extra>\",\"legendgroup\":\"SouthSanFrancisco\",\"marker\":{\"color\":\"#00cc96\",\"size\":[64409],\"sizemode\":\"area\",\"sizeref\":9710.7675,\"symbol\":\"circle\"},\"mode\":\"markers\",\"name\":\"SouthSanFrancisco\",\"orientation\":\"v\",\"showlegend\":true,\"x\":[30.158],\"xaxis\":\"x\",\"y\":[64409],\"yaxis\":\"y\",\"type\":\"scatter\"},{\"hovertemplate\":\"city=Stanton<br>area_total_sq_mi=%{x}<br>population_total=%{marker.size}<extra></extra>\",\"legendgroup\":\"Stanton\",\"marker\":{\"color\":\"#ab63fa\",\"size\":[38186],\"sizemode\":\"area\",\"sizeref\":9710.7675,\"symbol\":\"circle\"},\"mode\":\"markers\",\"name\":\"Stanton\",\"orientation\":\"v\",\"showlegend\":true,\"x\":[3.15],\"xaxis\":\"x\",\"y\":[38186],\"yaxis\":\"y\",\"type\":\"scatter\"},{\"hovertemplate\":\"city=StHelena<br>area_total_sq_mi=%{x}<br>population_total=%{marker.size}<extra></extra>\",\"legendgroup\":\"StHelena\",\"marker\":{\"color\":\"#FFA15A\",\"size\":[5814],\"sizemode\":\"area\",\"sizeref\":9710.7675,\"symbol\":\"circle\"},\"mode\":\"markers\",\"name\":\"StHelena\",\"orientation\":\"v\",\"showlegend\":true,\"x\":[5.027],\"xaxis\":\"x\",\"y\":[5814],\"yaxis\":\"y\",\"type\":\"scatter\"},{\"hovertemplate\":\"city=Stockton<br>area_total_sq_mi=%{x}<br>population_total=%{marker.size}<extra></extra>\",\"legendgroup\":\"Stockton\",\"marker\":{\"color\":\"#19d3f3\",\"size\":[301090],\"sizemode\":\"area\",\"sizeref\":9710.7675,\"symbol\":\"circle\"},\"mode\":\"markers\",\"name\":\"Stockton\",\"orientation\":\"v\",\"showlegend\":true,\"x\":[64.753],\"xaxis\":\"x\",\"y\":[301090],\"yaxis\":\"y\",\"type\":\"scatter\"},{\"hovertemplate\":\"city=SuisunCity<br>area_total_sq_mi=%{x}<br>population_total=%{marker.size}<extra></extra>\",\"legendgroup\":\"SuisunCity\",\"marker\":{\"color\":\"#FF6692\",\"size\":[28111],\"sizemode\":\"area\",\"sizeref\":9710.7675,\"symbol\":\"circle\"},\"mode\":\"markers\",\"name\":\"SuisunCity\",\"orientation\":\"v\",\"showlegend\":true,\"x\":[4.163],\"xaxis\":\"x\",\"y\":[28111],\"yaxis\":\"y\",\"type\":\"scatter\"},{\"hovertemplate\":\"city=Sunnyvale<br>area_total_sq_mi=%{x}<br>population_total=%{marker.size}<extra></extra>\",\"legendgroup\":\"Sunnyvale\",\"marker\":{\"color\":\"#B6E880\",\"size\":[140081],\"sizemode\":\"area\",\"sizeref\":9710.7675,\"symbol\":\"circle\"},\"mode\":\"markers\",\"name\":\"Sunnyvale\",\"orientation\":\"v\",\"showlegend\":true,\"x\":[22.689],\"xaxis\":\"x\",\"y\":[140081],\"yaxis\":\"y\",\"type\":\"scatter\"},{\"hovertemplate\":\"city=Susanville<br>area_total_sq_mi=%{x}<br>population_total=%{marker.size}<extra></extra>\",\"legendgroup\":\"Susanville\",\"marker\":{\"color\":\"#FF97FF\",\"size\":[17974],\"sizemode\":\"area\",\"sizeref\":9710.7675,\"symbol\":\"circle\"},\"mode\":\"markers\",\"name\":\"Susanville\",\"orientation\":\"v\",\"showlegend\":true,\"x\":[8.017],\"xaxis\":\"x\",\"y\":[17974],\"yaxis\":\"y\",\"type\":\"scatter\"},{\"hovertemplate\":\"city=SutterCreek<br>area_total_sq_mi=%{x}<br>population_total=%{marker.size}<extra></extra>\",\"legendgroup\":\"SutterCreek\",\"marker\":{\"color\":\"#FECB52\",\"size\":[2501],\"sizemode\":\"area\",\"sizeref\":9710.7675,\"symbol\":\"circle\"},\"mode\":\"markers\",\"name\":\"SutterCreek\",\"orientation\":\"v\",\"showlegend\":true,\"x\":[2.5580000000000003],\"xaxis\":\"x\",\"y\":[2501],\"yaxis\":\"y\",\"type\":\"scatter\"},{\"hovertemplate\":\"city=Taft<br>area_total_sq_mi=%{x}<br>population_total=%{marker.size}<extra></extra>\",\"legendgroup\":\"Taft\",\"marker\":{\"color\":\"#636efa\",\"size\":[9327],\"sizemode\":\"area\",\"sizeref\":9710.7675,\"symbol\":\"circle\"},\"mode\":\"markers\",\"name\":\"Taft\",\"orientation\":\"v\",\"showlegend\":true,\"x\":[15.113],\"xaxis\":\"x\",\"y\":[9327],\"yaxis\":\"y\",\"type\":\"scatter\"},{\"hovertemplate\":\"city=Tehachapi<br>area_total_sq_mi=%{x}<br>population_total=%{marker.size}<extra></extra>\",\"legendgroup\":\"Tehachapi\",\"marker\":{\"color\":\"#EF553B\",\"size\":[14414],\"sizemode\":\"area\",\"sizeref\":9710.7675,\"symbol\":\"circle\"},\"mode\":\"markers\",\"name\":\"Tehachapi\",\"orientation\":\"v\",\"showlegend\":true,\"x\":[9.971],\"xaxis\":\"x\",\"y\":[14414],\"yaxis\":\"y\",\"type\":\"scatter\"},{\"hovertemplate\":\"city=Tehama<br>area_total_sq_mi=%{x}<br>population_total=%{marker.size}<extra></extra>\",\"legendgroup\":\"Tehama\",\"marker\":{\"color\":\"#00cc96\",\"size\":[418],\"sizemode\":\"area\",\"sizeref\":9710.7675,\"symbol\":\"circle\"},\"mode\":\"markers\",\"name\":\"Tehama\",\"orientation\":\"v\",\"showlegend\":true,\"x\":[0.794],\"xaxis\":\"x\",\"y\":[418],\"yaxis\":\"y\",\"type\":\"scatter\"},{\"hovertemplate\":\"city=Temecula<br>area_total_sq_mi=%{x}<br>population_total=%{marker.size}<extra></extra>\",\"legendgroup\":\"Temecula\",\"marker\":{\"color\":\"#ab63fa\",\"size\":[105208],\"sizemode\":\"area\",\"sizeref\":9710.7675,\"symbol\":\"circle\"},\"mode\":\"markers\",\"name\":\"Temecula\",\"orientation\":\"v\",\"showlegend\":true,\"x\":[30.166999999999998],\"xaxis\":\"x\",\"y\":[105208],\"yaxis\":\"y\",\"type\":\"scatter\"},{\"hovertemplate\":\"city=TempleCity<br>area_total_sq_mi=%{x}<br>population_total=%{marker.size}<extra></extra>\",\"legendgroup\":\"TempleCity\",\"marker\":{\"color\":\"#FFA15A\",\"size\":[35558],\"sizemode\":\"area\",\"sizeref\":9710.7675,\"symbol\":\"circle\"},\"mode\":\"markers\",\"name\":\"TempleCity\",\"orientation\":\"v\",\"showlegend\":true,\"x\":[4.006],\"xaxis\":\"x\",\"y\":[35558],\"yaxis\":\"y\",\"type\":\"scatter\"},{\"hovertemplate\":\"city=ThousandOaks<br>area_total_sq_mi=%{x}<br>population_total=%{marker.size}<extra></extra>\",\"legendgroup\":\"ThousandOaks\",\"marker\":{\"color\":\"#19d3f3\",\"size\":[128374],\"sizemode\":\"area\",\"sizeref\":9710.7675,\"symbol\":\"circle\"},\"mode\":\"markers\",\"name\":\"ThousandOaks\",\"orientation\":\"v\",\"showlegend\":true,\"x\":[55.181000000000004],\"xaxis\":\"x\",\"y\":[128374],\"yaxis\":\"y\",\"type\":\"scatter\"},{\"hovertemplate\":\"city=Tiburon<br>area_total_sq_mi=%{x}<br>population_total=%{marker.size}<extra></extra>\",\"legendgroup\":\"Tiburon\",\"marker\":{\"color\":\"#FF6692\",\"size\":[8962],\"sizemode\":\"area\",\"sizeref\":9710.7675,\"symbol\":\"circle\"},\"mode\":\"markers\",\"name\":\"Tiburon\",\"orientation\":\"v\",\"showlegend\":true,\"x\":[13.182000000000002],\"xaxis\":\"x\",\"y\":[8962],\"yaxis\":\"y\",\"type\":\"scatter\"},{\"hovertemplate\":\"city=Torrance<br>area_total_sq_mi=%{x}<br>population_total=%{marker.size}<extra></extra>\",\"legendgroup\":\"Torrance\",\"marker\":{\"color\":\"#B6E880\",\"size\":[147027],\"sizemode\":\"area\",\"sizeref\":9710.7675,\"symbol\":\"circle\"},\"mode\":\"markers\",\"name\":\"Torrance\",\"orientation\":\"v\",\"showlegend\":true,\"x\":[20.553],\"xaxis\":\"x\",\"y\":[147027],\"yaxis\":\"y\",\"type\":\"scatter\"},{\"hovertemplate\":\"city=Tracy<br>area_total_sq_mi=%{x}<br>population_total=%{marker.size}<extra></extra>\",\"legendgroup\":\"Tracy\",\"marker\":{\"color\":\"#FF97FF\",\"size\":[82922],\"sizemode\":\"area\",\"sizeref\":9710.7675,\"symbol\":\"circle\"},\"mode\":\"markers\",\"name\":\"Tracy\",\"orientation\":\"v\",\"showlegend\":true,\"x\":[22.139],\"xaxis\":\"x\",\"y\":[82922],\"yaxis\":\"y\",\"type\":\"scatter\"},{\"hovertemplate\":\"city=Trinidad<br>area_total_sq_mi=%{x}<br>population_total=%{marker.size}<extra></extra>\",\"legendgroup\":\"Trinidad\",\"marker\":{\"color\":\"#FECB52\",\"size\":[367],\"sizemode\":\"area\",\"sizeref\":9710.7675,\"symbol\":\"circle\"},\"mode\":\"markers\",\"name\":\"Trinidad\",\"orientation\":\"v\",\"showlegend\":true,\"x\":[0.671],\"xaxis\":\"x\",\"y\":[367],\"yaxis\":\"y\",\"type\":\"scatter\"},{\"hovertemplate\":\"city=Truckee<br>area_total_sq_mi=%{x}<br>population_total=%{marker.size}<extra></extra>\",\"legendgroup\":\"Truckee\",\"marker\":{\"color\":\"#636efa\",\"size\":[16180],\"sizemode\":\"area\",\"sizeref\":9710.7675,\"symbol\":\"circle\"},\"mode\":\"markers\",\"name\":\"Truckee\",\"orientation\":\"v\",\"showlegend\":true,\"x\":[33.654],\"xaxis\":\"x\",\"y\":[16180],\"yaxis\":\"y\",\"type\":\"scatter\"},{\"hovertemplate\":\"city=Tulare<br>area_total_sq_mi=%{x}<br>population_total=%{marker.size}<extra></extra>\",\"legendgroup\":\"Tulare\",\"marker\":{\"color\":\"#EF553B\",\"size\":[59278],\"sizemode\":\"area\",\"sizeref\":9710.7675,\"symbol\":\"circle\"},\"mode\":\"markers\",\"name\":\"Tulare\",\"orientation\":\"v\",\"showlegend\":true,\"x\":[21.016000000000002],\"xaxis\":\"x\",\"y\":[59278],\"yaxis\":\"y\",\"type\":\"scatter\"},{\"hovertemplate\":\"city=Tulelake<br>area_total_sq_mi=%{x}<br>population_total=%{marker.size}<extra></extra>\",\"legendgroup\":\"Tulelake\",\"marker\":{\"color\":\"#00cc96\",\"size\":[1010],\"sizemode\":\"area\",\"sizeref\":9710.7675,\"symbol\":\"circle\"},\"mode\":\"markers\",\"name\":\"Tulelake\",\"orientation\":\"v\",\"showlegend\":true,\"x\":[0.412],\"xaxis\":\"x\",\"y\":[1010],\"yaxis\":\"y\",\"type\":\"scatter\"},{\"hovertemplate\":\"city=Turlock<br>area_total_sq_mi=%{x}<br>population_total=%{marker.size}<extra></extra>\",\"legendgroup\":\"Turlock\",\"marker\":{\"color\":\"#ab63fa\",\"size\":[69733],\"sizemode\":\"area\",\"sizeref\":9710.7675,\"symbol\":\"circle\"},\"mode\":\"markers\",\"name\":\"Turlock\",\"orientation\":\"v\",\"showlegend\":true,\"x\":[16.928],\"xaxis\":\"x\",\"y\":[69733],\"yaxis\":\"y\",\"type\":\"scatter\"},{\"hovertemplate\":\"city=Tustin<br>area_total_sq_mi=%{x}<br>population_total=%{marker.size}<extra></extra>\",\"legendgroup\":\"Tustin\",\"marker\":{\"color\":\"#FFA15A\",\"size\":[75540],\"sizemode\":\"area\",\"sizeref\":9710.7675,\"symbol\":\"circle\"},\"mode\":\"markers\",\"name\":\"Tustin\",\"orientation\":\"v\",\"showlegend\":true,\"x\":[11.082],\"xaxis\":\"x\",\"y\":[75540],\"yaxis\":\"y\",\"type\":\"scatter\"},{\"hovertemplate\":\"city=TwentyninePalms<br>area_total_sq_mi=%{x}<br>population_total=%{marker.size}<extra></extra>\",\"legendgroup\":\"TwentyninePalms\",\"marker\":{\"color\":\"#19d3f3\",\"size\":[25768],\"sizemode\":\"area\",\"sizeref\":9710.7675,\"symbol\":\"circle\"},\"mode\":\"markers\",\"name\":\"TwentyninePalms\",\"orientation\":\"v\",\"showlegend\":true,\"x\":[59.143],\"xaxis\":\"x\",\"y\":[25768],\"yaxis\":\"y\",\"type\":\"scatter\"},{\"hovertemplate\":\"city=Ukiah<br>area_total_sq_mi=%{x}<br>population_total=%{marker.size}<extra></extra>\",\"legendgroup\":\"Ukiah\",\"marker\":{\"color\":\"#FF6692\",\"size\":[16075],\"sizemode\":\"area\",\"sizeref\":9710.7675,\"symbol\":\"circle\"},\"mode\":\"markers\",\"name\":\"Ukiah\",\"orientation\":\"v\",\"showlegend\":true,\"x\":[4.7219999999999995],\"xaxis\":\"x\",\"y\":[16075],\"yaxis\":\"y\",\"type\":\"scatter\"},{\"hovertemplate\":\"city=Upland<br>area_total_sq_mi=%{x}<br>population_total=%{marker.size}<extra></extra>\",\"legendgroup\":\"Upland\",\"marker\":{\"color\":\"#B6E880\",\"size\":[73732],\"sizemode\":\"area\",\"sizeref\":9710.7675,\"symbol\":\"circle\"},\"mode\":\"markers\",\"name\":\"Upland\",\"orientation\":\"v\",\"showlegend\":true,\"x\":[15.651000000000002],\"xaxis\":\"x\",\"y\":[73732],\"yaxis\":\"y\",\"type\":\"scatter\"},{\"hovertemplate\":\"city=Vacaville<br>area_total_sq_mi=%{x}<br>population_total=%{marker.size}<extra></extra>\",\"legendgroup\":\"Vacaville\",\"marker\":{\"color\":\"#FF97FF\",\"size\":[92428],\"sizemode\":\"area\",\"sizeref\":9710.7675,\"symbol\":\"circle\"},\"mode\":\"markers\",\"name\":\"Vacaville\",\"orientation\":\"v\",\"showlegend\":true,\"x\":[28.585],\"xaxis\":\"x\",\"y\":[92428],\"yaxis\":\"y\",\"type\":\"scatter\"},{\"hovertemplate\":\"city=Vallejo<br>area_total_sq_mi=%{x}<br>population_total=%{marker.size}<extra></extra>\",\"legendgroup\":\"Vallejo\",\"marker\":{\"color\":\"#FECB52\",\"size\":[115942],\"sizemode\":\"area\",\"sizeref\":9710.7675,\"symbol\":\"circle\"},\"mode\":\"markers\",\"name\":\"Vallejo\",\"orientation\":\"v\",\"showlegend\":true,\"x\":[49.400000000000006],\"xaxis\":\"x\",\"y\":[115942],\"yaxis\":\"y\",\"type\":\"scatter\"},{\"hovertemplate\":\"city=Ventura<br>area_total_sq_mi=%{x}<br>population_total=%{marker.size}<extra></extra>\",\"legendgroup\":\"Ventura\",\"marker\":{\"color\":\"#636efa\",\"size\":[106433],\"sizemode\":\"area\",\"sizeref\":9710.7675,\"symbol\":\"circle\"},\"mode\":\"markers\",\"name\":\"Ventura\",\"orientation\":\"v\",\"showlegend\":true,\"x\":[32.095],\"xaxis\":\"x\",\"y\":[106433],\"yaxis\":\"y\",\"type\":\"scatter\"},{\"hovertemplate\":\"city=Vernon<br>area_total_sq_mi=%{x}<br>population_total=%{marker.size}<extra></extra>\",\"legendgroup\":\"Vernon\",\"marker\":{\"color\":\"#EF553B\",\"size\":[112],\"sizemode\":\"area\",\"sizeref\":9710.7675,\"symbol\":\"circle\"},\"mode\":\"markers\",\"name\":\"Vernon\",\"orientation\":\"v\",\"showlegend\":true,\"x\":[5.157],\"xaxis\":\"x\",\"y\":[112],\"yaxis\":\"y\",\"type\":\"scatter\"},{\"hovertemplate\":\"city=Victorville<br>area_total_sq_mi=%{x}<br>population_total=%{marker.size}<extra></extra>\",\"legendgroup\":\"Victorville\",\"marker\":{\"color\":\"#00cc96\",\"size\":[120336],\"sizemode\":\"area\",\"sizeref\":9710.7675,\"symbol\":\"circle\"},\"mode\":\"markers\",\"name\":\"Victorville\",\"orientation\":\"v\",\"showlegend\":true,\"x\":[73.741],\"xaxis\":\"x\",\"y\":[120336],\"yaxis\":\"y\",\"type\":\"scatter\"},{\"hovertemplate\":\"city=VillaPark<br>area_total_sq_mi=%{x}<br>population_total=%{marker.size}<extra></extra>\",\"legendgroup\":\"VillaPark\",\"marker\":{\"color\":\"#ab63fa\",\"size\":[5812],\"sizemode\":\"area\",\"sizeref\":9710.7675,\"symbol\":\"circle\"},\"mode\":\"markers\",\"name\":\"VillaPark\",\"orientation\":\"v\",\"showlegend\":true,\"x\":[2.0780000000000003],\"xaxis\":\"x\",\"y\":[5812],\"yaxis\":\"y\",\"type\":\"scatter\"},{\"hovertemplate\":\"city=Visalia<br>area_total_sq_mi=%{x}<br>population_total=%{marker.size}<extra></extra>\",\"legendgroup\":\"Visalia\",\"marker\":{\"color\":\"#FFA15A\",\"size\":[124442],\"sizemode\":\"area\",\"sizeref\":9710.7675,\"symbol\":\"circle\"},\"mode\":\"markers\",\"name\":\"Visalia\",\"orientation\":\"v\",\"showlegend\":true,\"x\":[36.266000000000005],\"xaxis\":\"x\",\"y\":[124442],\"yaxis\":\"y\",\"type\":\"scatter\"},{\"hovertemplate\":\"city=Vista<br>area_total_sq_mi=%{x}<br>population_total=%{marker.size}<extra></extra>\",\"legendgroup\":\"Vista\",\"marker\":{\"color\":\"#19d3f3\",\"size\":[93834],\"sizemode\":\"area\",\"sizeref\":9710.7675,\"symbol\":\"circle\"},\"mode\":\"markers\",\"name\":\"Vista\",\"orientation\":\"v\",\"showlegend\":true,\"x\":[18.678],\"xaxis\":\"x\",\"y\":[93834],\"yaxis\":\"y\",\"type\":\"scatter\"},{\"hovertemplate\":\"city=Walnut<br>area_total_sq_mi=%{x}<br>population_total=%{marker.size}<extra></extra>\",\"legendgroup\":\"Walnut\",\"marker\":{\"color\":\"#FF6692\",\"size\":[29172],\"sizemode\":\"area\",\"sizeref\":9710.7675,\"symbol\":\"circle\"},\"mode\":\"markers\",\"name\":\"Walnut\",\"orientation\":\"v\",\"showlegend\":true,\"x\":[8.996],\"xaxis\":\"x\",\"y\":[29172],\"yaxis\":\"y\",\"type\":\"scatter\"},{\"hovertemplate\":\"city=WalnutCreek<br>area_total_sq_mi=%{x}<br>population_total=%{marker.size}<extra></extra>\",\"legendgroup\":\"WalnutCreek\",\"marker\":{\"color\":\"#B6E880\",\"size\":[64173],\"sizemode\":\"area\",\"sizeref\":9710.7675,\"symbol\":\"circle\"},\"mode\":\"markers\",\"name\":\"WalnutCreek\",\"orientation\":\"v\",\"showlegend\":true,\"x\":[19.769000000000002],\"xaxis\":\"x\",\"y\":[64173],\"yaxis\":\"y\",\"type\":\"scatter\"},{\"hovertemplate\":\"city=Wasco<br>area_total_sq_mi=%{x}<br>population_total=%{marker.size}<extra></extra>\",\"legendgroup\":\"Wasco\",\"marker\":{\"color\":\"#FF97FF\",\"size\":[25545],\"sizemode\":\"area\",\"sizeref\":9710.7675,\"symbol\":\"circle\"},\"mode\":\"markers\",\"name\":\"Wasco\",\"orientation\":\"v\",\"showlegend\":true,\"x\":[9.426],\"xaxis\":\"x\",\"y\":[25545],\"yaxis\":\"y\",\"type\":\"scatter\"},{\"hovertemplate\":\"city=Waterford<br>area_total_sq_mi=%{x}<br>population_total=%{marker.size}<extra></extra>\",\"legendgroup\":\"Waterford\",\"marker\":{\"color\":\"#FECB52\",\"size\":[8456],\"sizemode\":\"area\",\"sizeref\":9710.7675,\"symbol\":\"circle\"},\"mode\":\"markers\",\"name\":\"Waterford\",\"orientation\":\"v\",\"showlegend\":true,\"x\":[2.369],\"xaxis\":\"x\",\"y\":[8456],\"yaxis\":\"y\",\"type\":\"scatter\"},{\"hovertemplate\":\"city=Watsonville<br>area_total_sq_mi=%{x}<br>population_total=%{marker.size}<extra></extra>\",\"legendgroup\":\"Watsonville\",\"marker\":{\"color\":\"#636efa\",\"size\":[51199],\"sizemode\":\"area\",\"sizeref\":9710.7675,\"symbol\":\"circle\"},\"mode\":\"markers\",\"name\":\"Watsonville\",\"orientation\":\"v\",\"showlegend\":true,\"x\":[6.783],\"xaxis\":\"x\",\"y\":[51199],\"yaxis\":\"y\",\"type\":\"scatter\"},{\"hovertemplate\":\"city=Weed<br>area_total_sq_mi=%{x}<br>population_total=%{marker.size}<extra></extra>\",\"legendgroup\":\"Weed\",\"marker\":{\"color\":\"#EF553B\",\"size\":[2967],\"sizemode\":\"area\",\"sizeref\":9710.7675,\"symbol\":\"circle\"},\"mode\":\"markers\",\"name\":\"Weed\",\"orientation\":\"v\",\"showlegend\":true,\"x\":[4.795],\"xaxis\":\"x\",\"y\":[2967],\"yaxis\":\"y\",\"type\":\"scatter\"},{\"hovertemplate\":\"city=WestCovina<br>area_total_sq_mi=%{x}<br>population_total=%{marker.size}<extra></extra>\",\"legendgroup\":\"WestCovina\",\"marker\":{\"color\":\"#00cc96\",\"size\":[106098],\"sizemode\":\"area\",\"sizeref\":9710.7675,\"symbol\":\"circle\"},\"mode\":\"markers\",\"name\":\"WestCovina\",\"orientation\":\"v\",\"showlegend\":true,\"x\":[16.09],\"xaxis\":\"x\",\"y\":[106098],\"yaxis\":\"y\",\"type\":\"scatter\"},{\"hovertemplate\":\"city=WestHollywood<br>area_total_sq_mi=%{x}<br>population_total=%{marker.size}<extra></extra>\",\"legendgroup\":\"WestHollywood\",\"marker\":{\"color\":\"#ab63fa\",\"size\":[34650],\"sizemode\":\"area\",\"sizeref\":9710.7675,\"symbol\":\"circle\"},\"mode\":\"markers\",\"name\":\"WestHollywood\",\"orientation\":\"v\",\"showlegend\":true,\"x\":[1.887],\"xaxis\":\"x\",\"y\":[34650],\"yaxis\":\"y\",\"type\":\"scatter\"},{\"hovertemplate\":\"city=WestlakeVillage<br>area_total_sq_mi=%{x}<br>population_total=%{marker.size}<extra></extra>\",\"legendgroup\":\"WestlakeVillage\",\"marker\":{\"color\":\"#FFA15A\",\"size\":[8270],\"sizemode\":\"area\",\"sizeref\":9710.7675,\"symbol\":\"circle\"},\"mode\":\"markers\",\"name\":\"WestlakeVillage\",\"orientation\":\"v\",\"showlegend\":true,\"x\":[5.505],\"xaxis\":\"x\",\"y\":[8270],\"yaxis\":\"y\",\"type\":\"scatter\"},{\"hovertemplate\":\"city=Westminster<br>area_total_sq_mi=%{x}<br>population_total=%{marker.size}<extra></extra>\",\"legendgroup\":\"Westminster\",\"marker\":{\"color\":\"#19d3f3\",\"size\":[89701],\"sizemode\":\"area\",\"sizeref\":9710.7675,\"symbol\":\"circle\"},\"mode\":\"markers\",\"name\":\"Westminster\",\"orientation\":\"v\",\"showlegend\":true,\"x\":[10.049],\"xaxis\":\"x\",\"y\":[89701],\"yaxis\":\"y\",\"type\":\"scatter\"},{\"hovertemplate\":\"city=Westmorland<br>area_total_sq_mi=%{x}<br>population_total=%{marker.size}<extra></extra>\",\"legendgroup\":\"Westmorland\",\"marker\":{\"color\":\"#FF6692\",\"size\":[2225],\"sizemode\":\"area\",\"sizeref\":9710.7675,\"symbol\":\"circle\"},\"mode\":\"markers\",\"name\":\"Westmorland\",\"orientation\":\"v\",\"showlegend\":true,\"x\":[0.59],\"xaxis\":\"x\",\"y\":[2225],\"yaxis\":\"y\",\"type\":\"scatter\"},{\"hovertemplate\":\"city=WestSacramento<br>area_total_sq_mi=%{x}<br>population_total=%{marker.size}<extra></extra>\",\"legendgroup\":\"WestSacramento\",\"marker\":{\"color\":\"#B6E880\",\"size\":[48744],\"sizemode\":\"area\",\"sizeref\":9710.7675,\"symbol\":\"circle\"},\"mode\":\"markers\",\"name\":\"WestSacramento\",\"orientation\":\"v\",\"showlegend\":true,\"x\":[22.846],\"xaxis\":\"x\",\"y\":[48744],\"yaxis\":\"y\",\"type\":\"scatter\"},{\"hovertemplate\":\"city=Wheatland<br>area_total_sq_mi=%{x}<br>population_total=%{marker.size}<extra></extra>\",\"legendgroup\":\"Wheatland\",\"marker\":{\"color\":\"#FF97FF\",\"size\":[3456],\"sizemode\":\"area\",\"sizeref\":9710.7675,\"symbol\":\"circle\"},\"mode\":\"markers\",\"name\":\"Wheatland\",\"orientation\":\"v\",\"showlegend\":true,\"x\":[1.486],\"xaxis\":\"x\",\"y\":[3456],\"yaxis\":\"y\",\"type\":\"scatter\"},{\"hovertemplate\":\"city=Whittier<br>area_total_sq_mi=%{x}<br>population_total=%{marker.size}<extra></extra>\",\"legendgroup\":\"Whittier\",\"marker\":{\"color\":\"#FECB52\",\"size\":[85331],\"sizemode\":\"area\",\"sizeref\":9710.7675,\"symbol\":\"circle\"},\"mode\":\"markers\",\"name\":\"Whittier\",\"orientation\":\"v\",\"showlegend\":true,\"x\":[14.716],\"xaxis\":\"x\",\"y\":[85331],\"yaxis\":\"y\",\"type\":\"scatter\"},{\"hovertemplate\":\"city=Wildomar<br>area_total_sq_mi=%{x}<br>population_total=%{marker.size}<extra></extra>\",\"legendgroup\":\"Wildomar\",\"marker\":{\"color\":\"#636efa\",\"size\":[32176],\"sizemode\":\"area\",\"sizeref\":9710.7675,\"symbol\":\"circle\"},\"mode\":\"markers\",\"name\":\"Wildomar\",\"orientation\":\"v\",\"showlegend\":true,\"x\":[23.688],\"xaxis\":\"x\",\"y\":[32176],\"yaxis\":\"y\",\"type\":\"scatter\"},{\"hovertemplate\":\"city=Williams<br>area_total_sq_mi=%{x}<br>population_total=%{marker.size}<extra></extra>\",\"legendgroup\":\"Williams\",\"marker\":{\"color\":\"#EF553B\",\"size\":[5123],\"sizemode\":\"area\",\"sizeref\":9710.7675,\"symbol\":\"circle\"},\"mode\":\"markers\",\"name\":\"Williams\",\"orientation\":\"v\",\"showlegend\":true,\"x\":[5.444],\"xaxis\":\"x\",\"y\":[5123],\"yaxis\":\"y\",\"type\":\"scatter\"},{\"hovertemplate\":\"city=Willits<br>area_total_sq_mi=%{x}<br>population_total=%{marker.size}<extra></extra>\",\"legendgroup\":\"Willits\",\"marker\":{\"color\":\"#00cc96\",\"size\":[4888],\"sizemode\":\"area\",\"sizeref\":9710.7675,\"symbol\":\"circle\"},\"mode\":\"markers\",\"name\":\"Willits\",\"orientation\":\"v\",\"showlegend\":true,\"x\":[2.803],\"xaxis\":\"x\",\"y\":[4888],\"yaxis\":\"y\",\"type\":\"scatter\"},{\"hovertemplate\":\"city=Willows<br>area_total_sq_mi=%{x}<br>population_total=%{marker.size}<extra></extra>\",\"legendgroup\":\"Willows\",\"marker\":{\"color\":\"#ab63fa\",\"size\":[6166],\"sizemode\":\"area\",\"sizeref\":9710.7675,\"symbol\":\"circle\"},\"mode\":\"markers\",\"name\":\"Willows\",\"orientation\":\"v\",\"showlegend\":true,\"x\":[2.8729999999999998],\"xaxis\":\"x\",\"y\":[6166],\"yaxis\":\"y\",\"type\":\"scatter\"},{\"hovertemplate\":\"city=Windsor<br>area_total_sq_mi=%{x}<br>population_total=%{marker.size}<extra></extra>\",\"legendgroup\":\"Windsor\",\"marker\":{\"color\":\"#FFA15A\",\"size\":[26801],\"sizemode\":\"area\",\"sizeref\":9710.7675,\"symbol\":\"circle\"},\"mode\":\"markers\",\"name\":\"Windsor\",\"orientation\":\"v\",\"showlegend\":true,\"x\":[7.293],\"xaxis\":\"x\",\"y\":[26801],\"yaxis\":\"y\",\"type\":\"scatter\"},{\"hovertemplate\":\"city=Winters<br>area_total_sq_mi=%{x}<br>population_total=%{marker.size}<extra></extra>\",\"legendgroup\":\"Winters\",\"marker\":{\"color\":\"#19d3f3\",\"size\":[6624],\"sizemode\":\"area\",\"sizeref\":9710.7675,\"symbol\":\"circle\"},\"mode\":\"markers\",\"name\":\"Winters\",\"orientation\":\"v\",\"showlegend\":true,\"x\":[2.937],\"xaxis\":\"x\",\"y\":[6624],\"yaxis\":\"y\",\"type\":\"scatter\"},{\"hovertemplate\":\"city=Woodlake<br>area_total_sq_mi=%{x}<br>population_total=%{marker.size}<extra></extra>\",\"legendgroup\":\"Woodlake\",\"marker\":{\"color\":\"#FF6692\",\"size\":[7279],\"sizemode\":\"area\",\"sizeref\":9710.7675,\"symbol\":\"circle\"},\"mode\":\"markers\",\"name\":\"Woodlake\",\"orientation\":\"v\",\"showlegend\":true,\"x\":[2.765],\"xaxis\":\"x\",\"y\":[7279],\"yaxis\":\"y\",\"type\":\"scatter\"},{\"hovertemplate\":\"city=Woodland<br>area_total_sq_mi=%{x}<br>population_total=%{marker.size}<extra></extra>\",\"legendgroup\":\"Woodland\",\"marker\":{\"color\":\"#B6E880\",\"size\":[55468],\"sizemode\":\"area\",\"sizeref\":9710.7675,\"symbol\":\"circle\"},\"mode\":\"markers\",\"name\":\"Woodland\",\"orientation\":\"v\",\"showlegend\":true,\"x\":[15.303],\"xaxis\":\"x\",\"y\":[55468],\"yaxis\":\"y\",\"type\":\"scatter\"},{\"hovertemplate\":\"city=Woodside<br>area_total_sq_mi=%{x}<br>population_total=%{marker.size}<extra></extra>\",\"legendgroup\":\"Woodside\",\"marker\":{\"color\":\"#FF97FF\",\"size\":[5287],\"sizemode\":\"area\",\"sizeref\":9710.7675,\"symbol\":\"circle\"},\"mode\":\"markers\",\"name\":\"Woodside\",\"orientation\":\"v\",\"showlegend\":true,\"x\":[11.732],\"xaxis\":\"x\",\"y\":[5287],\"yaxis\":\"y\",\"type\":\"scatter\"},{\"hovertemplate\":\"city=YorbaLinda<br>area_total_sq_mi=%{x}<br>population_total=%{marker.size}<extra></extra>\",\"legendgroup\":\"YorbaLinda\",\"marker\":{\"color\":\"#FECB52\",\"size\":[65237],\"sizemode\":\"area\",\"sizeref\":9710.7675,\"symbol\":\"circle\"},\"mode\":\"markers\",\"name\":\"YorbaLinda\",\"orientation\":\"v\",\"showlegend\":true,\"x\":[20.018],\"xaxis\":\"x\",\"y\":[65237],\"yaxis\":\"y\",\"type\":\"scatter\"},{\"hovertemplate\":\"city=Yountville<br>area_total_sq_mi=%{x}<br>population_total=%{marker.size}<extra></extra>\",\"legendgroup\":\"Yountville\",\"marker\":{\"color\":\"#636efa\",\"size\":[2933],\"sizemode\":\"area\",\"sizeref\":9710.7675,\"symbol\":\"circle\"},\"mode\":\"markers\",\"name\":\"Yountville\",\"orientation\":\"v\",\"showlegend\":true,\"x\":[1.531],\"xaxis\":\"x\",\"y\":[2933],\"yaxis\":\"y\",\"type\":\"scatter\"},{\"hovertemplate\":\"city=Yreka<br>area_total_sq_mi=%{x}<br>population_total=%{marker.size}<extra></extra>\",\"legendgroup\":\"Yreka\",\"marker\":{\"color\":\"#EF553B\",\"size\":[7765],\"sizemode\":\"area\",\"sizeref\":9710.7675,\"symbol\":\"circle\"},\"mode\":\"markers\",\"name\":\"Yreka\",\"orientation\":\"v\",\"showlegend\":true,\"x\":[10.053],\"xaxis\":\"x\",\"y\":[7765],\"yaxis\":\"y\",\"type\":\"scatter\"},{\"hovertemplate\":\"city=YubaCity<br>area_total_sq_mi=%{x}<br>population_total=%{marker.size}<extra></extra>\",\"legendgroup\":\"YubaCity\",\"marker\":{\"color\":\"#00cc96\",\"size\":[64925],\"sizemode\":\"area\",\"sizeref\":9710.7675,\"symbol\":\"circle\"},\"mode\":\"markers\",\"name\":\"YubaCity\",\"orientation\":\"v\",\"showlegend\":true,\"x\":[14.655999999999999],\"xaxis\":\"x\",\"y\":[64925],\"yaxis\":\"y\",\"type\":\"scatter\"},{\"hovertemplate\":\"city=Yucaipa<br>area_total_sq_mi=%{x}<br>population_total=%{marker.size}<extra></extra>\",\"legendgroup\":\"Yucaipa\",\"marker\":{\"color\":\"#ab63fa\",\"size\":[51367],\"sizemode\":\"area\",\"sizeref\":9710.7675,\"symbol\":\"circle\"},\"mode\":\"markers\",\"name\":\"Yucaipa\",\"orientation\":\"v\",\"showlegend\":true,\"x\":[27.893],\"xaxis\":\"x\",\"y\":[51367],\"yaxis\":\"y\",\"type\":\"scatter\"},{\"hovertemplate\":\"city=YuccaValley<br>area_total_sq_mi=%{x}<br>population_total=%{marker.size}<extra></extra>\",\"legendgroup\":\"YuccaValley\",\"marker\":{\"color\":\"#FFA15A\",\"size\":[20700],\"sizemode\":\"area\",\"sizeref\":9710.7675,\"symbol\":\"circle\"},\"mode\":\"markers\",\"name\":\"YuccaValley\",\"orientation\":\"v\",\"showlegend\":true,\"x\":[40.015],\"xaxis\":\"x\",\"y\":[20700],\"yaxis\":\"y\",\"type\":\"scatter\"}],                        {\"template\":{\"data\":{\"histogram2dcontour\":[{\"type\":\"histogram2dcontour\",\"colorbar\":{\"outlinewidth\":0,\"ticks\":\"\"},\"colorscale\":[[0.0,\"#0d0887\"],[0.1111111111111111,\"#46039f\"],[0.2222222222222222,\"#7201a8\"],[0.3333333333333333,\"#9c179e\"],[0.4444444444444444,\"#bd3786\"],[0.5555555555555556,\"#d8576b\"],[0.6666666666666666,\"#ed7953\"],[0.7777777777777778,\"#fb9f3a\"],[0.8888888888888888,\"#fdca26\"],[1.0,\"#f0f921\"]]}],\"choropleth\":[{\"type\":\"choropleth\",\"colorbar\":{\"outlinewidth\":0,\"ticks\":\"\"}}],\"histogram2d\":[{\"type\":\"histogram2d\",\"colorbar\":{\"outlinewidth\":0,\"ticks\":\"\"},\"colorscale\":[[0.0,\"#0d0887\"],[0.1111111111111111,\"#46039f\"],[0.2222222222222222,\"#7201a8\"],[0.3333333333333333,\"#9c179e\"],[0.4444444444444444,\"#bd3786\"],[0.5555555555555556,\"#d8576b\"],[0.6666666666666666,\"#ed7953\"],[0.7777777777777778,\"#fb9f3a\"],[0.8888888888888888,\"#fdca26\"],[1.0,\"#f0f921\"]]}],\"heatmap\":[{\"type\":\"heatmap\",\"colorbar\":{\"outlinewidth\":0,\"ticks\":\"\"},\"colorscale\":[[0.0,\"#0d0887\"],[0.1111111111111111,\"#46039f\"],[0.2222222222222222,\"#7201a8\"],[0.3333333333333333,\"#9c179e\"],[0.4444444444444444,\"#bd3786\"],[0.5555555555555556,\"#d8576b\"],[0.6666666666666666,\"#ed7953\"],[0.7777777777777778,\"#fb9f3a\"],[0.8888888888888888,\"#fdca26\"],[1.0,\"#f0f921\"]]}],\"heatmapgl\":[{\"type\":\"heatmapgl\",\"colorbar\":{\"outlinewidth\":0,\"ticks\":\"\"},\"colorscale\":[[0.0,\"#0d0887\"],[0.1111111111111111,\"#46039f\"],[0.2222222222222222,\"#7201a8\"],[0.3333333333333333,\"#9c179e\"],[0.4444444444444444,\"#bd3786\"],[0.5555555555555556,\"#d8576b\"],[0.6666666666666666,\"#ed7953\"],[0.7777777777777778,\"#fb9f3a\"],[0.8888888888888888,\"#fdca26\"],[1.0,\"#f0f921\"]]}],\"contourcarpet\":[{\"type\":\"contourcarpet\",\"colorbar\":{\"outlinewidth\":0,\"ticks\":\"\"}}],\"contour\":[{\"type\":\"contour\",\"colorbar\":{\"outlinewidth\":0,\"ticks\":\"\"},\"colorscale\":[[0.0,\"#0d0887\"],[0.1111111111111111,\"#46039f\"],[0.2222222222222222,\"#7201a8\"],[0.3333333333333333,\"#9c179e\"],[0.4444444444444444,\"#bd3786\"],[0.5555555555555556,\"#d8576b\"],[0.6666666666666666,\"#ed7953\"],[0.7777777777777778,\"#fb9f3a\"],[0.8888888888888888,\"#fdca26\"],[1.0,\"#f0f921\"]]}],\"surface\":[{\"type\":\"surface\",\"colorbar\":{\"outlinewidth\":0,\"ticks\":\"\"},\"colorscale\":[[0.0,\"#0d0887\"],[0.1111111111111111,\"#46039f\"],[0.2222222222222222,\"#7201a8\"],[0.3333333333333333,\"#9c179e\"],[0.4444444444444444,\"#bd3786\"],[0.5555555555555556,\"#d8576b\"],[0.6666666666666666,\"#ed7953\"],[0.7777777777777778,\"#fb9f3a\"],[0.8888888888888888,\"#fdca26\"],[1.0,\"#f0f921\"]]}],\"mesh3d\":[{\"type\":\"mesh3d\",\"colorbar\":{\"outlinewidth\":0,\"ticks\":\"\"}}],\"scatter\":[{\"fillpattern\":{\"fillmode\":\"overlay\",\"size\":10,\"solidity\":0.2},\"type\":\"scatter\"}],\"parcoords\":[{\"type\":\"parcoords\",\"line\":{\"colorbar\":{\"outlinewidth\":0,\"ticks\":\"\"}}}],\"scatterpolargl\":[{\"type\":\"scatterpolargl\",\"marker\":{\"colorbar\":{\"outlinewidth\":0,\"ticks\":\"\"}}}],\"bar\":[{\"error_x\":{\"color\":\"#2a3f5f\"},\"error_y\":{\"color\":\"#2a3f5f\"},\"marker\":{\"line\":{\"color\":\"#E5ECF6\",\"width\":0.5},\"pattern\":{\"fillmode\":\"overlay\",\"size\":10,\"solidity\":0.2}},\"type\":\"bar\"}],\"scattergeo\":[{\"type\":\"scattergeo\",\"marker\":{\"colorbar\":{\"outlinewidth\":0,\"ticks\":\"\"}}}],\"scatterpolar\":[{\"type\":\"scatterpolar\",\"marker\":{\"colorbar\":{\"outlinewidth\":0,\"ticks\":\"\"}}}],\"histogram\":[{\"marker\":{\"pattern\":{\"fillmode\":\"overlay\",\"size\":10,\"solidity\":0.2}},\"type\":\"histogram\"}],\"scattergl\":[{\"type\":\"scattergl\",\"marker\":{\"colorbar\":{\"outlinewidth\":0,\"ticks\":\"\"}}}],\"scatter3d\":[{\"type\":\"scatter3d\",\"line\":{\"colorbar\":{\"outlinewidth\":0,\"ticks\":\"\"}},\"marker\":{\"colorbar\":{\"outlinewidth\":0,\"ticks\":\"\"}}}],\"scattermapbox\":[{\"type\":\"scattermapbox\",\"marker\":{\"colorbar\":{\"outlinewidth\":0,\"ticks\":\"\"}}}],\"scatterternary\":[{\"type\":\"scatterternary\",\"marker\":{\"colorbar\":{\"outlinewidth\":0,\"ticks\":\"\"}}}],\"scattercarpet\":[{\"type\":\"scattercarpet\",\"marker\":{\"colorbar\":{\"outlinewidth\":0,\"ticks\":\"\"}}}],\"carpet\":[{\"aaxis\":{\"endlinecolor\":\"#2a3f5f\",\"gridcolor\":\"white\",\"linecolor\":\"white\",\"minorgridcolor\":\"white\",\"startlinecolor\":\"#2a3f5f\"},\"baxis\":{\"endlinecolor\":\"#2a3f5f\",\"gridcolor\":\"white\",\"linecolor\":\"white\",\"minorgridcolor\":\"white\",\"startlinecolor\":\"#2a3f5f\"},\"type\":\"carpet\"}],\"table\":[{\"cells\":{\"fill\":{\"color\":\"#EBF0F8\"},\"line\":{\"color\":\"white\"}},\"header\":{\"fill\":{\"color\":\"#C8D4E3\"},\"line\":{\"color\":\"white\"}},\"type\":\"table\"}],\"barpolar\":[{\"marker\":{\"line\":{\"color\":\"#E5ECF6\",\"width\":0.5},\"pattern\":{\"fillmode\":\"overlay\",\"size\":10,\"solidity\":0.2}},\"type\":\"barpolar\"}],\"pie\":[{\"automargin\":true,\"type\":\"pie\"}]},\"layout\":{\"autotypenumbers\":\"strict\",\"colorway\":[\"#636efa\",\"#EF553B\",\"#00cc96\",\"#ab63fa\",\"#FFA15A\",\"#19d3f3\",\"#FF6692\",\"#B6E880\",\"#FF97FF\",\"#FECB52\"],\"font\":{\"color\":\"#2a3f5f\"},\"hovermode\":\"closest\",\"hoverlabel\":{\"align\":\"left\"},\"paper_bgcolor\":\"white\",\"plot_bgcolor\":\"#E5ECF6\",\"polar\":{\"bgcolor\":\"#E5ECF6\",\"angularaxis\":{\"gridcolor\":\"white\",\"linecolor\":\"white\",\"ticks\":\"\"},\"radialaxis\":{\"gridcolor\":\"white\",\"linecolor\":\"white\",\"ticks\":\"\"}},\"ternary\":{\"bgcolor\":\"#E5ECF6\",\"aaxis\":{\"gridcolor\":\"white\",\"linecolor\":\"white\",\"ticks\":\"\"},\"baxis\":{\"gridcolor\":\"white\",\"linecolor\":\"white\",\"ticks\":\"\"},\"caxis\":{\"gridcolor\":\"white\",\"linecolor\":\"white\",\"ticks\":\"\"}},\"coloraxis\":{\"colorbar\":{\"outlinewidth\":0,\"ticks\":\"\"}},\"colorscale\":{\"sequential\":[[0.0,\"#0d0887\"],[0.1111111111111111,\"#46039f\"],[0.2222222222222222,\"#7201a8\"],[0.3333333333333333,\"#9c179e\"],[0.4444444444444444,\"#bd3786\"],[0.5555555555555556,\"#d8576b\"],[0.6666666666666666,\"#ed7953\"],[0.7777777777777778,\"#fb9f3a\"],[0.8888888888888888,\"#fdca26\"],[1.0,\"#f0f921\"]],\"sequentialminus\":[[0.0,\"#0d0887\"],[0.1111111111111111,\"#46039f\"],[0.2222222222222222,\"#7201a8\"],[0.3333333333333333,\"#9c179e\"],[0.4444444444444444,\"#bd3786\"],[0.5555555555555556,\"#d8576b\"],[0.6666666666666666,\"#ed7953\"],[0.7777777777777778,\"#fb9f3a\"],[0.8888888888888888,\"#fdca26\"],[1.0,\"#f0f921\"]],\"diverging\":[[0,\"#8e0152\"],[0.1,\"#c51b7d\"],[0.2,\"#de77ae\"],[0.3,\"#f1b6da\"],[0.4,\"#fde0ef\"],[0.5,\"#f7f7f7\"],[0.6,\"#e6f5d0\"],[0.7,\"#b8e186\"],[0.8,\"#7fbc41\"],[0.9,\"#4d9221\"],[1,\"#276419\"]]},\"xaxis\":{\"gridcolor\":\"white\",\"linecolor\":\"white\",\"ticks\":\"\",\"title\":{\"standoff\":15},\"zerolinecolor\":\"white\",\"automargin\":true,\"zerolinewidth\":2},\"yaxis\":{\"gridcolor\":\"white\",\"linecolor\":\"white\",\"ticks\":\"\",\"title\":{\"standoff\":15},\"zerolinecolor\":\"white\",\"automargin\":true,\"zerolinewidth\":2},\"scene\":{\"xaxis\":{\"backgroundcolor\":\"#E5ECF6\",\"gridcolor\":\"white\",\"linecolor\":\"white\",\"showbackground\":true,\"ticks\":\"\",\"zerolinecolor\":\"white\",\"gridwidth\":2},\"yaxis\":{\"backgroundcolor\":\"#E5ECF6\",\"gridcolor\":\"white\",\"linecolor\":\"white\",\"showbackground\":true,\"ticks\":\"\",\"zerolinecolor\":\"white\",\"gridwidth\":2},\"zaxis\":{\"backgroundcolor\":\"#E5ECF6\",\"gridcolor\":\"white\",\"linecolor\":\"white\",\"showbackground\":true,\"ticks\":\"\",\"zerolinecolor\":\"white\",\"gridwidth\":2}},\"shapedefaults\":{\"line\":{\"color\":\"#2a3f5f\"}},\"annotationdefaults\":{\"arrowcolor\":\"#2a3f5f\",\"arrowhead\":0,\"arrowwidth\":1},\"geo\":{\"bgcolor\":\"white\",\"landcolor\":\"#E5ECF6\",\"subunitcolor\":\"white\",\"showland\":true,\"showlakes\":true,\"lakecolor\":\"white\"},\"title\":{\"x\":0.05},\"mapbox\":{\"style\":\"light\"}}},\"xaxis\":{\"anchor\":\"y\",\"domain\":[0.0,1.0],\"title\":{\"text\":\"area_total_sq_mi\"}},\"yaxis\":{\"anchor\":\"x\",\"domain\":[0.0,1.0],\"title\":{\"text\":\"population_total\"}},\"legend\":{\"title\":{\"text\":\"city\"},\"tracegroupgap\":0,\"itemsizing\":\"constant\"},\"title\":{\"text\":\"Relationship between Area & Population\"}},                        {\"responsive\": true}                    ).then(function(){\n",
       "                            \n",
       "var gd = document.getElementById('238ea11e-6d25-4201-ab68-342a39d6e371');\n",
       "var x = new MutationObserver(function (mutations, observer) {{\n",
       "        var display = window.getComputedStyle(gd).display;\n",
       "        if (!display || display === 'none') {{\n",
       "            console.log([gd, 'removed!']);\n",
       "            Plotly.purge(gd);\n",
       "            observer.disconnect();\n",
       "        }}\n",
       "}});\n",
       "\n",
       "// Listen for the removal of the full notebook cells\n",
       "var notebookContainer = gd.closest('#notebook-container');\n",
       "if (notebookContainer) {{\n",
       "    x.observe(notebookContainer, {childList: true});\n",
       "}}\n",
       "\n",
       "// Listen for the clearing of the current output cell\n",
       "var outputEl = gd.closest('.output');\n",
       "if (outputEl) {{\n",
       "    x.observe(outputEl, {childList: true});\n",
       "}}\n",
       "\n",
       "                        })                };                });            </script>        </div>"
      ]
     },
     "metadata": {},
     "output_type": "display_data"
    }
   ],
   "source": [
    "fig=px.scatter(data_frame=df,\n",
    "              x='area_total_sq_mi',\n",
    "              y='population_total',\n",
    "              size='population_total',\n",
    "              color='city',\n",
    "              title='Relationship between Area & Population')\n",
    "fig.show()"
   ]
  },
  {
   "attachments": {
    "newplot%20%286%29.png": {
     "image/png": "[encoded data removed]"
    }
   },
   "cell_type": "markdown",
   "id": "b3d3e1b9",
   "metadata": {},
   "source": [
    "![newplot%20%286%29.png](attachment:newplot%20%286%29.png)"
   ]
  },
  {
   "cell_type": "code",
   "execution_count": null,
   "id": "b1e8eae3",
   "metadata": {},
   "outputs": [],
   "source": []
  },
  {
   "cell_type": "code",
   "execution_count": null,
   "id": "014395a3",
   "metadata": {},
   "outputs": [],
   "source": []
  },
  {
   "cell_type": "markdown",
   "id": "2b6a4f61",
   "metadata": {},
   "source": [
    "### Conclusion:\n",
    "1. **Pomona city has lowest population i.e 1, and LosAngeles city has highest population 3884307**\n",
    "2. **Calipatria city has lowest elevation & MammothLakes city has highest Elevation.**\n",
    "3. **Amador City has lowest land area & Loss Angeles has highest land area.**\n",
    "4. **SanDiego has highest water area.**\n",
    "5. **Amador City has least total area & LosAngeles has highest total area.**\n",
    "6. **Out of total area Brisbane city has 84% water area.**"
   ]
  },
  {
   "cell_type": "code",
   "execution_count": null,
   "id": "15759e2d",
   "metadata": {},
   "outputs": [],
   "source": []
  }
 ],
 "metadata": {
  "kernelspec": {
   "display_name": "python3.11",
   "language": "python",
   "name": "python3.11"
  },
  "language_info": {
   "codemirror_mode": {
    "name": "ipython",
    "version": 3
   },
   "file_extension": ".py",
   "mimetype": "text/x-python",
   "name": "python",
   "nbconvert_exporter": "python",
   "pygments_lexer": "ipython3",
   "version": "3.9.7"
  }
 },
 "nbformat": 4,
 "nbformat_minor": 5
}
