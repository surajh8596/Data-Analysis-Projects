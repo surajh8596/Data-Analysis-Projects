{
 "cells": [
  {
   "cell_type": "markdown",
   "id": "5c87905e",
   "metadata": {},
   "source": [
    "## **The 2022 ICC Men's T20 World Cup was the eighth ICC Men's T20 World Cup tournament. It was played in Australia from 16 October to 13 November 2022. Here we will Analyse the performance of players, teams, and many highlights of the game.**"
   ]
  },
  {
   "cell_type": "markdown",
   "id": "95890a08",
   "metadata": {},
   "source": [
    "### Import required library"
   ]
  },
  {
   "cell_type": "code",
   "execution_count": 1,
   "id": "b51401fd",
   "metadata": {},
   "outputs": [],
   "source": [
    "import pandas as pd\n",
    "import numpy as np\n",
    "import matplotlib.pyplot as plt\n",
    "import seaborn as sns\n",
    "import warnings\n",
    "warnings.filterwarnings('ignore')"
   ]
  },
  {
   "cell_type": "markdown",
   "id": "750137f3",
   "metadata": {},
   "source": [
    "### Load & Read the data "
   ]
  },
  {
   "cell_type": "code",
   "execution_count": 2,
   "id": "85b012d8",
   "metadata": {},
   "outputs": [
    {
     "data": {
      "text/html": [
       "<div>\n",
       "<style scoped>\n",
       "    .dataframe tbody tr th:only-of-type {\n",
       "        vertical-align: middle;\n",
       "    }\n",
       "\n",
       "    .dataframe tbody tr th {\n",
       "        vertical-align: top;\n",
       "    }\n",
       "\n",
       "    .dataframe thead th {\n",
       "        text-align: right;\n",
       "    }\n",
       "</style>\n",
       "<table border=\"1\" class=\"dataframe\">\n",
       "  <thead>\n",
       "    <tr style=\"text-align: right;\">\n",
       "      <th></th>\n",
       "      <th>venue</th>\n",
       "      <th>team1</th>\n",
       "      <th>team2</th>\n",
       "      <th>stage</th>\n",
       "      <th>toss winner</th>\n",
       "      <th>toss decision</th>\n",
       "      <th>first innings score</th>\n",
       "      <th>first innings wickets</th>\n",
       "      <th>second innings score</th>\n",
       "      <th>second innings wickets</th>\n",
       "      <th>winner</th>\n",
       "      <th>won by</th>\n",
       "      <th>player of the match</th>\n",
       "      <th>top scorer</th>\n",
       "      <th>highest score</th>\n",
       "      <th>best bowler</th>\n",
       "      <th>best bowling figure</th>\n",
       "    </tr>\n",
       "  </thead>\n",
       "  <tbody>\n",
       "    <tr>\n",
       "      <th>0</th>\n",
       "      <td>SCG</td>\n",
       "      <td>New Zealand</td>\n",
       "      <td>Australia</td>\n",
       "      <td>Super 12</td>\n",
       "      <td>Australia</td>\n",
       "      <td>Field</td>\n",
       "      <td>200.0</td>\n",
       "      <td>3.0</td>\n",
       "      <td>111.0</td>\n",
       "      <td>10.0</td>\n",
       "      <td>New Zealand</td>\n",
       "      <td>Runs</td>\n",
       "      <td>Devon Conway</td>\n",
       "      <td>Devon Conway</td>\n",
       "      <td>92.0</td>\n",
       "      <td>Tim Southee</td>\n",
       "      <td>3-6</td>\n",
       "    </tr>\n",
       "    <tr>\n",
       "      <th>1</th>\n",
       "      <td>Optus Stadium</td>\n",
       "      <td>Afghanistan</td>\n",
       "      <td>England</td>\n",
       "      <td>Super 12</td>\n",
       "      <td>England</td>\n",
       "      <td>Field</td>\n",
       "      <td>112.0</td>\n",
       "      <td>10.0</td>\n",
       "      <td>113.0</td>\n",
       "      <td>5.0</td>\n",
       "      <td>England</td>\n",
       "      <td>Wickets</td>\n",
       "      <td>Sam Curran</td>\n",
       "      <td>Ibrahim Zadran</td>\n",
       "      <td>32.0</td>\n",
       "      <td>Sam Curran</td>\n",
       "      <td>5-10</td>\n",
       "    </tr>\n",
       "    <tr>\n",
       "      <th>2</th>\n",
       "      <td>Blundstone Arena</td>\n",
       "      <td>Ireland</td>\n",
       "      <td>Sri lanka</td>\n",
       "      <td>Super 12</td>\n",
       "      <td>Ireland</td>\n",
       "      <td>Bat</td>\n",
       "      <td>128.0</td>\n",
       "      <td>8.0</td>\n",
       "      <td>133.0</td>\n",
       "      <td>1.0</td>\n",
       "      <td>Sri lanka</td>\n",
       "      <td>Wickets</td>\n",
       "      <td>Kusal Mendis</td>\n",
       "      <td>Kusal Mendis</td>\n",
       "      <td>68.0</td>\n",
       "      <td>Maheesh Theekshana</td>\n",
       "      <td>2-19</td>\n",
       "    </tr>\n",
       "    <tr>\n",
       "      <th>3</th>\n",
       "      <td>MCG</td>\n",
       "      <td>Pakistan</td>\n",
       "      <td>India</td>\n",
       "      <td>Super 12</td>\n",
       "      <td>India</td>\n",
       "      <td>Field</td>\n",
       "      <td>159.0</td>\n",
       "      <td>8.0</td>\n",
       "      <td>160.0</td>\n",
       "      <td>6.0</td>\n",
       "      <td>India</td>\n",
       "      <td>Wickets</td>\n",
       "      <td>Virat Kohli</td>\n",
       "      <td>Virat Kohli</td>\n",
       "      <td>82.0</td>\n",
       "      <td>Hardik Pandya</td>\n",
       "      <td>3-30</td>\n",
       "    </tr>\n",
       "    <tr>\n",
       "      <th>4</th>\n",
       "      <td>Blundstone Arena</td>\n",
       "      <td>Bangladesh</td>\n",
       "      <td>Netherlands</td>\n",
       "      <td>Super 12</td>\n",
       "      <td>Netherlands</td>\n",
       "      <td>Field</td>\n",
       "      <td>144.0</td>\n",
       "      <td>8.0</td>\n",
       "      <td>135.0</td>\n",
       "      <td>10.0</td>\n",
       "      <td>Bangladesh</td>\n",
       "      <td>Runs</td>\n",
       "      <td>Taskin Ahmed</td>\n",
       "      <td>Colin Ackermann</td>\n",
       "      <td>62.0</td>\n",
       "      <td>Taskin Ahmed</td>\n",
       "      <td>4-25</td>\n",
       "    </tr>\n",
       "  </tbody>\n",
       "</table>\n",
       "</div>"
      ],
      "text/plain": [
       "              venue        team1        team2     stage  toss winner  \\\n",
       "0               SCG  New Zealand    Australia  Super 12    Australia   \n",
       "1     Optus Stadium  Afghanistan      England  Super 12      England   \n",
       "2  Blundstone Arena      Ireland    Sri lanka  Super 12      Ireland   \n",
       "3               MCG     Pakistan        India  Super 12        India   \n",
       "4  Blundstone Arena   Bangladesh  Netherlands  Super 12  Netherlands   \n",
       "\n",
       "  toss decision  first innings score  first innings wickets  \\\n",
       "0         Field                200.0                    3.0   \n",
       "1         Field                112.0                   10.0   \n",
       "2           Bat                128.0                    8.0   \n",
       "3         Field                159.0                    8.0   \n",
       "4         Field                144.0                    8.0   \n",
       "\n",
       "   second innings score  second innings wickets       winner   won by  \\\n",
       "0                 111.0                    10.0  New Zealand     Runs   \n",
       "1                 113.0                     5.0      England  Wickets   \n",
       "2                 133.0                     1.0    Sri lanka  Wickets   \n",
       "3                 160.0                     6.0        India  Wickets   \n",
       "4                 135.0                    10.0   Bangladesh     Runs   \n",
       "\n",
       "  player of the match       top scorer  highest score         best bowler  \\\n",
       "0        Devon Conway     Devon Conway           92.0         Tim Southee   \n",
       "1          Sam Curran   Ibrahim Zadran           32.0          Sam Curran   \n",
       "2        Kusal Mendis     Kusal Mendis           68.0  Maheesh Theekshana   \n",
       "3         Virat Kohli      Virat Kohli           82.0       Hardik Pandya   \n",
       "4        Taskin Ahmed  Colin Ackermann           62.0        Taskin Ahmed   \n",
       "\n",
       "  best bowling figure  \n",
       "0                 3-6  \n",
       "1                5-10  \n",
       "2                2-19  \n",
       "3                3-30  \n",
       "4                4-25  "
      ]
     },
     "execution_count": 2,
     "metadata": {},
     "output_type": "execute_result"
    }
   ],
   "source": [
    "T20=pd.read_csv('D:\\PGP IN DATA SCIENCE with Careerera\\Data Sets\\\\t20-world-cup-22.csv')\n",
    "T20.head()"
   ]
  },
  {
   "cell_type": "raw",
   "id": "77427184",
   "metadata": {},
   "source": [
    "venue                  :       The venue where the match was played\n",
    "team1                  :       The team that batted first\n",
    "team2                  :       The team that batted second\n",
    "stage                  :       Stage of the match (super 12, semi-final, or final)\n",
    "toss winner            :       The team that won the toss\n",
    "toss decision          :       The decision of the captain after winning the toss\n",
    "first innings score    :       Runs scored in the first innings\n",
    "first innings wickets  :       The number of wickets lost in the first innings\n",
    "second innings score   :       Runs scored in the second innings\n",
    "second innings wickets :       The number of wickets lost in the second innings\n",
    "winner                 :       The team that won the match\n",
    "won by                 :       How the team won the match (wickets or runs)\n",
    "player of the match    :       The player of the match\n",
    "top scorer             :       The player who scored highest in the match\n",
    "highest score          :       The highest runs scored in the match by the player\n",
    "best bowler            :       The player who took the most wickets in the match\n",
    "best bowling figure    :       The number of wickets taken and runs given by the best bowler in the match"
   ]
  },
  {
   "cell_type": "code",
   "execution_count": 4,
   "id": "e53e8ac6",
   "metadata": {},
   "outputs": [
    {
     "name": "stdout",
     "output_type": "stream",
     "text": [
      "Shape is (33, 17) & Size is 561\n"
     ]
    }
   ],
   "source": [
    "print(\"Shape is {} & Size is {}\".format(T20.shape,T20.size))"
   ]
  },
  {
   "cell_type": "code",
   "execution_count": 5,
   "id": "c5c14306",
   "metadata": {},
   "outputs": [
    {
     "data": {
      "text/plain": [
       "Index(['venue', 'team1', 'team2', 'stage', 'toss winner', 'toss decision',\n",
       "       'first innings score', 'first innings wickets', 'second innings score',\n",
       "       'second innings wickets', 'winner', 'won by', 'player of the match',\n",
       "       'top scorer', 'highest score', 'best bowler', 'best bowling figure'],\n",
       "      dtype='object')"
      ]
     },
     "execution_count": 5,
     "metadata": {},
     "output_type": "execute_result"
    }
   ],
   "source": [
    "# columns\n",
    "T20.columns"
   ]
  },
  {
   "cell_type": "code",
   "execution_count": 6,
   "id": "de8236ce",
   "metadata": {},
   "outputs": [
    {
     "data": {
      "text/plain": [
       "venue                      object\n",
       "team1                      object\n",
       "team2                      object\n",
       "stage                      object\n",
       "toss winner                object\n",
       "toss decision              object\n",
       "first innings score       float64\n",
       "first innings wickets     float64\n",
       "second innings score      float64\n",
       "second innings wickets    float64\n",
       "winner                     object\n",
       "won by                     object\n",
       "player of the match        object\n",
       "top scorer                 object\n",
       "highest score             float64\n",
       "best bowler                object\n",
       "best bowling figure        object\n",
       "dtype: object"
      ]
     },
     "execution_count": 6,
     "metadata": {},
     "output_type": "execute_result"
    }
   ],
   "source": [
    "# Data types\n",
    "T20.dtypes"
   ]
  },
  {
   "cell_type": "code",
   "execution_count": 7,
   "id": "aac112ee",
   "metadata": {},
   "outputs": [
    {
     "name": "stdout",
     "output_type": "stream",
     "text": [
      "<class 'pandas.core.frame.DataFrame'>\n",
      "RangeIndex: 33 entries, 0 to 32\n",
      "Data columns (total 17 columns):\n",
      " #   Column                  Non-Null Count  Dtype  \n",
      "---  ------                  --------------  -----  \n",
      " 0   venue                   33 non-null     object \n",
      " 1   team1                   33 non-null     object \n",
      " 2   team2                   33 non-null     object \n",
      " 3   stage                   33 non-null     object \n",
      " 4   toss winner             30 non-null     object \n",
      " 5   toss decision           30 non-null     object \n",
      " 6   first innings score     30 non-null     float64\n",
      " 7   first innings wickets   30 non-null     float64\n",
      " 8   second innings score    30 non-null     float64\n",
      " 9   second innings wickets  30 non-null     float64\n",
      " 10  winner                  29 non-null     object \n",
      " 11  won by                  29 non-null     object \n",
      " 12  player of the match     29 non-null     object \n",
      " 13  top scorer              30 non-null     object \n",
      " 14  highest score           30 non-null     float64\n",
      " 15  best bowler             30 non-null     object \n",
      " 16  best bowling figure     30 non-null     object \n",
      "dtypes: float64(5), object(12)\n",
      "memory usage: 4.5+ KB\n"
     ]
    }
   ],
   "source": [
    "# Info()\n",
    "T20.info()"
   ]
  },
  {
   "cell_type": "code",
   "execution_count": 8,
   "id": "9e349831",
   "metadata": {},
   "outputs": [
    {
     "data": {
      "text/html": [
       "<div>\n",
       "<style scoped>\n",
       "    .dataframe tbody tr th:only-of-type {\n",
       "        vertical-align: middle;\n",
       "    }\n",
       "\n",
       "    .dataframe tbody tr th {\n",
       "        vertical-align: top;\n",
       "    }\n",
       "\n",
       "    .dataframe thead th {\n",
       "        text-align: right;\n",
       "    }\n",
       "</style>\n",
       "<table border=\"1\" class=\"dataframe\">\n",
       "  <thead>\n",
       "    <tr style=\"text-align: right;\">\n",
       "      <th></th>\n",
       "      <th>first innings score</th>\n",
       "      <th>first innings wickets</th>\n",
       "      <th>second innings score</th>\n",
       "      <th>second innings wickets</th>\n",
       "      <th>highest score</th>\n",
       "    </tr>\n",
       "  </thead>\n",
       "  <tbody>\n",
       "    <tr>\n",
       "      <th>count</th>\n",
       "      <td>30.000000</td>\n",
       "      <td>30.000000</td>\n",
       "      <td>30.000000</td>\n",
       "      <td>30.000000</td>\n",
       "      <td>30.000000</td>\n",
       "    </tr>\n",
       "    <tr>\n",
       "      <th>mean</th>\n",
       "      <td>153.366667</td>\n",
       "      <td>6.866667</td>\n",
       "      <td>130.800000</td>\n",
       "      <td>6.233333</td>\n",
       "      <td>64.066667</td>\n",
       "    </tr>\n",
       "    <tr>\n",
       "      <th>std</th>\n",
       "      <td>30.440992</td>\n",
       "      <td>2.096521</td>\n",
       "      <td>25.511863</td>\n",
       "      <td>3.013571</td>\n",
       "      <td>17.264541</td>\n",
       "    </tr>\n",
       "    <tr>\n",
       "      <th>min</th>\n",
       "      <td>79.000000</td>\n",
       "      <td>2.000000</td>\n",
       "      <td>51.000000</td>\n",
       "      <td>0.000000</td>\n",
       "      <td>32.000000</td>\n",
       "    </tr>\n",
       "    <tr>\n",
       "      <th>25%</th>\n",
       "      <td>134.000000</td>\n",
       "      <td>5.250000</td>\n",
       "      <td>113.500000</td>\n",
       "      <td>5.000000</td>\n",
       "      <td>52.500000</td>\n",
       "    </tr>\n",
       "    <tr>\n",
       "      <th>50%</th>\n",
       "      <td>157.000000</td>\n",
       "      <td>7.500000</td>\n",
       "      <td>136.000000</td>\n",
       "      <td>6.000000</td>\n",
       "      <td>62.000000</td>\n",
       "    </tr>\n",
       "    <tr>\n",
       "      <th>75%</th>\n",
       "      <td>179.000000</td>\n",
       "      <td>8.000000</td>\n",
       "      <td>147.750000</td>\n",
       "      <td>9.000000</td>\n",
       "      <td>70.250000</td>\n",
       "    </tr>\n",
       "    <tr>\n",
       "      <th>max</th>\n",
       "      <td>205.000000</td>\n",
       "      <td>10.000000</td>\n",
       "      <td>170.000000</td>\n",
       "      <td>10.000000</td>\n",
       "      <td>109.000000</td>\n",
       "    </tr>\n",
       "  </tbody>\n",
       "</table>\n",
       "</div>"
      ],
      "text/plain": [
       "       first innings score  first innings wickets  second innings score  \\\n",
       "count            30.000000              30.000000             30.000000   \n",
       "mean            153.366667               6.866667            130.800000   \n",
       "std              30.440992               2.096521             25.511863   \n",
       "min              79.000000               2.000000             51.000000   \n",
       "25%             134.000000               5.250000            113.500000   \n",
       "50%             157.000000               7.500000            136.000000   \n",
       "75%             179.000000               8.000000            147.750000   \n",
       "max             205.000000              10.000000            170.000000   \n",
       "\n",
       "       second innings wickets  highest score  \n",
       "count               30.000000      30.000000  \n",
       "mean                 6.233333      64.066667  \n",
       "std                  3.013571      17.264541  \n",
       "min                  0.000000      32.000000  \n",
       "25%                  5.000000      52.500000  \n",
       "50%                  6.000000      62.000000  \n",
       "75%                  9.000000      70.250000  \n",
       "max                 10.000000     109.000000  "
      ]
     },
     "execution_count": 8,
     "metadata": {},
     "output_type": "execute_result"
    }
   ],
   "source": [
    "# Statistical measures\n",
    "T20.describe()"
   ]
  },
  {
   "cell_type": "code",
   "execution_count": 9,
   "id": "4736ecaf",
   "metadata": {},
   "outputs": [
    {
     "data": {
      "text/html": [
       "<div>\n",
       "<style scoped>\n",
       "    .dataframe tbody tr th:only-of-type {\n",
       "        vertical-align: middle;\n",
       "    }\n",
       "\n",
       "    .dataframe tbody tr th {\n",
       "        vertical-align: top;\n",
       "    }\n",
       "\n",
       "    .dataframe thead th {\n",
       "        text-align: right;\n",
       "    }\n",
       "</style>\n",
       "<table border=\"1\" class=\"dataframe\">\n",
       "  <thead>\n",
       "    <tr style=\"text-align: right;\">\n",
       "      <th></th>\n",
       "      <th>venue</th>\n",
       "      <th>team1</th>\n",
       "      <th>team2</th>\n",
       "      <th>stage</th>\n",
       "      <th>toss winner</th>\n",
       "      <th>toss decision</th>\n",
       "      <th>winner</th>\n",
       "      <th>won by</th>\n",
       "      <th>player of the match</th>\n",
       "      <th>top scorer</th>\n",
       "      <th>best bowler</th>\n",
       "      <th>best bowling figure</th>\n",
       "    </tr>\n",
       "  </thead>\n",
       "  <tbody>\n",
       "    <tr>\n",
       "      <th>count</th>\n",
       "      <td>33</td>\n",
       "      <td>33</td>\n",
       "      <td>33</td>\n",
       "      <td>33</td>\n",
       "      <td>30</td>\n",
       "      <td>30</td>\n",
       "      <td>29</td>\n",
       "      <td>29</td>\n",
       "      <td>29</td>\n",
       "      <td>30</td>\n",
       "      <td>30</td>\n",
       "      <td>30</td>\n",
       "    </tr>\n",
       "    <tr>\n",
       "      <th>unique</th>\n",
       "      <td>6</td>\n",
       "      <td>12</td>\n",
       "      <td>12</td>\n",
       "      <td>3</td>\n",
       "      <td>12</td>\n",
       "      <td>2</td>\n",
       "      <td>11</td>\n",
       "      <td>2</td>\n",
       "      <td>24</td>\n",
       "      <td>24</td>\n",
       "      <td>24</td>\n",
       "      <td>26</td>\n",
       "    </tr>\n",
       "    <tr>\n",
       "      <th>top</th>\n",
       "      <td>SCG</td>\n",
       "      <td>New Zealand</td>\n",
       "      <td>England</td>\n",
       "      <td>Super 12</td>\n",
       "      <td>England</td>\n",
       "      <td>Bat</td>\n",
       "      <td>England</td>\n",
       "      <td>Runs</td>\n",
       "      <td>Virat Kohli</td>\n",
       "      <td>Virat Kohli</td>\n",
       "      <td>Sam Curran</td>\n",
       "      <td>3-22</td>\n",
       "    </tr>\n",
       "    <tr>\n",
       "      <th>freq</th>\n",
       "      <td>7</td>\n",
       "      <td>5</td>\n",
       "      <td>6</td>\n",
       "      <td>30</td>\n",
       "      <td>5</td>\n",
       "      <td>17</td>\n",
       "      <td>5</td>\n",
       "      <td>16</td>\n",
       "      <td>2</td>\n",
       "      <td>3</td>\n",
       "      <td>3</td>\n",
       "      <td>3</td>\n",
       "    </tr>\n",
       "  </tbody>\n",
       "</table>\n",
       "</div>"
      ],
      "text/plain": [
       "       venue        team1    team2     stage toss winner toss decision  \\\n",
       "count     33           33       33        33          30            30   \n",
       "unique     6           12       12         3          12             2   \n",
       "top      SCG  New Zealand  England  Super 12     England           Bat   \n",
       "freq       7            5        6        30           5            17   \n",
       "\n",
       "         winner won by player of the match   top scorer best bowler  \\\n",
       "count        29     29                  29           30          30   \n",
       "unique       11      2                  24           24          24   \n",
       "top     England   Runs         Virat Kohli  Virat Kohli  Sam Curran   \n",
       "freq          5     16                   2            3           3   \n",
       "\n",
       "       best bowling figure  \n",
       "count                   30  \n",
       "unique                  26  \n",
       "top                   3-22  \n",
       "freq                     3  "
      ]
     },
     "execution_count": 9,
     "metadata": {},
     "output_type": "execute_result"
    }
   ],
   "source": [
    "T20.describe(include='O')"
   ]
  },
  {
   "cell_type": "markdown",
   "id": "eba6b37e",
   "metadata": {},
   "source": [
    "### Missing values"
   ]
  },
  {
   "cell_type": "code",
   "execution_count": 11,
   "id": "3477e45b",
   "metadata": {},
   "outputs": [
    {
     "data": {
      "text/plain": [
       "venue                     0\n",
       "team1                     0\n",
       "team2                     0\n",
       "stage                     0\n",
       "toss winner               3\n",
       "toss decision             3\n",
       "first innings score       3\n",
       "first innings wickets     3\n",
       "second innings score      3\n",
       "second innings wickets    3\n",
       "winner                    4\n",
       "won by                    4\n",
       "player of the match       4\n",
       "top scorer                3\n",
       "highest score             3\n",
       "best bowler               3\n",
       "best bowling figure       3\n",
       "dtype: int64"
      ]
     },
     "execution_count": 11,
     "metadata": {},
     "output_type": "execute_result"
    }
   ],
   "source": [
    "T20.isna().sum()"
   ]
  },
  {
   "cell_type": "markdown",
   "id": "2fe7cd66",
   "metadata": {},
   "source": [
    "* There are Totally 3 Matches which are totally washed out due to rain.\n",
    "* One match is played but it finished with No result, both Teams Got equal points."
   ]
  },
  {
   "cell_type": "markdown",
   "id": "9936259b",
   "metadata": {},
   "source": [
    "### Exploratory Data Analysis"
   ]
  },
  {
   "cell_type": "markdown",
   "id": "6d03e31b",
   "metadata": {},
   "source": [
    "### In which Venue most matched held?"
   ]
  },
  {
   "cell_type": "code",
   "execution_count": 30,
   "id": "3e3d9f00",
   "metadata": {},
   "outputs": [
    {
     "data": {
      "text/plain": [
       "SCG                 7\n",
       "MCG                 7\n",
       "Adelaide Oval       7\n",
       "Optus Stadium       5\n",
       "The Gabba           4\n",
       "Blundstone Arena    3\n",
       "Name: venue, dtype: int64"
      ]
     },
     "execution_count": 30,
     "metadata": {},
     "output_type": "execute_result"
    }
   ],
   "source": [
    "T20.venue.value_counts()"
   ]
  },
  {
   "cell_type": "markdown",
   "id": "ba4c0b12",
   "metadata": {},
   "source": [
    "* There are 6 venue where all matches took place.\n",
    "* SCG, MCG and Adelaide Oval Hosted Most Matches."
   ]
  },
  {
   "cell_type": "markdown",
   "id": "0ed6d765",
   "metadata": {},
   "source": [
    "### What are the different Teams Playing in Super 12?"
   ]
  },
  {
   "cell_type": "code",
   "execution_count": 28,
   "id": "65415e25",
   "metadata": {},
   "outputs": [
    {
     "data": {
      "text/plain": [
       "['New Zealand',\n",
       " 'Afghanistan',\n",
       " 'Ireland',\n",
       " 'Pakistan',\n",
       " 'Bangladesh',\n",
       " 'Zimbabwe',\n",
       " 'Sri lanka',\n",
       " 'South Africa',\n",
       " 'India',\n",
       " 'Australia',\n",
       " 'Netherlands',\n",
       " 'England']"
      ]
     },
     "execution_count": 28,
     "metadata": {},
     "output_type": "execute_result"
    }
   ],
   "source": [
    "list(T20.team1.unique())"
   ]
  },
  {
   "cell_type": "markdown",
   "id": "3048f14b",
   "metadata": {},
   "source": [
    "* 12 Teams playing & are divided into 2 groups."
   ]
  },
  {
   "cell_type": "markdown",
   "id": "e75984aa",
   "metadata": {},
   "source": [
    "### What are different Stages in T20 World Cup 2022?"
   ]
  },
  {
   "cell_type": "code",
   "execution_count": 27,
   "id": "03fcef38",
   "metadata": {},
   "outputs": [
    {
     "data": {
      "text/plain": [
       "Super 12      30\n",
       "Semi-final     2\n",
       "Final          1\n",
       "Name: stage, dtype: int64"
      ]
     },
     "execution_count": 27,
     "metadata": {},
     "output_type": "execute_result"
    }
   ],
   "source": [
    "T20.stage.value_counts()"
   ]
  },
  {
   "cell_type": "markdown",
   "id": "18f234a6",
   "metadata": {},
   "source": [
    "* 30 Super-12 Matches has been played.\n",
    "* 2 Semi-finals & 1 Final has played in 2022 Addition."
   ]
  },
  {
   "cell_type": "markdown",
   "id": "c3a195ac",
   "metadata": {},
   "source": [
    "### Which Team won most tosses?"
   ]
  },
  {
   "cell_type": "code",
   "execution_count": 39,
   "id": "d3cee908",
   "metadata": {},
   "outputs": [
    {
     "data": {
      "text/plain": [
       "England         5\n",
       "India           4\n",
       "Ireland         3\n",
       "Zimbabwe        3\n",
       "Bangladesh      3\n",
       "Australia       2\n",
       "Netherlands     2\n",
       "South Africa    2\n",
       "New Zealand     2\n",
       "Afghanistan     2\n",
       "Pakistan        1\n",
       "Sri lanka       1\n",
       "Name: toss winner, dtype: int64"
      ]
     },
     "execution_count": 39,
     "metadata": {},
     "output_type": "execute_result"
    }
   ],
   "source": [
    "T20['toss winner'].value_counts()"
   ]
  },
  {
   "cell_type": "markdown",
   "id": "75a31c0c",
   "metadata": {},
   "source": [
    "* Englad won 5 Toss followed by India who won 4 toss.\n",
    "* Pakistan & Sri Lanka won only 1 Toss."
   ]
  },
  {
   "cell_type": "markdown",
   "id": "6ca8ad14",
   "metadata": {},
   "source": [
    "### What is frequent decision taken by captain of Toss wining team?"
   ]
  },
  {
   "cell_type": "code",
   "execution_count": 40,
   "id": "55fce7fe",
   "metadata": {},
   "outputs": [
    {
     "data": {
      "text/plain": [
       "Bat      17\n",
       "Field    13\n",
       "Name: toss decision, dtype: int64"
      ]
     },
     "execution_count": 40,
     "metadata": {},
     "output_type": "execute_result"
    }
   ],
   "source": [
    "T20['toss decision'].value_counts()"
   ]
  },
  {
   "cell_type": "markdown",
   "id": "93408efb",
   "metadata": {},
   "source": [
    "* After winning toss most team chose to Bat first."
   ]
  },
  {
   "cell_type": "markdown",
   "id": "188abf9c",
   "metadata": {},
   "source": [
    "### Highest First inning score?"
   ]
  },
  {
   "cell_type": "code",
   "execution_count": 42,
   "id": "e7079008",
   "metadata": {},
   "outputs": [
    {
     "data": {
      "text/plain": [
       "205.0"
      ]
     },
     "execution_count": 42,
     "metadata": {},
     "output_type": "execute_result"
    }
   ],
   "source": [
    "T20['first innings score'].max()"
   ]
  },
  {
   "cell_type": "markdown",
   "id": "85a9c20a",
   "metadata": {},
   "source": [
    "### Lowest first inning score?"
   ]
  },
  {
   "cell_type": "code",
   "execution_count": 43,
   "id": "9b91a9f8",
   "metadata": {},
   "outputs": [
    {
     "data": {
      "text/plain": [
       "79.0"
      ]
     },
     "execution_count": 43,
     "metadata": {},
     "output_type": "execute_result"
    }
   ],
   "source": [
    "T20['first innings score'].min()"
   ]
  },
  {
   "cell_type": "markdown",
   "id": "924f40ee",
   "metadata": {},
   "source": [
    "### Average first inning score?"
   ]
  },
  {
   "cell_type": "code",
   "execution_count": 44,
   "id": "2f5213cd",
   "metadata": {},
   "outputs": [
    {
     "data": {
      "text/plain": [
       "153.36666666666667"
      ]
     },
     "execution_count": 44,
     "metadata": {},
     "output_type": "execute_result"
    }
   ],
   "source": [
    "T20['first innings score'].mean()"
   ]
  },
  {
   "cell_type": "markdown",
   "id": "a2969889",
   "metadata": {},
   "source": [
    "* Highest first innings score is 205.\n",
    "* Lowest first innings score is 79.\n",
    "* Average first innings score is 153."
   ]
  },
  {
   "cell_type": "markdown",
   "id": "1181640a",
   "metadata": {},
   "source": [
    "### Which team Won Most matches?"
   ]
  },
  {
   "cell_type": "code",
   "execution_count": 45,
   "id": "4e84e536",
   "metadata": {},
   "outputs": [
    {
     "data": {
      "text/plain": [
       "England         5\n",
       "India           4\n",
       "Pakistan        4\n",
       "New Zealand     3\n",
       "Australia       3\n",
       "Sri lanka       2\n",
       "Bangladesh      2\n",
       "South Africa    2\n",
       "Netherlands     2\n",
       "Ireland         1\n",
       "Zimbabwe        1\n",
       "Name: winner, dtype: int64"
      ]
     },
     "execution_count": 45,
     "metadata": {},
     "output_type": "execute_result"
    }
   ],
   "source": [
    "T20['winner'].value_counts()"
   ]
  },
  {
   "cell_type": "markdown",
   "id": "f2e8a21c",
   "metadata": {},
   "source": [
    "* England won most matches 5.\n",
    "* India & Pakistan won 4 matches.\n",
    "* Ireland & Zimbabwe won only 1 match."
   ]
  },
  {
   "cell_type": "markdown",
   "id": "d5bf2ac1",
   "metadata": {},
   "source": [
    "### Matches won by teams while chassing & defending?"
   ]
  },
  {
   "cell_type": "code",
   "execution_count": 46,
   "id": "35786c91",
   "metadata": {},
   "outputs": [
    {
     "data": {
      "text/plain": [
       "Runs       16\n",
       "Wickets    13\n",
       "Name: won by, dtype: int64"
      ]
     },
     "execution_count": 46,
     "metadata": {},
     "output_type": "execute_result"
    }
   ],
   "source": [
    "T20['won by'].value_counts()"
   ]
  },
  {
   "cell_type": "markdown",
   "id": "c76adac8",
   "metadata": {},
   "source": [
    "* 16 Matches has been won by defending teams.\n",
    "* 13 Matches has been won by chassing teams."
   ]
  },
  {
   "cell_type": "markdown",
   "id": "eab480e8",
   "metadata": {},
   "source": [
    "### Which Player won most player of the match awards?"
   ]
  },
  {
   "cell_type": "code",
   "execution_count": 47,
   "id": "7c14fbff",
   "metadata": {},
   "outputs": [
    {
     "data": {
      "text/plain": [
       "Virat Kohli          2\n",
       "Taskin Ahmed         2\n",
       "Suryakumar Yadav     2\n",
       "Shadab Khan          2\n",
       "Sam Curran           2\n",
       "Devon Conway         1\n",
       "Jos Buttler          1\n",
       "Mohammad Rizwan      1\n",
       "Shaheen Afridi       1\n",
       "Colin Ackermann      1\n",
       "Adil Rashid          1\n",
       "Glenn Maxwell        1\n",
       "Kane Williamson      1\n",
       "Max O'Dowd           1\n",
       "Lungi Ngidi          1\n",
       "Wanindu Hasaranga    1\n",
       "Aaron Finch          1\n",
       "Glenn Phillips       1\n",
       "Sikandar Raza        1\n",
       "Rilee Rossouw        1\n",
       "Andrew Balbirnie     1\n",
       "Marcus Stoinis       1\n",
       "Kusal Mendis         1\n",
       "Alex Hales           1\n",
       "Name: player of the match, dtype: int64"
      ]
     },
     "execution_count": 47,
     "metadata": {},
     "output_type": "execute_result"
    }
   ],
   "source": [
    "T20['player of the match'].value_counts()"
   ]
  },
  {
   "cell_type": "markdown",
   "id": "e4ca2389",
   "metadata": {},
   "source": [
    "* Virat Kohli & Suryakumar Yadav from Team India, Taskin Ahmed from Bangladesh, Shadab Khan from Pakistan & Sam Curran from Englad won 2 Player of the match awards."
   ]
  },
  {
   "cell_type": "markdown",
   "id": "fa3de44a",
   "metadata": {},
   "source": [
    "### How many times a player scored highest runs?"
   ]
  },
  {
   "cell_type": "code",
   "execution_count": 49,
   "id": "c80c3375",
   "metadata": {},
   "outputs": [
    {
     "data": {
      "text/plain": [
       "Virat Kohli         3\n",
       "Mohammad Rizwan     2\n",
       "Colin Ackermann     2\n",
       "Najmul Hossain      2\n",
       "Suryakumar Yadav    2\n",
       "Lorcan Tucker       1\n",
       "Alex Hales          1\n",
       "Pathum Nissanka     1\n",
       "Glenn Maxwell       1\n",
       "Kane Williamson     1\n",
       "Shadab Khan         1\n",
       "Max O'Dowd          1\n",
       "Jos Buttler         1\n",
       "de Silva            1\n",
       "Devon Conway        1\n",
       "Ibrahim Zadran      1\n",
       "Glenn Phillips      1\n",
       "Shan Masood         1\n",
       "Rilee Rossouw       1\n",
       "Andrew Balbirnie    1\n",
       "Marcus Stoinis      1\n",
       "Quinton de Kock     1\n",
       "Kusal Mendis        1\n",
       "Ben Stokes          1\n",
       "Name: top scorer, dtype: int64"
      ]
     },
     "execution_count": 49,
     "metadata": {},
     "output_type": "execute_result"
    }
   ],
   "source": [
    "T20['top scorer'].value_counts()"
   ]
  },
  {
   "cell_type": "code",
   "execution_count": 60,
   "id": "e47a7fe5",
   "metadata": {},
   "outputs": [
    {
     "data": {
      "text/html": [
       "<div>\n",
       "<style scoped>\n",
       "    .dataframe tbody tr th:only-of-type {\n",
       "        vertical-align: middle;\n",
       "    }\n",
       "\n",
       "    .dataframe tbody tr th {\n",
       "        vertical-align: top;\n",
       "    }\n",
       "\n",
       "    .dataframe thead th {\n",
       "        text-align: right;\n",
       "    }\n",
       "</style>\n",
       "<table border=\"1\" class=\"dataframe\">\n",
       "  <thead>\n",
       "    <tr style=\"text-align: right;\">\n",
       "      <th></th>\n",
       "      <th>highest score</th>\n",
       "    </tr>\n",
       "    <tr>\n",
       "      <th>top scorer</th>\n",
       "      <th></th>\n",
       "    </tr>\n",
       "  </thead>\n",
       "  <tbody>\n",
       "    <tr>\n",
       "      <th>Virat Kohli</th>\n",
       "      <td>208.0</td>\n",
       "    </tr>\n",
       "    <tr>\n",
       "      <th>Suryakumar Yadav</th>\n",
       "      <td>129.0</td>\n",
       "    </tr>\n",
       "    <tr>\n",
       "      <th>Najmul Hossain</th>\n",
       "      <td>125.0</td>\n",
       "    </tr>\n",
       "    <tr>\n",
       "      <th>Rilee Rossouw</th>\n",
       "      <td>109.0</td>\n",
       "    </tr>\n",
       "    <tr>\n",
       "      <th>Mohammad Rizwan</th>\n",
       "      <td>106.0</td>\n",
       "    </tr>\n",
       "    <tr>\n",
       "      <th>Glenn Phillips</th>\n",
       "      <td>104.0</td>\n",
       "    </tr>\n",
       "    <tr>\n",
       "      <th>Colin Ackermann</th>\n",
       "      <td>103.0</td>\n",
       "    </tr>\n",
       "    <tr>\n",
       "      <th>Devon Conway</th>\n",
       "      <td>92.0</td>\n",
       "    </tr>\n",
       "    <tr>\n",
       "      <th>Alex Hales</th>\n",
       "      <td>86.0</td>\n",
       "    </tr>\n",
       "    <tr>\n",
       "      <th>Jos Buttler</th>\n",
       "      <td>73.0</td>\n",
       "    </tr>\n",
       "  </tbody>\n",
       "</table>\n",
       "</div>"
      ],
      "text/plain": [
       "                  highest score\n",
       "top scorer                     \n",
       "Virat Kohli               208.0\n",
       "Suryakumar Yadav          129.0\n",
       "Najmul Hossain            125.0\n",
       "Rilee Rossouw             109.0\n",
       "Mohammad Rizwan           106.0\n",
       "Glenn Phillips            104.0\n",
       "Colin Ackermann           103.0\n",
       "Devon Conway               92.0\n",
       "Alex Hales                 86.0\n",
       "Jos Buttler                73.0"
      ]
     },
     "execution_count": 60,
     "metadata": {},
     "output_type": "execute_result"
    }
   ],
   "source": [
    "pd.pivot_table(data=T20, index='top scorer', values='highest score', aggfunc=sum).sort_values(by='highest score',ascending=False)[:10]"
   ]
  },
  {
   "cell_type": "markdown",
   "id": "19def634",
   "metadata": {},
   "source": [
    "* Virat Kohli is a top scorer in 3 matches & he Scored 208 runs.\n",
    "* Mohammad Rizwan, Colin Ackermann, Najmul Hossain & Suryakumar Yadav remains top scorer in 2 matches with runs scored by them in order of 106, 103,125,129."
   ]
  },
  {
   "cell_type": "markdown",
   "id": "deeaeea0",
   "metadata": {},
   "source": [
    "### What is highest individual score in a inning?"
   ]
  },
  {
   "cell_type": "code",
   "execution_count": 50,
   "id": "d4f24166",
   "metadata": {},
   "outputs": [
    {
     "data": {
      "text/plain": [
       "109.0"
      ]
     },
     "execution_count": 50,
     "metadata": {},
     "output_type": "execute_result"
    }
   ],
   "source": [
    "T20['highest score'].max()"
   ]
  },
  {
   "cell_type": "markdown",
   "id": "af5b501e",
   "metadata": {},
   "source": [
    "### What is the highest individual score in low scoring match?"
   ]
  },
  {
   "cell_type": "code",
   "execution_count": 51,
   "id": "e50f0c5e",
   "metadata": {},
   "outputs": [
    {
     "data": {
      "text/plain": [
       "32.0"
      ]
     },
     "execution_count": 51,
     "metadata": {},
     "output_type": "execute_result"
    }
   ],
   "source": [
    "T20['highest score'].min()"
   ]
  },
  {
   "cell_type": "markdown",
   "id": "b83b2191",
   "metadata": {},
   "source": [
    "### Who won best bowler of the match award most of the times?"
   ]
  },
  {
   "cell_type": "code",
   "execution_count": 52,
   "id": "117bcc79",
   "metadata": {},
   "outputs": [
    {
     "data": {
      "text/plain": [
       "Sam Curran             3\n",
       "Shaheen Afridi         2\n",
       "Taskin Ahmed           2\n",
       "Lungi Ngidi            2\n",
       "Anrich Nortje          2\n",
       "Tim Southee            1\n",
       "Wanindu Hasaranga      1\n",
       "Ravichandran Ashwin    1\n",
       "Brandon Glover         1\n",
       "Mark Wood              1\n",
       "Naveen-ul-Haq          1\n",
       "Lockie Ferguson        1\n",
       "Hasan Mahmud           1\n",
       "Paul van Meekeren      1\n",
       "Shadab Khan            1\n",
       "Barry McCarthy         1\n",
       "Trent Boult            1\n",
       "Mohammad Wasim         1\n",
       "Bhuvneshwar Kumar      1\n",
       "Liam Livingstone       1\n",
       "Glenn Maxwell          1\n",
       "Hardik Pandya          1\n",
       "Maheesh Theekshana     1\n",
       "Chris Jordan           1\n",
       "Name: best bowler, dtype: int64"
      ]
     },
     "execution_count": 52,
     "metadata": {},
     "output_type": "execute_result"
    }
   ],
   "source": [
    "T20['best bowler'].value_counts()"
   ]
  },
  {
   "cell_type": "markdown",
   "id": "8a2c7fa4",
   "metadata": {},
   "source": [
    "* 3 times Sam Curran from England won Best Bowler Award."
   ]
  },
  {
   "cell_type": "markdown",
   "id": "d5be6e6b",
   "metadata": {},
   "source": [
    "### Best Bowling Figure?"
   ]
  },
  {
   "cell_type": "code",
   "execution_count": 55,
   "id": "b6716baf",
   "metadata": {},
   "outputs": [
    {
     "data": {
      "text/plain": [
       "3-6     1\n",
       "2-24    1\n",
       "4-22    1\n",
       "3-9     1\n",
       "3-26    1\n",
       "3-21    1\n",
       "4-41    1\n",
       "3-47    1\n",
       "2-26    1\n",
       "3-13    1\n",
       "4-29    1\n",
       "3-43    1\n",
       "3-12    1\n",
       "4-13    1\n",
       "4-24    1\n",
       "4-10    1\n",
       "3-17    1\n",
       "1-5     1\n",
       "2-20    1\n",
       "4-25    1\n",
       "3-30    1\n",
       "5-10    1\n",
       "3-19    1\n",
       "3-29    2\n",
       "2-19    2\n",
       "3-22    3\n",
       "Name: best bowling figure, dtype: int64"
      ]
     },
     "execution_count": 55,
     "metadata": {},
     "output_type": "execute_result"
    }
   ],
   "source": [
    "T20['best bowling figure'].value_counts()"
   ]
  },
  {
   "cell_type": "markdown",
   "id": "bc4d0f77",
   "metadata": {},
   "source": [
    "* 5-10 is the best bowling figure and this is the only fifer of this edition."
   ]
  },
  {
   "cell_type": "markdown",
   "id": "f74a9076",
   "metadata": {},
   "source": [
    "### Average Runs scored in each stadium in first & second innings?"
   ]
  },
  {
   "cell_type": "code",
   "execution_count": 95,
   "id": "dd754493",
   "metadata": {},
   "outputs": [
    {
     "data": {
      "text/html": [
       "<div>\n",
       "<style scoped>\n",
       "    .dataframe tbody tr th:only-of-type {\n",
       "        vertical-align: middle;\n",
       "    }\n",
       "\n",
       "    .dataframe tbody tr th {\n",
       "        vertical-align: top;\n",
       "    }\n",
       "\n",
       "    .dataframe thead th {\n",
       "        text-align: right;\n",
       "    }\n",
       "</style>\n",
       "<table border=\"1\" class=\"dataframe\">\n",
       "  <thead>\n",
       "    <tr style=\"text-align: right;\">\n",
       "      <th></th>\n",
       "      <th>first innings score</th>\n",
       "      <th>second innings score</th>\n",
       "    </tr>\n",
       "    <tr>\n",
       "      <th>venue</th>\n",
       "      <th></th>\n",
       "      <th></th>\n",
       "    </tr>\n",
       "  </thead>\n",
       "  <tbody>\n",
       "    <tr>\n",
       "      <th>Adelaide Oval</th>\n",
       "      <td>158.0</td>\n",
       "      <td>146.0</td>\n",
       "    </tr>\n",
       "    <tr>\n",
       "      <th>Blundstone Arena</th>\n",
       "      <td>117.0</td>\n",
       "      <td>106.0</td>\n",
       "    </tr>\n",
       "    <tr>\n",
       "      <th>MCG</th>\n",
       "      <td>160.0</td>\n",
       "      <td>130.0</td>\n",
       "    </tr>\n",
       "    <tr>\n",
       "      <th>Optus Stadium</th>\n",
       "      <td>125.0</td>\n",
       "      <td>126.0</td>\n",
       "    </tr>\n",
       "    <tr>\n",
       "      <th>SCG</th>\n",
       "      <td>176.0</td>\n",
       "      <td>120.0</td>\n",
       "    </tr>\n",
       "    <tr>\n",
       "      <th>The Gabba</th>\n",
       "      <td>163.0</td>\n",
       "      <td>148.0</td>\n",
       "    </tr>\n",
       "  </tbody>\n",
       "</table>\n",
       "</div>"
      ],
      "text/plain": [
       "                  first innings score  second innings score\n",
       "venue                                                      \n",
       "Adelaide Oval                   158.0                 146.0\n",
       "Blundstone Arena                117.0                 106.0\n",
       "MCG                             160.0                 130.0\n",
       "Optus Stadium                   125.0                 126.0\n",
       "SCG                             176.0                 120.0\n",
       "The Gabba                       163.0                 148.0"
      ]
     },
     "execution_count": 95,
     "metadata": {},
     "output_type": "execute_result"
    }
   ],
   "source": [
    "scr=T20.groupby('venue')['first innings score', 'second innings score'].mean().round(0)\n",
    "scr"
   ]
  },
  {
   "cell_type": "code",
   "execution_count": 94,
   "id": "66f6bc66",
   "metadata": {},
   "outputs": [
    {
     "data": {
      "image/png": "[encoded data removed]",
      "text/plain": [
       "<Figure size 864x360 with 1 Axes>"
      ]
     },
     "metadata": {
      "needs_background": "light"
     },
     "output_type": "display_data"
    }
   ],
   "source": [
    "X = scr.index\n",
    "Y1 = scr['first innings score']\n",
    "Y2 = scr['second innings score']\n",
    "  \n",
    "X_axis = np.arange(len(X))\n",
    "plt.figure(figsize=(12,5))\n",
    "plt.bar(X_axis - 0.2, Y1, 0.4, label = 'First Inning')\n",
    "plt.bar(X_axis + 0.2, Y2, 0.4, label = 'Second Inning')\n",
    "plt.xticks(X_axis, X)\n",
    "plt.xlabel(\"Stadium Name\")\n",
    "plt.ylabel(\"Average Innings Score\")\n",
    "plt.title(\"Average Innings Score in First & Secong Inning\")\n",
    "plt.legend(loc=9);"
   ]
  },
  {
   "cell_type": "markdown",
   "id": "38998457",
   "metadata": {},
   "source": [
    "* Average score in both innings In  Optus Stadium is Equal.\n",
    "* In Optus Stadium & Blundstone Arena the average inning score in both innings is less than 125, Hence these pitches are Bowling pitches.\n",
    "* Adelaide oval, MCG, SCG The Gabba are Batting pitches where average Innings score is high."
   ]
  },
  {
   "cell_type": "markdown",
   "id": "632f5425",
   "metadata": {},
   "source": []
  },
  {
   "cell_type": "code",
   "execution_count": 99,
   "id": "1818ba43",
   "metadata": {},
   "outputs": [
    {
     "data": {
      "text/html": [
       "<div>\n",
       "<style scoped>\n",
       "    .dataframe tbody tr th:only-of-type {\n",
       "        vertical-align: middle;\n",
       "    }\n",
       "\n",
       "    .dataframe tbody tr th {\n",
       "        vertical-align: top;\n",
       "    }\n",
       "\n",
       "    .dataframe thead th {\n",
       "        text-align: right;\n",
       "    }\n",
       "</style>\n",
       "<table border=\"1\" class=\"dataframe\">\n",
       "  <thead>\n",
       "    <tr style=\"text-align: right;\">\n",
       "      <th></th>\n",
       "      <th>first innings wickets</th>\n",
       "      <th>second innings wickets</th>\n",
       "    </tr>\n",
       "    <tr>\n",
       "      <th>venue</th>\n",
       "      <th></th>\n",
       "      <th></th>\n",
       "    </tr>\n",
       "  </thead>\n",
       "  <tbody>\n",
       "    <tr>\n",
       "      <th>Adelaide Oval</th>\n",
       "      <td>7.0</td>\n",
       "      <td>6.0</td>\n",
       "    </tr>\n",
       "    <tr>\n",
       "      <th>Blundstone Arena</th>\n",
       "      <td>7.0</td>\n",
       "      <td>4.0</td>\n",
       "    </tr>\n",
       "    <tr>\n",
       "      <th>MCG</th>\n",
       "      <td>8.0</td>\n",
       "      <td>6.0</td>\n",
       "    </tr>\n",
       "    <tr>\n",
       "      <th>Optus Stadium</th>\n",
       "      <td>8.0</td>\n",
       "      <td>5.0</td>\n",
       "    </tr>\n",
       "    <tr>\n",
       "      <th>SCG</th>\n",
       "      <td>5.0</td>\n",
       "      <td>8.0</td>\n",
       "    </tr>\n",
       "    <tr>\n",
       "      <th>The Gabba</th>\n",
       "      <td>6.0</td>\n",
       "      <td>7.0</td>\n",
       "    </tr>\n",
       "  </tbody>\n",
       "</table>\n",
       "</div>"
      ],
      "text/plain": [
       "                  first innings wickets  second innings wickets\n",
       "venue                                                          \n",
       "Adelaide Oval                       7.0                     6.0\n",
       "Blundstone Arena                    7.0                     4.0\n",
       "MCG                                 8.0                     6.0\n",
       "Optus Stadium                       8.0                     5.0\n",
       "SCG                                 5.0                     8.0\n",
       "The Gabba                           6.0                     7.0"
      ]
     },
     "execution_count": 99,
     "metadata": {},
     "output_type": "execute_result"
    }
   ],
   "source": [
    "wkt=T20.groupby('venue')['first innings wickets', 'second innings wickets'].mean().round(0)\n",
    "wkt"
   ]
  },
  {
   "cell_type": "code",
   "execution_count": 102,
   "id": "5e0cc5ab",
   "metadata": {},
   "outputs": [
    {
     "data": {
      "image/png": "[encoded data removed]",
      "text/plain": [
       "<Figure size 864x360 with 1 Axes>"
      ]
     },
     "metadata": {
      "needs_background": "light"
     },
     "output_type": "display_data"
    }
   ],
   "source": [
    "X = wkt.index\n",
    "Y1 = wkt['first innings wickets']\n",
    "Y2 = wkt['second innings wickets']\n",
    "  \n",
    "X_axis = np.arange(len(X))\n",
    "plt.figure(figsize=(12,5))\n",
    "plt.bar(X_axis - 0.2, Y1, 0.4, label = 'First Inning')\n",
    "plt.bar(X_axis + 0.2, Y2, 0.4, label = 'Second Inning')\n",
    "plt.xticks(X_axis, X)\n",
    "plt.xlabel(\"Stadium Name\")\n",
    "plt.ylabel(\"Average Innings Wickets\")\n",
    "plt.title(\"Average Innings Wickets in First & Secong Inning\")\n",
    "plt.legend();"
   ]
  },
  {
   "cell_type": "markdown",
   "id": "00c2044f",
   "metadata": {},
   "source": [
    "* In SCG & The Gabba Stadium Average Wickets in second Inning is more than First innings.\n",
    "* In Adelaide oval, Blundtone Arena MCG, Optus Stadium First inning average wickets are more.\n",
    "* In SCG it is best to Bowl second, In Optus Stadium it is best to bowl first."
   ]
  },
  {
   "cell_type": "markdown",
   "id": "2f9131d4",
   "metadata": {},
   "source": [
    "## Conclusion:\n",
    "1. **England won the most number of matches.**\n",
    "2. **Virat Kohli scored highest in the most number of matches.**\n",
    "3. **Sam Curran was the best bowler in the most number of matches.**\n",
    "4. **Most Matches won by teams who batting first.**\n",
    "5. **After wining the toss most of the times teams decided to bat first.**\n",
    "6. **SCG was the best stadium to bat first.**\n",
    "7. **SCG was the best stadium to defend the target in the World Cup.**\n",
    "8. **The Optus Stadium was the best stadium to bowl first.**"
   ]
  },
  {
   "cell_type": "code",
   "execution_count": null,
   "id": "b651728a",
   "metadata": {},
   "outputs": [],
   "source": []
  }
 ],
 "metadata": {
  "kernelspec": {
   "display_name": "Python 3 (ipykernel)",
   "language": "python",
   "name": "python3"
  },
  "language_info": {
   "codemirror_mode": {
    "name": "ipython",
    "version": 3
   },
   "file_extension": ".py",
   "mimetype": "text/x-python",
   "name": "python",
   "nbconvert_exporter": "python",
   "pygments_lexer": "ipython3",
   "version": "3.9.7"
  }
 },
 "nbformat": 4,
 "nbformat_minor": 5
}
